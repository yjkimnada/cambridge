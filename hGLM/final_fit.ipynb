{
 "cells": [
  {
   "cell_type": "code",
   "execution_count": 1,
   "metadata": {
    "ExecuteTime": {
     "end_time": "2020-10-11T15:21:58.470680Z",
     "start_time": "2020-10-11T15:21:57.853674Z"
    }
   },
   "outputs": [],
   "source": [
    "import numpy as np\n",
    "import torch\n",
    "import collections\n",
    "import torch.nn as nn\n",
    "import matplotlib.pyplot as plt\n",
    "from tqdm import tnrange\n",
    "import torch.optim as optim\n",
    "import torch.nn.functional as F\n",
    "from hGLM_class import hGLM\n",
    "from sklearn import metrics"
   ]
  },
  {
   "cell_type": "markdown",
   "metadata": {
    "heading_collapsed": true
   },
   "source": [
    "# Hyperparams"
   ]
  },
  {
   "cell_type": "code",
   "execution_count": 2,
   "metadata": {
    "ExecuteTime": {
     "end_time": "2020-10-11T15:21:58.486849Z",
     "start_time": "2020-10-11T15:21:58.472819Z"
    },
    "hidden": true
   },
   "outputs": [
    {
     "name": "stdout",
     "output_type": "stream",
     "text": [
      "(array([630, 631, 632, 633, 635, 637, 638, 639, 641, 642, 643, 645, 646,\n",
      "       647, 649, 650, 651, 652, 653, 654, 655, 656, 658, 659, 660, 661,\n",
      "       662, 663, 664, 665, 666, 667, 668, 669, 670, 671, 672, 674, 675,\n",
      "       676, 677, 678, 679, 680, 681, 682, 683, 684, 686, 687, 688, 689,\n",
      "       690, 691, 693, 694, 695, 696, 697, 698, 700, 701, 702, 704, 705,\n",
      "       706, 707, 708, 709, 710, 711, 713, 714, 715, 716, 717, 718, 719,\n",
      "       720, 721, 722, 723, 724, 725, 726, 727, 728, 730, 731, 732, 733,\n",
      "       734, 735, 736, 737, 738, 739, 741, 742, 744, 745, 746, 747, 748]),)\n",
      "5\n"
     ]
    }
   ],
   "source": [
    "train_T = 20000\n",
    "test_T = 8000\n",
    "N = 629 + 120\n",
    "B = 101\n",
    "\n",
    "batch_size = 8192\n",
    "\n",
    "synlocs = np.load(\"/media/hdd01/sklee/hglm/biophysical/inputs/synlocs_NMDA_ApN0.5_13_Adend_r0_o2_i2_g_b0.npy\")\n",
    "G = torch.zeros(synlocs.shape[0])\n",
    "for i in range(G.shape[0]):\n",
    "    loc = synlocs[i,1]\n",
    "    if loc < 1/3:\n",
    "        G[i] = 0\n",
    "    elif loc == 1.5:\n",
    "        G[i] = 6\n",
    "    elif (loc >= 1/3) & (loc < 2/3):\n",
    "        G[i] = 1\n",
    "    elif (loc >= 2/3) & (loc < 1):\n",
    "        G[i] = 2\n",
    "    elif (loc >= 1) & (loc < 4/3):\n",
    "        G[i] = 3\n",
    "    elif (loc >= 4/3) & (loc < 5/3):\n",
    "        G[i] = 4\n",
    "    elif (loc >= 5/3) & (loc < 2):\n",
    "        G[i] = 5\n",
    "G_no = int(torch.max(G).item()) + 1\n",
    "\n",
    "zero_idx = np.where(synlocs[:,1] == 1)\n",
    "print(zero_idx)\n",
    "C_den = torch.tensor([0,1,1,1,1])\n",
    "\n",
    "M = C_den.shape[0]\n",
    "print(M)"
   ]
  },
  {
   "cell_type": "code",
   "execution_count": 3,
   "metadata": {
    "ExecuteTime": {
     "end_time": "2020-10-11T15:21:58.503686Z",
     "start_time": "2020-10-11T15:21:58.494064Z"
    },
    "hidden": true
   },
   "outputs": [],
   "source": [
    "C_syn = torch.zeros(M, N)\n",
    "#Ensyn = torch.tensor([0, 97, 222, 180, 130])\n",
    "#Insyn = torch.tensor([1,21, 36, 36 ,26])\n",
    "Ensyn = torch.tensor([0, 106, 213, 211, 99])\n",
    "Insyn = torch.tensor([1, 22, 36, 42, 19])\n",
    "\n",
    "count = 0\n",
    "for m in range(M):\n",
    "    for e in range(Ensyn[m]):\n",
    "        C_syn[m,count] = 1\n",
    "        count += 1\n",
    "        \n",
    "for m in range(M):\n",
    "    for i in range(Insyn[m]):\n",
    "        C_syn[m,count] = -1\n",
    "        count += 1\n",
    "        \n"
   ]
  },
  {
   "cell_type": "markdown",
   "metadata": {
    "heading_collapsed": true
   },
   "source": [
    "# Init/Save"
   ]
  },
  {
   "cell_type": "code",
   "execution_count": 4,
   "metadata": {
    "ExecuteTime": {
     "end_time": "2020-10-11T14:58:06.028169Z",
     "start_time": "2020-10-11T14:58:06.023920Z"
    },
    "hidden": true
   },
   "outputs": [],
   "source": [
    "np.save(\"/media/hdd01/sklee/hglm/biophysical/final_fit/C_den.npy\", C_den.cpu().detach().numpy())\n",
    "np.save(\"/media/hdd01/sklee/hglm/biophysical/final_fit/C_syn.npy\", C_syn.cpu().detach().numpy())"
   ]
  },
  {
   "cell_type": "markdown",
   "metadata": {
    "heading_collapsed": true
   },
   "source": [
    "# Adjust W and C"
   ]
  },
  {
   "cell_type": "code",
   "execution_count": 4,
   "metadata": {
    "ExecuteTime": {
     "end_time": "2020-10-11T15:08:43.273625Z",
     "start_time": "2020-10-11T15:08:43.187700Z"
    },
    "hidden": true
   },
   "outputs": [],
   "source": [
    "C_den = np.load(\"/media/hdd01/sklee/hglm/biophysical/final_fit/C_den.npy\")\n",
    "C_syn = np.load(\"/media/hdd01/sklee/hglm/biophysical/final_fit/C_syn.npy\")\n",
    "\n",
    "E_neural = np.load(\"/media/hdd01/sklee/hglm/biophysical/inputs/Espikes_d48000_r1_rep1_Ne629_e5_E20_neural.npy\")[:train_T]\n",
    "I_neural = np.load(\"/media/hdd01/sklee/hglm/biophysical/inputs/Ispikes_d48000_r1_rep1_Ni120_i20_I30_neural.npy\")[:train_T]\n",
    "neural = np.hstack((E_neural, I_neural))\n",
    "\n",
    "Delta_init = np.exp(4.3201)\n",
    "W_init = np.asarray([ 0.0542,  0.0542,  0.0542, -0.0208, -0.0208, -0.0208, -0.0099])\n",
    "Tau_init = np.exp(np.asarray([1.6063, 1.6063, 1.6063, 1.9158, 1.9158, 1.9158, 1.8307]))\n",
    "Theta_init = 2.1128\n",
    "sigma_init = 0.125\n",
    "#C_init = np.exp(3.2998)\n",
    "C_init = 5\n",
    "#C_init = 0.3\n",
    "\n",
    "new_Theta = np.empty((M))\n",
    "new_C = np.ones((M))\n",
    "#new_W = np.empty((G_no))\n",
    "\n",
    "window = np.arange(B) - Delta_init\n",
    "window = np.heaviside(window, 0)\n",
    "filt_neural = np.empty((neural.shape[0], neural.shape[1]))\n",
    "### filt_neural includes both synaptic kernel and W multiplied!"
   ]
  },
  {
   "cell_type": "code",
   "execution_count": 5,
   "metadata": {
    "ExecuteTime": {
     "end_time": "2020-10-11T15:08:44.063754Z",
     "start_time": "2020-10-11T15:08:43.362918Z"
    },
    "hidden": true
   },
   "outputs": [],
   "source": [
    "for g in range(G_no):\n",
    "    g_idx = torch.where(G == g)[0].numpy()\n",
    "    in_g = neural[:,g_idx]\n",
    "    out_g = np.empty((in_g.shape[0], in_g.shape[1]))\n",
    "    \n",
    "    if g < G_no//2:\n",
    "        t_tau_g_fast = window / Tau_init[g]\n",
    "        t_tau_g_slow = window / (Tau_init[g] * 2.8 + 10.4)\n",
    "        kern_g_fast = np.multiply(t_tau_g_fast, np.exp(-t_tau_g_fast))\n",
    "        kern_g_slow = np.multiply(t_tau_g_slow, np.exp(-t_tau_g_slow)) * 0.3\n",
    "        kern_g = (kern_g_slow + kern_g_fast)/1.3\n",
    "    else:\n",
    "        t_tau_g = window / Tau_init[g]\n",
    "        kern_g = np.multiply(t_tau_g, np.exp(-t_tau_g))\n",
    "        \n",
    "    for i in range(in_g.shape[1]):\n",
    "        out_g[:,i] = np.convolve(in_g[:,i], kern_g, mode=\"same\")\n",
    "    \n",
    "    filt_neural[:, g_idx] = out_g * W_init[g]"
   ]
  },
  {
   "cell_type": "code",
   "execution_count": 6,
   "metadata": {
    "ExecuteTime": {
     "end_time": "2020-10-11T15:08:44.118337Z",
     "start_time": "2020-10-11T15:08:44.064923Z"
    },
    "hidden": true
   },
   "outputs": [],
   "source": [
    "upstream_out = np.empty((filt_neural.shape[0], M))\n",
    "##### upstream_out contains subunit outputs after nonlin, before C\n",
    "\n",
    "for i in range(C_syn.shape[0]): ### loop through subunits\n",
    "    subunit = C_den.shape[0] - 1 - i\n",
    "    \n",
    "    upstream_idx = np.where(C_den == subunit+1)[0]\n",
    "    if upstream_idx.size == 0:\n",
    "        upstream_in = np.zeros((filt_neural.shape[0], ))\n",
    "    else:\n",
    "        upstream_in = np.sum(upstream_out[:,upstream_idx], axis=1)\n",
    "    \n",
    "    e_idx = np.where(C_syn[subunit] == 1)[0].reshape((1,-1))\n",
    "    i_idx = np.where(C_syn[subunit] == -1)[0].reshape((1,-1))\n",
    "    sub_idx = np.sort(np.hstack((e_idx, i_idx)).flatten())\n",
    "    sub_neural = filt_neural[:,sub_idx]\n",
    "    sub_in = np.sum(sub_neural, axis=1)\n",
    "    mean_sub_in = np.mean(sub_in)\n",
    "    \n",
    "    old_sigma = np.std(sub_in + upstream_in * C_init)\n",
    "    sigma_factor = sigma_init / old_sigma\n",
    "    \n",
    "    ######\n",
    "    ######\n",
    "    \n",
    "    if upstream_idx.size > 0:\n",
    "        new_C[upstream_idx] = C_init * sigma_factor\n",
    "    \n",
    "    comb_in = sub_in + upstream_in*C_init*sigma_factor\n",
    "    new_Theta[subunit] = np.mean(comb_in)\n",
    "    comb_out = 1 / (1+np.exp(-1 * comb_in + new_Theta[subunit]))\n",
    "    upstream_out[:,subunit] = comb_out\n",
    "    "
   ]
  },
  {
   "cell_type": "code",
   "execution_count": 7,
   "metadata": {
    "ExecuteTime": {
     "end_time": "2020-10-11T15:08:44.123870Z",
     "start_time": "2020-10-11T15:08:44.119504Z"
    },
    "hidden": true
   },
   "outputs": [
    {
     "name": "stdout",
     "output_type": "stream",
     "text": [
      "[1.        2.4263367 2.4263367 2.4263367 2.4263367]\n",
      "[4.555883   0.09420077 0.21839702 0.18442149 0.07309924]\n",
      "[0.49996517 0.49998573 0.49997118 0.4999389  0.49998928]\n",
      "[0.02968626 0.01963471 0.02659801 0.02867368 0.01648109]\n"
     ]
    }
   ],
   "source": [
    "print(new_C)\n",
    "print(new_Theta)\n",
    "print(np.mean(upstream_out, axis=0))\n",
    "print(np.std(upstream_out, axis=0))"
   ]
  },
  {
   "cell_type": "code",
   "execution_count": 8,
   "metadata": {
    "ExecuteTime": {
     "end_time": "2020-10-11T15:08:45.108490Z",
     "start_time": "2020-10-11T15:08:45.102386Z"
    },
    "hidden": true
   },
   "outputs": [],
   "source": [
    "np.save(\"/media/hdd01/sklee/hglm/biophysical/final_fit/adjusted_W.npy\", W_init)\n",
    "np.save(\"/media/hdd01/sklee/hglm/biophysical/final_fit/adjusted_C.npy\", np.log(new_C))\n",
    "np.save(\"/media/hdd01/sklee/hglm/biophysical/final_fit/adjusted_Theta.npy\", new_Theta)\n",
    "np.save(\"/media/hdd01/sklee/hglm/biophysical/final_fit/adjusted_Tau.npy\", np.log(Tau_init))\n",
    "np.save(\"/media/hdd01/sklee/hglm/biophysical/final_fit/adjusted_Delta.npy\", np.log(Delta_init))\n"
   ]
  },
  {
   "cell_type": "markdown",
   "metadata": {},
   "source": [
    "# Train ALL Params"
   ]
  },
  {
   "cell_type": "code",
   "execution_count": 4,
   "metadata": {
    "ExecuteTime": {
     "end_time": "2020-10-11T15:19:25.395080Z",
     "start_time": "2020-10-11T15:19:23.755590Z"
    }
   },
   "outputs": [],
   "source": [
    "C_den = np.load(\"/media/hdd01/sklee/hglm/biophysical/final_fit/C_den.npy\")\n",
    "C_syn = np.load(\"/media/hdd01/sklee/hglm/biophysical/final_fit/C_syn.npy\")\n",
    "C_den = torch.from_numpy(C_den)\n",
    "C_syn = torch.from_numpy(C_syn)\n",
    "\n",
    "test_V_ref = np.load(\"/media/hdd01/sklee/hglm/biophysical/test_V_ref.npy\")[:]\n",
    "test_V_ref = torch.from_numpy(test_V_ref).cuda()\n",
    "\n",
    "train_V_ref = np.fromfile(\"/media/hdd01/sklee/hglm/biophysical/inputs/vdata_NMDA_ApN0.5_13_Adend_r0_o2_i2_g_b0.bin\")[1:-2][:train_T]\n",
    "train_V_ref = torch.from_numpy(train_V_ref)"
   ]
  },
  {
   "cell_type": "code",
   "execution_count": 5,
   "metadata": {
    "ExecuteTime": {
     "end_time": "2020-10-11T15:19:25.582854Z",
     "start_time": "2020-10-11T15:19:25.396188Z"
    }
   },
   "outputs": [],
   "source": [
    "E_neural = np.load(\"/media/hdd01/sklee/hglm/biophysical/inputs/Espikes_d48000_r1_rep1_Ne629_e5_E20_neural.npy\")\n",
    "I_neural = np.load(\"/media/hdd01/sklee/hglm/biophysical/inputs/Ispikes_d48000_r1_rep1_Ni120_i20_I30_neural.npy\")\n",
    "\n",
    "train_neural = np.hstack((E_neural, I_neural))[:train_T]\n",
    "test_neural = np.hstack((E_neural, I_neural))[train_T:train_T + test_T]\n",
    "train_neural = torch.from_numpy(train_neural)\n",
    "test_neural = torch.from_numpy(test_neural).cuda()\n"
   ]
  },
  {
   "cell_type": "code",
   "execution_count": 6,
   "metadata": {
    "ExecuteTime": {
     "end_time": "2020-10-11T15:19:25.591845Z",
     "start_time": "2020-10-11T15:19:25.584108Z"
    }
   },
   "outputs": [
    {
     "name": "stdout",
     "output_type": "stream",
     "text": [
      "tensor([ 0.0542,  0.0542,  0.0542, -0.0208, -0.0208, -0.0208, -0.0099],\n",
      "       dtype=torch.float64)\n",
      "tensor([0.0000, 0.8864, 0.8864, 0.8864, 0.8864], dtype=torch.float64)\n",
      "tensor([4.5559, 0.0942, 0.2184, 0.1844, 0.0731], dtype=torch.float64)\n",
      "tensor([1.6063, 1.6063, 1.6063, 1.9158, 1.9158, 1.9158, 1.8307],\n",
      "       dtype=torch.float64)\n",
      "tensor([4.3201], dtype=torch.float64)\n"
     ]
    }
   ],
   "source": [
    "adjust_W = np.load(\"/media/hdd01/sklee/hglm/biophysical/final_fit/adjusted_W.npy\")\n",
    "adjust_C = np.load(\"/media/hdd01/sklee/hglm/biophysical/final_fit/adjusted_C.npy\")\n",
    "adjust_Theta = np.load(\"/media/hdd01/sklee/hglm/biophysical/final_fit/adjusted_Theta.npy\")\n",
    "adjust_Tau = np.load(\"/media/hdd01/sklee/hglm/biophysical/final_fit/adjusted_Tau.npy\")\n",
    "adjust_Delta = np.load(\"/media/hdd01/sklee/hglm/biophysical/final_fit/adjusted_Delta.npy\")\n",
    "\n",
    "adjust_W = torch.from_numpy(adjust_W)\n",
    "adjust_C = torch.from_numpy(adjust_C)\n",
    "adjust_Theta = torch.from_numpy(adjust_Theta)\n",
    "adjust_Tau = torch.from_numpy(adjust_Tau)\n",
    "adjust_Delta = torch.from_numpy(adjust_Delta).reshape(1)\n",
    "\n",
    "print(adjust_W)\n",
    "print(adjust_C)\n",
    "print(adjust_Theta)\n",
    "print(adjust_Tau)\n",
    "print(adjust_Delta)"
   ]
  },
  {
   "cell_type": "code",
   "execution_count": 7,
   "metadata": {
    "ExecuteTime": {
     "end_time": "2020-10-11T15:19:25.603843Z",
     "start_time": "2020-10-11T15:19:25.593146Z"
    }
   },
   "outputs": [
    {
     "data": {
      "text/plain": [
       "hGLM()"
      ]
     },
     "execution_count": 7,
     "metadata": {},
     "output_type": "execute_result"
    }
   ],
   "source": [
    "fit_hGLM = hGLM(C_den, C_syn, B, G, Ensyn)\n",
    "\n",
    "with torch.no_grad():\n",
    "    fit_hGLM.W = nn.Parameter(adjust_W)\n",
    "    fit_hGLM.C = nn.Parameter(adjust_C)\n",
    "    fit_hGLM.Tau = nn.Parameter(adjust_Tau)\n",
    "    fit_hGLM.Theta = nn.Parameter(adjust_Theta)\n",
    "    fit_hGLM.Delta = nn.Parameter(adjust_Delta)\n",
    "    \n",
    "fit_hGLM.train().float().cuda()"
   ]
  },
  {
   "cell_type": "code",
   "execution_count": 8,
   "metadata": {
    "ExecuteTime": {
     "end_time": "2020-10-11T15:19:25.610601Z",
     "start_time": "2020-10-11T15:19:25.604964Z"
    }
   },
   "outputs": [
    {
     "name": "stdout",
     "output_type": "stream",
     "text": [
      "40000\n"
     ]
    }
   ],
   "source": [
    "repeat_no = 2\n",
    "batch_no = (train_V_ref.shape[0]) * 2\n",
    "train_idx = np.empty((repeat_no, train_V_ref.shape[0]))\n",
    "for i in range(repeat_no):\n",
    "    part_idx = np.arange(train_V_ref.shape[0])\n",
    "    np.random.shuffle(part_idx)\n",
    "    train_idx[i] = part_idx\n",
    "train_idx = train_idx.flatten()\n",
    "train_idx = torch.from_numpy(train_idx)\n",
    "\n",
    "print(batch_no)"
   ]
  },
  {
   "cell_type": "code",
   "execution_count": 9,
   "metadata": {
    "ExecuteTime": {
     "end_time": "2020-10-11T15:19:25.616208Z",
     "start_time": "2020-10-11T15:19:25.611720Z"
    }
   },
   "outputs": [],
   "source": [
    "fit_hGLM.Theta.requires_grad = True\n",
    "fit_hGLM.W.requires_grad = True\n",
    "fit_hGLM.Delta.requires_grad = True\n",
    "fit_hGLM.V_o.requires_grad = True\n",
    "fit_hGLM.C.requires_grad= True\n",
    "fit_hGLM.Tau.requires_grad= True\n"
   ]
  },
  {
   "cell_type": "code",
   "execution_count": 10,
   "metadata": {
    "ExecuteTime": {
     "end_time": "2020-10-11T15:19:25.624988Z",
     "start_time": "2020-10-11T15:19:25.617302Z"
    }
   },
   "outputs": [],
   "source": [
    "optimizer = optim.Adam(fit_hGLM.parameters(), lr=0.001)\n",
    "#optimizer = optim.SGD(fit_hGLM.parameters(), lr=0.0005)"
   ]
  },
  {
   "cell_type": "code",
   "execution_count": 11,
   "metadata": {
    "ExecuteTime": {
     "end_time": "2020-10-11T15:19:47.086808Z",
     "start_time": "2020-10-11T15:19:25.858245Z"
    },
    "scrolled": true
   },
   "outputs": [
    {
     "name": "stderr",
     "output_type": "stream",
     "text": [
      "<ipython-input-11-cdafa481d543>:3: TqdmDeprecationWarning: Please use `tqdm.notebook.trange` instead of `tqdm.tnrange`\n",
      "  for i in tnrange(batch_no):\n"
     ]
    },
    {
     "data": {
      "application/vnd.jupyter.widget-view+json": {
       "model_id": "eae50c9b3e9a4707acec0b04c8655a8b",
       "version_major": 2,
       "version_minor": 0
      },
      "text/plain": [
       "HBox(children=(FloatProgress(value=0.0, max=40000.0), HTML(value='')))"
      ]
     },
     "metadata": {},
     "output_type": "display_data"
    },
    {
     "name": "stdout",
     "output_type": "stream",
     "text": [
      "0 13.613217061999844 0.014342853753432583 0.007966686925923616\n",
      "100 13.357747391379315 0.032839988227453376 0.025567015374842406\n",
      "200 13.036912947752738 0.05606982149367956 0.04842347037184136\n",
      "300 12.604580953744257 0.08737257075514027 0.06863508476829516\n",
      "400 12.15117892890709 0.12020088345717894 0.10456522981924132\n",
      "500 11.418107250466877 0.1732785164330798 0.17062922579616568\n",
      "600 10.735239187933129 0.2227211854647424 0.1147523355632355\n",
      "\n"
     ]
    },
    {
     "ename": "KeyboardInterrupt",
     "evalue": "",
     "output_type": "error",
     "traceback": [
      "\u001b[0;31m---------------------------------------------------------------------------\u001b[0m",
      "\u001b[0;31mKeyboardInterrupt\u001b[0m                         Traceback (most recent call last)",
      "\u001b[0;32m<ipython-input-11-cdafa481d543>\u001b[0m in \u001b[0;36m<module>\u001b[0;34m\u001b[0m\n\u001b[1;32m      5\u001b[0m     \u001b[0mbatch_idx\u001b[0m \u001b[0;34m=\u001b[0m \u001b[0mtrain_idx\u001b[0m\u001b[0;34m[\u001b[0m\u001b[0mi\u001b[0m\u001b[0;34m]\u001b[0m\u001b[0;34m.\u001b[0m\u001b[0mlong\u001b[0m\u001b[0;34m(\u001b[0m\u001b[0;34m)\u001b[0m\u001b[0;34m\u001b[0m\u001b[0;34m\u001b[0m\u001b[0m\n\u001b[1;32m      6\u001b[0m     \u001b[0mbatch_X\u001b[0m \u001b[0;34m=\u001b[0m \u001b[0mtrain_neural\u001b[0m\u001b[0;34m[\u001b[0m\u001b[0mbatch_idx\u001b[0m \u001b[0;34m:\u001b[0m \u001b[0mbatch_idx\u001b[0m\u001b[0;34m+\u001b[0m\u001b[0mbatch_size\u001b[0m\u001b[0;34m]\u001b[0m\u001b[0;34m.\u001b[0m\u001b[0mfloat\u001b[0m\u001b[0;34m(\u001b[0m\u001b[0;34m)\u001b[0m\u001b[0;34m.\u001b[0m\u001b[0mcuda\u001b[0m\u001b[0;34m(\u001b[0m\u001b[0;34m)\u001b[0m\u001b[0;34m\u001b[0m\u001b[0;34m\u001b[0m\u001b[0m\n\u001b[0;32m----> 7\u001b[0;31m     \u001b[0mbatch_pred\u001b[0m \u001b[0;34m=\u001b[0m \u001b[0mfit_hGLM\u001b[0m\u001b[0;34m(\u001b[0m\u001b[0mbatch_X\u001b[0m\u001b[0;34m)\u001b[0m\u001b[0;34m\u001b[0m\u001b[0;34m\u001b[0m\u001b[0m\n\u001b[0m\u001b[1;32m      8\u001b[0m     \u001b[0mbatch_ref\u001b[0m \u001b[0;34m=\u001b[0m \u001b[0mtrain_V_ref\u001b[0m\u001b[0;34m[\u001b[0m\u001b[0mbatch_idx\u001b[0m\u001b[0;34m:\u001b[0m\u001b[0mbatch_idx\u001b[0m\u001b[0;34m+\u001b[0m\u001b[0mbatch_size\u001b[0m\u001b[0;34m]\u001b[0m\u001b[0;34m.\u001b[0m\u001b[0mcuda\u001b[0m\u001b[0;34m(\u001b[0m\u001b[0;34m)\u001b[0m\u001b[0;34m\u001b[0m\u001b[0;34m\u001b[0m\u001b[0m\n\u001b[1;32m      9\u001b[0m \u001b[0;34m\u001b[0m\u001b[0m\n",
      "\u001b[0;32m~/anaconda3/lib/python3.8/site-packages/torch/nn/modules/module.py\u001b[0m in \u001b[0;36m_call_impl\u001b[0;34m(self, *input, **kwargs)\u001b[0m\n\u001b[1;32m    720\u001b[0m             \u001b[0mresult\u001b[0m \u001b[0;34m=\u001b[0m \u001b[0mself\u001b[0m\u001b[0;34m.\u001b[0m\u001b[0m_slow_forward\u001b[0m\u001b[0;34m(\u001b[0m\u001b[0;34m*\u001b[0m\u001b[0minput\u001b[0m\u001b[0;34m,\u001b[0m \u001b[0;34m**\u001b[0m\u001b[0mkwargs\u001b[0m\u001b[0;34m)\u001b[0m\u001b[0;34m\u001b[0m\u001b[0;34m\u001b[0m\u001b[0m\n\u001b[1;32m    721\u001b[0m         \u001b[0;32melse\u001b[0m\u001b[0;34m:\u001b[0m\u001b[0;34m\u001b[0m\u001b[0;34m\u001b[0m\u001b[0m\n\u001b[0;32m--> 722\u001b[0;31m             \u001b[0mresult\u001b[0m \u001b[0;34m=\u001b[0m \u001b[0mself\u001b[0m\u001b[0;34m.\u001b[0m\u001b[0mforward\u001b[0m\u001b[0;34m(\u001b[0m\u001b[0;34m*\u001b[0m\u001b[0minput\u001b[0m\u001b[0;34m,\u001b[0m \u001b[0;34m**\u001b[0m\u001b[0mkwargs\u001b[0m\u001b[0;34m)\u001b[0m\u001b[0;34m\u001b[0m\u001b[0;34m\u001b[0m\u001b[0m\n\u001b[0m\u001b[1;32m    723\u001b[0m         for hook in itertools.chain(\n\u001b[1;32m    724\u001b[0m                 \u001b[0m_global_forward_hooks\u001b[0m\u001b[0;34m.\u001b[0m\u001b[0mvalues\u001b[0m\u001b[0;34m(\u001b[0m\u001b[0;34m)\u001b[0m\u001b[0;34m,\u001b[0m\u001b[0;34m\u001b[0m\u001b[0;34m\u001b[0m\u001b[0m\n",
      "\u001b[0;32m~/hglm/hGLM_class.py\u001b[0m in \u001b[0;36mforward\u001b[0;34m(self, X)\u001b[0m\n\u001b[1;32m     80\u001b[0m             \u001b[0mfiltered\u001b[0m \u001b[0;34m=\u001b[0m \u001b[0mF\u001b[0m\u001b[0;34m.\u001b[0m\u001b[0mconv1d\u001b[0m\u001b[0;34m(\u001b[0m\u001b[0min_g\u001b[0m\u001b[0;34m,\u001b[0m \u001b[0mkern_g\u001b[0m\u001b[0;34m,\u001b[0m \u001b[0mpadding\u001b[0m\u001b[0;34m=\u001b[0m\u001b[0mint\u001b[0m\u001b[0;34m(\u001b[0m\u001b[0mself\u001b[0m\u001b[0;34m.\u001b[0m\u001b[0mB\u001b[0m\u001b[0;34m//\u001b[0m\u001b[0;36m2\u001b[0m\u001b[0;34m)\u001b[0m\u001b[0;34m)\u001b[0m\u001b[0;34m\u001b[0m\u001b[0;34m\u001b[0m\u001b[0m\n\u001b[1;32m     81\u001b[0m             \u001b[0mfiltered\u001b[0m \u001b[0;34m=\u001b[0m \u001b[0mfiltered\u001b[0m\u001b[0;34m.\u001b[0m\u001b[0msqueeze\u001b[0m\u001b[0;34m(\u001b[0m\u001b[0;36m1\u001b[0m\u001b[0;34m)\u001b[0m\u001b[0;34m.\u001b[0m\u001b[0mT\u001b[0m\u001b[0;34m\u001b[0m\u001b[0;34m\u001b[0m\u001b[0m\n\u001b[0;32m---> 82\u001b[0;31m             \u001b[0mfiltered_in\u001b[0m\u001b[0;34m[\u001b[0m\u001b[0;34m:\u001b[0m\u001b[0;34m,\u001b[0m \u001b[0mg_idx\u001b[0m\u001b[0;34m]\u001b[0m \u001b[0;34m=\u001b[0m \u001b[0mfiltered\u001b[0m \u001b[0;34m*\u001b[0m \u001b[0mself\u001b[0m\u001b[0;34m.\u001b[0m\u001b[0mW\u001b[0m\u001b[0;34m[\u001b[0m\u001b[0mg\u001b[0m\u001b[0;34m]\u001b[0m\u001b[0;34m\u001b[0m\u001b[0;34m\u001b[0m\u001b[0m\n\u001b[0m\u001b[1;32m     83\u001b[0m \u001b[0;34m\u001b[0m\u001b[0m\n\u001b[1;32m     84\u001b[0m         \u001b[0;31m######\u001b[0m\u001b[0;34m\u001b[0m\u001b[0;34m\u001b[0m\u001b[0;34m\u001b[0m\u001b[0m\n",
      "\u001b[0;31mKeyboardInterrupt\u001b[0m: "
     ]
    }
   ],
   "source": [
    "loss_array = np.empty((batch_no))\n",
    "\n",
    "for i in tnrange(batch_no):\n",
    "    optimizer.zero_grad()\n",
    "    batch_idx = train_idx[i].long()\n",
    "    batch_X = train_neural[batch_idx : batch_idx+batch_size].float().cuda()\n",
    "    batch_pred = fit_hGLM(batch_X)\n",
    "    batch_ref = train_V_ref[batch_idx:batch_idx+batch_size].cuda()\n",
    "\n",
    "    diff = (batch_ref - batch_pred) ** 1\n",
    "    loss = torch.var(diff)\n",
    "    \n",
    "    loss.backward()\n",
    "    optimizer.step()\n",
    "    \n",
    "    #if fit_hGLM.W.grad[1,1] != 0:\n",
    "        #print(i, fit_hGLM.W.grad)\n",
    "    \n",
    "    if i%100 == 0:\n",
    "        test_pred = fit_hGLM(test_neural.float())\n",
    "        test_diff = (test_V_ref - test_pred) ** 1\n",
    "        test_loss = torch.var(test_diff)\n",
    "        test_score = metrics.explained_variance_score(y_true=test_V_ref.cpu().detach().numpy(),\n",
    "                                                      y_pred=test_pred.cpu().detach().numpy(),\n",
    "                                                      multioutput='uniform_average')\n",
    "        train_score = metrics.explained_variance_score(y_true=batch_ref.cpu().detach().numpy(),\n",
    "                                                      y_pred=batch_pred.cpu().detach().numpy(),\n",
    "                                                      multioutput='uniform_average')\n",
    "        print(i, test_loss.item(), test_score, train_score)\n",
    "        if i%500 == 0:\n",
    "            torch.save(fit_hGLM.state_dict(), \"/media/hdd01/sklee/hglm/biophysical/final_fit/final5_hglm_i\"+str(i)+\".pt\")\n",
    "    \n"
   ]
  },
  {
   "cell_type": "markdown",
   "metadata": {
    "heading_collapsed": true
   },
   "source": [
    "# Continue Training"
   ]
  },
  {
   "cell_type": "code",
   "execution_count": 4,
   "metadata": {
    "ExecuteTime": {
     "end_time": "2020-10-11T15:21:54.192198Z",
     "start_time": "2020-10-11T15:21:52.671544Z"
    },
    "hidden": true
   },
   "outputs": [],
   "source": [
    "C_den = np.load(\"/media/hdd01/sklee/hglm/biophysical/final_fit/C_den.npy\")\n",
    "C_syn = np.load(\"/media/hdd01/sklee/hglm/biophysical/final_fit/C_syn.npy\")\n",
    "C_den = torch.from_numpy(C_den)\n",
    "C_syn = torch.from_numpy(C_syn)\n",
    "\n",
    "test_V_ref = np.load(\"/media/hdd01/sklee/hglm/biophysical/test_V_ref.npy\")[:]\n",
    "test_V_ref = torch.from_numpy(test_V_ref).cuda()\n",
    "\n",
    "train_V_ref = np.fromfile(\"/media/hdd01/sklee/hglm/biophysical/inputs/vdata_NMDA_ApN0.5_13_Adend_r0_o2_i2_g_b0.bin\")[1:-2][:train_T]\n",
    "train_V_ref = torch.from_numpy(train_V_ref)"
   ]
  },
  {
   "cell_type": "code",
   "execution_count": 5,
   "metadata": {
    "ExecuteTime": {
     "end_time": "2020-10-11T15:19:56.540439Z",
     "start_time": "2020-10-11T15:19:56.380435Z"
    },
    "hidden": true
   },
   "outputs": [],
   "source": [
    "E_neural = np.load(\"/media/hdd01/sklee/hglm/biophysical/inputs/Espikes_d48000_r1_rep1_Ne629_e5_E20_neural.npy\")\n",
    "I_neural = np.load(\"/media/hdd01/sklee/hglm/biophysical/inputs/Ispikes_d48000_r1_rep1_Ni120_i20_I30_neural.npy\")\n",
    "\n",
    "train_neural = np.hstack((E_neural, I_neural))[:train_T]\n",
    "test_neural = np.hstack((E_neural, I_neural))[train_T:train_T + test_T]\n",
    "train_neural = torch.from_numpy(train_neural)\n",
    "test_neural = torch.from_numpy(test_neural).cuda()\n"
   ]
  },
  {
   "cell_type": "code",
   "execution_count": 6,
   "metadata": {
    "ExecuteTime": {
     "end_time": "2020-10-11T15:19:56.547435Z",
     "start_time": "2020-10-11T15:19:56.541673Z"
    },
    "hidden": true
   },
   "outputs": [
    {
     "data": {
      "text/plain": [
       "hGLM()"
      ]
     },
     "execution_count": 6,
     "metadata": {},
     "output_type": "execute_result"
    }
   ],
   "source": [
    "fit_hGLM = hGLM(C_den, C_syn, B, G, Ensyn)\n",
    "fit_hGLM.load_state_dict(torch.load(\"/media/hdd01/sklee/hglm/biophysical/final_fit/final4_hglm_i12000.pt\"))\n",
    "start_i = 12000\n",
    "fit_hGLM.train().float().cuda()"
   ]
  },
  {
   "cell_type": "code",
   "execution_count": 7,
   "metadata": {
    "ExecuteTime": {
     "end_time": "2020-10-11T15:19:56.553744Z",
     "start_time": "2020-10-11T15:19:56.548357Z"
    },
    "hidden": true
   },
   "outputs": [
    {
     "name": "stdout",
     "output_type": "stream",
     "text": [
      "40000\n"
     ]
    }
   ],
   "source": [
    "repeat_no = 2\n",
    "batch_no = (train_V_ref.shape[0]) * 2\n",
    "train_idx = np.empty((repeat_no, train_V_ref.shape[0]))\n",
    "for i in range(repeat_no):\n",
    "    part_idx = np.arange(train_V_ref.shape[0])\n",
    "    np.random.shuffle(part_idx)\n",
    "    train_idx[i] = part_idx\n",
    "train_idx = train_idx.flatten()\n",
    "train_idx = torch.from_numpy(train_idx)\n",
    "\n",
    "print(batch_no)"
   ]
  },
  {
   "cell_type": "code",
   "execution_count": 8,
   "metadata": {
    "ExecuteTime": {
     "end_time": "2020-10-11T15:19:56.560849Z",
     "start_time": "2020-10-11T15:19:56.554651Z"
    },
    "hidden": true
   },
   "outputs": [],
   "source": [
    "#optimizer = optim.SGD(fit_hGLM.parameters(), lr=0.000002)\n",
    "optimizer = optim.Adam(fit_hGLM.parameters(), lr=0.001)"
   ]
  },
  {
   "cell_type": "code",
   "execution_count": 9,
   "metadata": {
    "ExecuteTime": {
     "end_time": "2020-10-11T15:21:45.017258Z",
     "start_time": "2020-10-11T15:19:56.561901Z"
    },
    "hidden": true,
    "scrolled": true
   },
   "outputs": [
    {
     "name": "stderr",
     "output_type": "stream",
     "text": [
      "<ipython-input-9-cf78f2a98269>:3: TqdmDeprecationWarning: Please use `tqdm.notebook.trange` instead of `tqdm.tnrange`\n",
      "  for i in tnrange(batch_no):\n"
     ]
    },
    {
     "data": {
      "application/vnd.jupyter.widget-view+json": {
       "model_id": "909b09663e874b58874c7a77564980ce",
       "version_major": 2,
       "version_minor": 0
      },
      "text/plain": [
       "HBox(children=(FloatProgress(value=0.0, max=40000.0), HTML(value='')))"
      ]
     },
     "metadata": {},
     "output_type": "display_data"
    },
    {
     "name": "stdout",
     "output_type": "stream",
     "text": [
      "12000 2.9661660092101387 0.7852364575509845 0.7148272717962927\n",
      "12100 2.764160315786148 0.7998625634764255 0.7659141559904722\n",
      "12200 2.783311085972108 0.7984759630061893 0.6897316045711234\n",
      "12300 2.8537475899947817 0.7933760484775082 0.709685127502877\n",
      "12400 2.755344176683004 0.8005008909080695 0.7353047614327105\n",
      "12500 2.7526910148634207 0.8006929916088221 0.7584454602317441\n",
      "12600 2.793639686514696 0.7977281266324093 0.6856072093075546\n",
      "12700 2.8249794232500167 0.7954589910455804 0.7119624041425052\n",
      "12800 2.8214952675653877 0.7957112593301281 0.7646438165263171\n",
      "12900 2.795578214405162 0.7975877686357047 0.7762028766895305\n",
      "13000 3.0089805303051342 0.7821364968071853 0.62628449373956\n",
      "13100 2.76505288098086 0.7997979378174945 0.7651342086106183\n",
      "13200 2.767185914449565 0.7996434967481032 0.6931745133113605\n",
      "13300 2.828603537114283 0.7951965891309176 0.6679334060294998\n",
      "13400 2.774943429909251 0.7990818183303887 0.7755015907146854\n",
      "13500 2.7667674293889357 0.7996737969346217 0.7623387671390528\n",
      "13600 2.9181462767085624 0.7887132986458991 0.7403590981178749\n",
      "13700 2.8187867782042906 0.7959073659314087 0.7607432691011542\n",
      "13800 2.8406927798856487 0.7943212744774205 0.7488290422271917\n",
      "13900 3.256893947175817 0.7641864685267474 0.7195993302946817\n",
      "14000 2.802736657789128 0.797069465652447 0.2795991443638509\n",
      "14100 2.823796238817633 0.7955446588280318 0.7724163296268988\n",
      "14200 2.8533303071654883 0.793406261611517 0.7027509734578001\n",
      "14300 2.8795520752868455 0.7915076895863287 0.7450891457433285\n",
      "14400 2.817602839109895 0.7959930883577941 0.763065720088077\n",
      "14500 2.850464647366487 0.7936137480560026 0.7582368242959703\n",
      "14600 2.838464861528323 0.7944825856349177 0.7087204685752603\n",
      "14700 2.810371271806709 0.7965166858191883 0.7643228240367884\n",
      "14800 2.8208112116571864 0.7957607879767504 0.7389568288777639\n",
      "14900 2.839924048113726 0.7943769340747131 0.71167823564213\n",
      "15000 2.8397493495321666 0.7943895830068923 0.7038789306218138\n",
      "\n"
     ]
    },
    {
     "ename": "KeyboardInterrupt",
     "evalue": "",
     "output_type": "error",
     "traceback": [
      "\u001b[0;31m---------------------------------------------------------------------------\u001b[0m",
      "\u001b[0;31mKeyboardInterrupt\u001b[0m                         Traceback (most recent call last)",
      "\u001b[0;32m<ipython-input-9-cf78f2a98269>\u001b[0m in \u001b[0;36m<module>\u001b[0;34m\u001b[0m\n\u001b[1;32m      5\u001b[0m     \u001b[0mbatch_idx\u001b[0m \u001b[0;34m=\u001b[0m \u001b[0mtrain_idx\u001b[0m\u001b[0;34m[\u001b[0m\u001b[0mi\u001b[0m\u001b[0;34m]\u001b[0m\u001b[0;34m.\u001b[0m\u001b[0mlong\u001b[0m\u001b[0;34m(\u001b[0m\u001b[0;34m)\u001b[0m\u001b[0;34m\u001b[0m\u001b[0;34m\u001b[0m\u001b[0m\n\u001b[1;32m      6\u001b[0m     \u001b[0mbatch_X\u001b[0m \u001b[0;34m=\u001b[0m \u001b[0mtrain_neural\u001b[0m\u001b[0;34m[\u001b[0m\u001b[0mbatch_idx\u001b[0m \u001b[0;34m:\u001b[0m \u001b[0mbatch_idx\u001b[0m\u001b[0;34m+\u001b[0m\u001b[0mbatch_size\u001b[0m\u001b[0;34m]\u001b[0m\u001b[0;34m.\u001b[0m\u001b[0mfloat\u001b[0m\u001b[0;34m(\u001b[0m\u001b[0;34m)\u001b[0m\u001b[0;34m.\u001b[0m\u001b[0mcuda\u001b[0m\u001b[0;34m(\u001b[0m\u001b[0;34m)\u001b[0m\u001b[0;34m\u001b[0m\u001b[0;34m\u001b[0m\u001b[0m\n\u001b[0;32m----> 7\u001b[0;31m     \u001b[0mbatch_pred\u001b[0m \u001b[0;34m=\u001b[0m \u001b[0mfit_hGLM\u001b[0m\u001b[0;34m(\u001b[0m\u001b[0mbatch_X\u001b[0m\u001b[0;34m)\u001b[0m\u001b[0;34m\u001b[0m\u001b[0;34m\u001b[0m\u001b[0m\n\u001b[0m\u001b[1;32m      8\u001b[0m     \u001b[0mbatch_ref\u001b[0m \u001b[0;34m=\u001b[0m \u001b[0mtrain_V_ref\u001b[0m\u001b[0;34m[\u001b[0m\u001b[0mbatch_idx\u001b[0m\u001b[0;34m:\u001b[0m\u001b[0mbatch_idx\u001b[0m\u001b[0;34m+\u001b[0m\u001b[0mbatch_size\u001b[0m\u001b[0;34m]\u001b[0m\u001b[0;34m.\u001b[0m\u001b[0mcuda\u001b[0m\u001b[0;34m(\u001b[0m\u001b[0;34m)\u001b[0m\u001b[0;34m\u001b[0m\u001b[0;34m\u001b[0m\u001b[0m\n\u001b[1;32m      9\u001b[0m \u001b[0;34m\u001b[0m\u001b[0m\n",
      "\u001b[0;32m~/anaconda3/lib/python3.8/site-packages/torch/nn/modules/module.py\u001b[0m in \u001b[0;36m_call_impl\u001b[0;34m(self, *input, **kwargs)\u001b[0m\n\u001b[1;32m    720\u001b[0m             \u001b[0mresult\u001b[0m \u001b[0;34m=\u001b[0m \u001b[0mself\u001b[0m\u001b[0;34m.\u001b[0m\u001b[0m_slow_forward\u001b[0m\u001b[0;34m(\u001b[0m\u001b[0;34m*\u001b[0m\u001b[0minput\u001b[0m\u001b[0;34m,\u001b[0m \u001b[0;34m**\u001b[0m\u001b[0mkwargs\u001b[0m\u001b[0;34m)\u001b[0m\u001b[0;34m\u001b[0m\u001b[0;34m\u001b[0m\u001b[0m\n\u001b[1;32m    721\u001b[0m         \u001b[0;32melse\u001b[0m\u001b[0;34m:\u001b[0m\u001b[0;34m\u001b[0m\u001b[0;34m\u001b[0m\u001b[0m\n\u001b[0;32m--> 722\u001b[0;31m             \u001b[0mresult\u001b[0m \u001b[0;34m=\u001b[0m \u001b[0mself\u001b[0m\u001b[0;34m.\u001b[0m\u001b[0mforward\u001b[0m\u001b[0;34m(\u001b[0m\u001b[0;34m*\u001b[0m\u001b[0minput\u001b[0m\u001b[0;34m,\u001b[0m \u001b[0;34m**\u001b[0m\u001b[0mkwargs\u001b[0m\u001b[0;34m)\u001b[0m\u001b[0;34m\u001b[0m\u001b[0;34m\u001b[0m\u001b[0m\n\u001b[0m\u001b[1;32m    723\u001b[0m         for hook in itertools.chain(\n\u001b[1;32m    724\u001b[0m                 \u001b[0m_global_forward_hooks\u001b[0m\u001b[0;34m.\u001b[0m\u001b[0mvalues\u001b[0m\u001b[0;34m(\u001b[0m\u001b[0;34m)\u001b[0m\u001b[0;34m,\u001b[0m\u001b[0;34m\u001b[0m\u001b[0;34m\u001b[0m\u001b[0m\n",
      "\u001b[0;32m~/hglm/hGLM_class.py\u001b[0m in \u001b[0;36mforward\u001b[0;34m(self, X)\u001b[0m\n\u001b[1;32m     52\u001b[0m             \u001b[0mdelta_g\u001b[0m \u001b[0;34m=\u001b[0m \u001b[0mtorch\u001b[0m\u001b[0;34m.\u001b[0m\u001b[0mexp\u001b[0m\u001b[0;34m(\u001b[0m\u001b[0mself\u001b[0m\u001b[0;34m.\u001b[0m\u001b[0mDelta\u001b[0m\u001b[0;34m)\u001b[0m\u001b[0;34m\u001b[0m\u001b[0;34m\u001b[0m\u001b[0m\n\u001b[1;32m     53\u001b[0m             \u001b[0mt_g\u001b[0m \u001b[0;34m=\u001b[0m \u001b[0mt_g\u001b[0m \u001b[0;34m-\u001b[0m \u001b[0mdelta_g\u001b[0m\u001b[0;34m\u001b[0m\u001b[0;34m\u001b[0m\u001b[0m\n\u001b[0;32m---> 54\u001b[0;31m             \u001b[0mt_g\u001b[0m\u001b[0;34m[\u001b[0m\u001b[0mt_g\u001b[0m \u001b[0;34m<\u001b[0m \u001b[0;36m0.0\u001b[0m\u001b[0;34m]\u001b[0m \u001b[0;34m=\u001b[0m \u001b[0;36m0.0\u001b[0m\u001b[0;34m\u001b[0m\u001b[0;34m\u001b[0m\u001b[0m\n\u001b[0m\u001b[1;32m     55\u001b[0m \u001b[0;34m\u001b[0m\u001b[0m\n\u001b[1;32m     56\u001b[0m \u001b[0;34m\u001b[0m\u001b[0m\n",
      "\u001b[0;32m~/anaconda3/lib/python3.8/site-packages/torch/tensor.py\u001b[0m in \u001b[0;36mwrapped\u001b[0;34m(*args, **kwargs)\u001b[0m\n\u001b[1;32m     20\u001b[0m     \u001b[0;32mdef\u001b[0m \u001b[0mwrapped\u001b[0m\u001b[0;34m(\u001b[0m\u001b[0;34m*\u001b[0m\u001b[0margs\u001b[0m\u001b[0;34m,\u001b[0m \u001b[0;34m**\u001b[0m\u001b[0mkwargs\u001b[0m\u001b[0;34m)\u001b[0m\u001b[0;34m:\u001b[0m\u001b[0;34m\u001b[0m\u001b[0;34m\u001b[0m\u001b[0m\n\u001b[1;32m     21\u001b[0m         \u001b[0;32mtry\u001b[0m\u001b[0;34m:\u001b[0m\u001b[0;34m\u001b[0m\u001b[0;34m\u001b[0m\u001b[0m\n\u001b[0;32m---> 22\u001b[0;31m             \u001b[0;32mreturn\u001b[0m \u001b[0mf\u001b[0m\u001b[0;34m(\u001b[0m\u001b[0;34m*\u001b[0m\u001b[0margs\u001b[0m\u001b[0;34m,\u001b[0m \u001b[0;34m**\u001b[0m\u001b[0mkwargs\u001b[0m\u001b[0;34m)\u001b[0m\u001b[0;34m\u001b[0m\u001b[0;34m\u001b[0m\u001b[0m\n\u001b[0m\u001b[1;32m     23\u001b[0m         \u001b[0;32mexcept\u001b[0m \u001b[0mTypeError\u001b[0m\u001b[0;34m:\u001b[0m\u001b[0;34m\u001b[0m\u001b[0;34m\u001b[0m\u001b[0m\n\u001b[1;32m     24\u001b[0m             \u001b[0;32mreturn\u001b[0m \u001b[0mNotImplemented\u001b[0m\u001b[0;34m\u001b[0m\u001b[0;34m\u001b[0m\u001b[0m\n",
      "\u001b[0;31mKeyboardInterrupt\u001b[0m: "
     ]
    }
   ],
   "source": [
    "loss_array = np.empty((batch_no))\n",
    "\n",
    "for i in tnrange(batch_no):\n",
    "    optimizer.zero_grad()\n",
    "    batch_idx = train_idx[i].long()\n",
    "    batch_X = train_neural[batch_idx : batch_idx+batch_size].float().cuda()\n",
    "    batch_pred = fit_hGLM(batch_X)\n",
    "    batch_ref = train_V_ref[batch_idx:batch_idx+batch_size].cuda()\n",
    "\n",
    "    diff = (batch_ref - batch_pred) ** 1\n",
    "    loss = torch.var(diff)\n",
    "    \n",
    "    loss.backward()\n",
    "    optimizer.step()\n",
    "    \n",
    "    #if fit_hGLM.W.grad[1,1] != 0:\n",
    "        #print(i, fit_hGLM.W.grad)\n",
    "    \n",
    "    if i%100 == 0:\n",
    "        test_pred = fit_hGLM(test_neural.float())\n",
    "        test_diff = (test_V_ref - test_pred) ** 1\n",
    "        test_loss = torch.var(test_diff)\n",
    "        test_score = metrics.explained_variance_score(y_true=test_V_ref.cpu().detach().numpy(),\n",
    "                                                      y_pred=test_pred.cpu().detach().numpy(),\n",
    "                                                      multioutput='uniform_average')\n",
    "        train_score = metrics.explained_variance_score(y_true=batch_ref.cpu().detach().numpy(),\n",
    "                                                      y_pred=batch_pred.cpu().detach().numpy(),\n",
    "                                                      multioutput='uniform_average')\n",
    "        print(i+start_i, test_loss.item(), test_score, train_score)\n",
    "        torch.save(fit_hGLM.state_dict(), \"/media/hdd01/sklee/hglm/biophysical/final_fit/final4_hglm_i\"+str(i+start_i)+\".pt\")\n",
    "    \n"
   ]
  },
  {
   "cell_type": "code",
   "execution_count": null,
   "metadata": {
    "hidden": true
   },
   "outputs": [],
   "source": []
  },
  {
   "cell_type": "code",
   "execution_count": 10,
   "metadata": {
    "ExecuteTime": {
     "end_time": "2020-10-11T15:07:37.905811Z",
     "start_time": "2020-10-11T15:07:37.897096Z"
    },
    "hidden": true
   },
   "outputs": [
    {
     "name": "stdout",
     "output_type": "stream",
     "text": [
      "[Parameter containing:\n",
      "tensor([-68.8529], device='cuda:0', requires_grad=True), Parameter containing:\n",
      "tensor([1.0415, 1.1518, 1.3475, 2.6747, 2.2815, 2.3802, 2.8664],\n",
      "       device='cuda:0', requires_grad=True), Parameter containing:\n",
      "tensor([2.5948], device='cuda:0', requires_grad=True), Parameter containing:\n",
      "tensor([ 0.0463,  0.0467,  0.0403, -0.0106, -0.0414, -0.0180, -0.0188],\n",
      "       device='cuda:0', requires_grad=True), Parameter containing:\n",
      "tensor([3.2171, 2.3481, 2.3688, 2.2894, 2.1348], device='cuda:0',\n",
      "       requires_grad=True), Parameter containing:\n",
      "tensor([18.2334,  0.0808,  0.5655,  0.1198,  0.1533], device='cuda:0',\n",
      "       requires_grad=True)]\n"
     ]
    }
   ],
   "source": [
    "print(list(fit_hGLM.parameters()))"
   ]
  },
  {
   "cell_type": "code",
   "execution_count": 10,
   "metadata": {
    "ExecuteTime": {
     "end_time": "2020-10-11T14:22:06.822931Z",
     "start_time": "2020-10-11T14:22:06.812962Z"
    },
    "hidden": true
   },
   "outputs": [
    {
     "name": "stdout",
     "output_type": "stream",
     "text": [
      "[Parameter containing:\n",
      "tensor([-68.7257], device='cuda:0', requires_grad=True), Parameter containing:\n",
      "tensor([1.2150, 0.7612, 1.7563, 2.7970, 2.4131, 2.4347, 2.9189],\n",
      "       device='cuda:0', requires_grad=True), Parameter containing:\n",
      "tensor([2.5111], device='cuda:0', requires_grad=True), Parameter containing:\n",
      "tensor([ 0.0850,  0.1193,  0.0713, -0.0221, -0.1033, -0.0333, -0.0150],\n",
      "       device='cuda:0', requires_grad=True), Parameter containing:\n",
      "tensor([3.3524, 1.4805, 1.5589, 1.4853, 1.4110], device='cuda:0',\n",
      "       requires_grad=True), Parameter containing:\n",
      "tensor([5.8997, 0.7093, 1.3444, 0.5424, 1.1404], device='cuda:0',\n",
      "       requires_grad=True)]\n"
     ]
    }
   ],
   "source": [
    "print(list(fit_hGLM.parameters()))"
   ]
  },
  {
   "cell_type": "code",
   "execution_count": 18,
   "metadata": {
    "ExecuteTime": {
     "end_time": "2020-10-11T14:24:13.668093Z",
     "start_time": "2020-10-11T14:24:13.523118Z"
    },
    "hidden": true
   },
   "outputs": [
    {
     "name": "stdout",
     "output_type": "stream",
     "text": [
      "0.8931642188344856\n"
     ]
    },
    {
     "data": {
      "image/png": "[encoded data removed]",
      "text/plain": [
       "<Figure size 936x288 with 1 Axes>"
      ]
     },
     "metadata": {
      "needs_background": "light"
     },
     "output_type": "display_data"
    }
   ],
   "source": [
    "plt.figure(figsize = (13, 4))\n",
    "plt.plot(test_V_ref.cpu().detach().numpy()[:], c=\"blue\")\n",
    "plt.plot(test_pred.cpu().detach().numpy()[:]-8.2, c=\"red\")\n",
    "print(np.corrcoef(test_V_ref[:].cpu().detach().numpy(),\n",
    "                  test_pred[:].cpu().detach().numpy())[0][1])"
   ]
  },
  {
   "cell_type": "markdown",
   "metadata": {
    "heading_collapsed": true
   },
   "source": [
    "# Test"
   ]
  },
  {
   "cell_type": "code",
   "execution_count": 4,
   "metadata": {
    "ExecuteTime": {
     "end_time": "2020-10-11T15:22:01.629100Z",
     "start_time": "2020-10-11T15:22:00.019335Z"
    },
    "hidden": true
   },
   "outputs": [],
   "source": [
    "C_den = np.load(\"/media/hdd01/sklee/hglm/biophysical/final_fit/C_den.npy\")\n",
    "C_syn = np.load(\"/media/hdd01/sklee/hglm/biophysical/final_fit/C_syn.npy\")\n",
    "C_den = torch.from_numpy(C_den)\n",
    "C_syn = torch.from_numpy(C_syn)\n",
    "\n",
    "final_hGLM = hGLM(C_den, C_syn, B, G, Ensyn)\n",
    "final_hGLM.load_state_dict(torch.load(\"/media/hdd01/sklee/hglm/biophysical/final_fit/final5_hglm_i12500.pt\"))\n",
    "final_hGLM.eval().cuda()\n",
    "\n",
    "test_V_ref = np.load(\"/media/hdd01/sklee/hglm/biophysical/test_V_ref.npy\")\n"
   ]
  },
  {
   "cell_type": "code",
   "execution_count": 5,
   "metadata": {
    "ExecuteTime": {
     "end_time": "2020-10-11T15:22:01.955453Z",
     "start_time": "2020-10-11T15:22:01.630216Z"
    },
    "hidden": true
   },
   "outputs": [],
   "source": [
    "E_neural = np.load(\"/media/hdd01/sklee/hglm/biophysical/inputs/Espikes_d48000_r1_rep1_Ne629_e5_E20_neural.npy\")\n",
    "I_neural = np.load(\"/media/hdd01/sklee/hglm/biophysical/inputs/Ispikes_d48000_r1_rep1_Ni120_i20_I30_neural.npy\")\n",
    "test_neural = np.hstack((E_neural, I_neural))[train_T:train_T + test_T]\n",
    "test_neural = torch.from_numpy(test_neural).cuda()\n",
    "\n",
    "test_V_final = final_hGLM(test_neural.float()).cpu().detach().numpy()"
   ]
  },
  {
   "cell_type": "code",
   "execution_count": 14,
   "metadata": {
    "ExecuteTime": {
     "end_time": "2020-10-11T15:23:21.038808Z",
     "start_time": "2020-10-11T15:23:20.777356Z"
    },
    "hidden": true
   },
   "outputs": [
    {
     "name": "stdout",
     "output_type": "stream",
     "text": [
      "0.8961038502935589\n"
     ]
    },
    {
     "data": {
      "image/png": "[encoded data removed]",
      "text/plain": [
       "<Figure size 1008x288 with 1 Axes>"
      ]
     },
     "metadata": {
      "needs_background": "light"
     },
     "output_type": "display_data"
    }
   ],
   "source": [
    "plt.figure(figsize = (14,4))\n",
    "plt.plot(test_V_ref, label=\"Biophysical\", c=\"blue\")\n",
    "plt.plot(test_V_final-8.9, label=\"hGLM\", c=\"red\")\n",
    "print(np.corrcoef(test_V_ref, test_V_final)[0][1])\n",
    "\n",
    "\n",
    "test_score = metrics.explained_variance_score(y_true=test_V_ref,\n",
    "                                                      y_pred=test_V_final,\n",
    "                                                      multioutput='uniform_average')\n",
    "\n",
    "plt.title(\"Pre-Fit hGLM (5 Subunit: 3 Excitatory, 4 Inhibitory Kernels) \\n Variance Explained: \" + str(round(test_score, 5)), fontsize = 16)\n",
    "plt.xticks(np.arange(0,8001,1000),[0,1,2,3,4,5,6,7,8])\n",
    "plt.xlabel(\"Time (s)\")\n",
    "plt.ylabel(\"Sub-Threshold Voltage (mV)\")\n",
    "plt.legend()\n",
    "#plt.show()\n",
    "\n",
    "\n",
    "plt.savefig(\"/media/hdd01/sklee/hglm/biophysical/final5_fit_test.png\", dpi=150, bbox_inches='tight')"
   ]
  },
  {
   "cell_type": "code",
   "execution_count": null,
   "metadata": {
    "hidden": true
   },
   "outputs": [],
   "source": []
  }
 ],
 "metadata": {
  "kernelspec": {
   "display_name": "Python 3",
   "language": "python",
   "name": "python3"
  },
  "language_info": {
   "codemirror_mode": {
    "name": "ipython",
    "version": 3
   },
   "file_extension": ".py",
   "mimetype": "text/x-python",
   "name": "python",
   "nbconvert_exporter": "python",
   "pygments_lexer": "ipython3",
   "version": "3.8.3"
  }
 },
 "nbformat": 4,
 "nbformat_minor": 4
}
