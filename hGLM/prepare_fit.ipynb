{
 "cells": [
  {
   "cell_type": "code",
   "execution_count": 2,
   "metadata": {
    "ExecuteTime": {
     "end_time": "2020-11-16T22:31:41.360011Z",
     "start_time": "2020-11-16T22:31:41.183685Z"
    }
   },
   "outputs": [],
   "source": [
    "import numpy as np\n",
    "import matplotlib.pyplot as plt\n",
    "from tqdm import tnrange\n"
   ]
  },
  {
   "cell_type": "markdown",
   "metadata": {},
   "source": [
    "# Import Spike Trains"
   ]
  },
  {
   "cell_type": "code",
   "execution_count": 8,
   "metadata": {
    "ExecuteTime": {
     "end_time": "2020-11-16T22:24:46.233248Z",
     "start_time": "2020-11-16T22:24:46.205696Z"
    }
   },
   "outputs": [],
   "source": [
    "def is_float(string):\n",
    "    \"\"\" True if given string is float else False\"\"\"\n",
    "    try:\n",
    "        return float(string)\n",
    "    except ValueError:\n",
    "        return False\n",
    "\n",
    "data = []\n",
    "with open(\"/media/hdd01/sklee/cont_shglm/CA1_inputs/Ispikes_d10_Ni200_Ri7.5_rseed1_rep2.dat\", 'r') as f:\n",
    "    d = f.readlines()\n",
    "    for i in d:\n",
    "        k = i.rstrip().split(\" \")\n",
    "        data.append([float(i) if is_float(i) else i for i in k]) \n",
    "\n",
    "data = np.array(data, dtype='O')"
   ]
  },
  {
   "cell_type": "code",
   "execution_count": 9,
   "metadata": {
    "ExecuteTime": {
     "end_time": "2020-11-16T22:24:46.654984Z",
     "start_time": "2020-11-16T22:24:46.634293Z"
    }
   },
   "outputs": [
    {
     "name": "stdout",
     "output_type": "stream",
     "text": [
      "(14005, 2)\n",
      "0\n",
      "(14005, 2)\n",
      "199.0\n",
      "10002.0\n"
     ]
    }
   ],
   "source": [
    "for i in range(data.shape[0]):\n",
    "    if data[i,0] == \"0\":\n",
    "        data[i,0] = 0\n",
    "\n",
    "print(data.shape)\n",
    "bad_idx = np.where(data[:,1] == \"NA\")\n",
    "print(bad_idx[0].size)\n",
    "data = np.delete(data, bad_idx[0], axis=0)\n",
    "\n",
    "print(data.shape)\n",
    "        \n",
    "print(np.max(data[:,0]))\n",
    "print(np.max(data[:,1]))\n",
    "\n",
    "data = data[np.argsort(data[:,1])]\n",
    "\n",
    "for i in range(data.shape[0]):\n",
    "    data[i,0] = int(data[i,0])"
   ]
  },
  {
   "cell_type": "code",
   "execution_count": 10,
   "metadata": {
    "ExecuteTime": {
     "end_time": "2020-11-16T22:24:48.067077Z",
     "start_time": "2020-11-16T22:24:48.063145Z"
    }
   },
   "outputs": [],
   "source": [
    "np.save(\"/media/hdd01/sklee/cont_shglm/CA1_inputs/Ispikes_d10_Ni200_Ri7.5_rseed1_rep2.npy\", data)"
   ]
  },
  {
   "cell_type": "markdown",
   "metadata": {},
   "source": [
    "# Make Neural Matrix"
   ]
  },
  {
   "cell_type": "code",
   "execution_count": 32,
   "metadata": {
    "ExecuteTime": {
     "end_time": "2020-11-16T22:30:26.103724Z",
     "start_time": "2020-11-16T22:30:26.098765Z"
    }
   },
   "outputs": [
    {
     "name": "stdout",
     "output_type": "stream",
     "text": [
      "(14005, 2)\n"
     ]
    }
   ],
   "source": [
    "spike_train = np.load(\"/media/hdd01/sklee/cont_shglm/CA1_inputs/Ispikes_d10_Ni200_Ri7.5_rseed1_rep2.npy\", allow_pickle=True)\n",
    "print(spike_train.shape)"
   ]
  },
  {
   "cell_type": "code",
   "execution_count": 33,
   "metadata": {
    "ExecuteTime": {
     "end_time": "2020-11-16T22:30:26.343154Z",
     "start_time": "2020-11-16T22:30:26.271427Z"
    }
   },
   "outputs": [
    {
     "name": "stdout",
     "output_type": "stream",
     "text": [
      "(10004,)\n",
      "[    0     1     2 ... 10001 10002 10003]\n",
      "14005\n",
      "14005\n",
      "(10003,)\n"
     ]
    },
    {
     "name": "stderr",
     "output_type": "stream",
     "text": [
      "<ipython-input-33-3b51645672d0>:17: TqdmDeprecationWarning: Please use `tqdm.notebook.trange` instead of `tqdm.tnrange`\n",
      "  for i in tnrange(hist_counts.shape[0]):\n"
     ]
    },
    {
     "data": {
      "application/vnd.jupyter.widget-view+json": {
       "model_id": "ad0231dcdf734294aafd504fd29de6fc",
       "version_major": 2,
       "version_minor": 0
      },
      "text/plain": [
       "HBox(children=(FloatProgress(value=0.0, max=10003.0), HTML(value='')))"
      ]
     },
     "metadata": {},
     "output_type": "display_data"
    },
    {
     "name": "stdout",
     "output_type": "stream",
     "text": [
      "\n",
      "14005\n",
      "14005.0\n",
      "(10003, 200)\n",
      "0.007000399880035989\n",
      "[[73 9997.0]\n",
      " [153 9997.0]\n",
      " [120 9998.0]\n",
      " [187 9998.0]\n",
      " [38 9999.0]\n",
      " [9 9999.0]\n",
      " [60 10000.0]\n",
      " [159 10001.0]\n",
      " [139 10001.0]\n",
      " [112 10002.0]]\n"
     ]
    }
   ],
   "source": [
    "bin_size = 1 # in milliseconds\n",
    "syn_no = int(np.max(spike_train[:,0])) + 1\n",
    "bin_no = int(int(np.max(spike_train[:,1]) + 1) / bin_size)\n",
    "neural = np.zeros((bin_no, syn_no))\n",
    "\n",
    "bin_edges = np.arange(0, int(np.max(spike_train[:,1])) + 1 + bin_size, bin_size)\n",
    "print(bin_edges.shape)\n",
    "print(bin_edges)\n",
    "\n",
    "hist_counts, hist_edges = np.histogram(spike_train[:,1], bin_edges)\n",
    "print(np.sum(hist_counts))\n",
    "print(spike_train.shape[0])\n",
    "print(hist_counts.shape)\n",
    "\n",
    "count = 0\n",
    "\n",
    "for i in tnrange(hist_counts.shape[0]):\n",
    "    bin_count = hist_counts[i]\n",
    "    for j in range(bin_count):\n",
    "        syn = spike_train[count,0]\n",
    "        neural[i, syn] += 1\n",
    "        count += 1\n",
    "        \n",
    "print(count)\n",
    "print(np.sum(neural))\n",
    "print(neural.shape)\n",
    "print(np.nonzero(neural)[0].size/neural.size)\n",
    "print(spike_train[-10:,])"
   ]
  },
  {
   "cell_type": "code",
   "execution_count": 35,
   "metadata": {
    "ExecuteTime": {
     "end_time": "2020-11-16T22:30:29.456623Z",
     "start_time": "2020-11-16T22:30:29.441959Z"
    }
   },
   "outputs": [],
   "source": [
    "np.save(\"/media/hdd01/sklee/cont_shglm/CA1_inputs/Ispikes_d10_Ni200_Ri7.5_rseed1_rep2_neural.npy\", neural)"
   ]
  },
  {
   "cell_type": "markdown",
   "metadata": {},
   "source": []
  },
  {
   "cell_type": "code",
   "execution_count": null,
   "metadata": {},
   "outputs": [],
   "source": []
  },
  {
   "cell_type": "code",
   "execution_count": 5,
   "metadata": {
    "ExecuteTime": {
     "end_time": "2020-11-16T22:31:55.307750Z",
     "start_time": "2020-11-16T22:31:55.303718Z"
    }
   },
   "outputs": [
    {
     "name": "stdout",
     "output_type": "stream",
     "text": [
      "(30004,)\n",
      "[ 2.12220799e-310 -6.83000000e+001 -6.83000000e+001 ... -6.66190186e+001\n",
      " -6.80570024e+001 -6.50460029e+001]\n"
     ]
    }
   ],
   "source": [
    "V = np.fromfile(\"/media/hdd01/sklee/cont_shglm/CA1_inputs/vdata_T10_Ne2000_gA0.6_tauA1_gN0.8_Ni200_gG0.7_gB1.2_Er1_Ir7.5_balanced_rep3_stimseed1.bin\")\n",
    "print(V.shape)\n",
    "print(V)"
   ]
  },
  {
   "cell_type": "code",
   "execution_count": 16,
   "metadata": {
    "ExecuteTime": {
     "end_time": "2020-11-16T22:35:43.902464Z",
     "start_time": "2020-11-16T22:35:43.884768Z"
    }
   },
   "outputs": [],
   "source": [
    "one = np.load(\"/media/hdd01/sklee/cont_shglm/CA1_inputs/Ispikes_d10_Ni200_Ri7.5_rseed1_rep0_neural.npy\")[:10001]\n",
    "two = np.load(\"/media/hdd01/sklee/cont_shglm/CA1_inputs/Ispikes_d10_Ni200_Ri7.5_rseed1_rep1_neural.npy\")[:10001]\n",
    "three = np.load(\"/media/hdd01/sklee/cont_shglm/CA1_inputs/Ispikes_d10_Ni200_Ri7.5_rseed1_rep2_neural.npy\")[:10001]"
   ]
  },
  {
   "cell_type": "code",
   "execution_count": 17,
   "metadata": {
    "ExecuteTime": {
     "end_time": "2020-11-16T22:35:44.953127Z",
     "start_time": "2020-11-16T22:35:44.940892Z"
    }
   },
   "outputs": [
    {
     "name": "stdout",
     "output_type": "stream",
     "text": [
      "(30003, 200)\n"
     ]
    }
   ],
   "source": [
    "final = np.vstack((one, two, three))\n",
    "print(final.shape)"
   ]
  },
  {
   "cell_type": "code",
   "execution_count": 18,
   "metadata": {
    "ExecuteTime": {
     "end_time": "2020-11-16T22:35:49.453607Z",
     "start_time": "2020-11-16T22:35:49.426590Z"
    }
   },
   "outputs": [],
   "source": [
    "np.save(\"/media/hdd01/sklee/cont_shglm/CA1_inputs/combined_S_I.npy\", final)"
   ]
  },
  {
   "cell_type": "code",
   "execution_count": null,
   "metadata": {},
   "outputs": [],
   "source": []
  }
 ],
 "metadata": {
  "kernelspec": {
   "display_name": "Python 3",
   "language": "python",
   "name": "python3"
  },
  "language_info": {
   "codemirror_mode": {
    "name": "ipython",
    "version": 3
   },
   "file_extension": ".py",
   "mimetype": "text/x-python",
   "name": "python",
   "nbconvert_exporter": "python",
   "pygments_lexer": "ipython3",
   "version": "3.8.3"
  }
 },
 "nbformat": 4,
 "nbformat_minor": 4
}
