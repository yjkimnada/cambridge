{
 "cells": [
  {
   "cell_type": "code",
   "execution_count": 1,
   "metadata": {
    "ExecuteTime": {
     "end_time": "2020-10-11T10:59:45.077516Z",
     "start_time": "2020-10-11T10:59:44.903354Z"
    }
   },
   "outputs": [],
   "source": [
    "import numpy as np\n",
    "import matplotlib.pyplot as plt\n",
    "from tqdm import tnrange\n"
   ]
  },
  {
   "cell_type": "markdown",
   "metadata": {
    "heading_collapsed": true
   },
   "source": [
    "# Import Spike Trains"
   ]
  },
  {
   "cell_type": "code",
   "execution_count": 2,
   "metadata": {
    "ExecuteTime": {
     "end_time": "2020-10-11T10:57:29.983694Z",
     "start_time": "2020-10-11T10:57:28.989059Z"
    },
    "hidden": true
   },
   "outputs": [],
   "source": [
    "def is_float(string):\n",
    "    \"\"\" True if given string is float else False\"\"\"\n",
    "    try:\n",
    "        return float(string)\n",
    "    except ValueError:\n",
    "        return False\n",
    "\n",
    "data = []\n",
    "with open(\"/media/hdd01/sklee/hglm/biophysical/inputs/Ispikes_d48000_r1_rep1_Ni120_i20_I30.dat\", 'r') as f:\n",
    "    d = f.readlines()\n",
    "    for i in d:\n",
    "        k = i.rstrip().split(\" \")\n",
    "        data.append([float(i) if is_float(i) else i for i in k]) \n",
    "\n",
    "data = np.array(data, dtype='O')"
   ]
  },
  {
   "cell_type": "code",
   "execution_count": 3,
   "metadata": {
    "ExecuteTime": {
     "end_time": "2020-10-11T10:57:30.498844Z",
     "start_time": "2020-10-11T10:57:29.984651Z"
    },
    "hidden": true
   },
   "outputs": [
    {
     "name": "stdout",
     "output_type": "stream",
     "text": [
      "(544834, 2)\n",
      "0\n",
      "(544834, 2)\n",
      "119.0\n",
      "47999.2930629354\n"
     ]
    }
   ],
   "source": [
    "for i in range(data.shape[0]):\n",
    "    if data[i,0] == \"0\":\n",
    "        data[i,0] = 0\n",
    "\n",
    "print(data.shape)\n",
    "bad_idx = np.where(data[:,1] == \"NA\")\n",
    "print(bad_idx[0].size)\n",
    "data = np.delete(data, bad_idx[0], axis=0)\n",
    "\n",
    "print(data.shape)\n",
    "        \n",
    "print(np.max(data[:,0]))\n",
    "print(np.max(data[:,1]))\n",
    "\n",
    "data = data[np.argsort(data[:,1])]\n",
    "\n",
    "for i in range(data.shape[0]):\n",
    "    data[i,0] = int(data[i,0])"
   ]
  },
  {
   "cell_type": "code",
   "execution_count": 4,
   "metadata": {
    "ExecuteTime": {
     "end_time": "2020-10-11T10:57:30.541946Z",
     "start_time": "2020-10-11T10:57:30.501653Z"
    },
    "hidden": true
   },
   "outputs": [],
   "source": [
    "np.save(\"/media/hdd01/sklee/hglm/biophysical/inputs/Ispikes_d48000_r1_rep1_Ni120_i20_I30.npy\", data)"
   ]
  },
  {
   "cell_type": "markdown",
   "metadata": {},
   "source": [
    "# Make Neural Matrix"
   ]
  },
  {
   "cell_type": "code",
   "execution_count": 2,
   "metadata": {
    "ExecuteTime": {
     "end_time": "2020-10-11T10:59:46.168193Z",
     "start_time": "2020-10-11T10:59:46.130945Z"
    }
   },
   "outputs": [
    {
     "name": "stdout",
     "output_type": "stream",
     "text": [
      "(544834, 2)\n"
     ]
    }
   ],
   "source": [
    "spike_train = np.load(\"/media/hdd01/sklee/hglm/biophysical/inputs/Ispikes_d48000_r1_rep1_Ni120_i20_I30.npy\", allow_pickle=True)\n",
    "print(spike_train.shape)"
   ]
  },
  {
   "cell_type": "code",
   "execution_count": 3,
   "metadata": {
    "ExecuteTime": {
     "end_time": "2020-10-11T10:59:47.634628Z",
     "start_time": "2020-10-11T10:59:46.698471Z"
    }
   },
   "outputs": [
    {
     "name": "stdout",
     "output_type": "stream",
     "text": [
      "(48001,)\n",
      "[    0     1     2 ... 47998 47999 48000]\n",
      "544834\n",
      "544834\n",
      "(48000,)\n"
     ]
    },
    {
     "name": "stderr",
     "output_type": "stream",
     "text": [
      "<ipython-input-3-b130f6996fdb>:17: TqdmDeprecationWarning: Please use `tqdm.notebook.trange` instead of `tqdm.tnrange`\n",
      "  for i in tnrange(hist_counts.shape[0]):\n"
     ]
    },
    {
     "data": {
      "application/vnd.jupyter.widget-view+json": {
       "model_id": "cf7395c256ce41bda236f6b9347a1cf1",
       "version_major": 2,
       "version_minor": 0
      },
      "text/plain": [
       "HBox(children=(FloatProgress(value=0.0, max=48000.0), HTML(value='')))"
      ]
     },
     "metadata": {},
     "output_type": "display_data"
    },
    {
     "name": "stdout",
     "output_type": "stream",
     "text": [
      "\n",
      "544834\n",
      "544834.0\n",
      "(48000, 120)\n",
      "0.029084027777777778\n"
     ]
    }
   ],
   "source": [
    "bin_size = 1 # in milliseconds\n",
    "syn_no = int(np.max(spike_train[:,0])) + 1\n",
    "bin_no = int(int(np.max(spike_train[:,1]) + 1) / bin_size)\n",
    "neural = np.zeros((bin_no, syn_no))\n",
    "\n",
    "bin_edges = np.arange(0, int(np.max(spike_train[:,1])) + 1 + bin_size, bin_size)\n",
    "print(bin_edges.shape)\n",
    "print(bin_edges)\n",
    "\n",
    "hist_counts, hist_edges = np.histogram(spike_train[:,1], bin_edges)\n",
    "print(np.sum(hist_counts))\n",
    "print(spike_train.shape[0])\n",
    "print(hist_counts.shape)\n",
    "\n",
    "count = 0\n",
    "\n",
    "for i in tnrange(hist_counts.shape[0]):\n",
    "    bin_count = hist_counts[i]\n",
    "    for j in range(bin_count):\n",
    "        syn = spike_train[count,0]\n",
    "        neural[i, syn] += 1\n",
    "        count += 1\n",
    "        \n",
    "print(count)\n",
    "print(np.sum(neural))\n",
    "print(neural.shape)\n",
    "print(np.nonzero(neural)[0].size/neural.size)"
   ]
  },
  {
   "cell_type": "code",
   "execution_count": 4,
   "metadata": {
    "ExecuteTime": {
     "end_time": "2020-10-11T10:59:53.905687Z",
     "start_time": "2020-10-11T10:59:53.878745Z"
    }
   },
   "outputs": [],
   "source": [
    "np.save(\"/media/hdd01/sklee/hglm/biophysical/inputs/Ispikes_d48000_r1_rep1_Ni120_i20_I30_neural.npy\", neural)"
   ]
  },
  {
   "cell_type": "markdown",
   "metadata": {},
   "source": []
  },
  {
   "cell_type": "code",
   "execution_count": null,
   "metadata": {},
   "outputs": [],
   "source": []
  },
  {
   "cell_type": "code",
   "execution_count": null,
   "metadata": {},
   "outputs": [],
   "source": []
  }
 ],
 "metadata": {
  "kernelspec": {
   "display_name": "Python 3",
   "language": "python",
   "name": "python3"
  },
  "language_info": {
   "codemirror_mode": {
    "name": "ipython",
    "version": 3
   },
   "file_extension": ".py",
   "mimetype": "text/x-python",
   "name": "python",
   "nbconvert_exporter": "python",
   "pygments_lexer": "ipython3",
   "version": "3.8.3"
  }
 },
 "nbformat": 4,
 "nbformat_minor": 4
}
