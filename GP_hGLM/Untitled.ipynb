{
 "cells": [
  {
   "cell_type": "code",
   "execution_count": 1,
   "metadata": {
    "ExecuteTime": {
     "end_time": "2020-12-08T21:34:36.637704Z",
     "start_time": "2020-12-08T21:34:36.011567Z"
    }
   },
   "outputs": [],
   "source": [
    "import numpy as np\n",
    "import torch\n",
    "import torch.nn as nn\n",
    "import matplotlib.pyplot as plt\n",
    "from tqdm import tnrange\n",
    "import torch.optim as optim\n",
    "import torch.nn.functional as F\n",
    "from GP_hGLM import GP_hGLM\n",
    "from sklearn import metrics\n"
   ]
  },
  {
   "cell_type": "markdown",
   "metadata": {},
   "source": [
    "# Hyperparams"
   ]
  },
  {
   "cell_type": "code",
   "execution_count": 2,
   "metadata": {
    "ExecuteTime": {
     "end_time": "2020-12-08T21:34:36.642273Z",
     "start_time": "2020-12-08T21:34:36.638873Z"
    }
   },
   "outputs": [],
   "source": [
    "train_T = 65000\n",
    "test_T = 15000\n",
    "N = 200\n",
    "M = 30\n",
    "R=1\n",
    "batch_size = 1500\n",
    "\n",
    "C_den = torch.zeros(5,5)\n",
    "C_den[0,1:] = 1\n",
    "\n",
    "sub_no = C_den.shape[0]\n",
    "S = C_den.shape[0] * 2"
   ]
  },
  {
   "cell_type": "code",
   "execution_count": 3,
   "metadata": {
    "ExecuteTime": {
     "end_time": "2020-12-08T21:34:36.652992Z",
     "start_time": "2020-12-08T21:34:36.643588Z"
    }
   },
   "outputs": [],
   "source": [
    "Ensyn = torch.tensor([0, 106, 213, 211, 99])\n",
    "Insyn = torch.tensor([1, 22, 36, 42, 19])\n",
    "\n",
    "E_no = torch.sum(Ensyn)\n",
    "I_no = torch.sum(Insyn)\n",
    "\n",
    "C_syn_e = torch.zeros(sub_no, E_no)\n",
    "C_syn_i = torch.zeros(sub_no, I_no)\n",
    "\n",
    "E_count = 0\n",
    "for s in range(sub_no):\n",
    "    C_syn_e[s,E_count:E_count+Ensyn[s]] = 1\n",
    "    E_count += Ensyn[s]\n",
    "\n",
    "I_count = 0\n",
    "for s in range(sub_no):\n",
    "    C_syn_i[s,I_count:I_count+Insyn[s]] = 1\n",
    "    I_count += Insyn[s]"
   ]
  },
  {
   "cell_type": "markdown",
   "metadata": {},
   "source": [
    "# Train"
   ]
  },
  {
   "cell_type": "code",
   "execution_count": 4,
   "metadata": {
    "ExecuteTime": {
     "end_time": "2020-12-08T21:34:38.849969Z",
     "start_time": "2020-12-08T21:34:36.654249Z"
    }
   },
   "outputs": [],
   "source": [
    "model = GP_hGLM(C_den.cuda(), S, N, M, R).double().cuda()\n",
    "\n",
    "V_ref = np.load(\"/media/hdd01/sklee/L23_inputs/vdata_NMDA_ApN0.5_13_Adend_r0_o2_i2_g_b4.npy\").flatten()\n",
    "\n",
    "train_V_ref = V_ref[:train_T]\n",
    "test_V_ref = V_ref[train_T:train_T+test_T]\n",
    "test_V_ref = torch.from_numpy(test_V_ref).cuda()\n",
    "train_V_ref = torch.from_numpy(train_V_ref)"
   ]
  },
  {
   "cell_type": "code",
   "execution_count": 5,
   "metadata": {
    "ExecuteTime": {
     "end_time": "2020-12-08T21:34:38.951375Z",
     "start_time": "2020-12-08T21:34:38.851021Z"
    }
   },
   "outputs": [],
   "source": [
    "raw_E_neural = np.load(\"/media/hdd01/sklee/L23_inputs/Espikes_NMDA_ApN0.5_13_Adend_r0_o2_i2_g_b4_neural.npy\")\n",
    "raw_I_neural = np.load(\"/media/hdd01/sklee/L23_inputs/Ispikes_NMDA_ApN0.5_13_Adend_r0_o2_i2_g_b4_neural.npy\")\n",
    "\n",
    "E_neural = torch.matmul(torch.from_numpy(raw_E_neural).double(), C_syn_e.T.double())\n",
    "I_neural = torch.matmul(torch.from_numpy(raw_I_neural).double(), C_syn_i.T.double())\n",
    "\n",
    "train_S_E = E_neural[:train_T]\n",
    "train_S_I = I_neural[:train_T]\n",
    "test_S_E = E_neural[train_T:train_T+test_T].double().cuda()\n",
    "test_S_I = I_neural[train_T:train_T+test_T].double().cuda()"
   ]
  },
  {
   "cell_type": "code",
   "execution_count": 6,
   "metadata": {
    "ExecuteTime": {
     "end_time": "2020-12-08T21:34:38.956189Z",
     "start_time": "2020-12-08T21:34:38.952240Z"
    }
   },
   "outputs": [],
   "source": [
    "repeat_no = 1\n",
    "batch_no = (train_V_ref.shape[0] - batch_size) * repeat_no\n",
    "train_idx = np.empty((repeat_no, train_V_ref.shape[0] - batch_size))\n",
    "for i in range(repeat_no):\n",
    "    part_idx = np.arange(train_V_ref.shape[0] - batch_size)\n",
    "    np.random.shuffle(part_idx)\n",
    "    train_idx[i] = part_idx\n",
    "train_idx = train_idx.flatten()\n",
    "train_idx = torch.from_numpy(train_idx)"
   ]
  },
  {
   "cell_type": "code",
   "execution_count": 7,
   "metadata": {
    "ExecuteTime": {
     "end_time": "2020-12-08T21:34:38.965748Z",
     "start_time": "2020-12-08T21:34:38.956953Z"
    }
   },
   "outputs": [
    {
     "name": "stdout",
     "output_type": "stream",
     "text": [
      "5281\n"
     ]
    }
   ],
   "source": [
    "#optimizer = optim.SGD(model.parameters(), lr=0.0001, momentum=0.9)\n",
    "optimizer = optim.Adam(model.parameters(), lr=0.002)\n",
    "print(sum(p.numel() for p in model.parameters() if p.requires_grad))\n",
    "scheduler = optim.lr_scheduler.StepLR(optimizer, step_size=5000, gamma=0.5)"
   ]
  },
  {
   "cell_type": "code",
   "execution_count": null,
   "metadata": {
    "ExecuteTime": {
     "start_time": "2020-12-08T21:34:35.918Z"
    },
    "scrolled": false
   },
   "outputs": [
    {
     "name": "stderr",
     "output_type": "stream",
     "text": [
      "<ipython-input-8-7831e56eee03>:3: TqdmDeprecationWarning: Please use `tqdm.notebook.trange` instead of `tqdm.tnrange`\n",
      "  for i in tnrange(batch_no):\n"
     ]
    },
    {
     "data": {
      "application/vnd.jupyter.widget-view+json": {
       "model_id": "aec93692ce9249f6907bfbe709c7e11c",
       "version_major": 2,
       "version_minor": 0
      },
      "text/plain": [
       "HBox(children=(FloatProgress(value=0.0, max=63500.0), HTML(value='')))"
      ]
     },
     "metadata": {},
     "output_type": "display_data"
    },
    {
     "name": "stdout",
     "output_type": "stream",
     "text": [
      "TEST 0 40.423210386657935 -0.002639862560209316 0.0\n",
      "TEST 50 40.33116240966057 -0.00035674427180043544 0.0016165567787556068\n",
      "TEST 100 40.32684300432957 -0.0002496076069289366 -0.0003039689596777695\n",
      "TEST 150 40.32434192093503 -0.00018757181425899105 -0.000100093711632665\n",
      "TEST 200 40.32291888736363 -0.0001522755039462531 -0.0014467723783113673\n",
      "TEST 250 40.32243575095691 -0.0001402919971056349 0.0007295621994737322\n",
      "TEST 300 40.32151318585167 -0.00011740909054802628 6.763280230526192e-05\n",
      "TEST 350 40.31980294758806 -7.498907904235352e-05 -0.002601254459728919\n",
      "TEST 400 40.318943222349205 -5.366482539947981e-05 -0.0006090356388028795\n"
     ]
    }
   ],
   "source": [
    "loss_array = np.empty((batch_no//100, 2))\n",
    "\n",
    "for i in tnrange(batch_no):\n",
    "    model.train()\n",
    "    optimizer.zero_grad()\n",
    "    batch_idx = train_idx[i].long()\n",
    "    batch_S_E = train_S_E[batch_idx : batch_idx+batch_size].double().cuda()\n",
    "    batch_S_I = train_S_I[batch_idx : batch_idx+batch_size].double().cuda()\n",
    "    batch_pred, m_u, S_u, K_u, K_u_inv, F_e, F_i, u = model(batch_S_E, batch_S_I)\n",
    "    batch_ref = train_V_ref[batch_idx:batch_idx+batch_size].cuda()\n",
    "        \n",
    "    #diff = (batch_ref - batch_pred) ** 1\n",
    "    #var_loss = torch.var(diff)\n",
    "\n",
    "    #rec_loss = torch.mean((batch_pred - batch_ref) ** 2)\n",
    "    rec_loss = torch.var(batch_pred - batch_ref)\n",
    "    kl_loss = 0\n",
    "    for s in range(m_u.shape[0]):\n",
    "        trace = torch.trace(torch.matmul(K_u_inv[s], S_u[s]))\n",
    "        mKm = torch.matmul(m_u[s].double() , torch.matmul(K_u_inv[s].double(), m_u[s].double()))\n",
    "        ln_det = torch.log(torch.det(K_u[s]) / torch.det(S_u[s]))\n",
    "        kl_loss += 0.5*(trace + mKm + ln_det - m_u.shape[1])\n",
    "        \n",
    "    #print(trace, mKm, ln_det)\n",
    "    #print(torch.det(K_u[s]))\n",
    "    #print(torch.det(S_u[s]))\n",
    "    \n",
    "\n",
    "    \n",
    "    loss = rec_loss \n",
    "    #print(i, var_loss.item(), torch.mean(batch_spikes).item())\n",
    "\n",
    "    loss.backward()\n",
    "    optimizer.step()\n",
    "    scheduler.step()\n",
    "    \n",
    "    if i%50 == 0:\n",
    "        model.eval()\n",
    "        test_pred, test_m_u, test_S_u, test_K_u, test_K_u_inv, F_e, F_i, test_u = model(test_S_E, test_S_I)\n",
    "        test_loss = torch.var(test_pred - test_V_ref)\n",
    "\n",
    "        test_score = metrics.explained_variance_score(y_true=test_V_ref.cpu().detach().numpy(),\n",
    "                                                      y_pred=test_pred.cpu().detach().numpy(),\n",
    "                                                      multioutput='uniform_average')\n",
    "        train_score = metrics.explained_variance_score(y_true=batch_ref.cpu().detach().numpy(),\n",
    "                                                      y_pred=batch_pred.cpu().detach().numpy(),\n",
    "                                                      multioutput='uniform_average')\n",
    "        print(\"TEST\", i, test_loss.item(), test_score.item(), train_score.item())\n",
    "        #print(torch.mean(test_spikes, 0).cpu().detach().numpy())\n",
    "        #print(torch.mean(spike_probs, 0).cpu().detach().numpy())\n",
    "        #if i%100 == 0:\n",
    "            #torch.save(model.state_dict(), \"/media/hdd01/sklee/cont_shglm/baseGLM_CA1_sub6_i\"+str(i)+\".pt\")\n",
    "            #loss_array[i//100,0] = i\n",
    "            #loss_array[i//100,1] = test_score\n",
    "            #np.save(\"/media/hdd01/sklee/cont_shglm/baseGLM_CA1_sub6_test_scores.npy\", loss_array)\n"
   ]
  },
  {
   "cell_type": "code",
   "execution_count": null,
   "metadata": {
    "ExecuteTime": {
     "start_time": "2020-12-08T21:34:35.920Z"
    }
   },
   "outputs": [],
   "source": [
    "plt.plot(F_e[2,0,:].cpu().detach().numpy())"
   ]
  },
  {
   "cell_type": "code",
   "execution_count": null,
   "metadata": {
    "ExecuteTime": {
     "start_time": "2020-12-08T21:34:35.921Z"
    }
   },
   "outputs": [],
   "source": [
    "plt.plot(m_u[4].cpu().detach().numpy())\n",
    "print()"
   ]
  },
  {
   "cell_type": "code",
   "execution_count": null,
   "metadata": {
    "ExecuteTime": {
     "start_time": "2020-12-08T21:34:35.923Z"
    }
   },
   "outputs": [],
   "source": [
    "plt.plot(test_pred.cpu().detach().numpy())"
   ]
  },
  {
   "cell_type": "code",
   "execution_count": null,
   "metadata": {},
   "outputs": [],
   "source": []
  },
  {
   "cell_type": "code",
   "execution_count": null,
   "metadata": {},
   "outputs": [],
   "source": []
  }
 ],
 "metadata": {
  "kernelspec": {
   "display_name": "Python 3",
   "language": "python",
   "name": "python3"
  },
  "language_info": {
   "codemirror_mode": {
    "name": "ipython",
    "version": 3
   },
   "file_extension": ".py",
   "mimetype": "text/x-python",
   "name": "python",
   "nbconvert_exporter": "python",
   "pygments_lexer": "ipython3",
   "version": "3.8.3"
  }
 },
 "nbformat": 4,
 "nbformat_minor": 4
}
