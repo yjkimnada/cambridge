{
 "cells": [
  {
   "cell_type": "code",
   "execution_count": 1,
   "metadata": {
    "ExecuteTime": {
     "end_time": "2020-12-09T16:51:43.140331Z",
     "start_time": "2020-12-09T16:51:42.491456Z"
    }
   },
   "outputs": [],
   "source": [
    "import numpy as np\n",
    "import torch\n",
    "import torch.nn as nn\n",
    "import matplotlib.pyplot as plt\n",
    "from tqdm import tnrange\n",
    "import torch.optim as optim\n",
    "import torch.nn.functional as F\n",
    "from GP_hGLM import GP_hGLM\n",
    "from sklearn import metrics\n"
   ]
  },
  {
   "cell_type": "code",
   "execution_count": null,
   "metadata": {},
   "outputs": [],
   "source": []
  },
  {
   "cell_type": "code",
   "execution_count": null,
   "metadata": {},
   "outputs": [],
   "source": []
  },
  {
   "cell_type": "markdown",
   "metadata": {},
   "source": [
    "# Hyperparams"
   ]
  },
  {
   "cell_type": "code",
   "execution_count": 2,
   "metadata": {
    "ExecuteTime": {
     "end_time": "2020-12-09T16:27:57.439669Z",
     "start_time": "2020-12-09T16:27:57.436633Z"
    }
   },
   "outputs": [],
   "source": [
    "train_T = 65000\n",
    "test_T = 15000\n",
    "N = 200\n",
    "M = 10\n",
    "R=1\n",
    "batch_size = 1500\n",
    "\n",
    "C_den = torch.zeros(5,5)\n",
    "C_den[0,1:] = 1\n",
    "\n",
    "sub_no = C_den.shape[0]"
   ]
  },
  {
   "cell_type": "code",
   "execution_count": 3,
   "metadata": {
    "ExecuteTime": {
     "end_time": "2020-12-09T16:27:57.450491Z",
     "start_time": "2020-12-09T16:27:57.440795Z"
    }
   },
   "outputs": [],
   "source": [
    "Ensyn = torch.tensor([0, 106, 213, 211, 99])\n",
    "Insyn = torch.tensor([1, 22, 36, 42, 19])\n",
    "\n",
    "E_no = torch.sum(Ensyn)\n",
    "I_no = torch.sum(Insyn)\n",
    "\n",
    "C_syn_e = torch.zeros(sub_no, E_no)\n",
    "C_syn_i = torch.zeros(sub_no, I_no)\n",
    "\n",
    "E_count = 0\n",
    "for s in range(sub_no):\n",
    "    C_syn_e[s,E_count:E_count+Ensyn[s]] = 1\n",
    "    E_count += Ensyn[s]\n",
    "\n",
    "I_count = 0\n",
    "for s in range(sub_no):\n",
    "    C_syn_i[s,I_count:I_count+Insyn[s]] = 1\n",
    "    I_count += Insyn[s]"
   ]
  },
  {
   "cell_type": "markdown",
   "metadata": {},
   "source": [
    "# Train"
   ]
  },
  {
   "cell_type": "code",
   "execution_count": 4,
   "metadata": {
    "ExecuteTime": {
     "end_time": "2020-12-09T16:27:59.654397Z",
     "start_time": "2020-12-09T16:27:57.451670Z"
    }
   },
   "outputs": [],
   "source": [
    "model = GP_hGLM(C_den.cuda(), sub_no, N, M, R).double().cuda()\n",
    "\n",
    "V_ref = np.load(\"/media/hdd01/sklee/L23_inputs/vdata_NMDA_ApN0.5_13_Adend_r0_o2_i2_g_b4.npy\").flatten()\n",
    "\n",
    "train_V_ref = V_ref[:train_T]\n",
    "test_V_ref = V_ref[train_T:train_T+test_T]\n",
    "test_V_ref = torch.from_numpy(test_V_ref).cuda()\n",
    "train_V_ref = torch.from_numpy(train_V_ref)"
   ]
  },
  {
   "cell_type": "code",
   "execution_count": 5,
   "metadata": {
    "ExecuteTime": {
     "end_time": "2020-12-09T16:27:59.757378Z",
     "start_time": "2020-12-09T16:27:59.655436Z"
    }
   },
   "outputs": [],
   "source": [
    "raw_E_neural = np.load(\"/media/hdd01/sklee/L23_inputs/Espikes_NMDA_ApN0.5_13_Adend_r0_o2_i2_g_b4_neural.npy\")\n",
    "raw_I_neural = np.load(\"/media/hdd01/sklee/L23_inputs/Ispikes_NMDA_ApN0.5_13_Adend_r0_o2_i2_g_b4_neural.npy\")\n",
    "\n",
    "E_neural = torch.matmul(torch.from_numpy(raw_E_neural).double(), C_syn_e.T.double())\n",
    "I_neural = torch.matmul(torch.from_numpy(raw_I_neural).double(), C_syn_i.T.double())\n",
    "\n",
    "train_S_E = E_neural[:train_T]\n",
    "train_S_I = I_neural[:train_T]\n",
    "test_S_E = E_neural[train_T:train_T+test_T].double().cuda()\n",
    "test_S_I = I_neural[train_T:train_T+test_T].double().cuda()"
   ]
  },
  {
   "cell_type": "code",
   "execution_count": 6,
   "metadata": {
    "ExecuteTime": {
     "end_time": "2020-12-09T16:27:59.763263Z",
     "start_time": "2020-12-09T16:27:59.758334Z"
    }
   },
   "outputs": [],
   "source": [
    "repeat_no = 1\n",
    "batch_no = (train_V_ref.shape[0] - batch_size) * repeat_no\n",
    "train_idx = np.empty((repeat_no, train_V_ref.shape[0] - batch_size))\n",
    "for i in range(repeat_no):\n",
    "    part_idx = np.arange(train_V_ref.shape[0] - batch_size)\n",
    "    np.random.shuffle(part_idx)\n",
    "    train_idx[i] = part_idx\n",
    "train_idx = train_idx.flatten()\n",
    "train_idx = torch.from_numpy(train_idx)"
   ]
  },
  {
   "cell_type": "code",
   "execution_count": 7,
   "metadata": {
    "ExecuteTime": {
     "end_time": "2020-12-09T16:27:59.771670Z",
     "start_time": "2020-12-09T16:27:59.764382Z"
    }
   },
   "outputs": [
    {
     "name": "stdout",
     "output_type": "stream",
     "text": [
      "801\n"
     ]
    }
   ],
   "source": [
    "#optimizer = optim.SGD(model.parameters(), lr=0.0001, momentum=0.9)\n",
    "optimizer = optim.Adam(model.parameters(), lr=0.002)\n",
    "print(sum(p.numel() for p in model.parameters() if p.requires_grad))\n",
    "scheduler = optim.lr_scheduler.StepLR(optimizer, step_size=5000, gamma=0.5)"
   ]
  },
  {
   "cell_type": "code",
   "execution_count": 8,
   "metadata": {
    "ExecuteTime": {
     "end_time": "2020-12-09T16:28:03.517640Z",
     "start_time": "2020-12-09T16:27:59.772680Z"
    },
    "scrolled": true
   },
   "outputs": [
    {
     "name": "stderr",
     "output_type": "stream",
     "text": [
      "<ipython-input-8-20d422589f1a>:3: TqdmDeprecationWarning: Please use `tqdm.notebook.trange` instead of `tqdm.tnrange`\n",
      "  for i in tnrange(batch_no):\n"
     ]
    },
    {
     "data": {
      "application/vnd.jupyter.widget-view+json": {
       "model_id": "c0903f929a584fc4a5c3ca6ad5f253a8",
       "version_major": 2,
       "version_minor": 0
      },
      "text/plain": [
       "HBox(children=(FloatProgress(value=0.0, max=63500.0), HTML(value='')))"
      ]
     },
     "metadata": {},
     "output_type": "display_data"
    },
    {
     "name": "stdout",
     "output_type": "stream",
     "text": [
      "0 24.55654155800823 216903.703125 0.0 -65.70870971679688 2.1475515365600586\n",
      "124.78349304199219\n",
      "0.0005000000237487257\n",
      "TEST 0 40.311365858748296 0.00013428082982858136 0.0\n",
      "1 31.782675434364574 2570.96875 6.8107154855897445 -63.485015869140625 2.141152858734131\n",
      "124.82308197021484\n",
      "0.0008750000270083547\n",
      "2 29.84699558181422 -1350997.875 -51.99808700833903 -64.7318344116211 2.134291172027588\n",
      "124.87257385253906\n",
      "0.0007656250381842256\n",
      "3 34.63971823679795 398793.625 5.709601078839164 nan 2.1435787677764893\n",
      "124.92440032958984\n",
      "0.000937500037252903\n",
      "4 25.135303683296012 -126535.171875 0.3090400582818531 -62.98835372924805 2.1482110023498535\n",
      "124.91181945800781\n",
      "0.0009765625\n",
      "5 34.47315592667721 158894.9375 97.17697815122756 nan 2.1524808406829834\n",
      "124.89532470703125\n",
      "0.000750000006519258\n",
      "6 28.692784843115717 133738.6875 21.85117793013163 nan 2.1552274227142334\n",
      "124.8956069946289\n",
      "0.000937500037252903\n",
      "7 41.907388605077905 -283589.9375 -22.648757652215743 nan 2.155406951904297\n",
      "124.89986419677734\n",
      "0.0009531250689178705\n",
      "8 28.629393701363384 4739831.0 217.4041593257239 nan 2.1584174633026123\n",
      "124.90733337402344\n",
      "0.0012500000884756446\n",
      "9 31.90747835651594 249556.84375 44.262645866360806 -65.02838134765625 2.152895927429199\n",
      "124.91809844970703\n",
      "0.000937500037252903\n",
      "10 45.27230460456059 492539.4375 -79.19284453374698 nan 2.146796941757202\n",
      "124.91153717041016\n",
      "0.0008750000270083547\n",
      "11 28.064978203655127 330290.3125 38.587444846115226 nan 2.1398768424987793\n",
      "124.93360137939453\n",
      "-0.006000000052154064\n",
      "12 29.217818396434186 -62180100.0 -4218.121956991022 nan 2.133296251296997\n",
      "124.96493530273438\n",
      "0.002875000238418579\n",
      "13 42.0373091543284 5232.380859375 -4.212647147796268 nan 2.138291358947754\n",
      "124.96234893798828\n",
      "0.000562500033993274\n",
      "14 42.176146334677654 -310331.0625 26.87526183880008 -63.69549560546875 2.1427512168884277\n",
      "124.95805358886719\n",
      "0.000562500033993274\n",
      "15 23.19333589650001 -180166.515625 -30.213764824796208 nan 2.1465811729431152\n",
      "124.96985626220703\n",
      "0.0008750000270083547\n",
      "16 29.62327621750353 739579.25 368.327898369875 nan 2.1506688594818115\n",
      "124.9824447631836\n",
      "0.00031250002211891115\n",
      "17 45.424074909319195 139473.4375 152.49038051130648 -66.56383514404297 2.1532528400421143\n",
      "124.9892807006836\n",
      "0.0006875000544823706\n",
      "18 39.10512701470024 531345.1875 66.98631058936388 nan 2.1551010608673096\n",
      "125.0049057006836\n",
      "0.0007187500596046448\n",
      "19 21.15771746035623 1196106.875 103.42013647251653 -63.569725036621094 2.1551342010498047\n",
      "125.01192474365234\n",
      "-0.00800000037997961\n",
      "20 34.842689296969844 -155495.5 -26.477483862756984 nan 2.153566837310791\n",
      "125.00823974609375\n",
      "0.0005000000237487257\n",
      "21 25.617256286139295 44187.953125 110.17226426106738 -65.49617767333984 2.1524710655212402\n",
      "125.00672912597656\n",
      "0.0006562500493600965\n",
      "22 40.87383043935169 813683.25 2.0216416622274096 nan 2.1515989303588867\n",
      "125.00603485107422\n",
      "0.0006250000442378223\n",
      "23 23.33450450088738 103158784.0 26845.171175302676 -63.728126525878906 2.1493101119995117\n",
      "125.00337982177734\n",
      "0.013500000350177288\n",
      "24 32.921655551327895 -12405.814453125 -18.3022471174662 nan 2.142185688018799\n",
      "124.9966812133789\n",
      "0.0006562500493600965\n",
      "25 27.983027228971114 3352614.5 1246.0078138457934 nan 2.1357250213623047\n",
      "124.9886245727539\n",
      "0.0006875000544823706\n",
      "26 41.895737649720786 1134889.125 82.12676482151068 nan 2.129459857940674\n",
      "124.9784927368164\n",
      "0.0008750000270083547\n",
      "27 24.522389808895493 458833.8125 70.8919397896116 nan 2.1234374046325684\n",
      "124.97187805175781\n",
      "0.0006875000544823706\n",
      "\n"
     ]
    },
    {
     "ename": "KeyboardInterrupt",
     "evalue": "",
     "output_type": "error",
     "traceback": [
      "\u001b[0;31m---------------------------------------------------------------------------\u001b[0m",
      "\u001b[0;31mKeyboardInterrupt\u001b[0m                         Traceback (most recent call last)",
      "\u001b[0;32m<ipython-input-8-20d422589f1a>\u001b[0m in \u001b[0;36m<module>\u001b[0;34m\u001b[0m\n\u001b[1;32m     19\u001b[0m         \u001b[0mtrace\u001b[0m \u001b[0;34m=\u001b[0m \u001b[0mtorch\u001b[0m\u001b[0;34m.\u001b[0m\u001b[0mtrace\u001b[0m\u001b[0;34m(\u001b[0m\u001b[0mtorch\u001b[0m\u001b[0;34m.\u001b[0m\u001b[0mmatmul\u001b[0m\u001b[0;34m(\u001b[0m\u001b[0mK_u_inv\u001b[0m\u001b[0;34m[\u001b[0m\u001b[0ms\u001b[0m\u001b[0;34m]\u001b[0m\u001b[0;34m,\u001b[0m \u001b[0mS_u\u001b[0m\u001b[0;34m[\u001b[0m\u001b[0ms\u001b[0m\u001b[0;34m]\u001b[0m\u001b[0;34m)\u001b[0m\u001b[0;34m)\u001b[0m\u001b[0;34m\u001b[0m\u001b[0;34m\u001b[0m\u001b[0m\n\u001b[1;32m     20\u001b[0m         \u001b[0mmKm\u001b[0m \u001b[0;34m=\u001b[0m \u001b[0mtorch\u001b[0m\u001b[0;34m.\u001b[0m\u001b[0mmatmul\u001b[0m\u001b[0;34m(\u001b[0m\u001b[0mm_u\u001b[0m\u001b[0;34m[\u001b[0m\u001b[0ms\u001b[0m\u001b[0;34m]\u001b[0m\u001b[0;34m.\u001b[0m\u001b[0mdouble\u001b[0m\u001b[0;34m(\u001b[0m\u001b[0;34m)\u001b[0m \u001b[0;34m,\u001b[0m \u001b[0mtorch\u001b[0m\u001b[0;34m.\u001b[0m\u001b[0mmatmul\u001b[0m\u001b[0;34m(\u001b[0m\u001b[0mK_u_inv\u001b[0m\u001b[0;34m[\u001b[0m\u001b[0ms\u001b[0m\u001b[0;34m]\u001b[0m\u001b[0;34m.\u001b[0m\u001b[0mdouble\u001b[0m\u001b[0;34m(\u001b[0m\u001b[0;34m)\u001b[0m\u001b[0;34m,\u001b[0m \u001b[0mm_u\u001b[0m\u001b[0;34m[\u001b[0m\u001b[0ms\u001b[0m\u001b[0;34m]\u001b[0m\u001b[0;34m.\u001b[0m\u001b[0mdouble\u001b[0m\u001b[0;34m(\u001b[0m\u001b[0;34m)\u001b[0m\u001b[0;34m)\u001b[0m\u001b[0;34m.\u001b[0m\u001b[0mdouble\u001b[0m\u001b[0;34m(\u001b[0m\u001b[0;34m)\u001b[0m\u001b[0;34m)\u001b[0m\u001b[0;34m\u001b[0m\u001b[0;34m\u001b[0m\u001b[0m\n\u001b[0;32m---> 21\u001b[0;31m         \u001b[0mln_det\u001b[0m \u001b[0;34m=\u001b[0m \u001b[0mtorch\u001b[0m\u001b[0;34m.\u001b[0m\u001b[0mlogdet\u001b[0m\u001b[0;34m(\u001b[0m\u001b[0mK_u\u001b[0m\u001b[0;34m[\u001b[0m\u001b[0ms\u001b[0m\u001b[0;34m]\u001b[0m\u001b[0;34m)\u001b[0m \u001b[0;34m-\u001b[0m \u001b[0mtorch\u001b[0m\u001b[0;34m.\u001b[0m\u001b[0mlogdet\u001b[0m\u001b[0;34m(\u001b[0m\u001b[0mS_u\u001b[0m\u001b[0;34m[\u001b[0m\u001b[0ms\u001b[0m\u001b[0;34m]\u001b[0m\u001b[0;34m)\u001b[0m\u001b[0;34m\u001b[0m\u001b[0;34m\u001b[0m\u001b[0m\n\u001b[0m\u001b[1;32m     22\u001b[0m         \u001b[0mkl_loss\u001b[0m \u001b[0;34m+=\u001b[0m \u001b[0;36m0.5\u001b[0m\u001b[0;34m*\u001b[0m\u001b[0;34m(\u001b[0m\u001b[0mtrace\u001b[0m \u001b[0;34m+\u001b[0m \u001b[0mmKm\u001b[0m \u001b[0;34m+\u001b[0m \u001b[0mln_det\u001b[0m \u001b[0;34m-\u001b[0m \u001b[0mm_u\u001b[0m\u001b[0;34m.\u001b[0m\u001b[0mshape\u001b[0m\u001b[0;34m[\u001b[0m\u001b[0;36m1\u001b[0m\u001b[0;34m]\u001b[0m\u001b[0;34m)\u001b[0m\u001b[0;34m\u001b[0m\u001b[0;34m\u001b[0m\u001b[0m\n\u001b[1;32m     23\u001b[0m \u001b[0;34m\u001b[0m\u001b[0m\n",
      "\u001b[0;31mKeyboardInterrupt\u001b[0m: "
     ]
    }
   ],
   "source": [
    "loss_array = np.empty((batch_no//100, 2))\n",
    "\n",
    "for i in tnrange(batch_no):\n",
    "    model.train()\n",
    "    optimizer.zero_grad()\n",
    "    batch_idx = train_idx[i].long()\n",
    "    batch_S_E = train_S_E[batch_idx : batch_idx+batch_size].double().cuda()\n",
    "    batch_S_I = train_S_I[batch_idx : batch_idx+batch_size].double().cuda()\n",
    "    batch_pred, m_u, S_u, K_u, K_u_inv, F_e, F_i, u = model(batch_S_E, batch_S_I)\n",
    "    batch_ref = train_V_ref[batch_idx:batch_idx+batch_size].cuda()\n",
    "        \n",
    "    #diff = (batch_ref - batch_pred) ** 1\n",
    "    #var_loss = torch.var(diff)\n",
    "\n",
    "    #rec_loss = torch.mean((batch_pred - batch_ref) ** 2)\n",
    "    rec_loss = torch.var(batch_pred - batch_ref)\n",
    "    kl_loss = 0\n",
    "    for s in range(m_u.shape[0]):\n",
    "        trace = torch.trace(torch.matmul(K_u_inv[s], S_u[s]))\n",
    "        mKm = torch.matmul(m_u[s].double() , torch.matmul(K_u_inv[s].double(), m_u[s].double()).double())\n",
    "        ln_det = torch.logdet(K_u[s]) - torch.logdet(S_u[s])\n",
    "        kl_loss += 0.5*(trace + mKm + ln_det - m_u.shape[1])\n",
    "        \n",
    "    loss = rec_loss + kl_loss\n",
    "    print(i, rec_loss.item(), trace.item(), mKm.item(), torch.logdet(K_u[s]).item(), torch.logdet(S_u[s]).item())\n",
    "    print(torch.mean(K_u).item())\n",
    "    print(torch.mean(K_u_inv).item())\n",
    "\n",
    "    loss.backward()\n",
    "    optimizer.step()\n",
    "    scheduler.step()\n",
    "    \n",
    "    if i%50 == 0:\n",
    "        model.eval()\n",
    "        test_pred, test_m_u, test_S_u, test_K_u, test_K_u_inv, F_e, F_i, test_u = model(test_S_E, test_S_I)\n",
    "        test_loss = torch.var(test_pred - test_V_ref)\n",
    "\n",
    "        test_score = metrics.explained_variance_score(y_true=test_V_ref.cpu().detach().numpy(),\n",
    "                                                      y_pred=test_pred.cpu().detach().numpy(),\n",
    "                                                      multioutput='uniform_average')\n",
    "        train_score = metrics.explained_variance_score(y_true=batch_ref.cpu().detach().numpy(),\n",
    "                                                      y_pred=batch_pred.cpu().detach().numpy(),\n",
    "                                                      multioutput='uniform_average')\n",
    "        print(\"TEST\", i, test_loss.item(), test_score.item(), train_score.item())\n",
    "        #print(torch.mean(test_spikes, 0).cpu().detach().numpy())\n",
    "        #print(torch.mean(spike_probs, 0).cpu().detach().numpy())\n",
    "        #if i%100 == 0:\n",
    "            #torch.save(model.state_dict(), \"/media/hdd01/sklee/cont_shglm/baseGLM_CA1_sub6_i\"+str(i)+\".pt\")\n",
    "            #loss_array[i//100,0] = i\n",
    "            #loss_array[i//100,1] = test_score\n",
    "            #np.save(\"/media/hdd01/sklee/cont_shglm/baseGLM_CA1_sub6_test_scores.npy\", loss_array)\n"
   ]
  },
  {
   "cell_type": "code",
   "execution_count": 9,
   "metadata": {
    "ExecuteTime": {
     "end_time": "2020-12-09T16:28:12.420721Z",
     "start_time": "2020-12-09T16:28:12.407031Z"
    },
    "scrolled": false
   },
   "outputs": [
    {
     "name": "stdout",
     "output_type": "stream",
     "text": [
      "tensor(1257.3439, device='cuda:0', grad_fn=<SubBackward0>)\n",
      "tensor(907499.8750, device='cuda:0', grad_fn=<SubBackward0>)\n"
     ]
    }
   ],
   "source": [
    "print(torch.eig(K_u[0])[0][0,0] - torch.eig(K_u[0])[0][-1,0])\n",
    "print(torch.eig(K_u_inv[0])[0][0,0] - torch.eig(K_u_inv[0])[0][-1,0])"
   ]
  },
  {
   "cell_type": "code",
   "execution_count": null,
   "metadata": {
    "ExecuteTime": {
     "end_time": "2020-12-09T16:28:03.519221Z",
     "start_time": "2020-12-09T16:27:56.683Z"
    }
   },
   "outputs": [],
   "source": [
    "plt.plot(F_e[2,0,:].cpu().detach().numpy())"
   ]
  },
  {
   "cell_type": "code",
   "execution_count": null,
   "metadata": {
    "ExecuteTime": {
     "end_time": "2020-12-09T16:28:03.519782Z",
     "start_time": "2020-12-09T16:27:56.684Z"
    }
   },
   "outputs": [],
   "source": [
    "plt.plot(m_u[4].cpu().detach().numpy())\n",
    "print()"
   ]
  },
  {
   "cell_type": "code",
   "execution_count": null,
   "metadata": {
    "ExecuteTime": {
     "end_time": "2020-12-09T16:28:03.520417Z",
     "start_time": "2020-12-09T16:27:56.685Z"
    }
   },
   "outputs": [],
   "source": [
    "plt.plot(test_pred.cpu().detach().numpy())"
   ]
  },
  {
   "cell_type": "code",
   "execution_count": null,
   "metadata": {},
   "outputs": [],
   "source": []
  },
  {
   "cell_type": "code",
   "execution_count": null,
   "metadata": {},
   "outputs": [],
   "source": []
  }
 ],
 "metadata": {
  "kernelspec": {
   "display_name": "Python 3",
   "language": "python",
   "name": "python3"
  },
  "language_info": {
   "codemirror_mode": {
    "name": "ipython",
    "version": 3
   },
   "file_extension": ".py",
   "mimetype": "text/x-python",
   "name": "python",
   "nbconvert_exporter": "python",
   "pygments_lexer": "ipython3",
   "version": "3.8.3"
  }
 },
 "nbformat": 4,
 "nbformat_minor": 4
}
