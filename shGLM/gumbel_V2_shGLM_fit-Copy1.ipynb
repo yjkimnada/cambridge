{
 "cells": [
  {
   "cell_type": "code",
   "execution_count": 1,
   "metadata": {
    "ExecuteTime": {
     "end_time": "2020-11-21T21:22:28.928173Z",
     "start_time": "2020-11-21T21:22:28.301792Z"
    }
   },
   "outputs": [],
   "source": [
    "import numpy as np\n",
    "import torch\n",
    "import torch.nn as nn\n",
    "import matplotlib.pyplot as plt\n",
    "from tqdm import tnrange\n",
    "import torch.optim as optim\n",
    "import torch.nn.functional as F\n",
    "from step_shGLM_v3 import step_shGLM\n",
    "from sklearn import metrics\n",
    "import torch.distributions as dist"
   ]
  },
  {
   "cell_type": "markdown",
   "metadata": {
    "ExecuteTime": {
     "end_time": "2020-11-07T05:28:12.372372Z",
     "start_time": "2020-11-07T05:28:12.368983Z"
    }
   },
   "source": [
    "# Hyperparams"
   ]
  },
  {
   "cell_type": "code",
   "execution_count": 2,
   "metadata": {
    "ExecuteTime": {
     "end_time": "2020-11-21T21:22:28.932463Z",
     "start_time": "2020-11-21T21:22:28.929346Z"
    }
   },
   "outputs": [],
   "source": [
    "train_T = 20000\n",
    "test_T = 8000\n",
    "T_syn = 250\n",
    "T_hist = 250\n",
    "C_den = torch.zeros(5,5)\n",
    "C_den[0,1:] = 1\n",
    "sub_no = C_den.shape[0]\n",
    "\n",
    "batch_size = 1500\n",
    "\n",
    "syn_basis_no = 2\n",
    "hist_basis_no = 2\n",
    "prop_basis_no = 2\n"
   ]
  },
  {
   "cell_type": "code",
   "execution_count": 3,
   "metadata": {
    "ExecuteTime": {
     "end_time": "2020-11-21T21:22:28.956575Z",
     "start_time": "2020-11-21T21:22:28.934731Z"
    }
   },
   "outputs": [],
   "source": [
    "Ensyn = torch.tensor([0, 106, 213, 211, 99])\n",
    "Insyn = torch.tensor([1, 22, 36, 42, 19])\n",
    "E_no = torch.sum(Ensyn)\n",
    "I_no = torch.sum(Insyn)\n",
    "\n",
    "C_syn_e = torch.zeros(sub_no, E_no)\n",
    "C_syn_i = torch.zeros(sub_no, I_no)\n",
    "\n",
    "E_count = 0\n",
    "for s in range(sub_no):\n",
    "    C_syn_e[s,E_count:E_count+Ensyn[s]] = 1\n",
    "    E_count += Ensyn[s]\n",
    "\n",
    "I_count = 0\n",
    "for s in range(sub_no):\n",
    "    C_syn_i[s,I_count:I_count+Insyn[s]] = 1\n",
    "    I_count += Insyn[s]"
   ]
  },
  {
   "cell_type": "markdown",
   "metadata": {},
   "source": [
    "# Train Params"
   ]
  },
  {
   "cell_type": "code",
   "execution_count": 4,
   "metadata": {
    "ExecuteTime": {
     "end_time": "2020-11-21T21:22:31.164229Z",
     "start_time": "2020-11-21T21:22:28.958084Z"
    }
   },
   "outputs": [
    {
     "name": "stdout",
     "output_type": "stream",
     "text": [
      "torch.Size([8000])\n"
     ]
    }
   ],
   "source": [
    "model = step_shGLM(C_den.cuda(), C_syn_e.cuda(), C_syn_i.cuda(), T_syn, syn_basis_no,\n",
    "                T_hist, hist_basis_no, prop_basis_no)\n",
    "#model.load_state_dict(torch.load(\"/media/hdd01/sklee/cont_shglm/gumbelv2_sub5_s2_h2_shglm_i5000.pt\"))\n",
    "model = model.float().cuda()\n",
    "\n",
    "V_ref = np.load(\"/media/hdd01/sklee/cont_shglm/L23_inputs/vdata_NMDA_ApN0.5_13_Adend_r0_o2_i2_g_b5.npy\").flatten()[:48000]\n",
    "\n",
    "train_V_ref = V_ref[:train_T]\n",
    "test_V_ref = V_ref[train_T:train_T+test_T]\n",
    "\n",
    "test_V_ref = torch.from_numpy(test_V_ref).cuda()\n",
    "train_V_ref = torch.from_numpy(train_V_ref)\n",
    "print(test_V_ref.shape)"
   ]
  },
  {
   "cell_type": "code",
   "execution_count": 5,
   "metadata": {
    "ExecuteTime": {
     "end_time": "2020-11-21T21:22:31.472115Z",
     "start_time": "2020-11-21T21:22:31.165289Z"
    }
   },
   "outputs": [],
   "source": [
    "good_list = []\n",
    "part_diff = np.diff(train_V_ref)\n",
    "for i in range(train_V_ref.shape[0] - 1):\n",
    "    if train_V_ref[i+1] >= -50:\n",
    "        if part_diff[i] > 0:\n",
    "            good_list.append(i+1)\n",
    "\n",
    "select_idx = [good_list[0]]\n",
    "meta_diff = np.diff(np.asarray(good_list))\n",
    "for i in range(meta_diff.shape[0]):\n",
    "    if meta_diff[i] > 1:\n",
    "        if np.sum(meta_diff[i-3:i]) == 3:\n",
    "            select_idx.append(good_list[i+1])\n",
    "select_idx.append(good_list[-1])\n",
    "select_idx = np.asarray(select_idx)\n",
    "\n",
    "train_spikes_ref = torch.zeros((train_V_ref.shape[0]))\n",
    "train_spikes_ref[select_idx] = 1"
   ]
  },
  {
   "cell_type": "code",
   "execution_count": 6,
   "metadata": {
    "ExecuteTime": {
     "end_time": "2020-11-21T21:22:31.540206Z",
     "start_time": "2020-11-21T21:22:31.473587Z"
    }
   },
   "outputs": [],
   "source": [
    "E_neural = np.load(\"/media/hdd01/sklee/cont_shglm/L23_inputs/Espikes_NMDA_ApN0.5_13_Adend_r0_o2_i2_g_b5_neural.npy\")\n",
    "I_neural = np.load(\"/media/hdd01/sklee/cont_shglm/L23_inputs/Ispikes_NMDA_ApN0.5_13_Adend_r0_o2_i2_g_b5_neural.npy\")\n",
    "\n",
    "train_S_E = E_neural[:train_T]\n",
    "train_S_I = I_neural[:train_T]\n",
    "test_S_E = E_neural[train_T:train_T+test_T]\n",
    "test_S_I = I_neural[train_T:train_T+test_T]\n",
    "\n",
    "train_S_E = torch.from_numpy(train_S_E)\n",
    "train_S_I = torch.from_numpy(train_S_I)\n",
    "test_S_E = torch.from_numpy(test_S_E).float().cuda()\n",
    "test_S_I = torch.from_numpy(test_S_I).float().cuda()"
   ]
  },
  {
   "cell_type": "code",
   "execution_count": 7,
   "metadata": {
    "ExecuteTime": {
     "end_time": "2020-11-21T21:22:31.548981Z",
     "start_time": "2020-11-21T21:22:31.541734Z"
    }
   },
   "outputs": [
    {
     "name": "stdout",
     "output_type": "stream",
     "text": [
      "37000\n",
      "37000\n"
     ]
    }
   ],
   "source": [
    "repeat_no = 2\n",
    "batch_no = (train_V_ref.shape[0] - batch_size) * repeat_no\n",
    "train_idx = np.empty((repeat_no, train_V_ref.shape[0] - batch_size))\n",
    "for i in range(repeat_no):\n",
    "    part_idx = np.arange(train_V_ref.shape[0] - batch_size)\n",
    "    np.random.shuffle(part_idx)\n",
    "    train_idx[i] = part_idx\n",
    "train_idx = train_idx.flatten()\n",
    "train_idx = torch.from_numpy(train_idx)\n",
    "\n",
    "print(batch_no)\n",
    "print(train_idx.shape[0])"
   ]
  },
  {
   "cell_type": "code",
   "execution_count": 8,
   "metadata": {
    "ExecuteTime": {
     "end_time": "2020-11-21T21:22:31.555483Z",
     "start_time": "2020-11-21T21:22:31.549859Z"
    }
   },
   "outputs": [
    {
     "name": "stdout",
     "output_type": "stream",
     "text": [
      "111\n"
     ]
    }
   ],
   "source": [
    "#optimizer = optim.Adam(model.parameters(), lr=0.00001)\n",
    "optimizer = optim.Adam(model.parameters(), lr=0.004)\n",
    "print(sum(p.numel() for p in model.parameters() if p.requires_grad))\n",
    "scheduler = optim.lr_scheduler.StepLR(optimizer, step_size=3000, gamma=0.5)\n"
   ]
  },
  {
   "cell_type": "code",
   "execution_count": null,
   "metadata": {
    "ExecuteTime": {
     "start_time": "2020-11-21T21:22:30.070Z"
    },
    "scrolled": false
   },
   "outputs": [
    {
     "name": "stderr",
     "output_type": "stream",
     "text": [
      "<ipython-input-9-15e28c11f3d9>:4: TqdmDeprecationWarning: Please use `tqdm.notebook.trange` instead of `tqdm.tnrange`\n",
      "  for i in tnrange(batch_no):\n"
     ]
    },
    {
     "data": {
      "application/vnd.jupyter.widget-view+json": {
       "model_id": "2705b8b8eab24624a99e33fb8303094e",
       "version_major": 2,
       "version_minor": 0
      },
      "text/plain": [
       "HBox(children=(FloatProgress(value=0.0, max=10000.0), HTML(value='')))"
      ]
     },
     "metadata": {},
     "output_type": "display_data"
    },
    {
     "name": "stdout",
     "output_type": "stream",
     "text": [
      "TEST 0 67.230029580053 0.00035766090741640166 0.0002584258381080895\n",
      "0.99987507\n",
      "TEST 50 66.32927341260596 0.013750991340423901 0.010982875463330433\n",
      "1.0\n"
     ]
    }
   ],
   "source": [
    "batch_no = 10000\n",
    "loss_array = np.empty((batch_no//100, 2))\n",
    "\n",
    "for i in tnrange(batch_no):\n",
    "    model.train()\n",
    "    optimizer.zero_grad()\n",
    "    batch_idx = train_idx[i].long()\n",
    "    batch_S_E = train_S_E[batch_idx : batch_idx+batch_size].float().cuda()\n",
    "    batch_S_I = train_S_I[batch_idx : batch_idx+batch_size].float().cuda()\n",
    "    batch_pred, batch_raw, batch_spikes = model(batch_S_E, batch_S_I)\n",
    "    batch_ref = train_V_ref[batch_idx:batch_idx+batch_size].cuda()\n",
    "    batch_spikes_ref = train_spikes_ref[batch_idx : batch_idx+batch_size].float().cuda()\n",
    "        \n",
    "    diff = (batch_ref - batch_pred) ** 1\n",
    "    var_loss = torch.var(diff)\n",
    "    #spike_loss = torch.mean((batch_spikes - batch_spikes_ref) ** 2)\n",
    "    #spike_loss = (torch.sum(batch_spikes) - torch.sum(batch_spikes_ref))**2\n",
    "    \n",
    "    loss = var_loss\n",
    "    #print(i, var_loss.item(), torch.mean(batch_spikes).item())\n",
    "\n",
    "        \n",
    "    loss.backward()\n",
    "    optimizer.step()\n",
    "    scheduler.step()\n",
    "    \n",
    "    if i%50 == 0:\n",
    "        model.eval()\n",
    "        test_pred, test_raw, test_spikes = model(test_S_E, test_S_I)\n",
    "        test_diff = (test_V_ref - test_pred) ** 1\n",
    "        test_loss = torch.var(test_diff)\n",
    "        \n",
    "        test_score = metrics.explained_variance_score(y_true=test_V_ref.cpu().detach().numpy(),\n",
    "                                                      y_pred=test_pred.cpu().detach().numpy(),\n",
    "                                                      multioutput='uniform_average')\n",
    "        train_score = metrics.explained_variance_score(y_true=batch_ref.cpu().detach().numpy(),\n",
    "                                                      y_pred=batch_pred.cpu().detach().numpy(),\n",
    "                                                      multioutput='uniform_average')\n",
    "        print(\"TEST\", i, test_loss.item(), test_score.item(), train_score.item())\n",
    "        print(torch.mean(test_spikes, 0).cpu().detach().numpy())\n",
    "        #print(torch.mean(spike_probs, 0).cpu().detach().numpy())\n",
    "        if i%100 == 0:\n",
    "            torch.save(model.state_dict(), \"/media/hdd01/sklee/cont_shglm/burst_L23_NS_finalspike_noconstraint_i\"+str(i)+\".pt\")\n",
    "            loss_array[i//100,0] = i\n",
    "            loss_array[i//100,1] = test_score\n",
    "            np.save(\"/media/hdd01/sklee/cont_shglm/burst_L23_NS_finalspike_noconstraint_test_scores.npy\", loss_array)\n"
   ]
  },
  {
   "cell_type": "markdown",
   "metadata": {
    "heading_collapsed": true
   },
   "source": [
    "# Test "
   ]
  },
  {
   "cell_type": "code",
   "execution_count": 10,
   "metadata": {
    "ExecuteTime": {
     "end_time": "2020-11-21T15:56:43.310632Z",
     "start_time": "2020-11-21T15:56:43.253616Z"
    },
    "hidden": true
   },
   "outputs": [],
   "source": [
    "model = step_shGLM(C_den.cuda(), C_syn_e.cuda(), C_syn_i.cuda(), T_syn, syn_basis_no,\n",
    "                T_hist, hist_basis_no, prop_basis_no)\n",
    "\n",
    "model.load_state_dict(torch.load(\"/media/hdd01/sklee/cont_shglm/burst_L23_stepSv2_sub5_s2_h2_shglm_i9900.pt\"))\n",
    "model = model.float().to(\"cuda\")\n",
    "\n",
    "V_ref = np.load(\"/media/hdd01/sklee/cont_shglm/L23_inputs/vdata_NMDA_ApN0.5_13_Adend_r0_o2_i2_g_b5.npy\").flatten()[:48000]\n",
    "V_ref = V_ref[:48000]\n",
    "\n",
    "test_V_ref = V_ref[train_T:train_T+test_T]\n"
   ]
  },
  {
   "cell_type": "code",
   "execution_count": 12,
   "metadata": {
    "ExecuteTime": {
     "end_time": "2020-11-21T15:57:17.266307Z",
     "start_time": "2020-11-21T15:57:08.960045Z"
    },
    "hidden": true
   },
   "outputs": [],
   "source": [
    "E_neural = np.load(\"/media/hdd01/sklee/cont_shglm/L23_inputs/Espikes_NMDA_ApN0.5_13_Adend_r0_o2_i2_g_b5_neural.npy\")\n",
    "I_neural = np.load(\"/media/hdd01/sklee/cont_shglm/L23_inputs/Ispikes_NMDA_ApN0.5_13_Adend_r0_o2_i2_g_b5_neural.npy\")\n",
    "\n",
    "\n",
    "test_S_E = E_neural[train_T:train_T+test_T]\n",
    "test_S_I = I_neural[train_T:train_T+test_T]\n",
    "\n",
    "test_S_E = torch.from_numpy(test_S_E).float().cuda()\n",
    "test_S_I = torch.from_numpy(test_S_I).float().cuda()\n",
    "\n",
    "test_V_final, raw, spikes = model(test_S_E, test_S_I)\n",
    "\n",
    "test_V_final = test_V_final.cpu().detach().numpy()\n",
    "raw = raw.cpu().detach().numpy()\n",
    "spikes = spikes.cpu().detach().numpy()\n",
    "#probs = probs.cpu().detach().numpy()"
   ]
  },
  {
   "cell_type": "code",
   "execution_count": 23,
   "metadata": {
    "ExecuteTime": {
     "end_time": "2020-11-21T15:59:31.511700Z",
     "start_time": "2020-11-21T15:59:31.229097Z"
    },
    "hidden": true
   },
   "outputs": [
    {
     "name": "stdout",
     "output_type": "stream",
     "text": [
      "0.8304099448164581\n"
     ]
    },
    {
     "data": {
      "image/png": "[encoded data removed]",
      "text/plain": [
       "<Figure size 1008x288 with 1 Axes>"
      ]
     },
     "metadata": {
      "needs_background": "light"
     },
     "output_type": "display_data"
    }
   ],
   "source": [
    "plt.figure(figsize = (14,4))\n",
    "plt.plot(test_V_ref[:2000], label=\"Biophysical\", c=\"blue\")\n",
    "plt.plot(test_V_final[:2000]-21, label=\"cont_shGLM\", c=\"red\")\n",
    "print(np.corrcoef(test_V_ref, test_V_final)[0][1])\n",
    "\n",
    "\n",
    "test_score = metrics.explained_variance_score(y_true=test_V_ref[:],\n",
    "                                                      y_pred=test_V_final[:],\n",
    "                                                      multioutput='uniform_average')\n",
    "\n",
    "plt.title(\"Final spiking subunit (exact constraint) \\n Variance Explained: \" + str(round(test_score, 5)), fontsize = 16)\n",
    "#plt.xticks(np.arange(0,8001,1000),[0,1,2,3,4,5,6,7,8])\n",
    "#plt.xticks(np.arange(0,4001,1000),[0,1,2,3,4])\n",
    "plt.xlabel(\"Time (s)\")\n",
    "plt.ylabel(\"Sub-Threshold Voltage (mV)\")\n",
    "plt.legend()\n",
    "#plt.show()\n",
    "\n",
    "\n",
    "plt.savefig(\"/media/hdd01/sklee/cont_shglm/final_spike_absconstraint.png\", dpi=150, bbox_inches='tight')#"
   ]
  },
  {
   "cell_type": "code",
   "execution_count": 15,
   "metadata": {
    "ExecuteTime": {
     "end_time": "2020-11-20T15:02:55.900689Z",
     "start_time": "2020-11-20T15:02:55.811058Z"
    },
    "hidden": true
   },
   "outputs": [
    {
     "data": {
      "text/plain": [
       "[<matplotlib.lines.Line2D at 0x7f4460265a60>]"
      ]
     },
     "execution_count": 15,
     "metadata": {},
     "output_type": "execute_result"
    },
    {
     "data": {
      "image/png": "[encoded data removed]",
      "text/plain": [
       "<Figure size 432x288 with 1 Axes>"
      ]
     },
     "metadata": {
      "needs_background": "light"
     },
     "output_type": "display_data"
    }
   ],
   "source": [
    "plt.plot(spikes[:500,1])\n",
    "#print(spikes)\n"
   ]
  },
  {
   "cell_type": "code",
   "execution_count": null,
   "metadata": {
    "hidden": true
   },
   "outputs": [],
   "source": []
  },
  {
   "cell_type": "code",
   "execution_count": 20,
   "metadata": {
    "ExecuteTime": {
     "end_time": "2020-11-16T21:21:06.644415Z",
     "start_time": "2020-11-16T21:21:06.635709Z"
    },
    "hidden": true
   },
   "outputs": [
    {
     "name": "stdout",
     "output_type": "stream",
     "text": [
      "(2, 8000)\n",
      "(4, 8000)\n",
      "(4, 8000)\n",
      "(4, 8000)\n"
     ]
    }
   ],
   "source": [
    "output_save = np.vstack((test_V_ref.reshape((1,-1)), test_V_final.reshape((1,-1))))\n",
    "print(output_save.shape)\n",
    "dend_save = raw.T\n",
    "spikes_save = spikes.T\n",
    "probs_save = probs.T\n",
    "print(dend_save.shape)\n",
    "print(spikes_save.shape)\n",
    "print(probs_save.shape)\n",
    "\n",
    "np.save(\"/media/hdd01/sklee/cont_shglm/gumbelS_test_V.npy\", output_save)\n",
    "np.save(\"/media/hdd01/sklee/cont_shglm/gumbelS_test_dend.npy\", dend_save)\n",
    "np.save(\"/media/hdd01/sklee/cont_shglm/gumbelS_test_spikes.npy\", spikes_save)\n",
    "np.save(\"/media/hdd01/sklee/cont_shglm/gumbelS_test_probs.npy\", probs_save)"
   ]
  },
  {
   "cell_type": "code",
   "execution_count": 24,
   "metadata": {
    "ExecuteTime": {
     "end_time": "2020-11-21T15:59:59.141113Z",
     "start_time": "2020-11-21T15:59:59.078249Z"
    },
    "hidden": true
   },
   "outputs": [
    {
     "name": "stdout",
     "output_type": "stream",
     "text": [
      "W_s_syn tensor([[[-0.0315,  0.0124],\n",
      "         [ 0.0275, -0.0742]],\n",
      "\n",
      "        [[ 0.0707, -0.0214],\n",
      "         [-0.1790,  0.0427]],\n",
      "\n",
      "        [[ 0.0133, -0.0499],\n",
      "         [-0.0699, -0.1410]],\n",
      "\n",
      "        [[-0.1436,  0.1785],\n",
      "         [-0.0915, -0.2737]],\n",
      "\n",
      "        [[-0.0181, -0.0938],\n",
      "         [-0.0966, -0.0021]]], device='cuda:0')\n",
      "W_ns_syn tensor([[[ 0.0180,  0.0316],\n",
      "         [ 0.0033, -0.1436]],\n",
      "\n",
      "        [[ 0.2122,  0.0589],\n",
      "         [ 0.1388, -0.4086]],\n",
      "\n",
      "        [[ 0.0892,  0.1097],\n",
      "         [ 0.1188, -0.4102]],\n",
      "\n",
      "        [[ 0.0962,  0.1005],\n",
      "         [ 0.0819, -0.3779]],\n",
      "\n",
      "        [[ 0.2436, -0.1203],\n",
      "         [ 0.2005, -0.4056]]], device='cuda:0')\n",
      "Tau_s_syn tensor([[-1.1390, -0.4341],\n",
      "        [ 1.4416,  0.8805]], device='cuda:0')\n",
      "Tau_ns_syn tensor([[-0.5424,  0.0030],\n",
      "        [ 2.1495,  0.9492]], device='cuda:0')\n",
      "Delta_s_syn tensor([[ 0.9353,  0.7619],\n",
      "        [ 1.1066,  0.0250],\n",
      "        [ 1.8560,  0.2394],\n",
      "        [ 0.9058, -0.1134],\n",
      "        [ 0.0638,  0.0154]], device='cuda:0')\n",
      "Delta_ns_syn tensor([[ 0.5933,  0.3028],\n",
      "        [-0.2817,  0.3507],\n",
      "        [ 0.5094,  0.4655],\n",
      "        [ 0.5889,  0.2891],\n",
      "        [-0.2502,  0.4687]], device='cuda:0')\n",
      "W_s_sub tensor([0.2720, 0.8344, 0.8452, 1.0327, 1.0131], device='cuda:0')\n",
      "W_ns_sub tensor([28.8390,  1.7991,  2.0922,  2.3529,  1.1428], device='cuda:0')\n",
      "V_o tensor([-47.6681], device='cuda:0')\n",
      "Theta_s tensor([0.9807, 0.8576, 1.1340, 1.3989, 1.0057], device='cuda:0')\n",
      "Theta_ns tensor([-1.0968, -1.7501, -1.5812, -1.4106, -1.5537], device='cuda:0')\n",
      "W_s_hist tensor([[-0.4525, -0.2614],\n",
      "        [-1.2285, -0.0089],\n",
      "        [-1.2408, -0.0143],\n",
      "        [-0.9226,  0.0165],\n",
      "        [-1.1245, -0.0242]], device='cuda:0')\n",
      "W_ns_hist tensor([[ 0.6207,  0.0443],\n",
      "        [ 0.3180, -0.0786],\n",
      "        [ 0.4602, -0.0830],\n",
      "        [ 0.1590, -0.0453],\n",
      "        [ 0.6298, -0.1219]], device='cuda:0')\n",
      "Tau_s_hist tensor([-0.2980,  2.6500], device='cuda:0')\n",
      "Tau_ns_hist tensor([1.4253, 3.2624], device='cuda:0')\n",
      "Delta_s_hist tensor([0.3990, 0.5980, 0.6073, 0.6920, 0.1043], device='cuda:0')\n",
      "Delta_ns_hist tensor([0.0797, 0.9589, 0.8849, 0.7068, 0.2024], device='cuda:0')\n",
      "W_s_prop tensor([[ 0.3166, -0.1352],\n",
      "        [ 0.0024,  0.0096],\n",
      "        [ 0.0132,  0.0120],\n",
      "        [ 0.0109,  0.0130],\n",
      "        [ 0.0053,  0.0060]], device='cuda:0')\n",
      "W_ns_prop tensor([[ 0.0295, -0.1161],\n",
      "        [ 0.0173,  0.0144],\n",
      "        [ 0.0139,  0.0145],\n",
      "        [ 0.0066,  0.0100],\n",
      "        [ 0.0188,  0.0049]], device='cuda:0')\n",
      "Tau_s_prop tensor([-0.9043,  0.4827], device='cuda:0')\n",
      "Tau_ns_prop tensor([-0.6860,  1.5940], device='cuda:0')\n",
      "Delta_s_prop tensor([0.9535, 0.0110, 0.7951, 0.9129, 0.0447], device='cuda:0')\n",
      "Delta_ns_prop tensor([0.1873, 0.4403, 0.9076, 0.5231, 0.1834], device='cuda:0')\n"
     ]
    }
   ],
   "source": [
    "for name, param in model.named_parameters():\n",
    "    print(name, param.data)"
   ]
  },
  {
   "cell_type": "code",
   "execution_count": null,
   "metadata": {
    "hidden": true
   },
   "outputs": [],
   "source": []
  }
 ],
 "metadata": {
  "kernelspec": {
   "display_name": "Python 3",
   "language": "python",
   "name": "python3"
  },
  "language_info": {
   "codemirror_mode": {
    "name": "ipython",
    "version": 3
   },
   "file_extension": ".py",
   "mimetype": "text/x-python",
   "name": "python",
   "nbconvert_exporter": "python",
   "pygments_lexer": "ipython3",
   "version": "3.8.3"
  }
 },
 "nbformat": 4,
 "nbformat_minor": 4
}
