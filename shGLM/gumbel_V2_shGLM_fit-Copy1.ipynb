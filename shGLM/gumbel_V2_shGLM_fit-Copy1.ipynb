{
 "cells": [
  {
   "cell_type": "code",
   "execution_count": 4,
   "metadata": {
    "ExecuteTime": {
     "end_time": "2020-11-22T08:09:18.866435Z",
     "start_time": "2020-11-22T08:09:18.233815Z"
    }
   },
   "outputs": [],
   "source": [
    "import numpy as np\n",
    "import torch\n",
    "import torch.nn as nn\n",
    "import matplotlib.pyplot as plt\n",
    "from tqdm import tnrange\n",
    "import torch.optim as optim\n",
    "import torch.nn.functional as F\n",
    "from step_shGLM_v2 import step_shGLM\n",
    "from sklearn import metrics\n",
    "import torch.distributions as dist"
   ]
  },
  {
   "cell_type": "markdown",
   "metadata": {
    "ExecuteTime": {
     "end_time": "2020-11-07T05:28:12.372372Z",
     "start_time": "2020-11-07T05:28:12.368983Z"
    }
   },
   "source": [
    "# Hyperparams"
   ]
  },
  {
   "cell_type": "code",
   "execution_count": 5,
   "metadata": {
    "ExecuteTime": {
     "end_time": "2020-11-22T08:09:18.870510Z",
     "start_time": "2020-11-22T08:09:18.867532Z"
    }
   },
   "outputs": [],
   "source": [
    "train_T = 20000\n",
    "test_T = 8000\n",
    "T_syn = 250\n",
    "T_hist = 250\n",
    "C_den = torch.zeros(5,5)\n",
    "C_den[0,1:] = 1\n",
    "sub_no = C_den.shape[0]\n",
    "\n",
    "batch_size = 1500\n",
    "\n",
    "syn_basis_no = 2\n",
    "hist_basis_no = 2\n",
    "prop_basis_no = 2\n"
   ]
  },
  {
   "cell_type": "code",
   "execution_count": 6,
   "metadata": {
    "ExecuteTime": {
     "end_time": "2020-11-22T08:09:18.892059Z",
     "start_time": "2020-11-22T08:09:18.871921Z"
    }
   },
   "outputs": [],
   "source": [
    "Ensyn = torch.tensor([0, 106, 213, 211, 99])\n",
    "Insyn = torch.tensor([1, 22, 36, 42, 19])\n",
    "E_no = torch.sum(Ensyn)\n",
    "I_no = torch.sum(Insyn)\n",
    "\n",
    "C_syn_e = torch.zeros(sub_no, E_no)\n",
    "C_syn_i = torch.zeros(sub_no, I_no)\n",
    "\n",
    "E_count = 0\n",
    "for s in range(sub_no):\n",
    "    C_syn_e[s,E_count:E_count+Ensyn[s]] = 1\n",
    "    E_count += Ensyn[s]\n",
    "\n",
    "I_count = 0\n",
    "for s in range(sub_no):\n",
    "    C_syn_i[s,I_count:I_count+Insyn[s]] = 1\n",
    "    I_count += Insyn[s]"
   ]
  },
  {
   "cell_type": "markdown",
   "metadata": {
    "heading_collapsed": true
   },
   "source": [
    "# Train Params"
   ]
  },
  {
   "cell_type": "code",
   "execution_count": 4,
   "metadata": {
    "ExecuteTime": {
     "end_time": "2020-11-22T01:04:07.624815Z",
     "start_time": "2020-11-22T01:04:05.882574Z"
    },
    "hidden": true
   },
   "outputs": [
    {
     "name": "stdout",
     "output_type": "stream",
     "text": [
      "torch.Size([8000])\n"
     ]
    }
   ],
   "source": [
    "model = step_shGLM(C_den.cuda(), C_syn_e.cuda(), C_syn_i.cuda(), T_syn, syn_basis_no,\n",
    "                T_hist, hist_basis_no, prop_basis_no)\n",
    "#model.load_state_dict(torch.load(\"/media/hdd01/sklee/cont_shglm/gumbelv2_sub5_s2_h2_shglm_i5000.pt\"))\n",
    "model = model.float().cuda()\n",
    "\n",
    "V_ref = np.load(\"/media/hdd01/sklee/cont_shglm/L23_inputs/vdata_NMDA_ApN0.5_13_Adend_r0_o2_i2_g_b5.npy\").flatten()[:48000]\n",
    "\n",
    "train_V_ref = V_ref[:train_T]\n",
    "test_V_ref = V_ref[train_T:train_T+test_T]\n",
    "\n",
    "test_V_ref = torch.from_numpy(test_V_ref).cuda()\n",
    "train_V_ref = torch.from_numpy(train_V_ref)\n",
    "print(test_V_ref.shape)"
   ]
  },
  {
   "cell_type": "code",
   "execution_count": 5,
   "metadata": {
    "ExecuteTime": {
     "end_time": "2020-11-22T01:04:07.966476Z",
     "start_time": "2020-11-22T01:04:07.626242Z"
    },
    "hidden": true
   },
   "outputs": [],
   "source": [
    "good_list = []\n",
    "part_diff = np.diff(train_V_ref)\n",
    "for i in range(train_V_ref.shape[0] - 1):\n",
    "    if train_V_ref[i+1] >= -50:\n",
    "        if part_diff[i] > 0:\n",
    "            good_list.append(i+1)\n",
    "\n",
    "select_idx = [good_list[0]]\n",
    "meta_diff = np.diff(np.asarray(good_list))\n",
    "for i in range(meta_diff.shape[0]):\n",
    "    if meta_diff[i] > 1:\n",
    "        if np.sum(meta_diff[i-3:i]) == 3:\n",
    "            select_idx.append(good_list[i+1])\n",
    "select_idx.append(good_list[-1])\n",
    "select_idx = np.asarray(select_idx)\n",
    "\n",
    "train_spikes_ref = torch.zeros((train_V_ref.shape[0]))\n",
    "train_spikes_ref[select_idx] = 1"
   ]
  },
  {
   "cell_type": "code",
   "execution_count": 6,
   "metadata": {
    "ExecuteTime": {
     "end_time": "2020-11-22T01:04:08.034695Z",
     "start_time": "2020-11-22T01:04:07.967700Z"
    },
    "hidden": true
   },
   "outputs": [],
   "source": [
    "E_neural = np.load(\"/media/hdd01/sklee/cont_shglm/L23_inputs/Espikes_NMDA_ApN0.5_13_Adend_r0_o2_i2_g_b5_neural.npy\")\n",
    "I_neural = np.load(\"/media/hdd01/sklee/cont_shglm/L23_inputs/Ispikes_NMDA_ApN0.5_13_Adend_r0_o2_i2_g_b5_neural.npy\")\n",
    "\n",
    "train_S_E = E_neural[:train_T]\n",
    "train_S_I = I_neural[:train_T]\n",
    "test_S_E = E_neural[train_T:train_T+test_T]\n",
    "test_S_I = I_neural[train_T:train_T+test_T]\n",
    "\n",
    "train_S_E = torch.from_numpy(train_S_E)\n",
    "train_S_I = torch.from_numpy(train_S_I)\n",
    "test_S_E = torch.from_numpy(test_S_E).float().cuda()\n",
    "test_S_I = torch.from_numpy(test_S_I).float().cuda()"
   ]
  },
  {
   "cell_type": "code",
   "execution_count": 7,
   "metadata": {
    "ExecuteTime": {
     "end_time": "2020-11-22T01:04:08.040957Z",
     "start_time": "2020-11-22T01:04:08.035841Z"
    },
    "hidden": true
   },
   "outputs": [
    {
     "name": "stdout",
     "output_type": "stream",
     "text": [
      "37000\n",
      "37000\n"
     ]
    }
   ],
   "source": [
    "repeat_no = 2\n",
    "batch_no = (train_V_ref.shape[0] - batch_size) * repeat_no\n",
    "train_idx = np.empty((repeat_no, train_V_ref.shape[0] - batch_size))\n",
    "for i in range(repeat_no):\n",
    "    part_idx = np.arange(train_V_ref.shape[0] - batch_size)\n",
    "    np.random.shuffle(part_idx)\n",
    "    train_idx[i] = part_idx\n",
    "train_idx = train_idx.flatten()\n",
    "train_idx = torch.from_numpy(train_idx)\n",
    "\n",
    "print(batch_no)\n",
    "print(train_idx.shape[0])"
   ]
  },
  {
   "cell_type": "code",
   "execution_count": 8,
   "metadata": {
    "ExecuteTime": {
     "end_time": "2020-11-22T01:04:08.049824Z",
     "start_time": "2020-11-22T01:04:08.041990Z"
    },
    "hidden": true
   },
   "outputs": [
    {
     "name": "stdout",
     "output_type": "stream",
     "text": [
      "157\n"
     ]
    }
   ],
   "source": [
    "#optimizer = optim.Adam(model.parameters(), lr=0.00001)\n",
    "optimizer = optim.Adam(model.parameters(), lr=0.01)\n",
    "print(sum(p.numel() for p in model.parameters() if p.requires_grad))\n",
    "scheduler = optim.lr_scheduler.StepLR(optimizer, step_size=3000, gamma=0.5)\n"
   ]
  },
  {
   "cell_type": "code",
   "execution_count": 9,
   "metadata": {
    "ExecuteTime": {
     "end_time": "2020-11-22T08:07:17.518981Z",
     "start_time": "2020-11-22T01:04:08.050866Z"
    },
    "hidden": true,
    "scrolled": true
   },
   "outputs": [
    {
     "name": "stderr",
     "output_type": "stream",
     "text": [
      "<ipython-input-9-cf7b1dfd0cc3>:4: TqdmDeprecationWarning: Please use `tqdm.notebook.trange` instead of `tqdm.tnrange`\n",
      "  for i in tnrange(batch_no):\n"
     ]
    },
    {
     "data": {
      "application/vnd.jupyter.widget-view+json": {
       "model_id": "2256d33fb5334ccd9deedc5f6d179e84",
       "version_major": 2,
       "version_minor": 0
      },
      "text/plain": [
       "HBox(children=(FloatProgress(value=0.0, max=10000.0), HTML(value='')))"
      ]
     },
     "metadata": {},
     "output_type": "display_data"
    },
    {
     "name": "stdout",
     "output_type": "stream",
     "text": [
      "TEST 0 67.24389291905815 0.00015152712076316188 -5.739367121981864e-05\n",
      "[1.         0.874      0.58500004 0.0345     0.76850003]\n",
      "TEST 50 64.26380533256567 0.044462406395138654 0.036821143118226374\n",
      "[0.324375   0.314875   0.58412504 0.487125   0.42562503]\n",
      "TEST 100 61.134836002615465 0.09098700616902522 0.08921917515027322\n",
      "[0.613125   0.2825     0.420125   0.44400004 0.36      ]\n",
      "TEST 150 58.89630748671511 0.1242716543397413 0.11379920404839383\n",
      "[0.547625   0.20975001 0.49312502 0.54637504 0.32412502]\n",
      "TEST 200 56.70713830306872 0.15682237929807263 0.1432317029364797\n",
      "[0.63012505 0.331375   0.5605     0.39237502 0.355125  ]\n",
      "TEST 250 54.03471345252422 0.19655862583468642 0.16491425893525313\n",
      "[0.666625   0.274625   0.44425002 0.40912503 0.318875  ]\n",
      "TEST 300 52.19089921226306 0.22397427312540086 0.22455391945681213\n",
      "[0.66925    0.31100002 0.46825004 0.383125   0.29025   ]\n",
      "TEST 350 51.300781988236444 0.23720941323089118 0.2775998573307582\n",
      "[0.52737504 0.269625   0.464125   0.448875   0.29250002]\n",
      "TEST 400 51.62165135718761 0.2324384112094764 0.27541509484236326\n",
      "[0.49937502 0.30887502 0.512875   0.47075003 0.32200003]\n",
      "TEST 450 49.59797083707802 0.26252848759821557 0.28483964373037995\n",
      "[0.555875   0.275375   0.52375    0.47862503 0.34975   ]\n",
      "TEST 500 46.171454325511284 0.31347731213290597 0.28129190412982286\n",
      "[0.73050004 0.254125   0.462875   0.45025003 0.33975002]\n",
      "TEST 550 44.60672146120883 0.3367433025206279 0.29995597224820814\n",
      "[0.75362504 0.24175002 0.4505     0.43262503 0.318125  ]\n",
      "TEST 600 43.94053325822101 0.3466488453821137 0.31144979477445445\n",
      "[0.80375004 0.223      0.38812503 0.40550002 0.266     ]\n",
      "TEST 650 42.758348376527735 0.36422673521178106 0.3964005232471509\n",
      "[0.704625   0.26700002 0.47387502 0.37912503 0.32925   ]\n",
      "TEST 700 41.149589046967705 0.3881473544764834 0.3516115883629938\n",
      "[0.774375   0.24687502 0.47462502 0.40187502 0.30075002]\n",
      "TEST 750 41.51177748407193 0.3827619797528554 0.24022371444459323\n",
      "[0.62125003 0.2525     0.46662503 0.43075    0.33225003]\n",
      "TEST 800 39.29267993858562 0.41575770920880606 0.3699518411572519\n",
      "[0.80862504 0.251125   0.41475    0.386375   0.297625  ]\n",
      "TEST 850 38.87205741334657 0.42201193947605375 0.36973975182949004\n",
      "[0.82625    0.265125   0.44537503 0.33437502 0.28962502]\n",
      "TEST 900 38.75473482053795 0.42375640727828323 0.36258374541971805\n",
      "[0.67962503 0.24800001 0.447625   0.43137503 0.295875  ]\n",
      "TEST 950 36.80905716653699 0.45268666029377547 0.3531364263924027\n",
      "[0.828625   0.25325    0.43337503 0.384375   0.29787502]\n",
      "TEST 1000 36.146829746051054 0.4625333102751287 0.4699748090891177\n",
      "[0.83650005 0.23425001 0.467375   0.37025002 0.28787503]\n",
      "TEST 1050 35.67948795227294 0.4694822086782341 0.3991155975473447\n",
      "[0.832      0.23562501 0.43087503 0.36062503 0.26500002]\n",
      "TEST 1100 34.87260620273203 0.4814797217510216 0.4273628755893406\n",
      "[0.82637507 0.23362501 0.43325    0.38162503 0.26650003]\n",
      "TEST 1150 34.31707428951034 0.48973991771840764 0.4413421123157759\n",
      "[0.7835     0.25275    0.446      0.35975    0.29237503]\n",
      "TEST 1200 34.629233260772274 0.4850984304477425 0.5003482754702175\n",
      "[0.712875   0.23200001 0.42937502 0.36512503 0.31212503]\n",
      "TEST 1250 34.21836204091984 0.4912076686475563 0.45372173220531975\n",
      "[0.6405     0.24937502 0.437375   0.328      0.30725002]\n",
      "TEST 1300 33.615300085492144 0.5001745881895441 0.4658809834196622\n",
      "[0.77312505 0.25975    0.42525002 0.362875   0.296     ]\n",
      "TEST 1350 32.35015891448178 0.5189859540076136 0.4864807462848315\n",
      "[0.79375005 0.24350001 0.42237502 0.36562502 0.3115    ]\n",
      "TEST 1400 33.17635481929786 0.5067012591253826 0.5027948416702808\n",
      "[0.846      0.22800002 0.400375   0.31575    0.27975002]\n",
      "TEST 1450 32.701907980975605 0.5137558021527795 0.47652986526608176\n",
      "[0.75912505 0.24562502 0.42475003 0.35912502 0.28212503]\n",
      "TEST 1500 31.557872437899398 0.5307664501937184 0.4900045373629177\n",
      "[0.77750003 0.2265     0.42700002 0.36237502 0.295625  ]\n",
      "TEST 1550 31.33992290694417 0.5340071386688297 0.4666578055261065\n",
      "[0.76350003 0.231      0.40050003 0.321375   0.28875002]\n",
      "TEST 1600 30.560082139559114 0.5456025797487851 0.5439911027801015\n",
      "[0.82312506 0.23950002 0.387625   0.3415     0.291875  ]\n",
      "TEST 1650 32.35169554265817 0.518963105818171 0.49566294507366515\n",
      "[0.578125   0.24337502 0.42962503 0.332125   0.276625  ]\n",
      "TEST 1700 30.1530628937651 0.5516545430882054 0.5249359722475421\n",
      "[0.84000003 0.21337502 0.38200003 0.30625    0.25325   ]\n",
      "TEST 1750 29.462743726578033 0.561918888769712 0.48835037280288085\n",
      "[0.76762503 0.21237502 0.409375   0.30025002 0.266     ]\n",
      "TEST 1800 29.089307002691633 0.5674715140505733 0.508263278782997\n",
      "[0.82987505 0.20600002 0.41925    0.32362503 0.267625  ]\n",
      "TEST 1850 29.7458954520041 0.5577087098138203 0.5061098223182006\n",
      "[0.77412504 0.20712501 0.41400003 0.33350003 0.27237502]\n",
      "TEST 1900 28.783911907528378 0.5720124293219289 0.446499938081229\n",
      "[0.79200006 0.207375   0.40150002 0.3115     0.26325002]\n",
      "TEST 1950 28.776556322728947 0.5721217993543679 0.5385314242174353\n",
      "[0.76900005 0.19962502 0.42637503 0.32087502 0.26825002]\n",
      "TEST 2000 28.60044718298487 0.5747403635929325 0.4491430059449846\n",
      "[0.763      0.20975001 0.40475002 0.35337502 0.260125  ]\n",
      "TEST 2050 27.973566407330146 0.5840614448582808 0.5610532504551977\n",
      "[0.84212506 0.19825001 0.3885     0.30975002 0.24987501]\n",
      "TEST 2100 28.121685587372447 0.5818590628663509 0.5406566120318089\n",
      "[0.749875   0.202875   0.4045     0.31762502 0.265125  ]\n",
      "TEST 2150 27.337262567516166 0.5935226374378144 0.5050791764738034\n",
      "[0.79025006 0.20775001 0.40175003 0.30850002 0.26425   ]\n",
      "TEST 2200 27.191958988254974 0.5956831542365832 0.5299333690753303\n",
      "[0.74037504 0.20175001 0.42187503 0.324375   0.280375  ]\n",
      "TEST 2250 27.355273776657036 0.5932548289633213 0.5286289567333592\n",
      "[0.72487503 0.19275    0.418875   0.318125   0.25825   ]\n",
      "TEST 2300 27.250787506690717 0.5948084338718168 0.4527493944889739\n",
      "[0.78737503 0.172      0.38775003 0.31925002 0.25837502]\n",
      "TEST 2350 26.499025919001298 0.6059863660830365 0.5381703506409832\n",
      "[0.82225007 0.178625   0.416375   0.31875002 0.259875  ]\n",
      "TEST 2400 28.5981092846843 0.5747751257470548 0.46472350109184835\n",
      "[0.67975    0.18775001 0.42100003 0.3345     0.24975002]\n",
      "TEST 2450 26.51171827657976 0.6057976435683222 0.541423995056413\n",
      "[0.70025    0.18737501 0.42200002 0.31975    0.27237502]\n",
      "TEST 2500 25.913304906508078 0.61469544334671 0.5633338100491709\n",
      "[0.790875   0.20950001 0.40375003 0.34062502 0.25825   ]\n",
      "TEST 2550 25.942535567784176 0.6142608130850818 0.4971373042187265\n",
      "[0.75675005 0.192      0.42475003 0.32812503 0.26087502]\n",
      "TEST 2600 25.438362856008442 0.6217573498298687 0.5479839043817624\n",
      "[0.712    0.19275  0.44925  0.335875 0.268   ]\n",
      "TEST 2650 25.445770333771744 0.6216472081643332 0.5687237367789894\n",
      "[0.8155     0.1895     0.48262504 0.37225002 0.248875  ]\n",
      "TEST 2700 25.847728028557967 0.6156705050482385 0.5381241141407972\n",
      "[0.84975004 0.214375   0.46387503 0.3585     0.27387503]\n",
      "TEST 2750 25.569594180741063 0.6198060731841621 0.5136686689980136\n",
      "[0.81775004 0.18387501 0.481375   0.34062502 0.278625  ]\n",
      "TEST 2800 25.02131703678161 0.6279583981334758 0.5243645003502788\n",
      "[0.84825003 0.19037502 0.448875   0.36162502 0.281125  ]\n",
      "TEST 2850 25.690228912965964 0.6180123570989196 0.6060779388124224\n",
      "[0.88100004 0.20225    0.48187503 0.31950003 0.27937502]\n",
      "TEST 2900 25.67123582931723 0.6182947649946673 0.5561403940697929\n",
      "[0.71312505 0.21075001 0.5105     0.341125   0.276125  ]\n",
      "TEST 2950 25.430627457787242 0.6218723673566622 0.622498582905393\n",
      "[0.74       0.19675002 0.51175004 0.36450002 0.29412502]\n",
      "TEST 3000 24.390867282755075 0.6373325464443627 0.48115961307858435\n",
      "[0.81250006 0.20925    0.507375   0.344875   0.29275   ]\n",
      "TEST 3050 24.49072414559307 0.6358477761618779 0.5142634551541987\n",
      "[0.82350004 0.20525001 0.531      0.3445     0.305     ]\n",
      "TEST 3100 24.31182979249084 0.6385077537004064 0.5347403178002721\n",
      "[0.79625005 0.20587501 0.52975005 0.34       0.2955    ]\n",
      "TEST 3150 24.82131832990606 0.6309321760506887 0.559095168945061\n",
      "[0.752375   0.20812501 0.52025    0.331625   0.26987502]\n",
      "TEST 3200 25.331846164079927 0.6233411449989704 0.54174481635817\n",
      "[0.73862505 0.21400002 0.51987505 0.35462502 0.269125  ]\n",
      "TEST 3250 24.24884031325367 0.6394443434244155 0.5519467557673237\n",
      "[0.80475    0.18925    0.51000005 0.349      0.27362502]\n",
      "TEST 3300 25.2279847419631 0.6248854590082293 0.6013124187990071\n",
      "[0.81337506 0.186375   0.48162502 0.353875   0.285375  ]\n"
     ]
    },
    {
     "name": "stdout",
     "output_type": "stream",
     "text": [
      "TEST 3350 24.157438580278335 0.6408033944367548 0.5828231295900177\n",
      "[0.812375 0.193375 0.508    0.360875 0.2885  ]\n",
      "TEST 3400 24.301963679174726 0.6386544527921607 0.5651250592957808\n",
      "[0.78650004 0.19675002 0.52575004 0.32937503 0.278375  ]\n"
     ]
    },
    {
     "name": "stderr",
     "output_type": "stream",
     "text": [
      "IOPub message rate exceeded.\n",
      "The notebook server will temporarily stop sending output\n",
      "to the client in order to avoid crashing it.\n",
      "To change this limit, set the config variable\n",
      "`--NotebookApp.iopub_msg_rate_limit`.\n",
      "\n",
      "Current values:\n",
      "NotebookApp.iopub_msg_rate_limit=1000.0 (msgs/sec)\n",
      "NotebookApp.rate_limit_window=3.0 (secs)\n",
      "\n"
     ]
    },
    {
     "name": "stdout",
     "output_type": "stream",
     "text": [
      "TEST 4700 23.284370154587254 0.6537850362481489 0.5152697004761295\n",
      "[0.81287503 0.18550001 0.53975004 0.34637502 0.27075002]\n",
      "TEST 4750 23.56683484342675 0.6495850728433343 0.5904476773603944\n",
      "[0.73450005 0.19962502 0.54725003 0.36312503 0.277375  ]\n",
      "TEST 4800 23.457060932648556 0.6512172995501154 0.6588168210730788\n",
      "[0.775125   0.17937501 0.55137503 0.360125   0.267625  ]\n",
      "TEST 4850 23.081859315282152 0.6567961669843414 0.5942289164085865\n",
      "[0.77137506 0.1885     0.573625   0.335875   0.28137502]\n",
      "TEST 4900 23.13583265076378 0.655993638250445 0.5312762932266166\n",
      "[0.773625   0.19675002 0.57187504 0.363375   0.29325002]\n",
      "TEST 4950 23.463021763742574 0.6511286680471648 0.5521633971731762\n",
      "[0.75287503 0.201      0.54862505 0.38937503 0.284375  ]\n",
      "\n"
     ]
    },
    {
     "ename": "KeyboardInterrupt",
     "evalue": "",
     "output_type": "error",
     "traceback": [
      "\u001b[0;31m---------------------------------------------------------------------------\u001b[0m",
      "\u001b[0;31mKeyboardInterrupt\u001b[0m                         Traceback (most recent call last)",
      "\u001b[0;32m<ipython-input-9-cf7b1dfd0cc3>\u001b[0m in \u001b[0;36m<module>\u001b[0;34m\u001b[0m\n\u001b[1;32m     21\u001b[0m \u001b[0;34m\u001b[0m\u001b[0m\n\u001b[1;32m     22\u001b[0m \u001b[0;34m\u001b[0m\u001b[0m\n\u001b[0;32m---> 23\u001b[0;31m     \u001b[0mloss\u001b[0m\u001b[0;34m.\u001b[0m\u001b[0mbackward\u001b[0m\u001b[0;34m(\u001b[0m\u001b[0;34m)\u001b[0m\u001b[0;34m\u001b[0m\u001b[0;34m\u001b[0m\u001b[0m\n\u001b[0m\u001b[1;32m     24\u001b[0m     \u001b[0moptimizer\u001b[0m\u001b[0;34m.\u001b[0m\u001b[0mstep\u001b[0m\u001b[0;34m(\u001b[0m\u001b[0;34m)\u001b[0m\u001b[0;34m\u001b[0m\u001b[0;34m\u001b[0m\u001b[0m\n\u001b[1;32m     25\u001b[0m     \u001b[0mscheduler\u001b[0m\u001b[0;34m.\u001b[0m\u001b[0mstep\u001b[0m\u001b[0;34m(\u001b[0m\u001b[0;34m)\u001b[0m\u001b[0;34m\u001b[0m\u001b[0;34m\u001b[0m\u001b[0m\n",
      "\u001b[0;32m~/anaconda3/lib/python3.8/site-packages/torch/tensor.py\u001b[0m in \u001b[0;36mbackward\u001b[0;34m(self, gradient, retain_graph, create_graph)\u001b[0m\n\u001b[1;32m    219\u001b[0m                 \u001b[0mretain_graph\u001b[0m\u001b[0;34m=\u001b[0m\u001b[0mretain_graph\u001b[0m\u001b[0;34m,\u001b[0m\u001b[0;34m\u001b[0m\u001b[0;34m\u001b[0m\u001b[0m\n\u001b[1;32m    220\u001b[0m                 create_graph=create_graph)\n\u001b[0;32m--> 221\u001b[0;31m         \u001b[0mtorch\u001b[0m\u001b[0;34m.\u001b[0m\u001b[0mautograd\u001b[0m\u001b[0;34m.\u001b[0m\u001b[0mbackward\u001b[0m\u001b[0;34m(\u001b[0m\u001b[0mself\u001b[0m\u001b[0;34m,\u001b[0m \u001b[0mgradient\u001b[0m\u001b[0;34m,\u001b[0m \u001b[0mretain_graph\u001b[0m\u001b[0;34m,\u001b[0m \u001b[0mcreate_graph\u001b[0m\u001b[0;34m)\u001b[0m\u001b[0;34m\u001b[0m\u001b[0;34m\u001b[0m\u001b[0m\n\u001b[0m\u001b[1;32m    222\u001b[0m \u001b[0;34m\u001b[0m\u001b[0m\n\u001b[1;32m    223\u001b[0m     \u001b[0;32mdef\u001b[0m \u001b[0mregister_hook\u001b[0m\u001b[0;34m(\u001b[0m\u001b[0mself\u001b[0m\u001b[0;34m,\u001b[0m \u001b[0mhook\u001b[0m\u001b[0;34m)\u001b[0m\u001b[0;34m:\u001b[0m\u001b[0;34m\u001b[0m\u001b[0;34m\u001b[0m\u001b[0m\n",
      "\u001b[0;32m~/anaconda3/lib/python3.8/site-packages/torch/autograd/__init__.py\u001b[0m in \u001b[0;36mbackward\u001b[0;34m(tensors, grad_tensors, retain_graph, create_graph, grad_variables)\u001b[0m\n\u001b[1;32m    128\u001b[0m         \u001b[0mretain_graph\u001b[0m \u001b[0;34m=\u001b[0m \u001b[0mcreate_graph\u001b[0m\u001b[0;34m\u001b[0m\u001b[0;34m\u001b[0m\u001b[0m\n\u001b[1;32m    129\u001b[0m \u001b[0;34m\u001b[0m\u001b[0m\n\u001b[0;32m--> 130\u001b[0;31m     Variable._execution_engine.run_backward(\n\u001b[0m\u001b[1;32m    131\u001b[0m         \u001b[0mtensors\u001b[0m\u001b[0;34m,\u001b[0m \u001b[0mgrad_tensors_\u001b[0m\u001b[0;34m,\u001b[0m \u001b[0mretain_graph\u001b[0m\u001b[0;34m,\u001b[0m \u001b[0mcreate_graph\u001b[0m\u001b[0;34m,\u001b[0m\u001b[0;34m\u001b[0m\u001b[0;34m\u001b[0m\u001b[0m\n\u001b[1;32m    132\u001b[0m         allow_unreachable=True)  # allow_unreachable flag\n",
      "\u001b[0;31mKeyboardInterrupt\u001b[0m: "
     ]
    }
   ],
   "source": [
    "batch_no = 10000\n",
    "loss_array = np.empty((batch_no//100, 2))\n",
    "\n",
    "for i in tnrange(batch_no):\n",
    "    model.train()\n",
    "    optimizer.zero_grad()\n",
    "    batch_idx = train_idx[i].long()\n",
    "    batch_S_E = train_S_E[batch_idx : batch_idx+batch_size].float().cuda()\n",
    "    batch_S_I = train_S_I[batch_idx : batch_idx+batch_size].float().cuda()\n",
    "    batch_pred, batch_raw, batch_spikes = model(batch_S_E, batch_S_I)\n",
    "    batch_ref = train_V_ref[batch_idx:batch_idx+batch_size].cuda()\n",
    "    batch_spikes_ref = train_spikes_ref[batch_idx : batch_idx+batch_size].float().cuda()\n",
    "        \n",
    "    diff = (batch_ref - batch_pred) ** 1\n",
    "    var_loss = torch.var(diff)\n",
    "    #spike_loss = torch.mean((batch_spikes - batch_spikes_ref) ** 2)\n",
    "    #spike_loss = (torch.sum(batch_spikes) - torch.sum(batch_spikes_ref))**2\n",
    "    \n",
    "    loss = var_loss\n",
    "    #print(i, var_loss.item(), torch.mean(batch_spikes).item())\n",
    "\n",
    "        \n",
    "    loss.backward()\n",
    "    optimizer.step()\n",
    "    scheduler.step()\n",
    "    \n",
    "    if i%50 == 0:\n",
    "        model.eval()\n",
    "        test_pred, test_raw, test_spikes = model(test_S_E, test_S_I)\n",
    "        test_diff = (test_V_ref - test_pred) ** 1\n",
    "        test_loss = torch.var(test_diff)\n",
    "        \n",
    "        test_score = metrics.explained_variance_score(y_true=test_V_ref.cpu().detach().numpy(),\n",
    "                                                      y_pred=test_pred.cpu().detach().numpy(),\n",
    "                                                      multioutput='uniform_average')\n",
    "        train_score = metrics.explained_variance_score(y_true=batch_ref.cpu().detach().numpy(),\n",
    "                                                      y_pred=batch_pred.cpu().detach().numpy(),\n",
    "                                                      multioutput='uniform_average')\n",
    "        print(\"TEST\", i, test_loss.item(), test_score.item(), train_score.item())\n",
    "        print(torch.mean(test_spikes, 0).cpu().detach().numpy())\n",
    "        #print(torch.mean(spike_probs, 0).cpu().detach().numpy())\n",
    "        if i%100 == 0:\n",
    "            torch.save(model.state_dict(), \"/media/hdd01/sklee/cont_shglm/burst_L23_stepS_finalspike_noconstraint_i\"+str(i)+\".pt\")\n",
    "            loss_array[i//100,0] = i\n",
    "            loss_array[i//100,1] = test_score\n",
    "            np.save(\"/media/hdd01/sklee/cont_shglm/burst_L23_stepS_finalspike_noconstraint_test_scores.npy\", loss_array)\n"
   ]
  },
  {
   "cell_type": "markdown",
   "metadata": {},
   "source": [
    "# Test "
   ]
  },
  {
   "cell_type": "code",
   "execution_count": 7,
   "metadata": {
    "ExecuteTime": {
     "end_time": "2020-11-22T08:09:21.892257Z",
     "start_time": "2020-11-22T08:09:20.327540Z"
    }
   },
   "outputs": [],
   "source": [
    "model = step_shGLM(C_den.cuda(), C_syn_e.cuda(), C_syn_i.cuda(), T_syn, syn_basis_no,\n",
    "                T_hist, hist_basis_no, prop_basis_no)\n",
    "\n",
    "model.load_state_dict(torch.load(\"/media/hdd01/sklee/cont_shglm/burst_L23_stepS_finalspike_noconstraint_i4900.pt\"))\n",
    "model = model.float().to(\"cuda\")\n",
    "\n",
    "V_ref = np.load(\"/media/hdd01/sklee/cont_shglm/L23_inputs/vdata_NMDA_ApN0.5_13_Adend_r0_o2_i2_g_b5.npy\").flatten()[:48000]\n",
    "V_ref = V_ref[:48000]\n",
    "\n",
    "test_V_ref = V_ref[train_T:train_T+test_T]\n"
   ]
  },
  {
   "cell_type": "code",
   "execution_count": 8,
   "metadata": {
    "ExecuteTime": {
     "end_time": "2020-11-22T08:09:30.354664Z",
     "start_time": "2020-11-22T08:09:21.893353Z"
    }
   },
   "outputs": [],
   "source": [
    "E_neural = np.load(\"/media/hdd01/sklee/cont_shglm/L23_inputs/Espikes_NMDA_ApN0.5_13_Adend_r0_o2_i2_g_b5_neural.npy\")\n",
    "I_neural = np.load(\"/media/hdd01/sklee/cont_shglm/L23_inputs/Ispikes_NMDA_ApN0.5_13_Adend_r0_o2_i2_g_b5_neural.npy\")\n",
    "\n",
    "\n",
    "test_S_E = E_neural[train_T:train_T+test_T]\n",
    "test_S_I = I_neural[train_T:train_T+test_T]\n",
    "\n",
    "test_S_E = torch.from_numpy(test_S_E).float().cuda()\n",
    "test_S_I = torch.from_numpy(test_S_I).float().cuda()\n",
    "\n",
    "test_V_final, raw, spikes = model(test_S_E, test_S_I)\n",
    "\n",
    "test_V_final = test_V_final.cpu().detach().numpy()\n",
    "raw = raw.cpu().detach().numpy()\n",
    "spikes = spikes.cpu().detach().numpy()\n",
    "#probs = probs.cpu().detach().numpy()"
   ]
  },
  {
   "cell_type": "code",
   "execution_count": 12,
   "metadata": {
    "ExecuteTime": {
     "end_time": "2020-11-22T08:09:55.644584Z",
     "start_time": "2020-11-22T08:09:55.517700Z"
    }
   },
   "outputs": [
    {
     "name": "stdout",
     "output_type": "stream",
     "text": [
      "0.8106288693890386\n"
     ]
    },
    {
     "data": {
      "text/plain": [
       "<matplotlib.legend.Legend at 0x7f5ad47e0430>"
      ]
     },
     "execution_count": 12,
     "metadata": {},
     "output_type": "execute_result"
    },
    {
     "data": {
      "image/png": "[encoded data removed]",
      "text/plain": [
       "<Figure size 1008x288 with 1 Axes>"
      ]
     },
     "metadata": {
      "needs_background": "light"
     },
     "output_type": "display_data"
    }
   ],
   "source": [
    "plt.figure(figsize = (14,4))\n",
    "plt.plot(test_V_ref[:2000], label=\"Biophysical\", c=\"blue\")\n",
    "plt.plot(test_V_final[:2000]-30, label=\"cont_shGLM\", c=\"red\")\n",
    "print(np.corrcoef(test_V_ref, test_V_final)[0][1])\n",
    "\n",
    "\n",
    "test_score = metrics.explained_variance_score(y_true=test_V_ref[:],\n",
    "                                                      y_pred=test_V_final[:],\n",
    "                                                      multioutput='uniform_average')\n",
    "\n",
    "plt.title(\"Final spiking subunit (exact constraint) \\n Variance Explained: \" + str(round(test_score, 5)), fontsize = 16)\n",
    "#plt.xticks(np.arange(0,8001,1000),[0,1,2,3,4,5,6,7,8])\n",
    "#plt.xticks(np.arange(0,4001,1000),[0,1,2,3,4])\n",
    "plt.xlabel(\"Time (s)\")\n",
    "plt.ylabel(\"Sub-Threshold Voltage (mV)\")\n",
    "plt.legend()\n",
    "#plt.show()\n",
    "\n",
    "\n",
    "#plt.savefig(\"/media/hdd01/sklee/cont_shglm/final_spike_absconstraint.png\", dpi=150, bbox_inches='tight')#"
   ]
  },
  {
   "cell_type": "code",
   "execution_count": 13,
   "metadata": {
    "ExecuteTime": {
     "end_time": "2020-11-22T08:10:03.672176Z",
     "start_time": "2020-11-22T08:10:03.580839Z"
    }
   },
   "outputs": [
    {
     "data": {
      "text/plain": [
       "[<matplotlib.lines.Line2D at 0x7f5ad46b7f70>]"
      ]
     },
     "execution_count": 13,
     "metadata": {},
     "output_type": "execute_result"
    },
    {
     "data": {
      "image/png": "[encoded data removed]",
      "text/plain": [
       "<Figure size 432x288 with 1 Axes>"
      ]
     },
     "metadata": {
      "needs_background": "light"
     },
     "output_type": "display_data"
    }
   ],
   "source": [
    "plt.plot(spikes[:500,1])\n",
    "#print(spikes)\n"
   ]
  },
  {
   "cell_type": "code",
   "execution_count": null,
   "metadata": {},
   "outputs": [],
   "source": []
  },
  {
   "cell_type": "code",
   "execution_count": 20,
   "metadata": {
    "ExecuteTime": {
     "end_time": "2020-11-16T21:21:06.644415Z",
     "start_time": "2020-11-16T21:21:06.635709Z"
    }
   },
   "outputs": [
    {
     "name": "stdout",
     "output_type": "stream",
     "text": [
      "(2, 8000)\n",
      "(4, 8000)\n",
      "(4, 8000)\n",
      "(4, 8000)\n"
     ]
    }
   ],
   "source": [
    "output_save = np.vstack((test_V_ref.reshape((1,-1)), test_V_final.reshape((1,-1))))\n",
    "print(output_save.shape)\n",
    "dend_save = raw.T\n",
    "spikes_save = spikes.T\n",
    "probs_save = probs.T\n",
    "print(dend_save.shape)\n",
    "print(spikes_save.shape)\n",
    "print(probs_save.shape)\n",
    "\n",
    "np.save(\"/media/hdd01/sklee/cont_shglm/gumbelS_test_V.npy\", output_save)\n",
    "np.save(\"/media/hdd01/sklee/cont_shglm/gumbelS_test_dend.npy\", dend_save)\n",
    "np.save(\"/media/hdd01/sklee/cont_shglm/gumbelS_test_spikes.npy\", spikes_save)\n",
    "np.save(\"/media/hdd01/sklee/cont_shglm/gumbelS_test_probs.npy\", probs_save)"
   ]
  },
  {
   "cell_type": "code",
   "execution_count": 24,
   "metadata": {
    "ExecuteTime": {
     "end_time": "2020-11-21T15:59:59.141113Z",
     "start_time": "2020-11-21T15:59:59.078249Z"
    }
   },
   "outputs": [
    {
     "name": "stdout",
     "output_type": "stream",
     "text": [
      "W_s_syn tensor([[[-0.0315,  0.0124],\n",
      "         [ 0.0275, -0.0742]],\n",
      "\n",
      "        [[ 0.0707, -0.0214],\n",
      "         [-0.1790,  0.0427]],\n",
      "\n",
      "        [[ 0.0133, -0.0499],\n",
      "         [-0.0699, -0.1410]],\n",
      "\n",
      "        [[-0.1436,  0.1785],\n",
      "         [-0.0915, -0.2737]],\n",
      "\n",
      "        [[-0.0181, -0.0938],\n",
      "         [-0.0966, -0.0021]]], device='cuda:0')\n",
      "W_ns_syn tensor([[[ 0.0180,  0.0316],\n",
      "         [ 0.0033, -0.1436]],\n",
      "\n",
      "        [[ 0.2122,  0.0589],\n",
      "         [ 0.1388, -0.4086]],\n",
      "\n",
      "        [[ 0.0892,  0.1097],\n",
      "         [ 0.1188, -0.4102]],\n",
      "\n",
      "        [[ 0.0962,  0.1005],\n",
      "         [ 0.0819, -0.3779]],\n",
      "\n",
      "        [[ 0.2436, -0.1203],\n",
      "         [ 0.2005, -0.4056]]], device='cuda:0')\n",
      "Tau_s_syn tensor([[-1.1390, -0.4341],\n",
      "        [ 1.4416,  0.8805]], device='cuda:0')\n",
      "Tau_ns_syn tensor([[-0.5424,  0.0030],\n",
      "        [ 2.1495,  0.9492]], device='cuda:0')\n",
      "Delta_s_syn tensor([[ 0.9353,  0.7619],\n",
      "        [ 1.1066,  0.0250],\n",
      "        [ 1.8560,  0.2394],\n",
      "        [ 0.9058, -0.1134],\n",
      "        [ 0.0638,  0.0154]], device='cuda:0')\n",
      "Delta_ns_syn tensor([[ 0.5933,  0.3028],\n",
      "        [-0.2817,  0.3507],\n",
      "        [ 0.5094,  0.4655],\n",
      "        [ 0.5889,  0.2891],\n",
      "        [-0.2502,  0.4687]], device='cuda:0')\n",
      "W_s_sub tensor([0.2720, 0.8344, 0.8452, 1.0327, 1.0131], device='cuda:0')\n",
      "W_ns_sub tensor([28.8390,  1.7991,  2.0922,  2.3529,  1.1428], device='cuda:0')\n",
      "V_o tensor([-47.6681], device='cuda:0')\n",
      "Theta_s tensor([0.9807, 0.8576, 1.1340, 1.3989, 1.0057], device='cuda:0')\n",
      "Theta_ns tensor([-1.0968, -1.7501, -1.5812, -1.4106, -1.5537], device='cuda:0')\n",
      "W_s_hist tensor([[-0.4525, -0.2614],\n",
      "        [-1.2285, -0.0089],\n",
      "        [-1.2408, -0.0143],\n",
      "        [-0.9226,  0.0165],\n",
      "        [-1.1245, -0.0242]], device='cuda:0')\n",
      "W_ns_hist tensor([[ 0.6207,  0.0443],\n",
      "        [ 0.3180, -0.0786],\n",
      "        [ 0.4602, -0.0830],\n",
      "        [ 0.1590, -0.0453],\n",
      "        [ 0.6298, -0.1219]], device='cuda:0')\n",
      "Tau_s_hist tensor([-0.2980,  2.6500], device='cuda:0')\n",
      "Tau_ns_hist tensor([1.4253, 3.2624], device='cuda:0')\n",
      "Delta_s_hist tensor([0.3990, 0.5980, 0.6073, 0.6920, 0.1043], device='cuda:0')\n",
      "Delta_ns_hist tensor([0.0797, 0.9589, 0.8849, 0.7068, 0.2024], device='cuda:0')\n",
      "W_s_prop tensor([[ 0.3166, -0.1352],\n",
      "        [ 0.0024,  0.0096],\n",
      "        [ 0.0132,  0.0120],\n",
      "        [ 0.0109,  0.0130],\n",
      "        [ 0.0053,  0.0060]], device='cuda:0')\n",
      "W_ns_prop tensor([[ 0.0295, -0.1161],\n",
      "        [ 0.0173,  0.0144],\n",
      "        [ 0.0139,  0.0145],\n",
      "        [ 0.0066,  0.0100],\n",
      "        [ 0.0188,  0.0049]], device='cuda:0')\n",
      "Tau_s_prop tensor([-0.9043,  0.4827], device='cuda:0')\n",
      "Tau_ns_prop tensor([-0.6860,  1.5940], device='cuda:0')\n",
      "Delta_s_prop tensor([0.9535, 0.0110, 0.7951, 0.9129, 0.0447], device='cuda:0')\n",
      "Delta_ns_prop tensor([0.1873, 0.4403, 0.9076, 0.5231, 0.1834], device='cuda:0')\n"
     ]
    }
   ],
   "source": [
    "for name, param in model.named_parameters():\n",
    "    print(name, param.data)"
   ]
  },
  {
   "cell_type": "code",
   "execution_count": null,
   "metadata": {},
   "outputs": [],
   "source": []
  }
 ],
 "metadata": {
  "kernelspec": {
   "display_name": "Python 3",
   "language": "python",
   "name": "python3"
  },
  "language_info": {
   "codemirror_mode": {
    "name": "ipython",
    "version": 3
   },
   "file_extension": ".py",
   "mimetype": "text/x-python",
   "name": "python",
   "nbconvert_exporter": "python",
   "pygments_lexer": "ipython3",
   "version": "3.8.3"
  }
 },
 "nbformat": 4,
 "nbformat_minor": 4
}
