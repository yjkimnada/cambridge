{
 "cells": [
  {
   "cell_type": "code",
   "execution_count": 1,
   "metadata": {
    "ExecuteTime": {
     "end_time": "2020-11-25T00:21:35.839947Z",
     "start_time": "2020-11-25T00:21:35.216680Z"
    }
   },
   "outputs": [],
   "source": [
    "import numpy as np\n",
    "import torch\n",
    "import torch.nn as nn\n",
    "import matplotlib.pyplot as plt\n",
    "from tqdm import tnrange\n",
    "import torch.optim as optim\n",
    "import torch.nn.functional as F\n",
    "from gumbel_V3_NS_shGLM import gumbel_NS_shGLM\n",
    "from sklearn import metrics\n",
    "import torch.distributions as dist"
   ]
  },
  {
   "cell_type": "markdown",
   "metadata": {
    "ExecuteTime": {
     "end_time": "2020-11-07T05:28:12.372372Z",
     "start_time": "2020-11-07T05:28:12.368983Z"
    }
   },
   "source": [
    "# Hyperparams"
   ]
  },
  {
   "cell_type": "code",
   "execution_count": 2,
   "metadata": {
    "ExecuteTime": {
     "end_time": "2020-11-25T00:21:35.844288Z",
     "start_time": "2020-11-25T00:21:35.841161Z"
    }
   },
   "outputs": [],
   "source": [
    "train_T = 40000\n",
    "test_T = 8000\n",
    "T_syn = 75\n",
    "T_hist = 75\n",
    "C_den = torch.zeros(5,5)\n",
    "C_den[0,1:] = 1\n",
    "#C_den = torch.zeros(1).reshape(1,1)\n",
    "sub_no = C_den.shape[0]\n",
    "\n",
    "batch_size = 1500\n",
    "\n",
    "syn_basis_no = 2\n",
    "hist_basis_no = 2\n",
    "prop_basis_no = 2\n"
   ]
  },
  {
   "cell_type": "code",
   "execution_count": 3,
   "metadata": {
    "ExecuteTime": {
     "end_time": "2020-11-25T00:21:35.865945Z",
     "start_time": "2020-11-25T00:21:35.845569Z"
    }
   },
   "outputs": [],
   "source": [
    "Ensyn = torch.tensor([0, 106, 213, 211, 99])\n",
    "Insyn = torch.tensor([1, 22, 36, 42, 19])\n",
    "#Ensyn = torch.tensor([0+106+213+211+99])\n",
    "#Insyn = torch.tensor([1+22+36+42+19])\n",
    "E_no = torch.sum(Ensyn)\n",
    "I_no = torch.sum(Insyn)\n",
    "\n",
    "C_syn_e = torch.zeros(sub_no, E_no)\n",
    "C_syn_i = torch.zeros(sub_no, I_no)\n",
    "\n",
    "E_count = 0\n",
    "for s in range(sub_no):\n",
    "    C_syn_e[s,E_count:E_count+Ensyn[s]] = 1\n",
    "    E_count += Ensyn[s]\n",
    "\n",
    "I_count = 0\n",
    "for s in range(sub_no):\n",
    "    C_syn_i[s,I_count:I_count+Insyn[s]] = 1\n",
    "    I_count += Insyn[s]"
   ]
  },
  {
   "cell_type": "markdown",
   "metadata": {},
   "source": [
    "# Train Params"
   ]
  },
  {
   "cell_type": "code",
   "execution_count": 4,
   "metadata": {
    "ExecuteTime": {
     "end_time": "2020-11-25T00:21:38.029829Z",
     "start_time": "2020-11-25T00:21:35.870711Z"
    }
   },
   "outputs": [
    {
     "name": "stdout",
     "output_type": "stream",
     "text": [
      "torch.Size([8000])\n"
     ]
    }
   ],
   "source": [
    "model = gumbel_NS_shGLM(C_den.cuda(), C_syn_e.cuda(), C_syn_i.cuda(), T_syn, syn_basis_no,\n",
    "                T_hist, hist_basis_no, prop_basis_no)\n",
    "\n",
    "model = model.float().cuda()\n",
    "\n",
    "V_ref = np.load(\"/media/hdd01/sklee/cont_shglm/L23_inputs/vdata_NMDA_ApN0.5_13_Adend_r0_o2_i2_g_b5.npy\").flatten()[:48000]\n",
    "\n",
    "train_V_ref = V_ref[:train_T]\n",
    "test_V_ref = V_ref[train_T:train_T+test_T]\n",
    "\n",
    "test_V_ref = torch.from_numpy(test_V_ref).cuda()\n",
    "train_V_ref = torch.from_numpy(train_V_ref)\n",
    "print(test_V_ref.shape)"
   ]
  },
  {
   "cell_type": "code",
   "execution_count": 5,
   "metadata": {
    "ExecuteTime": {
     "end_time": "2020-11-25T00:21:38.096106Z",
     "start_time": "2020-11-25T00:21:38.030886Z"
    }
   },
   "outputs": [],
   "source": [
    "E_neural = np.load(\"/media/hdd01/sklee/cont_shglm/L23_inputs/Espikes_NMDA_ApN0.5_13_Adend_r0_o2_i2_g_b5_neural.npy\")\n",
    "I_neural = np.load(\"/media/hdd01/sklee/cont_shglm/L23_inputs/Ispikes_NMDA_ApN0.5_13_Adend_r0_o2_i2_g_b5_neural.npy\")\n",
    "\n",
    "train_S_E = E_neural[:train_T]\n",
    "train_S_I = I_neural[:train_T]\n",
    "test_S_E = E_neural[train_T:train_T+test_T]\n",
    "test_S_I = I_neural[train_T:train_T+test_T]\n",
    "\n",
    "train_S_E = torch.from_numpy(train_S_E)\n",
    "train_S_I = torch.from_numpy(train_S_I)\n",
    "test_S_E = torch.from_numpy(test_S_E).float().cuda()\n",
    "test_S_I = torch.from_numpy(test_S_I).float().cuda()"
   ]
  },
  {
   "cell_type": "code",
   "execution_count": 6,
   "metadata": {
    "ExecuteTime": {
     "end_time": "2020-11-25T00:21:38.103586Z",
     "start_time": "2020-11-25T00:21:38.097149Z"
    }
   },
   "outputs": [
    {
     "name": "stdout",
     "output_type": "stream",
     "text": [
      "154000\n",
      "154000\n"
     ]
    }
   ],
   "source": [
    "repeat_no = 4\n",
    "batch_no = (train_V_ref.shape[0] - batch_size) * repeat_no\n",
    "train_idx = np.empty((repeat_no, train_V_ref.shape[0] - batch_size))\n",
    "for i in range(repeat_no):\n",
    "    part_idx = np.arange(train_V_ref.shape[0] - batch_size)\n",
    "    np.random.shuffle(part_idx)\n",
    "    train_idx[i] = part_idx\n",
    "train_idx = train_idx.flatten()\n",
    "train_idx = torch.from_numpy(train_idx)\n",
    "\n",
    "print(batch_no)\n",
    "print(train_idx.shape[0])"
   ]
  },
  {
   "cell_type": "code",
   "execution_count": 7,
   "metadata": {
    "ExecuteTime": {
     "end_time": "2020-11-25T00:21:38.108865Z",
     "start_time": "2020-11-25T00:21:38.104867Z"
    }
   },
   "outputs": [
    {
     "name": "stdout",
     "output_type": "stream",
     "text": [
      "1521\n"
     ]
    }
   ],
   "source": [
    "optimizer = optim.Adam(model.parameters(), lr=0.002)\n",
    "#optimizer = optim.SGD(model.parameters(), lr=0.0002, momentum=0.9)\n",
    "print(sum(p.numel() for p in model.parameters() if p.requires_grad))\n",
    "scheduler = optim.lr_scheduler.StepLR(optimizer, step_size=3000, gamma=0.5)\n"
   ]
  },
  {
   "cell_type": "code",
   "execution_count": 8,
   "metadata": {
    "ExecuteTime": {
     "end_time": "2020-11-25T00:21:40.551131Z",
     "start_time": "2020-11-25T00:21:38.110035Z"
    },
    "scrolled": false
   },
   "outputs": [
    {
     "name": "stderr",
     "output_type": "stream",
     "text": [
      "<ipython-input-8-32b6a56f981f>:4: TqdmDeprecationWarning: Please use `tqdm.notebook.trange` instead of `tqdm.tnrange`\n",
      "  for i in tnrange(batch_no):\n"
     ]
    },
    {
     "data": {
      "application/vnd.jupyter.widget-view+json": {
       "model_id": "9f16de4d6eae4867a329f519d2f6a243",
       "version_major": 2,
       "version_minor": 0
      },
      "text/plain": [
       "HBox(children=(FloatProgress(value=0.0, max=154000.0), HTML(value='')))"
      ]
     },
     "metadata": {},
     "output_type": "display_data"
    },
    {
     "name": "stdout",
     "output_type": "stream",
     "text": [
      "TEST 0 120.07669078786996 -0.5078387711679959 -1.2381121680454017\n",
      "TEST 50 47.52779536585948 0.40317931866977785 0.35839329002231346\n",
      "TEST 100 39.31417211669169 0.5063202320734048 0.4186146391532952\n",
      "TEST 150 35.306482708128826 0.5566459815782671 0.5423614745779742\n",
      "TEST 200 34.8719320782827 0.562102763264374 0.5004392390786343\n",
      "TEST 250 34.45045076157721 0.5673954296980132 0.7019611404275836\n",
      "TEST 300 33.6585095758378 0.5773400710054255 0.5524765223675138\n",
      "TEST 350 34.50396089780025 0.5667234869800494 0.6606976485673959\n",
      "TEST 400 33.81156015263765 0.5754181693500381 0.5750378689768447\n",
      "TEST 450 34.08617960431444 0.5719696910881733 0.5706984446060428\n",
      "TEST 500 34.02518749145096 0.5727355872256534 0.5668470273045773\n",
      "\n"
     ]
    },
    {
     "ename": "KeyboardInterrupt",
     "evalue": "",
     "output_type": "error",
     "traceback": [
      "\u001b[0;31m---------------------------------------------------------------------------\u001b[0m",
      "\u001b[0;31mKeyboardInterrupt\u001b[0m                         Traceback (most recent call last)",
      "\u001b[0;32m<ipython-input-8-32b6a56f981f>\u001b[0m in \u001b[0;36m<module>\u001b[0;34m\u001b[0m\n\u001b[1;32m     16\u001b[0m \u001b[0;34m\u001b[0m\u001b[0m\n\u001b[1;32m     17\u001b[0m     \u001b[0mloss\u001b[0m\u001b[0;34m.\u001b[0m\u001b[0mbackward\u001b[0m\u001b[0;34m(\u001b[0m\u001b[0;34m)\u001b[0m\u001b[0;34m\u001b[0m\u001b[0;34m\u001b[0m\u001b[0m\n\u001b[0;32m---> 18\u001b[0;31m     \u001b[0moptimizer\u001b[0m\u001b[0;34m.\u001b[0m\u001b[0mstep\u001b[0m\u001b[0;34m(\u001b[0m\u001b[0;34m)\u001b[0m\u001b[0;34m\u001b[0m\u001b[0;34m\u001b[0m\u001b[0m\n\u001b[0m\u001b[1;32m     19\u001b[0m     \u001b[0;31m#scheduler.step()\u001b[0m\u001b[0;34m\u001b[0m\u001b[0;34m\u001b[0m\u001b[0;34m\u001b[0m\u001b[0m\n\u001b[1;32m     20\u001b[0m \u001b[0;34m\u001b[0m\u001b[0m\n",
      "\u001b[0;32m~/anaconda3/lib/python3.8/site-packages/torch/optim/lr_scheduler.py\u001b[0m in \u001b[0;36mwrapper\u001b[0;34m(*args, **kwargs)\u001b[0m\n\u001b[1;32m     65\u001b[0m                 \u001b[0minstance\u001b[0m\u001b[0;34m.\u001b[0m\u001b[0m_step_count\u001b[0m \u001b[0;34m+=\u001b[0m \u001b[0;36m1\u001b[0m\u001b[0;34m\u001b[0m\u001b[0;34m\u001b[0m\u001b[0m\n\u001b[1;32m     66\u001b[0m                 \u001b[0mwrapped\u001b[0m \u001b[0;34m=\u001b[0m \u001b[0mfunc\u001b[0m\u001b[0;34m.\u001b[0m\u001b[0m__get__\u001b[0m\u001b[0;34m(\u001b[0m\u001b[0minstance\u001b[0m\u001b[0;34m,\u001b[0m \u001b[0mcls\u001b[0m\u001b[0;34m)\u001b[0m\u001b[0;34m\u001b[0m\u001b[0;34m\u001b[0m\u001b[0m\n\u001b[0;32m---> 67\u001b[0;31m                 \u001b[0;32mreturn\u001b[0m \u001b[0mwrapped\u001b[0m\u001b[0;34m(\u001b[0m\u001b[0;34m*\u001b[0m\u001b[0margs\u001b[0m\u001b[0;34m,\u001b[0m \u001b[0;34m**\u001b[0m\u001b[0mkwargs\u001b[0m\u001b[0;34m)\u001b[0m\u001b[0;34m\u001b[0m\u001b[0;34m\u001b[0m\u001b[0m\n\u001b[0m\u001b[1;32m     68\u001b[0m \u001b[0;34m\u001b[0m\u001b[0m\n\u001b[1;32m     69\u001b[0m             \u001b[0;31m# Note that the returned function here is no longer a bound method,\u001b[0m\u001b[0;34m\u001b[0m\u001b[0;34m\u001b[0m\u001b[0;34m\u001b[0m\u001b[0m\n",
      "\u001b[0;32m~/anaconda3/lib/python3.8/site-packages/torch/autograd/grad_mode.py\u001b[0m in \u001b[0;36mdecorate_context\u001b[0;34m(*args, **kwargs)\u001b[0m\n\u001b[1;32m     24\u001b[0m         \u001b[0;32mdef\u001b[0m \u001b[0mdecorate_context\u001b[0m\u001b[0;34m(\u001b[0m\u001b[0;34m*\u001b[0m\u001b[0margs\u001b[0m\u001b[0;34m,\u001b[0m \u001b[0;34m**\u001b[0m\u001b[0mkwargs\u001b[0m\u001b[0;34m)\u001b[0m\u001b[0;34m:\u001b[0m\u001b[0;34m\u001b[0m\u001b[0;34m\u001b[0m\u001b[0m\n\u001b[1;32m     25\u001b[0m             \u001b[0;32mwith\u001b[0m \u001b[0mself\u001b[0m\u001b[0;34m.\u001b[0m\u001b[0m__class__\u001b[0m\u001b[0;34m(\u001b[0m\u001b[0;34m)\u001b[0m\u001b[0;34m:\u001b[0m\u001b[0;34m\u001b[0m\u001b[0;34m\u001b[0m\u001b[0m\n\u001b[0;32m---> 26\u001b[0;31m                 \u001b[0;32mreturn\u001b[0m \u001b[0mfunc\u001b[0m\u001b[0;34m(\u001b[0m\u001b[0;34m*\u001b[0m\u001b[0margs\u001b[0m\u001b[0;34m,\u001b[0m \u001b[0;34m**\u001b[0m\u001b[0mkwargs\u001b[0m\u001b[0;34m)\u001b[0m\u001b[0;34m\u001b[0m\u001b[0;34m\u001b[0m\u001b[0m\n\u001b[0m\u001b[1;32m     27\u001b[0m         \u001b[0;32mreturn\u001b[0m \u001b[0mcast\u001b[0m\u001b[0;34m(\u001b[0m\u001b[0mF\u001b[0m\u001b[0;34m,\u001b[0m \u001b[0mdecorate_context\u001b[0m\u001b[0;34m)\u001b[0m\u001b[0;34m\u001b[0m\u001b[0;34m\u001b[0m\u001b[0m\n\u001b[1;32m     28\u001b[0m \u001b[0;34m\u001b[0m\u001b[0m\n",
      "\u001b[0;32m~/anaconda3/lib/python3.8/site-packages/torch/optim/adam.py\u001b[0m in \u001b[0;36mstep\u001b[0;34m(self, closure)\u001b[0m\n\u001b[1;32m    106\u001b[0m \u001b[0;34m\u001b[0m\u001b[0m\n\u001b[1;32m    107\u001b[0m             \u001b[0mbeta1\u001b[0m\u001b[0;34m,\u001b[0m \u001b[0mbeta2\u001b[0m \u001b[0;34m=\u001b[0m \u001b[0mgroup\u001b[0m\u001b[0;34m[\u001b[0m\u001b[0;34m'betas'\u001b[0m\u001b[0;34m]\u001b[0m\u001b[0;34m\u001b[0m\u001b[0;34m\u001b[0m\u001b[0m\n\u001b[0;32m--> 108\u001b[0;31m             F.adam(params_with_grad,\n\u001b[0m\u001b[1;32m    109\u001b[0m                    \u001b[0mgrads\u001b[0m\u001b[0;34m,\u001b[0m\u001b[0;34m\u001b[0m\u001b[0;34m\u001b[0m\u001b[0m\n\u001b[1;32m    110\u001b[0m                    \u001b[0mexp_avgs\u001b[0m\u001b[0;34m,\u001b[0m\u001b[0;34m\u001b[0m\u001b[0;34m\u001b[0m\u001b[0m\n",
      "\u001b[0;32m~/anaconda3/lib/python3.8/site-packages/torch/optim/functional.py\u001b[0m in \u001b[0;36madam\u001b[0;34m(params, grads, exp_avgs, exp_avg_sqs, max_exp_avg_sqs, state_steps, amsgrad, beta1, beta2, lr, weight_decay, eps)\u001b[0m\n\u001b[1;32m     96\u001b[0m         \u001b[0mstep_size\u001b[0m \u001b[0;34m=\u001b[0m \u001b[0mlr\u001b[0m \u001b[0;34m/\u001b[0m \u001b[0mbias_correction1\u001b[0m\u001b[0;34m\u001b[0m\u001b[0;34m\u001b[0m\u001b[0m\n\u001b[1;32m     97\u001b[0m \u001b[0;34m\u001b[0m\u001b[0m\n\u001b[0;32m---> 98\u001b[0;31m         \u001b[0mparam\u001b[0m\u001b[0;34m.\u001b[0m\u001b[0maddcdiv_\u001b[0m\u001b[0;34m(\u001b[0m\u001b[0mexp_avg\u001b[0m\u001b[0;34m,\u001b[0m \u001b[0mdenom\u001b[0m\u001b[0;34m,\u001b[0m \u001b[0mvalue\u001b[0m\u001b[0;34m=\u001b[0m\u001b[0;34m-\u001b[0m\u001b[0mstep_size\u001b[0m\u001b[0;34m)\u001b[0m\u001b[0;34m\u001b[0m\u001b[0;34m\u001b[0m\u001b[0m\n\u001b[0m",
      "\u001b[0;31mKeyboardInterrupt\u001b[0m: "
     ]
    }
   ],
   "source": [
    "#batch_no = 10000\n",
    "loss_array = np.empty((batch_no//100, 2))\n",
    "\n",
    "for i in tnrange(batch_no):\n",
    "    model.train()\n",
    "    optimizer.zero_grad()\n",
    "    batch_idx = train_idx[i].long()\n",
    "    batch_S_E = train_S_E[batch_idx : batch_idx+batch_size].float().cuda()\n",
    "    batch_S_I = train_S_I[batch_idx : batch_idx+batch_size].float().cuda()\n",
    "    batch_pred, _, __ = model(batch_S_E, batch_S_I)\n",
    "    batch_ref = train_V_ref[batch_idx:batch_idx+batch_size].cuda()\n",
    "        \n",
    "    diff = (batch_ref - batch_pred) ** 1\n",
    "    loss = torch.var(diff)\n",
    "    #loss_array[i] = loss.item()\n",
    "        \n",
    "    loss.backward()\n",
    "    optimizer.step()\n",
    "    #scheduler.step()\n",
    "    \n",
    "    if i%50 == 0:\n",
    "        model.eval()\n",
    "        test_pred, _,__ = model(test_S_E, test_S_I)\n",
    "        test_diff = (test_V_ref - test_pred) ** 1\n",
    "        test_loss = torch.var(test_diff)\n",
    "        test_score = metrics.explained_variance_score(y_true=test_V_ref.cpu().detach().numpy(),\n",
    "                                                      y_pred=test_pred.cpu().detach().numpy(),\n",
    "                                                      multioutput='uniform_average')\n",
    "        train_score = metrics.explained_variance_score(y_true=batch_ref.cpu().detach().numpy(),\n",
    "                                                      y_pred=batch_pred.cpu().detach().numpy(),\n",
    "                                                      multioutput='uniform_average')\n",
    "        print(\"TEST\", i, test_loss.item(), test_score.item(), train_score.item())\n",
    "        #print(torch.mean(test_spikes, 0).cpu().detach().numpy())\n",
    "        #print(torch.mean(spike_probs, 0).cpu().detach().numpy())\n",
    "        #if i%100 == 0:\n",
    "            #torch.save(model.state_dict(), \"/media/hdd01/sklee/cont_shglm/burst_L23_NS_sub5_s2_h2_shglm_i\"+str(i)+\".pt\")\n",
    "            #loss_array[i//100,0] = i\n",
    "            #loss_array[i//100,1] = test_score\n",
    "            #np.save(\"/media/hdd01/sklee/cont_shglm/burst_L23_NS_test_scores.npy\", loss_array)\n"
   ]
  },
  {
   "cell_type": "code",
   "execution_count": 9,
   "metadata": {
    "ExecuteTime": {
     "end_time": "2020-11-24T12:52:32.261286Z",
     "start_time": "2020-11-24T12:52:32.258078Z"
    }
   },
   "outputs": [
    {
     "name": "stdout",
     "output_type": "stream",
     "text": [
      "torch.Size([5, 1, 75])\n"
     ]
    }
   ],
   "source": [
    "print(model.conv_e.weight.shape)"
   ]
  },
  {
   "cell_type": "code",
   "execution_count": 10,
   "metadata": {
    "ExecuteTime": {
     "end_time": "2020-11-25T00:24:16.380801Z",
     "start_time": "2020-11-25T00:24:16.285898Z"
    }
   },
   "outputs": [
    {
     "data": {
      "text/plain": [
       "[<matplotlib.lines.Line2D at 0x7f636033ad30>]"
      ]
     },
     "execution_count": 10,
     "metadata": {},
     "output_type": "execute_result"
    },
    {
     "data": {
      "image/png": "[encoded data removed]",
      "text/plain": [
       "<Figure size 432x288 with 1 Axes>"
      ]
     },
     "metadata": {
      "needs_background": "light"
     },
     "output_type": "display_data"
    }
   ],
   "source": [
    "plt.plot(model.conv_e.weight[1,0,:].cpu().detach().numpy())"
   ]
  },
  {
   "cell_type": "code",
   "execution_count": null,
   "metadata": {},
   "outputs": [],
   "source": []
  },
  {
   "cell_type": "markdown",
   "metadata": {
    "heading_collapsed": true
   },
   "source": [
    "# Test "
   ]
  },
  {
   "cell_type": "code",
   "execution_count": 5,
   "metadata": {
    "ExecuteTime": {
     "end_time": "2020-11-22T19:29:23.043072Z",
     "start_time": "2020-11-22T19:29:20.875532Z"
    },
    "hidden": true
   },
   "outputs": [],
   "source": [
    "model = gumbel_NS_shGLM(C_den.cuda(), C_syn_e.cuda(), C_syn_i.cuda(), T_syn, syn_basis_no,\n",
    "                T_hist, hist_basis_no, prop_basis_no)\n",
    "\n",
    "model.load_state_dict(torch.load(\"/media/hdd01/sklee/cont_shglm/burst_L23_NS_sub5_s2_h2_shglm_i9900.pt\"))\n",
    "model = model.float().to(\"cuda\")\n",
    "\n",
    "V_ref = np.load(\"/media/hdd01/sklee/cont_shglm/L23_inputs/vdata_NMDA_ApN0.5_13_Adend_r0_o2_i2_g_b5.npy\").flatten()[:48000]\n",
    "\n",
    "test_V_ref = V_ref[train_T:train_T+test_T]\n"
   ]
  },
  {
   "cell_type": "code",
   "execution_count": 6,
   "metadata": {
    "ExecuteTime": {
     "end_time": "2020-11-22T19:29:26.726428Z",
     "start_time": "2020-11-22T19:29:23.044130Z"
    },
    "hidden": true
   },
   "outputs": [],
   "source": [
    "E_neural = np.load(\"/media/hdd01/sklee/cont_shglm/L23_inputs/Espikes_NMDA_ApN0.5_13_Adend_r0_o2_i2_g_b5_neural.npy\")\n",
    "I_neural = np.load(\"/media/hdd01/sklee/cont_shglm/L23_inputs/Ispikes_NMDA_ApN0.5_13_Adend_r0_o2_i2_g_b5_neural.npy\")\n",
    "\n",
    "test_S_E = E_neural[train_T:train_T+test_T]\n",
    "test_S_I = I_neural[train_T:train_T+test_T]\n",
    "\n",
    "test_S_E = torch.from_numpy(test_S_E).float().cuda()\n",
    "test_S_I = torch.from_numpy(test_S_I).float().cuda()\n",
    "\n",
    "test_V_final, raw1, raw2 = model(test_S_E, test_S_I)\n",
    "\n",
    "test_V_final = test_V_final.cpu().detach().numpy()\n",
    "raw1 = raw1.cpu().detach().numpy()\n",
    "raw2 = raw2.cpu().detach().numpy()"
   ]
  },
  {
   "cell_type": "code",
   "execution_count": 7,
   "metadata": {
    "ExecuteTime": {
     "end_time": "2020-11-22T19:29:27.037970Z",
     "start_time": "2020-11-22T19:29:26.727616Z"
    },
    "hidden": true
   },
   "outputs": [
    {
     "name": "stdout",
     "output_type": "stream",
     "text": [
      "0.8148457582803112\n"
     ]
    },
    {
     "data": {
      "image/png": "[encoded data removed]",
      "text/plain": [
       "<Figure size 1008x288 with 1 Axes>"
      ]
     },
     "metadata": {
      "needs_background": "light"
     },
     "output_type": "display_data"
    }
   ],
   "source": [
    "plt.figure(figsize = (14,4))\n",
    "plt.plot(test_V_ref[:2000], label=\"Biophysical\", c=\"blue\")\n",
    "plt.plot(test_V_final[:2000]-23,label=\"shGLM\", c=\"red\")\n",
    "print(np.corrcoef(test_V_ref, test_V_final)[0][1])\n",
    "\n",
    "\n",
    "test_score = metrics.explained_variance_score(y_true=test_V_ref,\n",
    "                                                      y_pred=test_V_final,\n",
    "                                                      multioutput='uniform_average')\n",
    "\n",
    "plt.title(\"No spike at all \\n Variance Explained: \" + str(round(test_score, 5)), fontsize = 16)\n",
    "#plt.xticks(np.arange(0,8001,1000),[0,1,2,3,4,5,6,7,8])\n",
    "#plt.xticks(np.arange(0,4001,1000),[0,1,2,3,4])\n",
    "plt.xlabel(\"Time (s)\")\n",
    "plt.ylabel(\"Sub-Threshold Voltage (mV)\")\n",
    "plt.legend()\n",
    "#plt.show()\n",
    "\n",
    "\n",
    "plt.savefig(\"/media/hdd01/sklee/cont_shglm/non_spike.png\", dpi=150, bbox_inches='tight')#"
   ]
  },
  {
   "cell_type": "code",
   "execution_count": null,
   "metadata": {
    "hidden": true
   },
   "outputs": [],
   "source": []
  },
  {
   "cell_type": "code",
   "execution_count": 20,
   "metadata": {
    "ExecuteTime": {
     "end_time": "2020-11-16T21:19:08.314496Z",
     "start_time": "2020-11-16T21:19:08.305530Z"
    },
    "hidden": true
   },
   "outputs": [
    {
     "name": "stdout",
     "output_type": "stream",
     "text": [
      "(2, 8000)\n",
      "(2, 4, 8000)\n"
     ]
    }
   ],
   "source": [
    "output_save = np.vstack((test_V_ref.reshape((1,-1)), test_V_final.reshape((1,-1))))\n",
    "print(output_save.shape)\n",
    "dend_save = np.vstack((raw1.T.reshape((1,4,8000)), raw2.T.reshape((1,4,8000))))\n",
    "print(dend_save.shape)\n",
    "\n",
    "np.save(\"/media/hdd01/sklee/cont_shglm/gumbelNS_test_V.npy\", output_save)\n",
    "np.save(\"/media/hdd01/sklee/cont_shglm/gumbelNS_test_dend.npy\", dend_save)"
   ]
  },
  {
   "cell_type": "code",
   "execution_count": 14,
   "metadata": {
    "ExecuteTime": {
     "end_time": "2020-11-16T21:18:11.708476Z",
     "start_time": "2020-11-16T21:18:11.704306Z"
    },
    "hidden": true
   },
   "outputs": [
    {
     "name": "stdout",
     "output_type": "stream",
     "text": [
      "(2, 4, 8000)\n"
     ]
    }
   ],
   "source": []
  },
  {
   "cell_type": "code",
   "execution_count": 7,
   "metadata": {
    "ExecuteTime": {
     "end_time": "2020-11-16T21:50:17.446844Z",
     "start_time": "2020-11-16T21:50:17.429351Z"
    },
    "hidden": true
   },
   "outputs": [
    {
     "name": "stdout",
     "output_type": "stream",
     "text": [
      "W_s_syn tensor([[[-0.1624, -0.0848],\n",
      "         [ 0.1365,  0.0448]],\n",
      "\n",
      "        [[ 0.3157, -0.0853],\n",
      "         [ 0.1495, -0.3303]],\n",
      "\n",
      "        [[ 0.1255, -0.0034],\n",
      "         [ 0.1035, -0.0407]],\n",
      "\n",
      "        [[ 0.3448, -0.0469],\n",
      "         [ 0.0828, -0.1274]],\n",
      "\n",
      "        [[-0.0161,  0.1923],\n",
      "         [ 0.1236, -0.1168]]], device='cuda:0')\n",
      "W_ns_syn tensor([[[ 0.2483, -0.0441],\n",
      "         [ 0.0923, -0.0547]],\n",
      "\n",
      "        [[ 0.1721, -0.1139],\n",
      "         [ 0.2915, -0.2533]],\n",
      "\n",
      "        [[ 0.1550, -0.1090],\n",
      "         [ 0.1909, -0.2760]],\n",
      "\n",
      "        [[ 0.0469, -0.0140],\n",
      "         [ 0.1290, -0.2260]],\n",
      "\n",
      "        [[ 0.2104, -0.1224],\n",
      "         [ 0.2423, -0.3467]]], device='cuda:0')\n",
      "Tau_s_syn tensor([[-0.1319, -0.2743],\n",
      "        [ 3.1384,  3.2318]], device='cuda:0')\n",
      "Tau_ns_syn tensor([[-0.1486, -0.8959],\n",
      "        [ 1.7912,  1.2792]], device='cuda:0')\n",
      "Delta_s_syn tensor([[0.1235, 0.8714],\n",
      "        [3.1644, 2.6106],\n",
      "        [0.0321, 3.5678],\n",
      "        [0.5318, 3.0040],\n",
      "        [2.5279, 1.5562]], device='cuda:0')\n",
      "Delta_ns_syn tensor([[ 0.8634,  0.6472],\n",
      "        [-0.1998, -0.1424],\n",
      "        [ 0.9098,  0.5698],\n",
      "        [ 1.2698,  0.3095],\n",
      "        [ 0.4394, -0.1566]], device='cuda:0')\n",
      "W_s_s_sub tensor([0.9999, 0.1998, 0.8139, 0.7772], device='cuda:0')\n",
      "W_s_ns_sub tensor([1.2271, 1.2085, 1.0819, 0.8274], device='cuda:0')\n",
      "W_ns_s_sub tensor([0.1824, 0.5420, 0.3794, 0.5466, 0.5109], device='cuda:0')\n",
      "W_ns_ns_sub tensor([19.9891,  1.2404,  1.4018,  2.5731,  1.2471], device='cuda:0')\n",
      "V_o tensor([-63.6663], device='cuda:0')\n",
      "Theta_s tensor([-2.5748, -3.2538, -1.2652, -2.1403], device='cuda:0')\n",
      "Theta_ns tensor([-1.6510, -1.8013, -1.7962, -1.9532, -1.4751], device='cuda:0')\n"
     ]
    }
   ],
   "source": [
    "for name, param in model.named_parameters():\n",
    "    print(name, param.data)"
   ]
  },
  {
   "cell_type": "code",
   "execution_count": null,
   "metadata": {
    "hidden": true
   },
   "outputs": [],
   "source": []
  }
 ],
 "metadata": {
  "kernelspec": {
   "display_name": "Python 3",
   "language": "python",
   "name": "python3"
  },
  "language_info": {
   "codemirror_mode": {
    "name": "ipython",
    "version": 3
   },
   "file_extension": ".py",
   "mimetype": "text/x-python",
   "name": "python",
   "nbconvert_exporter": "python",
   "pygments_lexer": "ipython3",
   "version": "3.8.3"
  }
 },
 "nbformat": 4,
 "nbformat_minor": 4
}
