{
 "cells": [
  {
   "cell_type": "code",
   "execution_count": 1,
   "metadata": {
    "ExecuteTime": {
     "end_time": "2020-10-19T18:31:12.296463Z",
     "start_time": "2020-10-19T18:31:11.687224Z"
    }
   },
   "outputs": [],
   "source": [
    "import numpy as np\n",
    "import torch\n",
    "import torch.nn as nn\n",
    "import matplotlib.pyplot as plt\n",
    "from tqdm import tnrange\n",
    "import torch.optim as optim\n",
    "import torch.nn.functional as F\n",
    "from shGLM_class import shGLM\n",
    "from sklearn import metrics"
   ]
  },
  {
   "cell_type": "markdown",
   "metadata": {},
   "source": [
    "# Hyperparams"
   ]
  },
  {
   "cell_type": "code",
   "execution_count": 2,
   "metadata": {
    "ExecuteTime": {
     "end_time": "2020-10-19T18:31:12.300806Z",
     "start_time": "2020-10-19T18:31:12.297655Z"
    }
   },
   "outputs": [],
   "source": [
    "train_T = 20000\n",
    "test_T = 8000\n",
    "syn_T = 351\n",
    "C_den = torch.Tensor([0]).reshape((1,1))\n",
    "sub_no = C_den.shape[0]\n",
    "\n",
    "batch_size = 2094\n",
    "\n",
    "syn_basis_no = 2\n",
    "hist_basis_no = 3\n",
    "spike_status = True\n",
    "hist_T = 251"
   ]
  },
  {
   "cell_type": "code",
   "execution_count": 3,
   "metadata": {
    "ExecuteTime": {
     "end_time": "2020-10-19T18:31:12.330609Z",
     "start_time": "2020-10-19T18:31:12.301885Z"
    }
   },
   "outputs": [],
   "source": [
    "Ensyn = torch.tensor([629])\n",
    "Insyn = torch.tensor([120])\n",
    "N = Ensyn.item() + Insyn.item()\n",
    "\n",
    "C_syn = torch.zeros(sub_no, N)\n",
    "count = 0\n",
    "for m in range(sub_no):\n",
    "    for e in range(Ensyn[m]):\n",
    "        C_syn[m,count] = 1\n",
    "        count += 1\n",
    "        \n",
    "for m in range(sub_no):\n",
    "    for i in range(Insyn[m]):\n",
    "        C_syn[m,count] = -1\n",
    "        count += 1"
   ]
  },
  {
   "cell_type": "markdown",
   "metadata": {
    "heading_collapsed": true
   },
   "source": [
    "# Pre-Fit Params (1 Subunit)"
   ]
  },
  {
   "cell_type": "code",
   "execution_count": 4,
   "metadata": {
    "ExecuteTime": {
     "end_time": "2020-10-18T21:10:44.566157Z",
     "start_time": "2020-10-18T21:10:42.797828Z"
    },
    "hidden": true
   },
   "outputs": [],
   "source": [
    "fit_shGLM = shGLM(C_den, C_syn, syn_T, Ensyn,\n",
    "                 syn_basis_no, hist_basis_no,\n",
    "                 spike_status, hist_T).cuda()\n",
    "fit_shGLM.load_state_dict(torch.load(\"/media/hdd01/sklee/shglm/biophysical/pre_fit/pre1_nospike_s2_h3_shglm_i17000.pt\"))\n",
    "fit_shGLM.train()\n",
    "\n",
    "V_ref = np.fromfile(\"/media/hdd01/sklee/hglm/biophysical/inputs/vdata_NMDA_ApN0.5_13_Adend_r0_o2_i2_g_b0.bin\")\n",
    "V_ref = V_ref[1:-2]\n",
    "\n",
    "train_V_ref = V_ref[:train_T]\n",
    "test_V_ref = V_ref[train_T:train_T+test_T]\n",
    "\n",
    "test_V_ref = torch.from_numpy(test_V_ref).cuda()\n",
    "train_V_ref = torch.from_numpy(train_V_ref)"
   ]
  },
  {
   "cell_type": "code",
   "execution_count": 5,
   "metadata": {
    "ExecuteTime": {
     "end_time": "2020-10-18T21:10:44.574758Z",
     "start_time": "2020-10-18T21:10:44.567200Z"
    },
    "hidden": true
   },
   "outputs": [
    {
     "data": {
      "text/plain": [
       "shGLM()"
      ]
     },
     "execution_count": 5,
     "metadata": {},
     "output_type": "execute_result"
    }
   ],
   "source": [
    "adjust_K_hist = torch.ones(sub_no, hist_basis_no)*(0.05)\n",
    "adjust_thresh = torch.ones(sub_no)*7\n",
    "adjust_spike_size = torch.ones(sub_no)*5\n",
    "adjust_thresh_scale = torch.ones(sub_no)*5\n",
    "\n",
    "with torch.no_grad():\n",
    "    fit_shGLM.K_hist = nn.Parameter(adjust_K_hist.float(), requires_grad=True)\n",
    "    fit_shGLM.thresh = nn.Parameter(adjust_thresh.float(), requires_grad=True)\n",
    "    fit_shGLM.spike_size = nn.Parameter(adjust_spike_size, requires_grad=True)\n",
    "    fit_shGLM.thresh_scale = nn.Parameter(adjust_thresh_scale, requires_grad=True)\n",
    "    \n",
    "fit_shGLM.cuda()"
   ]
  },
  {
   "cell_type": "code",
   "execution_count": 6,
   "metadata": {
    "ExecuteTime": {
     "end_time": "2020-10-18T21:10:44.744716Z",
     "start_time": "2020-10-18T21:10:44.575870Z"
    },
    "hidden": true
   },
   "outputs": [],
   "source": [
    "E_neural = np.load(\"/media/hdd01/sklee/shglm/biophysical/inputs/Espikes_d48000_r1_rep1_Ne629_e5_E20_neural.npy\")\n",
    "I_neural = np.load(\"/media/hdd01/sklee/shglm/biophysical/inputs/Ispikes_d48000_r1_rep1_Ni120_i20_I30_neural.npy\")\n",
    "\n",
    "train_neural = np.hstack((E_neural, I_neural))[:train_T]\n",
    "test_neural = np.hstack((E_neural, I_neural))[train_T:train_T + test_T]\n",
    "train_neural = torch.from_numpy(train_neural)\n",
    "test_neural = torch.from_numpy(test_neural).cuda()\n"
   ]
  },
  {
   "cell_type": "code",
   "execution_count": 7,
   "metadata": {
    "ExecuteTime": {
     "end_time": "2020-10-18T21:10:44.749776Z",
     "start_time": "2020-10-18T21:10:44.745600Z"
    },
    "hidden": true
   },
   "outputs": [
    {
     "name": "stdout",
     "output_type": "stream",
     "text": [
      "17906\n",
      "17906\n"
     ]
    }
   ],
   "source": [
    "repeat_no = 1\n",
    "batch_no = (train_V_ref.shape[0] - batch_size) * repeat_no\n",
    "train_idx = np.empty((repeat_no, train_V_ref.shape[0] - batch_size))\n",
    "for i in range(repeat_no):\n",
    "    part_idx = np.arange(train_V_ref.shape[0] - batch_size)\n",
    "    np.random.shuffle(part_idx)\n",
    "    train_idx[i] = part_idx\n",
    "train_idx = train_idx.flatten()\n",
    "train_idx = torch.from_numpy(train_idx)\n",
    "\n",
    "print(batch_no)\n",
    "print(train_idx.shape[0])"
   ]
  },
  {
   "cell_type": "code",
   "execution_count": 8,
   "metadata": {
    "ExecuteTime": {
     "end_time": "2020-10-18T21:10:45.422184Z",
     "start_time": "2020-10-18T21:10:45.417288Z"
    },
    "hidden": true
   },
   "outputs": [],
   "source": [
    "no_spike_bool = True\n",
    "spike_bool = True\n",
    "\n",
    "fit_shGLM.V_o.requires_grad = no_spike_bool\n",
    "fit_shGLM.K_syn.requires_grad = no_spike_bool\n",
    "fit_shGLM.Delta.requires_grad = no_spike_bool\n",
    "#fit_shGLM.W.requires_grad = no_spike_bool\n",
    "fit_shGLM.C.requires_grad= no_spike_bool\n",
    "fit_shGLM.Theta.requires_grad = no_spike_bool\n",
    "\n",
    "fit_shGLM.thresh.requires_grad = spike_bool\n",
    "fit_shGLM.spike_size.requires_grad = spike_bool\n",
    "fit_shGLM.K_hist.requires_grad = spike_bool\n",
    "#fit_shGLM.W_hist.requires_grad = spike_bool"
   ]
  },
  {
   "cell_type": "code",
   "execution_count": 9,
   "metadata": {
    "ExecuteTime": {
     "end_time": "2020-10-18T21:10:46.828098Z",
     "start_time": "2020-10-18T21:10:46.824178Z"
    },
    "hidden": true
   },
   "outputs": [],
   "source": [
    "optimizer = optim.Adam(fit_shGLM.parameters(), lr=0.001)\n",
    "#optimizer = optim.Adam(fit_shGLM.parameters(), lr=0.0025)\n",
    "#optimizer = optim.Adam(fit_shGLM.parameters(), lr=0.00025)\n",
    "\n",
    "\n",
    "criterion = nn.MSELoss(reduction=\"mean\")"
   ]
  },
  {
   "cell_type": "code",
   "execution_count": 10,
   "metadata": {
    "ExecuteTime": {
     "end_time": "2020-10-19T01:49:30.832038Z",
     "start_time": "2020-10-18T21:10:51.465228Z"
    },
    "hidden": true,
    "scrolled": true
   },
   "outputs": [
    {
     "name": "stderr",
     "output_type": "stream",
     "text": [
      "<ipython-input-10-59e0c78ed87d>:3: TqdmDeprecationWarning: Please use `tqdm.notebook.trange` instead of `tqdm.tnrange`\n",
      "  for i in tnrange(batch_no):\n"
     ]
    },
    {
     "data": {
      "application/vnd.jupyter.widget-view+json": {
       "model_id": "020a06271c5a4c5db7f59c548d1f3855",
       "version_major": 2,
       "version_minor": 0
      },
      "text/plain": [
       "HBox(children=(FloatProgress(value=0.0, max=17906.0), HTML(value='')))"
      ]
     },
     "metadata": {},
     "output_type": "display_data"
    },
    {
     "name": "stdout",
     "output_type": "stream",
     "text": [
      "TEST 0 2.134153540764032 0.8454778414600788 0.7139293510568707\n",
      "TEST 100 2.1371910414816266 0.8452579128830182 0.7176471701967662\n",
      "TEST 200 1.8878590107553306 0.8633106550465242 0.7897415342905932\n",
      "TEST 300 1.8388313520695654 0.8668604744664669 0.7162609563499541\n",
      "TEST 400 1.79601487092915 0.8699605771827327 0.7197575425217256\n",
      "TEST 500 1.7669255310989342 0.8720667740785897 0.6502068470062785\n",
      "TEST 600 1.7053013551060794 0.8765286371164971 0.7821718431991865\n",
      "TEST 700 1.846704452482442 0.8662904272104548 0.8298292690502292\n",
      "TEST 800 2.720061323150032 0.8030555259218866 0.5803773784462578\n",
      "TEST 900 1.652286640596959 0.8803671370079942 0.73601242796311\n",
      "TEST 1000 1.971066708165302 0.8572860498402644 0.7793046716162688\n",
      "TEST 1100 1.644376101751463 0.8809398950911429 0.6844761580138733\n",
      "TEST 1200 1.6575530519362136 0.8799858255964237 0.64256791936868\n",
      "TEST 1300 2.091623538369967 0.8485572017133705 0.8031978444756235\n",
      "TEST 1400 1.614595888630299 0.883096114210117 0.7447585367612236\n",
      "TEST 1500 1.7673290656420002 0.8720375564022353 0.6966337509576801\n",
      "TEST 1600 1.6775435176790228 0.8785384274267273 0.747473038039921\n",
      "TEST 1700 1.594374376554892 0.8845602411705809 0.8067926153481625\n",
      "TEST 1800 1.668993028818403 0.8791575205693759 0.7865207200432174\n",
      "TEST 1900 1.623662456239745 0.8824396546079777 0.6912840551573656\n",
      "TEST 2000 1.7170849441723592 0.8756754531066336 0.7452749313480609\n",
      "TEST 2100 1.8405989945983665 0.8667324895330206 0.7155787972206782\n",
      "TEST 2200 1.7133795789910435 0.8759437380614489 0.8640615835896522\n",
      "TEST 2300 1.635846914563261 0.8815574459880845 0.8067217596197107\n",
      "TEST 2400 1.6219556416176906 0.8825632355979773 0.7384067072445553\n",
      "TEST 2500 1.7109262296483891 0.87612137140992 0.772931805566994\n",
      "TEST 2600 1.7604794452285082 0.8725334992420696 0.7620185607803207\n",
      "TEST 2700 1.691864330064574 0.8775015372690887 0.7667459767832592\n",
      "TEST 2800 1.5897954963145025 0.8848917723541578 0.7696123453740364\n",
      "TEST 2900 1.579184653517452 0.8856600443598429 0.847807757821156\n",
      "TEST 3000 1.660070870717946 0.8798035243027915 0.6739723567402766\n",
      "TEST 3100 1.5138779659975756 0.890388537442601 0.845155875567616\n",
      "TEST 3200 1.7507784975617535 0.8732358907582762 0.8333714966934739\n",
      "TEST 3300 1.6277307596350985 0.8821450915123847 0.7659307781494427\n",
      "TEST 3400 1.5737942800065197 0.886050331214111 0.7355756967952363\n",
      "TEST 3500 1.5838681441913511 0.8853209389203858 0.7271457335901584\n",
      "TEST 3600 1.643482257361238 0.8810046133728253 0.8662181279983601\n",
      "TEST 3700 1.7982787464738765 0.869796662560355 0.7468837518059444\n",
      "TEST 3800 1.5719570714867452 0.886183353285938 0.6948951881335328\n",
      "TEST 3900 1.517108080088747 0.890154662897532 0.7985844848473006\n",
      "TEST 4000 1.7497172788894266 0.8733127276871452 0.8155857277189447\n",
      "TEST 4100 1.5990792161719758 0.884219589929875 0.8059642288861093\n",
      "TEST 4200 1.5938792171570146 0.8845960929548818 0.8183097145357944\n",
      "TEST 4300 1.5188500849458046 0.8900285340491341 0.8064131399848314\n",
      "TEST 4400 2.0888095272340337 0.8487609485559202 0.6740196320191438\n",
      "TEST 4500 1.4795880291210044 0.8928712805765981 0.7747090127279685\n",
      "TEST 4600 1.9198154065412063 0.8609968706231037 0.7742173266004837\n",
      "TEST 4700 1.5581824045105546 0.8871807000642224 0.7450376284299474\n",
      "TEST 4800 1.6004236025270495 0.8841222505017391 0.721995165417098\n",
      "TEST 4900 1.5760447553186983 0.8858873868966602 0.7908125025646788\n",
      "TEST 5000 1.6258483962089152 0.8822813829581221 0.8576836410561558\n",
      "TEST 5100 1.6676096786841712 0.8792576811988972 0.6841234320450624\n",
      "TEST 5200 1.534377825178972 0.8889042569789469 0.7894475629143365\n",
      "TEST 5300 1.4955784070932112 0.8917135064444334 0.707691325361187\n",
      "TEST 5400 1.774183171732289 0.8715412887665747 0.7772745920792641\n",
      "TEST 5500 1.4926243702771629 0.8919273917860514 0.779116987952195\n",
      "TEST 5600 1.4743475253392382 0.8932507162694253 0.6304192198422991\n",
      "TEST 5700 1.4261604890208444 0.8967396708615322 0.7343171794573189\n",
      "TEST 5800 1.4552069201928126 0.8946365807612663 0.7934469060193337\n",
      "TEST 5900 1.4585919514547414 0.8943914895267661 0.8353062798192219\n",
      "TEST 6000 1.4614753622191539 0.8941827178166184 0.7682503636645607\n",
      "TEST 6100 1.443492887702799 0.8954847285303098 0.8137160254689628\n",
      "TEST 6200 1.4710429211013563 0.8934899842044518 0.798003916351832\n",
      "TEST 6300 1.5113231576254074 0.89057351683279 0.7432346943232153\n",
      "TEST 6400 1.5653908705290844 0.8866587752922085 0.7554234090359127\n",
      "TEST 6500 1.4404739873209336 0.8957033102437573 0.7206841972642528\n",
      "TEST 6600 1.474337139600828 0.8932514682400229 0.6866172888141744\n",
      "TEST 6700 1.4319069833123523 0.8963235992424488 0.7596332007276874\n",
      "TEST 6800 1.4377527445719644 0.8959003402742188 0.7658036353898356\n",
      "TEST 6900 1.4290718847210502 0.8965288729537987 0.8057981702853649\n",
      "TEST 7000 2.002745025964814 0.8549923992404412 0.7367341702928398\n",
      "TEST 7100 1.7733250005090782 0.8716034241608608 0.7289003727829257\n",
      "TEST 7200 1.456221484730934 0.8945631217612148 0.8089491705494575\n",
      "TEST 7300 1.3945650915022167 0.8990273174353516 0.8285413278117391\n",
      "TEST 7400 1.6251039369178029 0.8823352849740019 0.8154131176268768\n",
      "TEST 7500 1.5076234696941389 0.8908413906184224 0.7607666164687232\n",
      "TEST 7600 1.4024893167310002 0.8984535684781412 0.8479797752360291\n",
      "TEST 7700 1.3780031877792853 0.9002264725346445 0.81052661048831\n",
      "TEST 7800 1.4265721154836841 0.896709867274113 0.8087735332686024\n",
      "TEST 7900 1.551992428935507 0.8876288816382119 0.8450792142619298\n",
      "TEST 8000 1.424630662710045 0.8968504370427568 0.7108439464093249\n",
      "TEST 8100 1.395216040565636 0.8989801858426012 0.7023630557035279\n",
      "TEST 8200 1.752607054658456 0.8731034952698296 0.7219362158434406\n",
      "TEST 8300 1.4102163993959187 0.8978940934694734 0.7494776304887496\n",
      "TEST 8400 1.3698295501725062 0.9008182800673179 0.8173077639166941\n",
      "TEST 8500 1.505075100450924 0.8910259038209603 0.6615159218197377\n",
      "TEST 8600 1.3750599157296355 0.9004395784664817 0.7758414703777312\n",
      "TEST 8700 1.384945788668703 0.8997237975107384 0.8059455295542004\n",
      "TEST 8800 1.437236196136164 0.8959377406490839 0.7764493755638836\n",
      "TEST 8900 1.7524572077328167 0.87311434471001 0.790900997441965\n",
      "TEST 9000 1.4701100553841286 0.8935575277772765 0.803354428544321\n",
      "TEST 9100 1.5330496426001359 0.8890004231828226 0.8110739660406193\n",
      "TEST 9200 1.4177348585085308 0.8973497237986778 0.7974697666966379\n",
      "TEST 9300 1.3820473633654493 0.8999336563127939 0.7826304807377022\n",
      "\n"
     ]
    },
    {
     "ename": "KeyboardInterrupt",
     "evalue": "",
     "output_type": "error",
     "traceback": [
      "\u001b[0;31m---------------------------------------------------------------------------\u001b[0m",
      "\u001b[0;31mKeyboardInterrupt\u001b[0m                         Traceback (most recent call last)",
      "\u001b[0;32m<ipython-input-10-59e0c78ed87d>\u001b[0m in \u001b[0;36m<module>\u001b[0;34m\u001b[0m\n\u001b[1;32m      5\u001b[0m     \u001b[0mbatch_idx\u001b[0m \u001b[0;34m=\u001b[0m \u001b[0mtrain_idx\u001b[0m\u001b[0;34m[\u001b[0m\u001b[0mi\u001b[0m\u001b[0;34m]\u001b[0m\u001b[0;34m.\u001b[0m\u001b[0mlong\u001b[0m\u001b[0;34m(\u001b[0m\u001b[0;34m)\u001b[0m\u001b[0;34m\u001b[0m\u001b[0;34m\u001b[0m\u001b[0m\n\u001b[1;32m      6\u001b[0m     \u001b[0mbatch_X\u001b[0m \u001b[0;34m=\u001b[0m \u001b[0mtrain_neural\u001b[0m\u001b[0;34m[\u001b[0m\u001b[0mbatch_idx\u001b[0m \u001b[0;34m:\u001b[0m \u001b[0mbatch_idx\u001b[0m\u001b[0;34m+\u001b[0m\u001b[0mbatch_size\u001b[0m\u001b[0;34m]\u001b[0m\u001b[0;34m.\u001b[0m\u001b[0mfloat\u001b[0m\u001b[0;34m(\u001b[0m\u001b[0;34m)\u001b[0m\u001b[0;34m.\u001b[0m\u001b[0mcuda\u001b[0m\u001b[0;34m(\u001b[0m\u001b[0;34m)\u001b[0m\u001b[0;34m\u001b[0m\u001b[0;34m\u001b[0m\u001b[0m\n\u001b[0;32m----> 7\u001b[0;31m     \u001b[0mbatch_pred\u001b[0m \u001b[0;34m=\u001b[0m \u001b[0mfit_shGLM\u001b[0m\u001b[0;34m(\u001b[0m\u001b[0mbatch_X\u001b[0m\u001b[0;34m)\u001b[0m\u001b[0;34m\u001b[0m\u001b[0;34m\u001b[0m\u001b[0m\n\u001b[0m\u001b[1;32m      8\u001b[0m     \u001b[0mbatch_ref\u001b[0m \u001b[0;34m=\u001b[0m \u001b[0mtrain_V_ref\u001b[0m\u001b[0;34m[\u001b[0m\u001b[0mbatch_idx\u001b[0m\u001b[0;34m:\u001b[0m\u001b[0mbatch_idx\u001b[0m\u001b[0;34m+\u001b[0m\u001b[0mbatch_size\u001b[0m\u001b[0;34m]\u001b[0m\u001b[0;34m.\u001b[0m\u001b[0mcuda\u001b[0m\u001b[0;34m(\u001b[0m\u001b[0;34m)\u001b[0m\u001b[0;34m\u001b[0m\u001b[0;34m\u001b[0m\u001b[0m\n\u001b[1;32m      9\u001b[0m \u001b[0;34m\u001b[0m\u001b[0m\n",
      "\u001b[0;32m~/anaconda3/lib/python3.8/site-packages/torch/nn/modules/module.py\u001b[0m in \u001b[0;36m_call_impl\u001b[0;34m(self, *input, **kwargs)\u001b[0m\n\u001b[1;32m    720\u001b[0m             \u001b[0mresult\u001b[0m \u001b[0;34m=\u001b[0m \u001b[0mself\u001b[0m\u001b[0;34m.\u001b[0m\u001b[0m_slow_forward\u001b[0m\u001b[0;34m(\u001b[0m\u001b[0;34m*\u001b[0m\u001b[0minput\u001b[0m\u001b[0;34m,\u001b[0m \u001b[0;34m**\u001b[0m\u001b[0mkwargs\u001b[0m\u001b[0;34m)\u001b[0m\u001b[0;34m\u001b[0m\u001b[0;34m\u001b[0m\u001b[0m\n\u001b[1;32m    721\u001b[0m         \u001b[0;32melse\u001b[0m\u001b[0;34m:\u001b[0m\u001b[0;34m\u001b[0m\u001b[0;34m\u001b[0m\u001b[0m\n\u001b[0;32m--> 722\u001b[0;31m             \u001b[0mresult\u001b[0m \u001b[0;34m=\u001b[0m \u001b[0mself\u001b[0m\u001b[0;34m.\u001b[0m\u001b[0mforward\u001b[0m\u001b[0;34m(\u001b[0m\u001b[0;34m*\u001b[0m\u001b[0minput\u001b[0m\u001b[0;34m,\u001b[0m \u001b[0;34m**\u001b[0m\u001b[0mkwargs\u001b[0m\u001b[0;34m)\u001b[0m\u001b[0;34m\u001b[0m\u001b[0;34m\u001b[0m\u001b[0m\n\u001b[0m\u001b[1;32m    723\u001b[0m         for hook in itertools.chain(\n\u001b[1;32m    724\u001b[0m                 \u001b[0m_global_forward_hooks\u001b[0m\u001b[0;34m.\u001b[0m\u001b[0mvalues\u001b[0m\u001b[0;34m(\u001b[0m\u001b[0;34m)\u001b[0m\u001b[0;34m,\u001b[0m\u001b[0;34m\u001b[0m\u001b[0;34m\u001b[0m\u001b[0m\n",
      "\u001b[0;32m~/cambridge/shGLM/shGLM_class.py\u001b[0m in \u001b[0;36mforward\u001b[0;34m(self, X)\u001b[0m\n\u001b[1;32m    129\u001b[0m                         \u001b[0msub_spike\u001b[0m \u001b[0;34m=\u001b[0m \u001b[0mtorch\u001b[0m\u001b[0;34m.\u001b[0m\u001b[0msigmoid\u001b[0m\u001b[0;34m(\u001b[0m\u001b[0msub_thresh_post\u001b[0m\u001b[0;34m*\u001b[0m\u001b[0mself\u001b[0m\u001b[0;34m.\u001b[0m\u001b[0mthresh_scale\u001b[0m\u001b[0;34m[\u001b[0m\u001b[0msubunit\u001b[0m\u001b[0;34m]\u001b[0m \u001b[0;34m-\u001b[0m \u001b[0mself\u001b[0m\u001b[0;34m.\u001b[0m\u001b[0mthresh\u001b[0m\u001b[0;34m[\u001b[0m\u001b[0msubunit\u001b[0m\u001b[0;34m]\u001b[0m\u001b[0;34m)\u001b[0m\u001b[0;34m\u001b[0m\u001b[0;34m\u001b[0m\u001b[0m\n\u001b[1;32m    130\u001b[0m                         \u001b[0mfinal_sub_out\u001b[0m\u001b[0;34m[\u001b[0m\u001b[0mt\u001b[0m\u001b[0;34m]\u001b[0m \u001b[0;34m=\u001b[0m \u001b[0msub_thresh_post\u001b[0m \u001b[0;34m+\u001b[0m \u001b[0msub_spike\u001b[0m \u001b[0;34m*\u001b[0m \u001b[0mself\u001b[0m\u001b[0;34m.\u001b[0m\u001b[0mspike_size\u001b[0m\u001b[0;34m[\u001b[0m\u001b[0msubunit\u001b[0m\u001b[0;34m]\u001b[0m\u001b[0;34m\u001b[0m\u001b[0;34m\u001b[0m\u001b[0m\n\u001b[0;32m--> 131\u001b[0;31m                         \u001b[0mspike_hist\u001b[0m \u001b[0;34m=\u001b[0m \u001b[0mtorch\u001b[0m\u001b[0;34m.\u001b[0m\u001b[0mcat\u001b[0m\u001b[0;34m(\u001b[0m\u001b[0;34m(\u001b[0m\u001b[0msub_spike\u001b[0m\u001b[0;34m.\u001b[0m\u001b[0mreshape\u001b[0m\u001b[0;34m(\u001b[0m\u001b[0;36m1\u001b[0m\u001b[0;34m,\u001b[0m\u001b[0;36m1\u001b[0m\u001b[0;34m)\u001b[0m\u001b[0;34m,\u001b[0m \u001b[0mspike_hist\u001b[0m\u001b[0;34m[\u001b[0m\u001b[0;34m:\u001b[0m\u001b[0;34m-\u001b[0m\u001b[0;36m1\u001b[0m\u001b[0;34m]\u001b[0m\u001b[0;34m.\u001b[0m\u001b[0mreshape\u001b[0m\u001b[0;34m(\u001b[0m\u001b[0;34m-\u001b[0m\u001b[0;36m1\u001b[0m\u001b[0;34m,\u001b[0m\u001b[0;36m1\u001b[0m\u001b[0;34m)\u001b[0m\u001b[0;34m)\u001b[0m\u001b[0;34m,\u001b[0m\u001b[0;36m0\u001b[0m\u001b[0;34m)\u001b[0m\u001b[0;34m.\u001b[0m\u001b[0mflatten\u001b[0m\u001b[0;34m(\u001b[0m\u001b[0;34m)\u001b[0m\u001b[0;34m\u001b[0m\u001b[0;34m\u001b[0m\u001b[0m\n\u001b[0m\u001b[1;32m    132\u001b[0m                         \u001b[0;31m#print(spike_hist)\u001b[0m\u001b[0;34m\u001b[0m\u001b[0;34m\u001b[0m\u001b[0;34m\u001b[0m\u001b[0m\n\u001b[1;32m    133\u001b[0m                     \u001b[0msubunit_out\u001b[0m\u001b[0;34m[\u001b[0m\u001b[0;34m:\u001b[0m\u001b[0;34m,\u001b[0m\u001b[0msubunit\u001b[0m\u001b[0;34m]\u001b[0m \u001b[0;34m=\u001b[0m \u001b[0mfinal_sub_out\u001b[0m \u001b[0;34m*\u001b[0m \u001b[0mtorch\u001b[0m\u001b[0;34m.\u001b[0m\u001b[0mexp\u001b[0m\u001b[0;34m(\u001b[0m\u001b[0mself\u001b[0m\u001b[0;34m.\u001b[0m\u001b[0mC\u001b[0m\u001b[0;34m[\u001b[0m\u001b[0msubunit\u001b[0m\u001b[0;34m]\u001b[0m\u001b[0;34m)\u001b[0m\u001b[0;34m\u001b[0m\u001b[0;34m\u001b[0m\u001b[0m\n",
      "\u001b[0;31mKeyboardInterrupt\u001b[0m: "
     ]
    }
   ],
   "source": [
    "loss_array = np.empty((batch_no))\n",
    "\n",
    "for i in tnrange(batch_no):\n",
    "    optimizer.zero_grad()\n",
    "    batch_idx = train_idx[i].long()\n",
    "    batch_X = train_neural[batch_idx : batch_idx+batch_size].float().cuda()\n",
    "    batch_pred = fit_shGLM(batch_X)\n",
    "    batch_ref = train_V_ref[batch_idx:batch_idx+batch_size].cuda()\n",
    "    \n",
    "    #loss = criterion(batch_ref, batch_pred)\n",
    "    \n",
    "    diff = (batch_ref - batch_pred) ** 1\n",
    "    loss = torch.var(diff)\n",
    "    loss_array[i] = loss.item()\n",
    "    \n",
    "    train_score = metrics.explained_variance_score(y_true=batch_ref.cpu().detach().numpy(),\n",
    "                                                      y_pred=batch_pred.cpu().detach().numpy(),\n",
    "                                                      multioutput='uniform_average')\n",
    "    #print(i, train_score)\n",
    "    \n",
    "    loss.backward()\n",
    "    optimizer.step()\n",
    "    #scheduler.step()\n",
    "    \n",
    "    if i%100 == 0:\n",
    "        test_pred = fit_shGLM(test_neural.float())\n",
    "        #test_loss = criterion(test_V_ref, test_pred)\n",
    "        test_diff = (test_V_ref - test_pred) ** 1\n",
    "        test_loss = torch.var(test_diff)\n",
    "        test_score = metrics.explained_variance_score(y_true=test_V_ref.cpu().detach().numpy(),\n",
    "                                                      y_pred=test_pred.cpu().detach().numpy(),\n",
    "                                                      multioutput='uniform_average')\n",
    "        \n",
    "        print(\"TEST\", i, test_loss.item(), test_score, train_score)\n",
    "        if i%500 == 0:\n",
    "            torch.save(fit_shGLM.state_dict(), \"/media/hdd01/sklee/shglm/biophysical/pre_fit/pre1_spike5_s2_h3_shglm_i\"+str(i)+\".pt\")\n",
    "    \n"
   ]
  },
  {
   "cell_type": "code",
   "execution_count": 13,
   "metadata": {
    "ExecuteTime": {
     "end_time": "2020-10-19T01:51:08.769645Z",
     "start_time": "2020-10-19T01:51:08.599996Z"
    },
    "hidden": true
   },
   "outputs": [
    {
     "data": {
      "text/plain": [
       "[<matplotlib.lines.Line2D at 0x7f5fc0093af0>]"
      ]
     },
     "execution_count": 13,
     "metadata": {},
     "output_type": "execute_result"
    },
    {
     "data": {
      "image/png": "[encoded data removed]",
      "text/plain": [
       "<Figure size 1008x288 with 1 Axes>"
      ]
     },
     "metadata": {
      "needs_background": "light"
     },
     "output_type": "display_data"
    }
   ],
   "source": [
    "plt.figure(figsize=(14,4))\n",
    "plt.plot(test_V_ref.cpu().detach().numpy()[:4000])\n",
    "plt.plot(test_pred.cpu().detach().numpy()[:4000])\n"
   ]
  },
  {
   "cell_type": "code",
   "execution_count": 14,
   "metadata": {
    "ExecuteTime": {
     "end_time": "2020-10-19T01:51:10.126579Z",
     "start_time": "2020-10-19T01:51:10.112947Z"
    },
    "hidden": true
   },
   "outputs": [
    {
     "name": "stdout",
     "output_type": "stream",
     "text": [
      "V_o tensor([-79.1327], device='cuda:0')\n",
      "K_syn tensor([[[-0.0430,  0.0606],\n",
      "         [ 0.0872, -0.0656]]], device='cuda:0')\n",
      "syn_basis_tau tensor([1.8845, 2.1895], device='cuda:0')\n",
      "Delta tensor([4.9527], device='cuda:0')\n",
      "C tensor([2.7805], device='cuda:0')\n",
      "Theta tensor([0.0047], device='cuda:0')\n",
      "thresh tensor([6.9620], device='cuda:0')\n",
      "thresh_scale tensor([4.9119], device='cuda:0')\n",
      "spike_size tensor([4.7979], device='cuda:0')\n",
      "hist_basis_tau tensor([2.2247, 2.8350, 2.9540], device='cuda:0')\n",
      "K_hist tensor([[0.0894, 0.4085, 0.5070]], device='cuda:0')\n"
     ]
    }
   ],
   "source": [
    "for name, param in fit_shGLM.named_parameters():\n",
    "    if param.requires_grad:\n",
    "        print(name, param.data)"
   ]
  },
  {
   "cell_type": "markdown",
   "metadata": {
    "heading_collapsed": true
   },
   "source": [
    "# See Pre-Fit Params"
   ]
  },
  {
   "cell_type": "code",
   "execution_count": 10,
   "metadata": {
    "ExecuteTime": {
     "end_time": "2020-10-18T09:59:30.004232Z",
     "start_time": "2020-10-18T09:59:29.964883Z"
    },
    "hidden": true
   },
   "outputs": [
    {
     "data": {
      "text/plain": [
       "<All keys matched successfully>"
      ]
     },
     "execution_count": 10,
     "metadata": {},
     "output_type": "execute_result"
    }
   ],
   "source": [
    "fit_shGLM = shGLM(C_den, C_syn, syn_T, Ensyn,\n",
    "                 syn_basis_no, hist_basis_no,\n",
    "                 spike_status, hist_T).cuda()\n",
    "fit_shGLM.load_state_dict(torch.load(\"/media/hdd01/sklee/shglm/biophysical/pre_fit/pre1_nospike_s3_h3_shglm_i17000.pt\"))"
   ]
  },
  {
   "cell_type": "code",
   "execution_count": 11,
   "metadata": {
    "ExecuteTime": {
     "end_time": "2020-10-18T09:59:30.148059Z",
     "start_time": "2020-10-18T09:59:30.134489Z"
    },
    "hidden": true
   },
   "outputs": [
    {
     "name": "stdout",
     "output_type": "stream",
     "text": [
      "V_o tensor([-74.8817], device='cuda:0')\n",
      "K_syn tensor([[[ 0.0506, -0.0364],\n",
      "         [-0.1064,  0.0716],\n",
      "         [ 0.0970, -0.0528]]], device='cuda:0')\n",
      "syn_basis_tau tensor([1.5266, 2.2565, 2.7229], device='cuda:0')\n",
      "Delta tensor([4.7492], device='cuda:0')\n",
      "C tensor([3.1747], device='cuda:0')\n",
      "Theta tensor([0.6681], device='cuda:0')\n",
      "thresh tensor([85.], device='cuda:0')\n",
      "thresh_scale tensor([100.], device='cuda:0')\n",
      "spike_size tensor([4.], device='cuda:0')\n",
      "hist_basis_tau tensor([1.7000, 2.2000, 2.7000], device='cuda:0')\n",
      "K_hist tensor([[0.0250, 0.0250, 0.0250]], device='cuda:0')\n"
     ]
    }
   ],
   "source": [
    "for name, param in fit_shGLM.named_parameters():\n",
    "    if param.requires_grad:\n",
    "        print(name, param.data)"
   ]
  },
  {
   "cell_type": "markdown",
   "metadata": {},
   "source": [
    "# Test Pre-Fit"
   ]
  },
  {
   "cell_type": "code",
   "execution_count": 4,
   "metadata": {
    "ExecuteTime": {
     "end_time": "2020-10-19T18:31:16.093481Z",
     "start_time": "2020-10-19T18:31:13.969495Z"
    }
   },
   "outputs": [],
   "source": [
    "final_shGLM = shGLM(C_den, C_syn, syn_T, Ensyn,\n",
    "                 syn_basis_no, hist_basis_no,\n",
    "                 spike_status, hist_T).cuda()\n",
    "final_shGLM.load_state_dict(torch.load(\"/media/hdd01/sklee/shglm/biophysical/pre_fit/pre1_nospike_s2_h3_shglm_i17000.pt\"))\n",
    "final_shGLM.eval().cuda()\n",
    "\n",
    "V_ref = np.fromfile(\"/media/hdd01/sklee/hglm/biophysical/inputs/vdata_NMDA_ApN0.5_13_Adend_r0_o2_i2_g_b0.bin\")\n",
    "V_ref = V_ref[1:-2]\n",
    "\n",
    "test_V_ref = V_ref[train_T:train_T+test_T]\n"
   ]
  },
  {
   "cell_type": "code",
   "execution_count": 5,
   "metadata": {
    "ExecuteTime": {
     "end_time": "2020-10-19T16:49:41.943142Z",
     "start_time": "2020-10-19T16:49:41.591594Z"
    }
   },
   "outputs": [
    {
     "ename": "KeyboardInterrupt",
     "evalue": "",
     "output_type": "error",
     "traceback": [
      "\u001b[0;31m---------------------------------------------------------------------------\u001b[0m",
      "\u001b[0;31mKeyboardInterrupt\u001b[0m                         Traceback (most recent call last)",
      "\u001b[0;32m<ipython-input-5-0b30c711ed9d>\u001b[0m in \u001b[0;36m<module>\u001b[0;34m\u001b[0m\n\u001b[1;32m      5\u001b[0m \u001b[0mtest_neural\u001b[0m \u001b[0;34m=\u001b[0m \u001b[0mtorch\u001b[0m\u001b[0;34m.\u001b[0m\u001b[0mfrom_numpy\u001b[0m\u001b[0;34m(\u001b[0m\u001b[0mtest_neural\u001b[0m\u001b[0;34m)\u001b[0m\u001b[0;34m.\u001b[0m\u001b[0mfloat\u001b[0m\u001b[0;34m(\u001b[0m\u001b[0;34m)\u001b[0m\u001b[0;34m.\u001b[0m\u001b[0mcuda\u001b[0m\u001b[0;34m(\u001b[0m\u001b[0;34m)\u001b[0m\u001b[0;34m\u001b[0m\u001b[0;34m\u001b[0m\u001b[0m\n\u001b[1;32m      6\u001b[0m \u001b[0;34m\u001b[0m\u001b[0m\n\u001b[0;32m----> 7\u001b[0;31m \u001b[0mtest_V_final\u001b[0m \u001b[0;34m=\u001b[0m \u001b[0mfinal_shGLM\u001b[0m\u001b[0;34m(\u001b[0m\u001b[0mtest_neural\u001b[0m\u001b[0;34m)\u001b[0m\u001b[0;34m.\u001b[0m\u001b[0mcpu\u001b[0m\u001b[0;34m(\u001b[0m\u001b[0;34m)\u001b[0m\u001b[0;34m.\u001b[0m\u001b[0mdetach\u001b[0m\u001b[0;34m(\u001b[0m\u001b[0;34m)\u001b[0m\u001b[0;34m.\u001b[0m\u001b[0mnumpy\u001b[0m\u001b[0;34m(\u001b[0m\u001b[0;34m)\u001b[0m\u001b[0;34m\u001b[0m\u001b[0;34m\u001b[0m\u001b[0m\n\u001b[0m\u001b[1;32m      8\u001b[0m \u001b[0;34m\u001b[0m\u001b[0m\n\u001b[1;32m      9\u001b[0m \u001b[0;31m#test_V_final = test_V_final[:4000]\u001b[0m\u001b[0;34m\u001b[0m\u001b[0;34m\u001b[0m\u001b[0;34m\u001b[0m\u001b[0m\n",
      "\u001b[0;32m~/anaconda3/lib/python3.8/site-packages/torch/nn/modules/module.py\u001b[0m in \u001b[0;36m_call_impl\u001b[0;34m(self, *input, **kwargs)\u001b[0m\n\u001b[1;32m    720\u001b[0m             \u001b[0mresult\u001b[0m \u001b[0;34m=\u001b[0m \u001b[0mself\u001b[0m\u001b[0;34m.\u001b[0m\u001b[0m_slow_forward\u001b[0m\u001b[0;34m(\u001b[0m\u001b[0;34m*\u001b[0m\u001b[0minput\u001b[0m\u001b[0;34m,\u001b[0m \u001b[0;34m**\u001b[0m\u001b[0mkwargs\u001b[0m\u001b[0;34m)\u001b[0m\u001b[0;34m\u001b[0m\u001b[0;34m\u001b[0m\u001b[0m\n\u001b[1;32m    721\u001b[0m         \u001b[0;32melse\u001b[0m\u001b[0;34m:\u001b[0m\u001b[0;34m\u001b[0m\u001b[0;34m\u001b[0m\u001b[0m\n\u001b[0;32m--> 722\u001b[0;31m             \u001b[0mresult\u001b[0m \u001b[0;34m=\u001b[0m \u001b[0mself\u001b[0m\u001b[0;34m.\u001b[0m\u001b[0mforward\u001b[0m\u001b[0;34m(\u001b[0m\u001b[0;34m*\u001b[0m\u001b[0minput\u001b[0m\u001b[0;34m,\u001b[0m \u001b[0;34m**\u001b[0m\u001b[0mkwargs\u001b[0m\u001b[0;34m)\u001b[0m\u001b[0;34m\u001b[0m\u001b[0;34m\u001b[0m\u001b[0m\n\u001b[0m\u001b[1;32m    723\u001b[0m         for hook in itertools.chain(\n\u001b[1;32m    724\u001b[0m                 \u001b[0m_global_forward_hooks\u001b[0m\u001b[0;34m.\u001b[0m\u001b[0mvalues\u001b[0m\u001b[0;34m(\u001b[0m\u001b[0;34m)\u001b[0m\u001b[0;34m,\u001b[0m\u001b[0;34m\u001b[0m\u001b[0;34m\u001b[0m\u001b[0m\n",
      "\u001b[0;32m~/shGLM/shGLM_class.py\u001b[0m in \u001b[0;36mforward\u001b[0;34m(self, X)\u001b[0m\n\u001b[1;32m     75\u001b[0m             \u001b[0mfull_e_kern\u001b[0m \u001b[0;34m=\u001b[0m \u001b[0mfull_e_kern\u001b[0m\u001b[0;34m.\u001b[0m\u001b[0mreshape\u001b[0m\u001b[0;34m(\u001b[0m\u001b[0;36m1\u001b[0m\u001b[0;34m,\u001b[0m\u001b[0;36m1\u001b[0m\u001b[0;34m,\u001b[0m\u001b[0;34m-\u001b[0m\u001b[0;36m1\u001b[0m\u001b[0;34m)\u001b[0m\u001b[0;34m\u001b[0m\u001b[0;34m\u001b[0m\u001b[0m\n\u001b[1;32m     76\u001b[0m             \u001b[0mfull_i_kern\u001b[0m \u001b[0;34m=\u001b[0m \u001b[0mfull_i_kern\u001b[0m\u001b[0;34m.\u001b[0m\u001b[0mreshape\u001b[0m\u001b[0;34m(\u001b[0m\u001b[0;36m1\u001b[0m\u001b[0;34m,\u001b[0m\u001b[0;36m1\u001b[0m\u001b[0;34m,\u001b[0m\u001b[0;34m-\u001b[0m\u001b[0;36m1\u001b[0m\u001b[0;34m)\u001b[0m\u001b[0;34m\u001b[0m\u001b[0;34m\u001b[0m\u001b[0m\n\u001b[0;32m---> 77\u001b[0;31m             \u001b[0mfiltered_e\u001b[0m \u001b[0;34m=\u001b[0m \u001b[0mF\u001b[0m\u001b[0;34m.\u001b[0m\u001b[0mconv1d\u001b[0m\u001b[0;34m(\u001b[0m\u001b[0min_e\u001b[0m\u001b[0;34m,\u001b[0m \u001b[0mfull_e_kern\u001b[0m\u001b[0;34m,\u001b[0m \u001b[0mpadding\u001b[0m\u001b[0;34m=\u001b[0m\u001b[0mint\u001b[0m\u001b[0;34m(\u001b[0m\u001b[0mself\u001b[0m\u001b[0;34m.\u001b[0m\u001b[0msyn_T\u001b[0m\u001b[0;34m//\u001b[0m\u001b[0;36m2\u001b[0m\u001b[0;34m)\u001b[0m\u001b[0;34m)\u001b[0m\u001b[0;34m\u001b[0m\u001b[0;34m\u001b[0m\u001b[0m\n\u001b[0m\u001b[1;32m     78\u001b[0m             \u001b[0mfiltered_i\u001b[0m \u001b[0;34m=\u001b[0m \u001b[0mF\u001b[0m\u001b[0;34m.\u001b[0m\u001b[0mconv1d\u001b[0m\u001b[0;34m(\u001b[0m\u001b[0min_i\u001b[0m\u001b[0;34m,\u001b[0m \u001b[0mfull_i_kern\u001b[0m\u001b[0;34m,\u001b[0m \u001b[0mpadding\u001b[0m\u001b[0;34m=\u001b[0m\u001b[0mint\u001b[0m\u001b[0;34m(\u001b[0m\u001b[0mself\u001b[0m\u001b[0;34m.\u001b[0m\u001b[0msyn_T\u001b[0m\u001b[0;34m//\u001b[0m\u001b[0;36m2\u001b[0m\u001b[0;34m)\u001b[0m\u001b[0;34m)\u001b[0m\u001b[0;34m\u001b[0m\u001b[0;34m\u001b[0m\u001b[0m\n\u001b[1;32m     79\u001b[0m             \u001b[0mfiltered_e\u001b[0m \u001b[0;34m=\u001b[0m \u001b[0mfiltered_e\u001b[0m\u001b[0;34m.\u001b[0m\u001b[0msqueeze\u001b[0m\u001b[0;34m(\u001b[0m\u001b[0;36m1\u001b[0m\u001b[0;34m)\u001b[0m\u001b[0;34m.\u001b[0m\u001b[0mT\u001b[0m\u001b[0;34m\u001b[0m\u001b[0;34m\u001b[0m\u001b[0m\n",
      "\u001b[0;31mKeyboardInterrupt\u001b[0m: "
     ]
    }
   ],
   "source": [
    "E_neural = np.load(\"/media/hdd01/sklee/shglm/biophysical/inputs/Espikes_d48000_r1_rep1_Ne629_e5_E20_neural.npy\")\n",
    "I_neural = np.load(\"/media/hdd01/sklee/shglm/biophysical/inputs/Ispikes_d48000_r1_rep1_Ni120_i20_I30_neural.npy\")\n",
    "\n",
    "test_neural = np.hstack((E_neural, I_neural))[train_T:train_T + test_T]\n",
    "test_neural = torch.from_numpy(test_neural).float().cuda()\n",
    "\n",
    "test_V_final = final_shGLM(test_neural).cpu().detach().numpy()\n",
    "\n",
    "#test_V_final = test_V_final[:4000]\n",
    "#test_V_ref = test_V_ref[:4000]"
   ]
  },
  {
   "cell_type": "code",
   "execution_count": null,
   "metadata": {
    "ExecuteTime": {
     "end_time": "2020-10-19T16:49:41.944057Z",
     "start_time": "2020-10-19T16:49:40.253Z"
    }
   },
   "outputs": [],
   "source": [
    "plt.figure(figsize = (14,4))\n",
    "plt.plot(test_V_ref[:4000], label=\"Biophysical\", c=\"blue\")\n",
    "plt.plot(test_V_final[:4000]-1.8, label=\"shGLM\", c=\"red\")\n",
    "print(np.corrcoef(test_V_ref, test_V_final)[0][1])\n",
    "\n",
    "\n",
    "test_score = metrics.explained_variance_score(y_true=test_V_ref,\n",
    "                                                      y_pred=test_V_final,\n",
    "                                                      multioutput='uniform_average')\n",
    "\n",
    "plt.title(\"Spike 1-Subunit shGLM (2 Synaptic Kernel) \\n Variance Explained: \" + str(round(test_score, 5)), fontsize = 16)\n",
    "#plt.xticks(np.arange(0,8001,1000),[0,1,2,3,4,5,6,7,8])\n",
    "plt.xticks(np.arange(0,4001,1000),[0,1,2,3,4])\n",
    "plt.xlabel(\"Time (s)\")\n",
    "plt.ylabel(\"Sub-Threshold Voltage (mV)\")\n",
    "plt.legend()\n",
    "#plt.show()\n",
    "#\n",
    "\n",
    "#plt.savefig(\"/media/hdd01/sklee/shglm/biophysical/pre1_spike5_s2_h3_shGLM.png\", dpi=150, bbox_inches='tight')"
   ]
  },
  {
   "cell_type": "code",
   "execution_count": 5,
   "metadata": {
    "ExecuteTime": {
     "end_time": "2020-10-19T18:31:16.105123Z",
     "start_time": "2020-10-19T18:31:16.094642Z"
    }
   },
   "outputs": [
    {
     "name": "stdout",
     "output_type": "stream",
     "text": [
      "V_o tensor([-74.6460], device='cuda:0')\n",
      "K_syn tensor([[[-0.0331,  0.0536],\n",
      "         [ 0.0777, -0.0609]]], device='cuda:0')\n",
      "syn_basis_tau tensor([2.2439, 2.5602], device='cuda:0')\n",
      "Delta tensor([4.8556], device='cuda:0')\n",
      "C tensor([3.0936], device='cuda:0')\n",
      "Theta tensor([0.5427], device='cuda:0')\n",
      "thresh tensor([85.], device='cuda:0')\n",
      "thresh_scale tensor([100.], device='cuda:0')\n",
      "spike_size tensor([4.], device='cuda:0')\n",
      "hist_basis_tau tensor([1.7000, 2.2000, 2.7000], device='cuda:0')\n",
      "K_hist tensor([[0.0250, 0.0250, 0.0250]], device='cuda:0')\n"
     ]
    }
   ],
   "source": [
    "for name, param in final_shGLM.named_parameters():\n",
    "    if param.requires_grad:\n",
    "        print(name, param.data)"
   ]
  },
  {
   "cell_type": "code",
   "execution_count": null,
   "metadata": {},
   "outputs": [],
   "source": []
  },
  {
   "cell_type": "code",
   "execution_count": null,
   "metadata": {},
   "outputs": [],
   "source": []
  }
 ],
 "metadata": {
  "kernelspec": {
   "display_name": "Python 3",
   "language": "python",
   "name": "python3"
  },
  "language_info": {
   "codemirror_mode": {
    "name": "ipython",
    "version": 3
   },
   "file_extension": ".py",
   "mimetype": "text/x-python",
   "name": "python",
   "nbconvert_exporter": "python",
   "pygments_lexer": "ipython3",
   "version": "3.8.3"
  }
 },
 "nbformat": 4,
 "nbformat_minor": 4
}
