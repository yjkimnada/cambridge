{
 "cells": [
  {
   "cell_type": "code",
   "execution_count": 1,
   "metadata": {
    "ExecuteTime": {
     "end_time": "2020-11-20T18:06:58.023376Z",
     "start_time": "2020-11-20T18:06:57.846766Z"
    }
   },
   "outputs": [],
   "source": [
    "import numpy as np\n",
    "import matplotlib.pyplot as plt\n",
    "from tqdm import tnrange\n"
   ]
  },
  {
   "cell_type": "markdown",
   "metadata": {},
   "source": [
    "# Make Neural"
   ]
  },
  {
   "cell_type": "code",
   "execution_count": 2,
   "metadata": {
    "ExecuteTime": {
     "end_time": "2020-11-20T18:06:58.202802Z",
     "start_time": "2020-11-20T18:06:58.175346Z"
    }
   },
   "outputs": [
    {
     "name": "stdout",
     "output_type": "stream",
     "text": [
      "(351591, 3)\n",
      "(544834, 3)\n"
     ]
    }
   ],
   "source": [
    "raw_train = np.load(\"/media/hdd01/sklee/cont_shglm/L23_inputs/stim_NMDA_ApN0.5_13_Adend_r0_o2_i2_g_b5.npy\")\n",
    "\n",
    "E_train = raw_train[np.where(raw_train[:,0]==1)]\n",
    "I_train = raw_train[np.where(raw_train[:,0]==-1)]\n",
    "print(E_train.shape)\n",
    "print(I_train.shape)"
   ]
  },
  {
   "cell_type": "code",
   "execution_count": 3,
   "metadata": {
    "ExecuteTime": {
     "end_time": "2020-11-20T18:06:58.348425Z",
     "start_time": "2020-11-20T18:06:58.335243Z"
    }
   },
   "outputs": [
    {
     "name": "stdout",
     "output_type": "stream",
     "text": [
      "[435106  12255  11939  12131  12204  12491  12272  12230  12098  12108]\n",
      "[  0.   11.9  23.8  35.7  47.6  59.5  71.4  83.3  95.2 107.1 119. ]\n"
     ]
    }
   ],
   "source": [
    "hist, edges = np.histogram(raw_train[:,1][np.where(raw_train[:,0] == -1)])\n",
    "print(hist)\n",
    "print(edges)"
   ]
  },
  {
   "cell_type": "code",
   "execution_count": 4,
   "metadata": {
    "ExecuteTime": {
     "end_time": "2020-11-20T18:07:00.345243Z",
     "start_time": "2020-11-20T18:06:59.111795Z"
    }
   },
   "outputs": [
    {
     "name": "stdout",
     "output_type": "stream",
     "text": [
      "(48026,)\n",
      "[    0     1     2 ... 48023 48024 48025]\n",
      "351591\n",
      "544834\n",
      "(896425, 3)\n"
     ]
    },
    {
     "name": "stderr",
     "output_type": "stream",
     "text": [
      "<ipython-input-4-753111fa7c23>:19: TqdmDeprecationWarning: Please use `tqdm.notebook.trange` instead of `tqdm.tnrange`\n",
      "  for i in tnrange(E_counts.shape[0]):\n"
     ]
    },
    {
     "data": {
      "application/vnd.jupyter.widget-view+json": {
       "model_id": "a64d1a79c04f4bf7a658d0e270afc709",
       "version_major": 2,
       "version_minor": 0
      },
      "text/plain": [
       "HBox(children=(FloatProgress(value=0.0, max=48025.0), HTML(value='')))"
      ]
     },
     "metadata": {},
     "output_type": "display_data"
    },
    {
     "name": "stdout",
     "output_type": "stream",
     "text": [
      "\n"
     ]
    },
    {
     "name": "stderr",
     "output_type": "stream",
     "text": [
      "<ipython-input-4-753111fa7c23>:27: TqdmDeprecationWarning: Please use `tqdm.notebook.trange` instead of `tqdm.tnrange`\n",
      "  for i in tnrange(I_counts.shape[0]):\n"
     ]
    },
    {
     "data": {
      "application/vnd.jupyter.widget-view+json": {
       "model_id": "fa6faff0b70543a1bb0f14608924af06",
       "version_major": 2,
       "version_minor": 0
      },
      "text/plain": [
       "HBox(children=(FloatProgress(value=0.0, max=48025.0), HTML(value='')))"
      ]
     },
     "metadata": {},
     "output_type": "display_data"
    },
    {
     "name": "stdout",
     "output_type": "stream",
     "text": [
      "\n",
      "(48025, 629)\n",
      "(48025, 120)\n",
      "351591.0\n",
      "544834.0\n",
      "0.011639108870330355\n",
      "0.09453999652958528\n",
      "3.0\n",
      "28.0\n"
     ]
    }
   ],
   "source": [
    "bin_size = 1 # in milliseconds\n",
    "E_no = int(np.max(raw_train[:,1][np.where(raw_train[:,0] == 1)])) + 1\n",
    "I_no = int(np.max(raw_train[:,1][np.where(raw_train[:,0] == -1)])) + 1\n",
    "bin_no = int(int(np.max(raw_train[:,2]) + 1) / bin_size)\n",
    "E_neural = np.zeros((bin_no, E_no))\n",
    "I_neural = np.zeros((bin_no, I_no))\n",
    "\n",
    "bin_edges = np.arange(0, bin_no*bin_size + bin_size, bin_size)\n",
    "print(bin_edges.shape)\n",
    "print(bin_edges)\n",
    "\n",
    "E_counts, E_edges = np.histogram(E_train[:,2], bin_edges)\n",
    "I_counts, I_edges = np.histogram(I_train[:,2], bin_edges)\n",
    "print(np.sum(E_counts))\n",
    "print(np.sum(I_counts))\n",
    "print(raw_train.shape)\n",
    "\n",
    "E_count = 0\n",
    "for i in tnrange(E_counts.shape[0]):\n",
    "    bin_count = E_counts[i]\n",
    "    for j in range(bin_count):\n",
    "        syn = int(E_train[E_count,1])\n",
    "        E_neural[i, syn] += 1\n",
    "        E_count += 1\n",
    "\n",
    "I_count = 0\n",
    "for i in tnrange(I_counts.shape[0]):\n",
    "    bin_count = I_counts[i]\n",
    "    for j in range(bin_count):\n",
    "        syn = int(I_train[I_count,1])\n",
    "        I_neural[i, syn] += 1\n",
    "        I_count += 1\n",
    "        \n",
    "print(E_neural.shape)\n",
    "print(I_neural.shape)\n",
    "print(np.sum(E_neural))\n",
    "print(np.sum(I_neural))\n",
    "print(np.sum(E_neural)/E_neural.size)\n",
    "print(np.sum(I_neural)/I_neural.size)\n",
    "print(np.max(E_neural))\n",
    "print(np.max(I_neural))"
   ]
  },
  {
   "cell_type": "code",
   "execution_count": 5,
   "metadata": {
    "ExecuteTime": {
     "end_time": "2020-11-20T18:07:12.033242Z",
     "start_time": "2020-11-20T18:07:11.905947Z"
    }
   },
   "outputs": [],
   "source": [
    "np.save(\"/media/hdd01/sklee/cont_shglm/L23_inputs/Espikes_NMDA_ApN0.5_13_Adend_r0_o2_i2_g_b5_neural.npy\", E_neural)\n",
    "np.save(\"/media/hdd01/sklee/cont_shglm/L23_inputs/Ispikes_NMDA_ApN0.5_13_Adend_r0_o2_i2_g_b5_neural.npy\", I_neural)"
   ]
  },
  {
   "cell_type": "code",
   "execution_count": null,
   "metadata": {},
   "outputs": [],
   "source": []
  }
 ],
 "metadata": {
  "kernelspec": {
   "display_name": "Python 3",
   "language": "python",
   "name": "python3"
  },
  "language_info": {
   "codemirror_mode": {
    "name": "ipython",
    "version": 3
   },
   "file_extension": ".py",
   "mimetype": "text/x-python",
   "name": "python",
   "nbconvert_exporter": "python",
   "pygments_lexer": "ipython3",
   "version": "3.8.3"
  }
 },
 "nbformat": 4,
 "nbformat_minor": 4
}
