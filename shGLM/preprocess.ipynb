{
 "cells": [
  {
   "cell_type": "code",
   "execution_count": 32,
   "metadata": {
    "ExecuteTime": {
     "end_time": "2020-11-25T13:22:04.636772Z",
     "start_time": "2020-11-25T13:22:04.634092Z"
    }
   },
   "outputs": [],
   "source": [
    "import numpy as np\n",
    "import matplotlib.pyplot as plt\n",
    "from tqdm import tnrange\n"
   ]
  },
  {
   "cell_type": "markdown",
   "metadata": {},
   "source": [
    "# Make Neural"
   ]
  },
  {
   "cell_type": "code",
   "execution_count": 33,
   "metadata": {
    "ExecuteTime": {
     "end_time": "2020-11-25T13:22:05.308499Z",
     "start_time": "2020-11-25T13:22:05.239757Z"
    }
   },
   "outputs": [
    {
     "name": "stdout",
     "output_type": "stream",
     "text": [
      "(1502400, 3)\n",
      "(1502400, 3)\n",
      "(590925, 3)\n",
      "(911475, 3)\n"
     ]
    }
   ],
   "source": [
    "raw_train = np.load(\"/media/hdd01/sklee/tcn/L23_inputs/stim_NMDA_ApN0.5_13_Adend_r0_o2_i2_g_b5.npy\")\n",
    "print(raw_train.shape)\n",
    "raw_train = np.delete(raw_train, np.where(np.isnan(raw_train) == True)[0], 0)\n",
    "print(raw_train.shape)\n",
    "E_train = raw_train[np.where(raw_train[:,0]==1)]\n",
    "I_train = raw_train[np.where(raw_train[:,0]==-1)]\n",
    "print(E_train.shape)\n",
    "print(I_train.shape)"
   ]
  },
  {
   "cell_type": "code",
   "execution_count": 34,
   "metadata": {
    "ExecuteTime": {
     "end_time": "2020-11-25T13:22:08.559102Z",
     "start_time": "2020-11-25T13:22:06.418991Z"
    }
   },
   "outputs": [
    {
     "name": "stdout",
     "output_type": "stream",
     "text": [
      "(80029,)\n",
      "[    0     1     2 ... 80026 80027 80028]\n",
      "590925\n",
      "911475\n",
      "(1502400, 3)\n"
     ]
    },
    {
     "name": "stderr",
     "output_type": "stream",
     "text": [
      "<ipython-input-34-753111fa7c23>:19: TqdmDeprecationWarning: Please use `tqdm.notebook.trange` instead of `tqdm.tnrange`\n",
      "  for i in tnrange(E_counts.shape[0]):\n"
     ]
    },
    {
     "data": {
      "application/vnd.jupyter.widget-view+json": {
       "model_id": "744a3fb2ec394acc8c3bc30300c227a6",
       "version_major": 2,
       "version_minor": 0
      },
      "text/plain": [
       "HBox(children=(FloatProgress(value=0.0, max=80028.0), HTML(value='')))"
      ]
     },
     "metadata": {},
     "output_type": "display_data"
    },
    {
     "name": "stdout",
     "output_type": "stream",
     "text": [
      "\n"
     ]
    },
    {
     "name": "stderr",
     "output_type": "stream",
     "text": [
      "<ipython-input-34-753111fa7c23>:27: TqdmDeprecationWarning: Please use `tqdm.notebook.trange` instead of `tqdm.tnrange`\n",
      "  for i in tnrange(I_counts.shape[0]):\n"
     ]
    },
    {
     "data": {
      "application/vnd.jupyter.widget-view+json": {
       "model_id": "2c6aae0e6fee49c3bb2e108f95e417fb",
       "version_major": 2,
       "version_minor": 0
      },
      "text/plain": [
       "HBox(children=(FloatProgress(value=0.0, max=80028.0), HTML(value='')))"
      ]
     },
     "metadata": {},
     "output_type": "display_data"
    },
    {
     "name": "stdout",
     "output_type": "stream",
     "text": [
      "\n",
      "(80028, 629)\n",
      "(80028, 120)\n",
      "590925.0\n",
      "911475.0\n",
      "0.011739233875456785\n",
      "0.09491209326735643\n",
      "3.0\n",
      "23.0\n"
     ]
    }
   ],
   "source": [
    "bin_size = 1 # in milliseconds\n",
    "E_no = int(np.max(raw_train[:,1][np.where(raw_train[:,0] == 1)])) + 1\n",
    "I_no = int(np.max(raw_train[:,1][np.where(raw_train[:,0] == -1)])) + 1\n",
    "bin_no = int(int(np.max(raw_train[:,2]) + 1) / bin_size)\n",
    "E_neural = np.zeros((bin_no, E_no))\n",
    "I_neural = np.zeros((bin_no, I_no))\n",
    "\n",
    "bin_edges = np.arange(0, bin_no*bin_size + bin_size, bin_size)\n",
    "print(bin_edges.shape)\n",
    "print(bin_edges)\n",
    "\n",
    "E_counts, E_edges = np.histogram(E_train[:,2], bin_edges)\n",
    "I_counts, I_edges = np.histogram(I_train[:,2], bin_edges)\n",
    "print(np.sum(E_counts))\n",
    "print(np.sum(I_counts))\n",
    "print(raw_train.shape)\n",
    "\n",
    "E_count = 0\n",
    "for i in tnrange(E_counts.shape[0]):\n",
    "    bin_count = E_counts[i]\n",
    "    for j in range(bin_count):\n",
    "        syn = int(E_train[E_count,1])\n",
    "        E_neural[i, syn] += 1\n",
    "        E_count += 1\n",
    "\n",
    "I_count = 0\n",
    "for i in tnrange(I_counts.shape[0]):\n",
    "    bin_count = I_counts[i]\n",
    "    for j in range(bin_count):\n",
    "        syn = int(I_train[I_count,1])\n",
    "        I_neural[i, syn] += 1\n",
    "        I_count += 1\n",
    "        \n",
    "print(E_neural.shape)\n",
    "print(I_neural.shape)\n",
    "print(np.sum(E_neural))\n",
    "print(np.sum(I_neural))\n",
    "print(np.sum(E_neural)/E_neural.size)\n",
    "print(np.sum(I_neural)/I_neural.size)\n",
    "print(np.max(E_neural))\n",
    "print(np.max(I_neural))"
   ]
  },
  {
   "cell_type": "code",
   "execution_count": 35,
   "metadata": {
    "ExecuteTime": {
     "end_time": "2020-11-25T13:22:13.024299Z",
     "start_time": "2020-11-25T13:22:12.826809Z"
    }
   },
   "outputs": [],
   "source": [
    "np.save(\"/media/hdd01/sklee/tcn/L23_inputs/Espikes_NMDA_ApN0.5_13_Adend_r0_o2_i2_g_b5_neural.npy\", E_neural)\n",
    "np.save(\"/media/hdd01/sklee/tcn/L23_inputs/Ispikes_NMDA_ApN0.5_13_Adend_r0_o2_i2_g_b5_neural.npy\", I_neural)"
   ]
  },
  {
   "cell_type": "code",
   "execution_count": null,
   "metadata": {},
   "outputs": [],
   "source": []
  },
  {
   "cell_type": "code",
   "execution_count": null,
   "metadata": {},
   "outputs": [],
   "source": []
  }
 ],
 "metadata": {
  "kernelspec": {
   "display_name": "Python 3",
   "language": "python",
   "name": "python3"
  },
  "language_info": {
   "codemirror_mode": {
    "name": "ipython",
    "version": 3
   },
   "file_extension": ".py",
   "mimetype": "text/x-python",
   "name": "python",
   "nbconvert_exporter": "python",
   "pygments_lexer": "ipython3",
   "version": "3.8.3"
  }
 },
 "nbformat": 4,
 "nbformat_minor": 4
}
