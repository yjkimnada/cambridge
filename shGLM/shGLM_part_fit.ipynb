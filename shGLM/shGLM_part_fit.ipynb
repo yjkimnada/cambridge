{
 "cells": [
  {
   "cell_type": "code",
   "execution_count": 1,
   "metadata": {
    "ExecuteTime": {
     "end_time": "2020-10-18T10:02:21.102963Z",
     "start_time": "2020-10-18T10:02:20.499314Z"
    }
   },
   "outputs": [],
   "source": [
    "import numpy as np\n",
    "import torch\n",
    "import torch.nn as nn\n",
    "import matplotlib.pyplot as plt\n",
    "from tqdm import tnrange\n",
    "import torch.optim as optim\n",
    "import torch.nn.functional as F\n",
    "from shGLM_class import shGLM\n",
    "from sklearn import metrics"
   ]
  },
  {
   "cell_type": "markdown",
   "metadata": {},
   "source": [
    "# Hyperparams"
   ]
  },
  {
   "cell_type": "code",
   "execution_count": 2,
   "metadata": {
    "ExecuteTime": {
     "end_time": "2020-10-18T10:02:21.107324Z",
     "start_time": "2020-10-18T10:02:21.104070Z"
    }
   },
   "outputs": [],
   "source": [
    "train_T = 20000\n",
    "test_T = 8000\n",
    "syn_T = 351\n",
    "C_den = torch.tensor([0,1,1,1,1])\n",
    "sub_no = C_den.shape[0]\n",
    "\n",
    "batch_size = 2094\n",
    "\n",
    "syn_basis_no = 3\n",
    "hist_basis_no = 3\n",
    "spike_status = False\n",
    "hist_T = 251"
   ]
  },
  {
   "cell_type": "code",
   "execution_count": 3,
   "metadata": {
    "ExecuteTime": {
     "end_time": "2020-10-18T10:02:21.136282Z",
     "start_time": "2020-10-18T10:02:21.108371Z"
    }
   },
   "outputs": [
    {
     "name": "stdout",
     "output_type": "stream",
     "text": [
      "tensor(749)\n"
     ]
    }
   ],
   "source": [
    "Ensyn = torch.tensor([0, 106, 213, 211, 99])\n",
    "Insyn = torch.tensor([1, 22, 36, 42, 19])\n",
    "N = torch.sum(Ensyn) + torch.sum(Insyn)\n",
    "print(N)\n",
    "\n",
    "C_syn = torch.zeros(sub_no, N)\n",
    "count = 0\n",
    "for m in range(sub_no):\n",
    "    for e in range(Ensyn[m]):\n",
    "        C_syn[m,count] = 1\n",
    "        count += 1\n",
    "        \n",
    "for m in range(sub_no):\n",
    "    for i in range(Insyn[m]):\n",
    "        C_syn[m,count] = -1\n",
    "        count += 1"
   ]
  },
  {
   "cell_type": "markdown",
   "metadata": {
    "heading_collapsed": true
   },
   "source": [
    "# Adjust W and C"
   ]
  },
  {
   "cell_type": "code",
   "execution_count": 4,
   "metadata": {
    "ExecuteTime": {
     "end_time": "2020-10-18T10:02:10.407428Z",
     "start_time": "2020-10-18T10:02:10.327205Z"
    },
    "hidden": true
   },
   "outputs": [],
   "source": [
    "E_neural = np.load(\"/media/hdd01/sklee/hglm/biophysical/inputs/Espikes_d48000_r1_rep1_Ne629_e5_E20_neural.npy\")[:train_T]\n",
    "I_neural = np.load(\"/media/hdd01/sklee/hglm/biophysical/inputs/Ispikes_d48000_r1_rep1_Ni120_i20_I30_neural.npy\")[:train_T]\n",
    "neural = np.hstack((E_neural, I_neural))"
   ]
  },
  {
   "cell_type": "code",
   "execution_count": 5,
   "metadata": {
    "ExecuteTime": {
     "end_time": "2020-10-18T10:02:10.502456Z",
     "start_time": "2020-10-18T10:02:10.496263Z"
    },
    "hidden": true
   },
   "outputs": [],
   "source": [
    "Delta_init = np.exp(4.7492)\n",
    "K_syn_init = np.tile(np.asarray([[ 0.0506, -0.0364],\n",
    "                                 [-0.1064,  0.0716],\n",
    "                                 [ 0.0970, -0.0528]]).reshape((1,-1,2)),\n",
    "                                 (sub_no, 1, 1))\n",
    "syn_basis_tau = np.asarray([1.5266, 2.2565, 2.7229])\n",
    "C_init = np.exp(3.1747)\n",
    "sigma_init = 0.5\n",
    "\n",
    "new_Theta = np.empty((sub_no))\n",
    "new_C = np.ones((sub_no)) * C_init\n",
    "#new_K_syn = np.empty_like(K_syn_init)\n",
    "new_K_syn = K_syn_init\n",
    "new_K_syn[0] *= 1\n",
    "\n",
    "window = np.arange(syn_T) - Delta_init\n",
    "window[window < 0] = 0\n",
    "\n",
    "filt_neural = np.empty((neural.shape[0], sub_no))\n",
    "# filt_neural contains just the filtered synpatic inputs to each subunit\n",
    "upstream_out = np.empty((neural.shape[0], sub_no))\n",
    "# upstream_out contains all the inputs summed, nonlin'ed, but NOT C"
   ]
  },
  {
   "cell_type": "code",
   "execution_count": 6,
   "metadata": {
    "ExecuteTime": {
     "end_time": "2020-10-18T10:02:12.041941Z",
     "start_time": "2020-10-18T10:02:10.861959Z"
    },
    "hidden": true
   },
   "outputs": [],
   "source": [
    "for s in range(sub_no):\n",
    "    sub_out = np.zeros((neural.shape[0]))\n",
    "    e_idx = torch.where(C_syn[s] == 1)[0].numpy()\n",
    "    i_idx = torch.where(C_syn[s] == -1)[0].numpy()\n",
    "    \n",
    "    in_e = neural[:,e_idx]\n",
    "    in_i = neural[:,i_idx]\n",
    "    \n",
    "    kern_e = np.zeros((syn_T))\n",
    "    kern_i = np.zeros((syn_T))\n",
    "    for b in range(K_syn_init.shape[1]):\n",
    "        tau = np.exp(syn_basis_tau[b])\n",
    "        t_tau = window / tau\n",
    "        kern_e += np.multiply(t_tau, np.exp(-t_tau)) * K_syn_init[s,b,0]\n",
    "        kern_i += np.multiply(t_tau, np.exp(-t_tau)) * K_syn_init[s,b,1]\n",
    "    \n",
    "    for i in range(e_idx.shape[0]):\n",
    "        sub_out += np.convolve(in_e[:,i], np.flip(kern_e), mode=\"same\")\n",
    "        \n",
    "    for i in range(i_idx.shape[0]):\n",
    "        sub_out += np.convolve(in_i[:,i], np.flip(kern_i), mode=\"same\")\n",
    "        \n",
    "    filt_neural[:,s] = sub_out"
   ]
  },
  {
   "cell_type": "code",
   "execution_count": 7,
   "metadata": {
    "ExecuteTime": {
     "end_time": "2020-10-18T10:02:12.045616Z",
     "start_time": "2020-10-18T10:02:12.042993Z"
    },
    "hidden": true
   },
   "outputs": [
    {
     "name": "stdout",
     "output_type": "stream",
     "text": [
      "[-2.52652313  0.33940629  0.79855397  0.66405771  0.26167052]\n"
     ]
    }
   ],
   "source": [
    "print(np.mean(filt_neural, 0))"
   ]
  },
  {
   "cell_type": "code",
   "execution_count": 8,
   "metadata": {
    "ExecuteTime": {
     "end_time": "2020-10-18T10:02:12.058423Z",
     "start_time": "2020-10-18T10:02:12.046716Z"
    },
    "hidden": true
   },
   "outputs": [
    {
     "name": "stdout",
     "output_type": "stream",
     "text": [
      "2.358381342842173\n",
      "1.3730549339607687\n",
      "1.4948683510152412\n",
      "2.0098927017267987\n",
      "0.07619250196562218\n"
     ]
    }
   ],
   "source": [
    "for s in range(sub_no):\n",
    "    subunit = sub_no - 1 - s\n",
    "    upstream_idx = torch.where(C_den == subunit + 1)[0].numpy()\n",
    "    if upstream_idx.size == 0:\n",
    "        upstream_in = np.zeros((neural.shape[0]))\n",
    "    else:\n",
    "        upstream_in = upstream_out[:,upstream_idx]\n",
    "        \n",
    "    sub_in = filt_neural[:,subunit]\n",
    "    \n",
    "    if upstream_idx.size > 0:\n",
    "        old_sigma = np.std(sub_in + np.sum(upstream_in * new_C[upstream_idx], axis=1))\n",
    "    else:\n",
    "        old_sigma = np.std(sub_in)\n",
    "    sigma_factor = sigma_init / old_sigma\n",
    "    print(sigma_factor)\n",
    "    \n",
    "    if upstream_idx.size > 0:\n",
    "        new_C[upstream_idx] = new_C[upstream_idx] * sigma_factor\n",
    "        new_K_syn[subunit,:,:] = K_syn_init[subunit,:,:] * sigma_factor\n",
    "    else:\n",
    "        new_K_syn[subunit,:,:] = K_syn_init[subunit,:,:] * sigma_factor\n",
    "    \n",
    "    if upstream_idx.size > 0:\n",
    "        comb_in = sub_in*sigma_factor + np.sum(upstream_in * new_C[upstream_idx], axis=1)\n",
    "    else:\n",
    "        comb_in = sub_in * sigma_factor\n",
    "    new_Theta[subunit] = np.mean(comb_in)\n",
    "    comb_out = 1 / (1+np.exp(-comb_in + new_Theta[subunit]))\n",
    "    upstream_out[:,subunit] = comb_out"
   ]
  },
  {
   "cell_type": "code",
   "execution_count": 9,
   "metadata": {
    "ExecuteTime": {
     "end_time": "2020-10-18T10:02:12.064537Z",
     "start_time": "2020-10-18T10:02:12.059455Z"
    },
    "hidden": true
   },
   "outputs": [
    {
     "name": "stdout",
     "output_type": "stream",
     "text": [
      "[[[ 0.00385534 -0.00277341]\n",
      "  [-0.00810688  0.00545538]\n",
      "  [ 0.00739067 -0.00402296]]\n",
      "\n",
      " [[ 0.10170057 -0.07316009]\n",
      "  [-0.21385258  0.14390832]\n",
      "  [ 0.19495959 -0.10612233]]\n",
      "\n",
      " [[ 0.07564034 -0.05441321]\n",
      "  [-0.15905399  0.10703257]\n",
      "  [ 0.14500223 -0.07892905]]\n",
      "\n",
      " [[ 0.06947658 -0.0499792 ]\n",
      "  [-0.14609304  0.09831073]\n",
      "  [ 0.13318633 -0.0724973 ]]\n",
      "\n",
      " [[ 0.1193341  -0.08584508]\n",
      "  [-0.25093177  0.1688601 ]\n",
      "  [ 0.22876299 -0.12452253]]]\n",
      "[23.9196429   1.82249744  1.82249744  1.82249744  1.82249744]\n",
      "[3.43269426 0.68217023 1.19373305 0.91178772 0.61711887]\n",
      "[0.4981192  0.49738599 0.49806851 0.49667812 0.49700399]\n",
      "[0.11721481 0.11547557 0.11551295 0.10995138 0.11244424]\n"
     ]
    }
   ],
   "source": [
    "print(new_K_syn)\n",
    "print(new_C)\n",
    "print(new_Theta)\n",
    "print(np.mean(upstream_out, axis=0))\n",
    "print(np.std(upstream_out, axis=0))"
   ]
  },
  {
   "cell_type": "code",
   "execution_count": 10,
   "metadata": {
    "ExecuteTime": {
     "end_time": "2020-10-18T10:02:12.072994Z",
     "start_time": "2020-10-18T10:02:12.065564Z"
    },
    "hidden": true
   },
   "outputs": [],
   "source": [
    "np.save(\"/media/hdd01/sklee/shglm/biophysical/final_fit/adjusted_Delta.npy\", np.log(Delta_init))\n",
    "np.save(\"/media/hdd01/sklee/shglm/biophysical/final_fit/adjusted_Theta.npy\", new_Theta)\n",
    "np.save(\"/media/hdd01/sklee/shglm/biophysical/final_fit/adjusted_C.npy\", np.log(new_C))\n",
    "np.save(\"/media/hdd01/sklee/shglm/biophysical/final_fit/adjusted_K_syn.npy\", new_K_syn)\n",
    "np.save(\"/media/hdd01/sklee/shglm/biophysical/final_fit/adjusted_Tau_syn.npy\", syn_basis_tau)"
   ]
  },
  {
   "cell_type": "markdown",
   "metadata": {},
   "source": [
    "# Train ALL Params"
   ]
  },
  {
   "cell_type": "code",
   "execution_count": 4,
   "metadata": {
    "ExecuteTime": {
     "end_time": "2020-10-18T10:02:26.184079Z",
     "start_time": "2020-10-18T10:02:24.686957Z"
    }
   },
   "outputs": [],
   "source": [
    "fit_shGLM = shGLM(C_den, C_syn, syn_T, Ensyn,\n",
    "                 syn_basis_no, hist_basis_no,\n",
    "                 spike_status, hist_T)\n",
    "\n",
    "\n",
    "V_ref = np.fromfile(\"/media/hdd01/sklee/hglm/biophysical/inputs/vdata_NMDA_ApN0.5_13_Adend_r0_o2_i2_g_b0.bin\")\n",
    "V_ref = V_ref[1:-2]\n",
    "\n",
    "train_V_ref = V_ref[:train_T]\n",
    "test_V_ref = V_ref[train_T:train_T+test_T]\n",
    "\n",
    "test_V_ref = torch.from_numpy(test_V_ref).cuda()\n",
    "train_V_ref = torch.from_numpy(train_V_ref)"
   ]
  },
  {
   "cell_type": "code",
   "execution_count": 5,
   "metadata": {
    "ExecuteTime": {
     "end_time": "2020-10-18T10:02:26.199896Z",
     "start_time": "2020-10-18T10:02:26.185254Z"
    }
   },
   "outputs": [
    {
     "data": {
      "text/plain": [
       "shGLM()"
      ]
     },
     "execution_count": 5,
     "metadata": {},
     "output_type": "execute_result"
    }
   ],
   "source": [
    "adjust_K_syn = torch.from_numpy(np.load(\"/media/hdd01/sklee/shglm/biophysical/final_fit/adjusted_K_syn.npy\"))\n",
    "adjust_Delta = torch.from_numpy(np.load(\"/media/hdd01/sklee/shglm/biophysical/final_fit/adjusted_Delta.npy\"))\n",
    "adjust_C = torch.from_numpy(np.load(\"/media/hdd01/sklee/shglm/biophysical/final_fit/adjusted_C.npy\"))\n",
    "adjust_Theta = torch.from_numpy(np.load(\"/media/hdd01/sklee/shglm/biophysical/final_fit/adjusted_Theta.npy\"))\n",
    "adjust_Tau_syn = torch.from_numpy(np.load(\"/media/hdd01/sklee/shglm/biophysical/final_fit/adjusted_Tau_syn.npy\"))\n",
    "\n",
    "with torch.no_grad():\n",
    "    fit_shGLM.K_syn = nn.Parameter(adjust_K_syn.float(), requires_grad=True)\n",
    "    fit_shGLM.Delta = nn.Parameter(adjust_Delta.float().reshape(1), requires_grad=True)\n",
    "    fit_shGLM.C = nn.Parameter(adjust_C.float(), requires_grad=True)\n",
    "    fit_shGLM.Theta = nn.Parameter(adjust_Theta.float(), requires_grad=True)\n",
    "    fit_shGLM.syn_basis_tau = nn.Parameter(adjust_Tau_syn.float(), requires_grad=True)\n",
    "    \n",
    "fit_shGLM.train().cuda()"
   ]
  },
  {
   "cell_type": "code",
   "execution_count": 6,
   "metadata": {
    "ExecuteTime": {
     "end_time": "2020-10-18T10:02:26.374643Z",
     "start_time": "2020-10-18T10:02:26.200962Z"
    }
   },
   "outputs": [],
   "source": [
    "E_neural = np.load(\"/media/hdd01/sklee/shglm/biophysical/inputs/Espikes_d48000_r1_rep1_Ne629_e5_E20_neural.npy\")\n",
    "I_neural = np.load(\"/media/hdd01/sklee/shglm/biophysical/inputs/Ispikes_d48000_r1_rep1_Ni120_i20_I30_neural.npy\")\n",
    "\n",
    "train_neural = np.hstack((E_neural, I_neural))[:train_T]\n",
    "test_neural = np.hstack((E_neural, I_neural))[train_T:train_T + test_T]\n",
    "train_neural = torch.from_numpy(train_neural)\n",
    "test_neural = torch.from_numpy(test_neural).cuda()\n"
   ]
  },
  {
   "cell_type": "code",
   "execution_count": 7,
   "metadata": {
    "ExecuteTime": {
     "end_time": "2020-10-18T10:02:26.452565Z",
     "start_time": "2020-10-18T10:02:26.445635Z"
    }
   },
   "outputs": [
    {
     "name": "stdout",
     "output_type": "stream",
     "text": [
      "35812\n",
      "35812\n"
     ]
    }
   ],
   "source": [
    "repeat_no = 2\n",
    "batch_no = (train_V_ref.shape[0] - batch_size) * repeat_no\n",
    "train_idx = np.empty((repeat_no, train_V_ref.shape[0] - batch_size))\n",
    "for i in range(repeat_no):\n",
    "    part_idx = np.arange(train_V_ref.shape[0] - batch_size)\n",
    "    np.random.shuffle(part_idx)\n",
    "    train_idx[i] = part_idx\n",
    "train_idx = train_idx.flatten()\n",
    "train_idx = torch.from_numpy(train_idx)\n",
    "\n",
    "print(batch_no)\n",
    "print(train_idx.shape[0])"
   ]
  },
  {
   "cell_type": "code",
   "execution_count": 8,
   "metadata": {
    "ExecuteTime": {
     "end_time": "2020-10-18T10:02:26.976604Z",
     "start_time": "2020-10-18T10:02:26.971865Z"
    }
   },
   "outputs": [],
   "source": [
    "no_spike_bool = True\n",
    "spike_bool = False\n",
    "\n",
    "fit_shGLM.V_o.requires_grad = no_spike_bool\n",
    "fit_shGLM.K_syn.requires_grad = True\n",
    "fit_shGLM.Delta.requires_grad = no_spike_bool\n",
    "fit_shGLM.C.requires_grad= no_spike_bool\n",
    "fit_shGLM.Theta.requires_grad = True\n",
    "\n",
    "fit_shGLM.thresh.requires_grad = spike_bool\n",
    "fit_shGLM.spike_size.requires_grad = spike_bool\n",
    "fit_shGLM.K_hist.requires_grad = spike_bool\n"
   ]
  },
  {
   "cell_type": "code",
   "execution_count": 9,
   "metadata": {
    "ExecuteTime": {
     "end_time": "2020-10-18T10:02:27.780313Z",
     "start_time": "2020-10-18T10:02:27.777481Z"
    }
   },
   "outputs": [],
   "source": [
    "#optimizer = optim.Adam(fit_shGLM.parameters(), lr=0.01)\n",
    "#optimizer = optim.Adam(fit_shGLM.parameters(), lr=0.0025)\n",
    "optimizer = optim.Adam(fit_shGLM.parameters(), lr=0.0005)"
   ]
  },
  {
   "cell_type": "code",
   "execution_count": null,
   "metadata": {
    "ExecuteTime": {
     "start_time": "2020-10-18T10:02:32.438Z"
    },
    "scrolled": false
   },
   "outputs": [
    {
     "name": "stderr",
     "output_type": "stream",
     "text": [
      "<ipython-input-10-2d624c771b80>:3: TqdmDeprecationWarning: Please use `tqdm.notebook.trange` instead of `tqdm.tnrange`\n",
      "  for i in tnrange(batch_no):\n"
     ]
    },
    {
     "data": {
      "application/vnd.jupyter.widget-view+json": {
       "model_id": "c0bfd76c622741f2a73a762f1f86137e",
       "version_major": 2,
       "version_minor": 0
      },
      "text/plain": [
       "HBox(children=(FloatProgress(value=0.0, max=35812.0), HTML(value='')))"
      ]
     },
     "metadata": {},
     "output_type": "display_data"
    },
    {
     "name": "stdout",
     "output_type": "stream",
     "text": [
      "TEST 0 2.674507759407976 0.806353805226172 0.5635581741588243\n",
      "TEST 100 2.3199719820949287 0.8320237641766659 0.711649815347488\n",
      "TEST 200 2.1849701569965685 0.8417984936060594 0.7005088851160195\n",
      "TEST 300 2.1893993472214657 0.8414778006385142 0.6641754806018907\n",
      "TEST 400 2.0781447644719298 0.8495331246455204 0.7794508016102665\n",
      "TEST 500 2.035647870761 0.8526100877744652 0.6958874113938617\n",
      "TEST 600 2.023287132518485 0.8535050599110501 0.8171919937783986\n",
      "TEST 700 1.9943547059351576 0.8555998955940036 0.8315280396349727\n",
      "TEST 800 1.9600140532933719 0.8580863107776973 0.7574259341375404\n",
      "TEST 900 2.1048408656652486 0.8476002088132422 0.7211239714415076\n",
      "TEST 1000 1.9104353220013646 0.8616760302701802 0.6075782513305354\n",
      "TEST 1100 1.9690257825388755 0.8574338217264377 0.6765253068646189\n",
      "TEST 1200 1.9091404991204928 0.8617697811849557 0.7368051880508996\n",
      "TEST 1300 1.9182737037386965 0.8611084967598435 0.7490812767921251\n",
      "TEST 1400 2.148939335497488 0.8444072844646127 0.6942968199544777\n",
      "TEST 1500 1.8710235493377974 0.8645296169860971 0.6964883105563167\n",
      "TEST 1600 2.0338863662529953 0.8527376284935705 0.7153978452349437\n",
      "TEST 1700 1.9335499276299453 0.8600024305796479 0.8128036095658902\n",
      "TEST 1800 1.871757992290431 0.8644764400706965 0.6715632109946399\n",
      "TEST 1900 1.8639389786526082 0.8650425712485079 0.8082971469187278\n",
      "TEST 2000 1.9191754458063235 0.8610432066141471 0.74518804626686\n",
      "TEST 2100 1.82006206733033 0.8682194537517687 0.7280465154541353\n",
      "TEST 2200 1.9048410839420558 0.8620810778738119 0.6872554087433119\n",
      "TEST 2300 1.9166388573578614 0.8612268668712145 0.7769003168801004\n",
      "TEST 2400 1.8972584445696008 0.862630094485293 0.7586234097348376\n",
      "TEST 2500 1.8570958803596969 0.8655380418508143 0.7112807274866977\n",
      "TEST 2600 1.8888288051134492 0.8632404377078705 0.7202536442981395\n",
      "TEST 2700 1.8298298038740555 0.8675122264264288 0.7424903954396878\n",
      "TEST 2800 1.8688009328610147 0.8646905442635249 0.7112560710288648\n",
      "TEST 2900 1.8976601598826868 0.8626010085529081 0.7138746993292855\n",
      "TEST 3000 1.8834227152881646 0.8636318625243516 0.7272796692189607\n",
      "TEST 3100 1.909001791561035 0.86177982423927 0.822635796675276\n",
      "TEST 3200 1.8887917376417207 0.8632431215319604 0.8430736960294561\n",
      "TEST 3300 1.8702945505808855 0.8645823997285893 0.7776640533883037\n",
      "TEST 3400 1.8774215008106916 0.8640663770107058 0.7258126842865311\n",
      "TEST 3500 1.8957312998366702 0.8627406665249271 0.6366147662418096\n",
      "TEST 3600 2.045537184090178 0.8518940577419121 0.7445997240965196\n",
      "TEST 3700 1.8559260798160244 0.8656227405727336 0.8200119912854075\n",
      "TEST 3800 2.0106593070133725 0.8544193703474879 0.7503268341227937\n",
      "TEST 3900 1.856365734367229 0.8655909076454904 0.8151917507719271\n",
      "TEST 4000 1.8570899880415477 0.8655384684784524 0.65498778971863\n",
      "TEST 4100 1.8829921212239065 0.8636630394520404 0.8264964377700413\n",
      "TEST 4200 1.8705679560602329 0.8645626039645744 0.7500667871484824\n",
      "TEST 4300 1.8583210428610402 0.8654493346890506 0.8051782321142942\n",
      "TEST 4400 1.9103137353563346 0.8616848337076031 0.734496532980778\n",
      "TEST 4500 1.8696947467126408 0.8646258281722898 0.751829391027943\n",
      "TEST 4600 1.8759741948297466 0.864171168341158 0.8500237686924446\n",
      "TEST 4700 1.8875851150834277 0.8633304863717646 0.7962897335339907\n",
      "TEST 4800 1.973609691229377 0.8571019264423413 0.7392009003839093\n",
      "TEST 4900 2.0064313666524685 0.854725491852147 0.6577669752382215\n",
      "TEST 5000 1.960587550252431 0.8580447870095902 0.8580442704822793\n",
      "TEST 5100 1.8909546515492808 0.8630865170097892 0.7385217283308014\n",
      "TEST 5200 1.99719644864988 0.8553941408672959 0.7149169318470645\n",
      "TEST 5300 1.8895053337977643 0.8631914540305071 0.7761668953095469\n",
      "TEST 5400 1.9372815541764836 0.8597322442738318 0.7641359162067998\n",
      "TEST 5500 2.015976807657707 0.8540343597201846 0.7914227347130636\n",
      "TEST 5600 2.085829899186884 0.84897668679444 0.5840607457508009\n",
      "TEST 5700 1.8726845097823825 0.8644093561050339 0.7727096129479826\n",
      "TEST 5800 1.8639405723567135 0.8650424558588424 0.7734339617907593\n",
      "TEST 5900 1.8808190147471198 0.8638203819668356 0.7551986945768707\n",
      "TEST 6000 1.944608405864433 0.8592017477923274 0.748024634995073\n",
      "TEST 6100 1.8662001948176974 0.86487884919618 0.8044453073470329\n",
      "TEST 6200 1.9331414986941868 0.8600320026287255 0.7660178324070154\n",
      "TEST 6300 1.9405458045358697 0.8594958981272388 0.7628285262631213\n",
      "TEST 6400 1.9911521194639965 0.8558317769792514 0.7428307541169026\n",
      "TEST 6500 1.9012133507633309 0.8623437417887562 0.8442309743853985\n",
      "TEST 6600 1.8854840677687321 0.8634826114789952 0.8044802724258364\n",
      "TEST 6700 1.8972962405508633 0.8626273579098734 0.7142521611228265\n",
      "TEST 6800 1.9082617526702963 0.8618334062801342 0.6318412476614927\n",
      "TEST 6900 1.9114141115711336 0.8616051615778316 0.7670516366064243\n",
      "TEST 7000 2.0079542531749013 0.8546152281494389 0.7451205676957917\n",
      "TEST 7100 1.8855263143375325 0.8634795526436352 0.677321226202653\n",
      "TEST 7200 1.9172400628471364 0.8611833369480784 0.8492288975904209\n",
      "TEST 7300 1.9013058503451215 0.8623370444061558 0.8244271211484684\n",
      "TEST 7400 1.9133703729338694 0.8614635195847209 0.7779626990957034\n",
      "TEST 7500 1.967084645550439 0.8575743685783962 0.818358227647012\n",
      "TEST 7600 1.8743030180858764 0.8642921689222338 0.801973928055731\n",
      "TEST 7700 1.8612986111932364 0.8652337455421384 0.8190168883978264\n",
      "TEST 7800 1.8815105051844965 0.8637703149839877 0.6840687386072151\n",
      "TEST 7900 1.8649832511532498 0.8649669613090829 0.798850267694462\n",
      "TEST 8000 1.889598780340549 0.8631846880511646 0.7324990203571491\n",
      "TEST 8100 1.9510994153042889 0.8587317699940027 0.7884092351691766\n",
      "TEST 8200 1.8937618563544385 0.8628832629685362 0.8020237702126481\n",
      "TEST 8300 1.8971965276424627 0.8626345775663864 0.8337498582581228\n",
      "TEST 8400 1.9744339766320684 0.8570422445293231 0.7596364677124507\n",
      "TEST 8500 1.9488636524949488 0.858893649132049 0.7635002566296588\n",
      "TEST 8600 1.912907014754966 0.8614970687644545 0.6936794133737691\n",
      "TEST 8700 1.939665987455856 0.8595596007525274 0.5881168632143485\n",
      "TEST 8800 1.9595212455005844 0.8581219922471308 0.8036100437230204\n",
      "TEST 8900 1.9043137556575402 0.8621192587468436 0.6538515669940903\n",
      "TEST 9000 2.0375961885899385 0.8524690209412631 0.7162714113873876\n",
      "TEST 9100 1.9568142211407833 0.8583179927430084 0.8457682122266267\n",
      "TEST 9200 1.9055574988904442 0.8620292062410422 0.7365553898330837\n",
      "TEST 9300 1.9119447560386094 0.8615667405683154 0.8457618616255071\n",
      "TEST 9400 1.8966778017977628 0.8626721356155302 0.8109925423363943\n",
      "TEST 9500 1.9031843014750662 0.8622010362481977 0.7559032076612717\n",
      "TEST 9600 1.8949930673585673 0.8627941178426446 0.7858115374574577\n",
      "TEST 9700 1.886026292368215 0.8634433520235754 0.7784084966959379\n",
      "TEST 9800 2.0648685019610076 0.8504943847768993 0.7833627411057054\n",
      "TEST 9900 1.927918828899185 0.8604101469958185 0.7616984498184731\n",
      "TEST 10000 1.937303151452429 0.8597306805484528 0.7108966220895601\n",
      "TEST 10100 1.9004697372160408 0.8623975827105442 0.7214210590638042\n",
      "TEST 10200 1.8991555312744015 0.8624927370114521 0.768969403237433\n",
      "TEST 10300 1.90396296941153 0.8621446572407007 0.7520802754809206\n",
      "TEST 10400 1.8647923395736155 0.8649807841461906 0.7477885377135453\n",
      "TEST 10500 1.9274917367593836 0.8604410703875601 0.8533426361343271\n",
      "TEST 10600 1.9929614785323566 0.8557007714285567 0.731095641490895\n",
      "TEST 10700 1.87912148862159 0.8639432903637413 0.8382368193905252\n",
      "TEST 10800 1.9188147186005284 0.8610693248471661 0.6318702039493709\n",
      "TEST 10900 1.9106909283008184 0.8616575232288534 0.7969598491867594\n",
      "TEST 11000 1.8983325017091706 0.8625523280058909 0.7841407465162243\n",
      "TEST 11100 2.026744920996045 0.8532547007196902 0.721084598110462\n",
      "TEST 11200 1.9246988586181657 0.8606432871176237 0.8013863678256744\n",
      "TEST 11300 1.8829944495852124 0.8636628708325662 0.7073869990918723\n",
      "TEST 11400 1.9122879999422777 0.861541888190466 0.8205342325879994\n",
      "TEST 11500 1.901897371917714 0.8622942156255826 0.838741525125312\n",
      "TEST 11600 1.9083028831545588 0.8618304282910194 0.7815406724947508\n",
      "TEST 11700 1.9231746180654878 0.8607536488693345 0.7388716417566755\n",
      "TEST 11800 1.9342722778398402 0.8599501291995413 0.7778112923209826\n",
      "TEST 11900 1.9320820331629254 0.8601087125704313 0.8239023177889084\n",
      "TEST 12000 1.9013509676646991 0.8623337777199331 0.7628789803200109\n",
      "TEST 12100 1.8714969347668815 0.864495341785785 0.727729079422408\n",
      "TEST 12200 1.8872491831828173 0.8633548093062959 0.817758026712309\n",
      "TEST 12300 1.91946972999801 0.8610218991314161 0.7316832737207163\n"
     ]
    },
    {
     "name": "stdout",
     "output_type": "stream",
     "text": [
      "TEST 12400 1.9355539569834268 0.8598573299383653 0.7599058832289203\n",
      "TEST 12500 1.8559911516082273 0.8656180290819802 0.7936604590534602\n",
      "TEST 12600 1.8936320056303957 0.8628926647030395 0.8087064152155266\n",
      "TEST 12700 1.852773396344891 0.8658510087915424 0.7998774087542183\n",
      "TEST 12800 1.8766277149352 0.8641238506117493 0.7979309962074572\n",
      "TEST 12900 1.9583463462820765 0.8582070600936604 0.8131089912932652\n",
      "TEST 13000 1.884450203923759 0.8635574677972755 0.7783368327612081\n",
      "TEST 13100 1.8942733783629047 0.8628462265134236 0.8144339198181358\n",
      "TEST 13200 1.865646524024915 0.8649189374205408 0.7230840582678837\n",
      "TEST 13300 2.121511068805286 0.8463932122618817 0.7547511470068926\n",
      "TEST 13400 1.8758657573006285 0.8641790196913312 0.807690985970714\n",
      "TEST 13500 1.8447734645647673 0.866430239249033 0.847947787034464\n",
      "TEST 13600 1.933068766725931 0.8600372687382323 0.6551748128667383\n",
      "TEST 13700 1.895301355667756 0.8627717963872406 0.8406048680451862\n",
      "TEST 13800 2.0574303678164196 0.8510329385937875 0.6888348515097664\n",
      "TEST 13900 1.8771655577008823 0.8640849084047946 0.74790020596326\n",
      "TEST 14000 1.9426609762504718 0.8593427503156101 0.7571080879751828\n",
      "TEST 14100 1.9407312621003407 0.8594824701517813 0.7566550700615347\n",
      "TEST 14200 1.8849272884775736 0.8635229247342171 0.8082409825544388\n",
      "TEST 14300 2.1712851863678266 0.8427893459660553 0.6765926256887905\n",
      "TEST 14400 1.8745129763640254 0.8642769670281875 0.8323229562415999\n",
      "TEST 14500 1.877700866835555 0.8640461496518832 0.7160550859797248\n",
      "TEST 14600 1.8656834562133349 0.8649162633497897 0.6981500044989923\n",
      "TEST 14700 1.8991814415173554 0.8624908610101667 0.7966171338945183\n",
      "TEST 14800 1.8580869739276185 0.8654662822664632 0.8182534670375389\n",
      "TEST 14900 1.975316917038059 0.8569783157235831 0.7405656526359814\n",
      "TEST 15000 1.891304813925425 0.8630611637126036 0.6841747042252797\n",
      "TEST 15100 1.9525867918131563 0.8586240773477677 0.805854309253823\n",
      "TEST 15200 2.0034495231355116 0.8549413905718896 0.756116210948805\n",
      "TEST 15300 1.8773534199383464 0.8640713063352187 0.8161090019851358\n",
      "TEST 15400 1.974214826295491 0.8570581119736759 0.7350785284523287\n",
      "TEST 15500 1.9426110786975332 0.8593463631332579 0.6470682879366436\n",
      "TEST 15600 1.9335990610172422 0.859998873058403 0.7615911441041149\n",
      "TEST 15700 1.8910029503194847 0.8630830199469159 0.8317999137895604\n",
      "TEST 15800 1.8451869917770416 0.8664002980370225 0.8187910393303239\n",
      "TEST 15900 1.9468556584327237 0.8590390367356415 0.8503562735608075\n",
      "TEST 16000 1.9287737535166254 0.860348246684716 0.7179123595489791\n",
      "TEST 16100 1.8720448551912992 0.8644556699171596 0.7352444075954592\n"
     ]
    }
   ],
   "source": [
    "loss_array = np.empty((batch_no))\n",
    "\n",
    "for i in tnrange(batch_no):\n",
    "    optimizer.zero_grad()\n",
    "    batch_idx = train_idx[i].long()\n",
    "    batch_X = train_neural[batch_idx : batch_idx+batch_size].float().cuda()\n",
    "    batch_pred = fit_shGLM(batch_X)\n",
    "    batch_ref = train_V_ref[batch_idx:batch_idx+batch_size].cuda()\n",
    "    \n",
    "    #loss = criterion(batch_ref, batch_pred)\n",
    "    \n",
    "    diff = (batch_ref - batch_pred) ** 1\n",
    "    loss = torch.var(diff)\n",
    "    loss_array[i] = loss.item()\n",
    "    \n",
    "    #print(i, train_score)\n",
    "    \n",
    "    loss.backward()\n",
    "    optimizer.step()\n",
    "    #scheduler.step()\n",
    "    \n",
    "    if i%100 == 0:\n",
    "        test_pred = fit_shGLM(test_neural.float())\n",
    "        #test_loss = criterion(test_V_ref, test_pred)\n",
    "        test_diff = (test_V_ref - test_pred) ** 1\n",
    "        test_loss = torch.var(test_diff)\n",
    "        test_score = metrics.explained_variance_score(y_true=test_V_ref.cpu().detach().numpy(),\n",
    "                                                      y_pred=test_pred.cpu().detach().numpy(),\n",
    "                                                      multioutput='uniform_average')\n",
    "        train_score = metrics.explained_variance_score(y_true=batch_ref.cpu().detach().numpy(),\n",
    "                                                      y_pred=batch_pred.cpu().detach().numpy(),\n",
    "                                                      multioutput='uniform_average')\n",
    "        print(\"TEST\", i, test_loss.item(), test_score, train_score)\n",
    "        if i%500 == 0:\n",
    "            torch.save(fit_shGLM.state_dict(), \"/media/hdd01/sklee/shglm/biophysical/final_fit/final5_nospike_s3_h3_shglm_i\"+str(i)+\".pt\")\n",
    "    \n"
   ]
  },
  {
   "cell_type": "code",
   "execution_count": 11,
   "metadata": {
    "ExecuteTime": {
     "end_time": "2020-10-18T09:58:56.206948Z",
     "start_time": "2020-10-18T09:58:56.143472Z"
    }
   },
   "outputs": [
    {
     "name": "stdout",
     "output_type": "stream",
     "text": [
      "V_o tensor([-75.5824], device='cuda:0')\n",
      "K_syn tensor([[[-0.0028,  0.0454],\n",
      "         [ 0.0065, -0.0508]],\n",
      "\n",
      "        [[-0.0807,  0.0594],\n",
      "         [ 0.1257, -0.0699]],\n",
      "\n",
      "        [[-0.0740,  0.1284],\n",
      "         [ 0.1354, -0.1249]],\n",
      "\n",
      "        [[-0.0528,  0.0972],\n",
      "         [ 0.1037, -0.1198]],\n",
      "\n",
      "        [[-0.0635,  0.0678],\n",
      "         [ 0.1158, -0.1245]]], device='cuda:0')\n",
      "syn_basis_tau tensor([2.2178, 2.5067], device='cuda:0')\n",
      "Delta tensor([4.8635], device='cuda:0')\n",
      "C tensor([3.5296, 0.7792, 0.8571, 0.9575, 0.7838], device='cuda:0')\n",
      "Theta tensor([3.1666, 0.7108, 1.7149, 1.0767, 1.0389], device='cuda:0')\n",
      "thresh tensor([85., 85., 85., 85., 85.], device='cuda:0')\n",
      "thresh_scale tensor([100., 100., 100., 100., 100.], device='cuda:0')\n",
      "spike_size tensor([4., 4., 4., 4., 4.], device='cuda:0')\n",
      "hist_basis_tau tensor([1.7000, 2.2000, 2.7000], device='cuda:0')\n",
      "K_hist tensor([[0.0250, 0.0250, 0.0250],\n",
      "        [0.0250, 0.0250, 0.0250],\n",
      "        [0.0250, 0.0250, 0.0250],\n",
      "        [0.0250, 0.0250, 0.0250],\n",
      "        [0.0250, 0.0250, 0.0250]], device='cuda:0')\n"
     ]
    }
   ],
   "source": [
    "for name, param in fit_shGLM.named_parameters():\n",
    "    print(name, param.data)"
   ]
  },
  {
   "cell_type": "markdown",
   "metadata": {},
   "source": [
    "# Test Part Fit"
   ]
  },
  {
   "cell_type": "code",
   "execution_count": 4,
   "metadata": {
    "ExecuteTime": {
     "end_time": "2020-10-17T01:35:01.503570Z",
     "start_time": "2020-10-17T01:34:59.390984Z"
    }
   },
   "outputs": [],
   "source": [
    "final_shGLM = shGLM(C_den, C_syn, W_size, Ensyn,\n",
    "                 syn_basis_tau, hist_basis_tau,\n",
    "                 spike_status, hist_T)\n",
    "final_shGLM.load_state_dict(torch.load(\"/media/hdd01/sklee/shglm/biophysical/final_fit/final5_nospike_shglm_i11000.pt\"))\n",
    "\n",
    "final_shGLM.eval().cuda()\n",
    "\n",
    "V_ref = np.fromfile(\"/media/hdd01/sklee/hglm/biophysical/inputs/vdata_NMDA_ApN0.5_13_Adend_r0_o2_i2_g_b0.bin\")\n",
    "V_ref = V_ref[1:-2]\n",
    "\n",
    "test_V_ref = V_ref[train_T:train_T+test_T]\n"
   ]
  },
  {
   "cell_type": "code",
   "execution_count": 5,
   "metadata": {
    "ExecuteTime": {
     "end_time": "2020-10-17T01:35:01.802267Z",
     "start_time": "2020-10-17T01:35:01.504703Z"
    }
   },
   "outputs": [],
   "source": [
    "E_neural = np.load(\"/media/hdd01/sklee/shglm/biophysical/inputs/Espikes_d48000_r1_rep1_Ne629_e5_E20_neural.npy\")\n",
    "I_neural = np.load(\"/media/hdd01/sklee/shglm/biophysical/inputs/Ispikes_d48000_r1_rep1_Ni120_i20_I30_neural.npy\")\n",
    "\n",
    "test_neural = np.hstack((E_neural, I_neural))[train_T:train_T + test_T]\n",
    "test_neural = torch.from_numpy(test_neural).float().cuda()\n",
    "\n",
    "test_V_final = final_shGLM(test_neural).cpu().detach().numpy()\n",
    "\n",
    "test_V_final = test_V_final\n",
    "test_V_ref = test_V_ref"
   ]
  },
  {
   "cell_type": "code",
   "execution_count": 6,
   "metadata": {
    "ExecuteTime": {
     "end_time": "2020-10-17T01:35:02.045161Z",
     "start_time": "2020-10-17T01:35:01.803305Z"
    }
   },
   "outputs": [
    {
     "name": "stdout",
     "output_type": "stream",
     "text": [
      "0.8831894052596222\n"
     ]
    },
    {
     "data": {
      "image/png": "[encoded data removed]",
      "text/plain": [
       "<Figure size 1008x288 with 1 Axes>"
      ]
     },
     "metadata": {
      "needs_background": "light"
     },
     "output_type": "display_data"
    }
   ],
   "source": [
    "plt.figure(figsize = (14,4))\n",
    "plt.plot(test_V_ref[:4000], label=\"Biophysical\", c=\"blue\")\n",
    "plt.plot(test_V_final[:4000]-1.3, label=\"shGLM\", c=\"red\")\n",
    "print(np.corrcoef(test_V_ref, test_V_final)[0][1])\n",
    "\n",
    "\n",
    "test_score = metrics.explained_variance_score(y_true=test_V_ref,\n",
    "                                                      y_pred=test_V_final,\n",
    "                                                      multioutput='uniform_average')\n",
    "\n",
    "plt.title(\"No Spike shGLM (5 Subunit: 5 Excitatory, 5 Inhibitory Kernels) \\n Variance Explained: \" + str(round(test_score, 5)), fontsize = 16)\n",
    "#plt.xticks(np.arange(0,8001,1000),[0,1,2,3,4,5,6,7,8])\n",
    "plt.xticks(np.arange(0,4001,1000),[0,1,2,3,4])\n",
    "plt.xlabel(\"Time (s)\")\n",
    "plt.ylabel(\"Sub-Threshold Voltage (mV)\")\n",
    "plt.legend()\n",
    "#plt.show()\n",
    "\n",
    "\n",
    "plt.savefig(\"/media/hdd01/sklee/shglm/biophysical/final5_nospike.png\", dpi=150, bbox_inches='tight')"
   ]
  },
  {
   "cell_type": "code",
   "execution_count": 7,
   "metadata": {
    "ExecuteTime": {
     "end_time": "2020-10-17T01:35:02.053964Z",
     "start_time": "2020-10-17T01:35:02.046019Z"
    }
   },
   "outputs": [
    {
     "name": "stdout",
     "output_type": "stream",
     "text": [
      "V_o tensor([-76.0649], device='cuda:0')\n",
      "K_syn tensor([[[ 0.0186, -0.0238]],\n",
      "\n",
      "        [[ 0.1814, -0.0141]],\n",
      "\n",
      "        [[ 0.2150, -0.0691]],\n",
      "\n",
      "        [[ 0.1416, -0.0721]],\n",
      "\n",
      "        [[ 0.1848, -0.1480]]], device='cuda:0')\n",
      "Delta tensor([4.6005], device='cuda:0')\n",
      "C tensor([3.0235, 0.8632, 0.8776, 1.2156, 0.8883], device='cuda:0')\n",
      "Theta tensor([3.3843, 0.9971, 1.8942, 1.4188, 1.3132], device='cuda:0')\n",
      "thresh tensor([85., 85., 85., 85., 85.], device='cuda:0')\n",
      "spike_size tensor([4., 4., 4., 4., 4.], device='cuda:0')\n",
      "K_hist tensor([[-0.0250, -0.0250, -0.0250],\n",
      "        [-0.0250, -0.0250, -0.0250],\n",
      "        [-0.0250, -0.0250, -0.0250],\n",
      "        [-0.0250, -0.0250, -0.0250],\n",
      "        [-0.0250, -0.0250, -0.0250]], device='cuda:0')\n"
     ]
    }
   ],
   "source": [
    "for name, param in final_shGLM.named_parameters():\n",
    "    if param.requires_grad:\n",
    "        print(name, param.data)"
   ]
  },
  {
   "cell_type": "code",
   "execution_count": null,
   "metadata": {},
   "outputs": [],
   "source": []
  },
  {
   "cell_type": "code",
   "execution_count": null,
   "metadata": {},
   "outputs": [],
   "source": []
  }
 ],
 "metadata": {
  "kernelspec": {
   "display_name": "Python 3",
   "language": "python",
   "name": "python3"
  },
  "language_info": {
   "codemirror_mode": {
    "name": "ipython",
    "version": 3
   },
   "file_extension": ".py",
   "mimetype": "text/x-python",
   "name": "python",
   "nbconvert_exporter": "python",
   "pygments_lexer": "ipython3",
   "version": "3.8.3"
  }
 },
 "nbformat": 4,
 "nbformat_minor": 4
}
