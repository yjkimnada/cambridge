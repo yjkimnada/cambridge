{
 "cells": [
  {
   "cell_type": "code",
   "execution_count": 30,
   "metadata": {
    "ExecuteTime": {
     "end_time": "2020-11-25T13:21:13.526153Z",
     "start_time": "2020-11-25T13:21:13.523410Z"
    }
   },
   "outputs": [],
   "source": [
    "import numpy as np\n",
    "import matplotlib.pyplot as plt\n",
    "from tqdm import tnrange\n"
   ]
  },
  {
   "cell_type": "markdown",
   "metadata": {},
   "source": [
    "# Make Neural"
   ]
  },
  {
   "cell_type": "code",
   "execution_count": 29,
   "metadata": {
    "ExecuteTime": {
     "end_time": "2020-11-25T12:58:46.164585Z",
     "start_time": "2020-11-25T12:58:46.086903Z"
    }
   },
   "outputs": [
    {
     "name": "stdout",
     "output_type": "stream",
     "text": [
      "(1502506, 3)\n",
      "(1502400, 3)\n",
      "(590925, 3)\n",
      "(911475, 3)\n"
     ]
    }
   ],
   "source": [
    "raw_train = np.load(\"/media/hdd01/sklee/tcn/L23_inputs/stim_NMDA_ApN0.5_13_Adend_r0_o2_i2_g_b5.npy\")\n",
    "print(raw_train.shape)\n",
    "raw_train = np.delete(raw_train, np.where(np.isnan(raw_train) == True)[0], 0)\n",
    "print(raw_train.shape)\n",
    "E_train = raw_train[np.where(raw_train[:,0]==1)]\n",
    "I_train = raw_train[np.where(raw_train[:,0]==-1)]\n",
    "print(E_train.shape)\n",
    "print(I_train.shape)"
   ]
  },
  {
   "cell_type": "code",
   "execution_count": 26,
   "metadata": {
    "ExecuteTime": {
     "end_time": "2020-11-25T12:58:07.738763Z",
     "start_time": "2020-11-25T12:58:07.648584Z"
    }
   },
   "outputs": [
    {
     "data": {
      "text/plain": [
       "[<matplotlib.lines.Line2D at 0x7f37df526ac0>]"
      ]
     },
     "execution_count": 26,
     "metadata": {},
     "output_type": "execute_result"
    },
    {
     "data": {
      "image/png": "[encoded data removed]",
      "text/plain": [
       "<Figure size 720x288 with 1 Axes>"
      ]
     },
     "metadata": {
      "needs_background": "light"
     },
     "output_type": "display_data"
    }
   ],
   "source": [
    "data = np.load(\"/media/hdd01/sklee/tcn/L23_inputs/vdata_NMDA_ApN0.5_13_Adend_r0_o2_i2_g_b5.npy\").flatten()\n",
    "plt.figure(figsize = (10,4))\n",
    "plt.plot(data[:10000])"
   ]
  },
  {
   "cell_type": "code",
   "execution_count": null,
   "metadata": {},
   "outputs": [],
   "source": []
  },
  {
   "cell_type": "code",
   "execution_count": 3,
   "metadata": {
    "ExecuteTime": {
     "end_time": "2020-11-25T10:50:41.600170Z",
     "start_time": "2020-11-25T10:50:36.527590Z"
    }
   },
   "outputs": [
    {
     "name": "stdout",
     "output_type": "stream",
     "text": [
      "(80029,)\n",
      "[    0     1     2 ... 80026 80027 80028]\n",
      "734983\n",
      "3640337\n",
      "(4375320, 3)\n"
     ]
    },
    {
     "name": "stderr",
     "output_type": "stream",
     "text": [
      "<ipython-input-3-753111fa7c23>:19: TqdmDeprecationWarning: Please use `tqdm.notebook.trange` instead of `tqdm.tnrange`\n",
      "  for i in tnrange(E_counts.shape[0]):\n"
     ]
    },
    {
     "data": {
      "application/vnd.jupyter.widget-view+json": {
       "model_id": "baaf9defc6704fe0a2b8eb792b6e63c7",
       "version_major": 2,
       "version_minor": 0
      },
      "text/plain": [
       "HBox(children=(FloatProgress(value=0.0, max=80028.0), HTML(value='')))"
      ]
     },
     "metadata": {},
     "output_type": "display_data"
    },
    {
     "name": "stdout",
     "output_type": "stream",
     "text": [
      "\n"
     ]
    },
    {
     "name": "stderr",
     "output_type": "stream",
     "text": [
      "<ipython-input-3-753111fa7c23>:27: TqdmDeprecationWarning: Please use `tqdm.notebook.trange` instead of `tqdm.tnrange`\n",
      "  for i in tnrange(I_counts.shape[0]):\n"
     ]
    },
    {
     "data": {
      "application/vnd.jupyter.widget-view+json": {
       "model_id": "88a9916c47da4a939a3a4345692a73b3",
       "version_major": 2,
       "version_minor": 0
      },
      "text/plain": [
       "HBox(children=(FloatProgress(value=0.0, max=80028.0), HTML(value='')))"
      ]
     },
     "metadata": {},
     "output_type": "display_data"
    },
    {
     "name": "stdout",
     "output_type": "stream",
     "text": [
      "\n",
      "(80028, 629)\n",
      "(80028, 120)\n",
      "734983.0\n",
      "3640337.0\n",
      "0.014601070070626315\n",
      "0.379069096649506\n",
      "3.0\n",
      "67.0\n"
     ]
    }
   ],
   "source": [
    "bin_size = 1 # in milliseconds\n",
    "E_no = int(np.max(raw_train[:,1][np.where(raw_train[:,0] == 1)])) + 1\n",
    "I_no = int(np.max(raw_train[:,1][np.where(raw_train[:,0] == -1)])) + 1\n",
    "bin_no = int(int(np.max(raw_train[:,2]) + 1) / bin_size)\n",
    "E_neural = np.zeros((bin_no, E_no))\n",
    "I_neural = np.zeros((bin_no, I_no))\n",
    "\n",
    "bin_edges = np.arange(0, bin_no*bin_size + bin_size, bin_size)\n",
    "print(bin_edges.shape)\n",
    "print(bin_edges)\n",
    "\n",
    "E_counts, E_edges = np.histogram(E_train[:,2], bin_edges)\n",
    "I_counts, I_edges = np.histogram(I_train[:,2], bin_edges)\n",
    "print(np.sum(E_counts))\n",
    "print(np.sum(I_counts))\n",
    "print(raw_train.shape)\n",
    "\n",
    "E_count = 0\n",
    "for i in tnrange(E_counts.shape[0]):\n",
    "    bin_count = E_counts[i]\n",
    "    for j in range(bin_count):\n",
    "        syn = int(E_train[E_count,1])\n",
    "        E_neural[i, syn] += 1\n",
    "        E_count += 1\n",
    "\n",
    "I_count = 0\n",
    "for i in tnrange(I_counts.shape[0]):\n",
    "    bin_count = I_counts[i]\n",
    "    for j in range(bin_count):\n",
    "        syn = int(I_train[I_count,1])\n",
    "        I_neural[i, syn] += 1\n",
    "        I_count += 1\n",
    "        \n",
    "print(E_neural.shape)\n",
    "print(I_neural.shape)\n",
    "print(np.sum(E_neural))\n",
    "print(np.sum(I_neural))\n",
    "print(np.sum(E_neural)/E_neural.size)\n",
    "print(np.sum(I_neural)/I_neural.size)\n",
    "print(np.max(E_neural))\n",
    "print(np.max(I_neural))"
   ]
  },
  {
   "cell_type": "code",
   "execution_count": 4,
   "metadata": {
    "ExecuteTime": {
     "end_time": "2020-11-25T10:50:44.731503Z",
     "start_time": "2020-11-25T10:50:44.539494Z"
    }
   },
   "outputs": [],
   "source": [
    "np.save(\"/media/hdd01/sklee/tcn/L23_inputs/Espikes_NMDA_ApN0.5_13_Adend_r2_o2_i2_g_b5_neural.npy\", E_neural)\n",
    "np.save(\"/media/hdd01/sklee/tcn/L23_inputs/Ispikes_NMDA_ApN0.5_13_Adend_r2_o2_i2_g_b5_neural.npy\", I_neural)"
   ]
  },
  {
   "cell_type": "code",
   "execution_count": null,
   "metadata": {},
   "outputs": [],
   "source": []
  },
  {
   "cell_type": "code",
   "execution_count": 22,
   "metadata": {
    "ExecuteTime": {
     "end_time": "2020-11-25T10:54:48.329662Z",
     "start_time": "2020-11-25T10:54:48.325055Z"
    }
   },
   "outputs": [
    {
     "name": "stdout",
     "output_type": "stream",
     "text": [
      "(80001,)\n",
      "[-75.         -75.01143022 -75.08191314 ... -21.06304794 -21.14140265\n",
      " -21.2636126 ]\n"
     ]
    }
   ],
   "source": [
    "volt = np.load(\"/media/hdd01/sklee/tcn/L23_inputs/vdata_NMDA_ApN0.5_13_Adend_r2_o2_i2_g_b5.npy\").flatten()\n",
    "print(volt.shape)"
   ]
  },
  {
   "cell_type": "code",
   "execution_count": 23,
   "metadata": {
    "ExecuteTime": {
     "end_time": "2020-11-25T10:55:17.542821Z",
     "start_time": "2020-11-25T10:55:17.440018Z"
    }
   },
   "outputs": [
    {
     "data": {
      "text/plain": [
       "[<matplotlib.lines.Line2D at 0x7f37df603e50>]"
      ]
     },
     "execution_count": 23,
     "metadata": {},
     "output_type": "execute_result"
    },
    {
     "data": {
      "image/png": "[encoded data removed]",
      "text/plain": [
       "<Figure size 1080x288 with 1 Axes>"
      ]
     },
     "metadata": {
      "needs_background": "light"
     },
     "output_type": "display_data"
    }
   ],
   "source": [
    "plt.figure(figsize = (15,4))\n",
    "plt.plot(volt[1:20000])"
   ]
  },
  {
   "cell_type": "code",
   "execution_count": null,
   "metadata": {},
   "outputs": [],
   "source": []
  }
 ],
 "metadata": {
  "kernelspec": {
   "display_name": "Python 3",
   "language": "python",
   "name": "python3"
  },
  "language_info": {
   "codemirror_mode": {
    "name": "ipython",
    "version": 3
   },
   "file_extension": ".py",
   "mimetype": "text/x-python",
   "name": "python",
   "nbconvert_exporter": "python",
   "pygments_lexer": "ipython3",
   "version": "3.8.3"
  }
 },
 "nbformat": 4,
 "nbformat_minor": 4
}
