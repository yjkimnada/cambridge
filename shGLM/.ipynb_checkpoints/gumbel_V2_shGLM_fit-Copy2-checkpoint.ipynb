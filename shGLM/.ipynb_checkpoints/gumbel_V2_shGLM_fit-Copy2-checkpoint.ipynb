{
 "cells": [
  {
   "cell_type": "code",
   "execution_count": 1,
   "metadata": {
    "ExecuteTime": {
     "end_time": "2020-11-22T01:04:51.919101Z",
     "start_time": "2020-11-22T01:04:51.218958Z"
    }
   },
   "outputs": [],
   "source": [
    "import numpy as np\n",
    "import torch\n",
    "import torch.nn as nn\n",
    "import matplotlib.pyplot as plt\n",
    "from tqdm import tnrange\n",
    "import torch.optim as optim\n",
    "import torch.nn.functional as F\n",
    "from step_shGLM_v2 import step_shGLM\n",
    "from sklearn import metrics\n",
    "import torch.distributions as dist"
   ]
  },
  {
   "cell_type": "markdown",
   "metadata": {
    "ExecuteTime": {
     "end_time": "2020-11-07T05:28:12.372372Z",
     "start_time": "2020-11-07T05:28:12.368983Z"
    }
   },
   "source": [
    "# Hyperparams"
   ]
  },
  {
   "cell_type": "code",
   "execution_count": 2,
   "metadata": {
    "ExecuteTime": {
     "end_time": "2020-11-22T01:04:51.923559Z",
     "start_time": "2020-11-22T01:04:51.920299Z"
    }
   },
   "outputs": [],
   "source": [
    "train_T = 20000\n",
    "test_T = 8000\n",
    "T_syn = 250\n",
    "T_hist = 250\n",
    "C_den = torch.zeros(5,5)\n",
    "C_den[0,1:] = 1\n",
    "sub_no = C_den.shape[0]\n",
    "\n",
    "batch_size = 1500\n",
    "\n",
    "syn_basis_no = 2\n",
    "hist_basis_no = 2\n",
    "prop_basis_no = 2\n"
   ]
  },
  {
   "cell_type": "code",
   "execution_count": 3,
   "metadata": {
    "ExecuteTime": {
     "end_time": "2020-11-22T01:04:51.944627Z",
     "start_time": "2020-11-22T01:04:51.925586Z"
    }
   },
   "outputs": [],
   "source": [
    "Ensyn = torch.tensor([0, 106, 213, 211, 99])\n",
    "Insyn = torch.tensor([1, 22, 36, 42, 19])\n",
    "E_no = torch.sum(Ensyn)\n",
    "I_no = torch.sum(Insyn)\n",
    "\n",
    "C_syn_e = torch.zeros(sub_no, E_no)\n",
    "C_syn_i = torch.zeros(sub_no, I_no)\n",
    "\n",
    "E_count = 0\n",
    "for s in range(sub_no):\n",
    "    C_syn_e[s,E_count:E_count+Ensyn[s]] = 1\n",
    "    E_count += Ensyn[s]\n",
    "\n",
    "I_count = 0\n",
    "for s in range(sub_no):\n",
    "    C_syn_i[s,I_count:I_count+Insyn[s]] = 1\n",
    "    I_count += Insyn[s]"
   ]
  },
  {
   "cell_type": "markdown",
   "metadata": {
    "heading_collapsed": true
   },
   "source": [
    "# Train Params"
   ]
  },
  {
   "cell_type": "code",
   "execution_count": 4,
   "metadata": {
    "ExecuteTime": {
     "end_time": "2020-11-22T01:04:53.924180Z",
     "start_time": "2020-11-22T01:04:51.948492Z"
    },
    "hidden": true
   },
   "outputs": [
    {
     "name": "stdout",
     "output_type": "stream",
     "text": [
      "torch.Size([8000])\n"
     ]
    }
   ],
   "source": [
    "model = step_shGLM(C_den.cuda(), C_syn_e.cuda(), C_syn_i.cuda(), T_syn, syn_basis_no,\n",
    "                T_hist, hist_basis_no, prop_basis_no)\n",
    "#model.load_state_dict(torch.load(\"/media/hdd01/sklee/cont_shglm/gumbelv2_sub5_s2_h2_shglm_i5000.pt\"))\n",
    "model = model.float().cuda()\n",
    "\n",
    "V_ref = np.load(\"/media/hdd01/sklee/cont_shglm/L23_inputs/vdata_NMDA_ApN0.5_13_Adend_r0_o2_i2_g_b5.npy\").flatten()[:48000]\n",
    "\n",
    "train_V_ref = V_ref[:train_T]\n",
    "test_V_ref = V_ref[train_T:train_T+test_T]\n",
    "\n",
    "test_V_ref = torch.from_numpy(test_V_ref).cuda()\n",
    "train_V_ref = torch.from_numpy(train_V_ref)\n",
    "print(test_V_ref.shape)"
   ]
  },
  {
   "cell_type": "code",
   "execution_count": 5,
   "metadata": {
    "ExecuteTime": {
     "end_time": "2020-11-22T01:04:53.992913Z",
     "start_time": "2020-11-22T01:04:53.925031Z"
    },
    "hidden": true
   },
   "outputs": [],
   "source": [
    "E_neural = np.load(\"/media/hdd01/sklee/cont_shglm/L23_inputs/Espikes_NMDA_ApN0.5_13_Adend_r0_o2_i2_g_b5_neural.npy\")\n",
    "I_neural = np.load(\"/media/hdd01/sklee/cont_shglm/L23_inputs/Ispikes_NMDA_ApN0.5_13_Adend_r0_o2_i2_g_b5_neural.npy\")\n",
    "\n",
    "train_S_E = E_neural[:train_T]\n",
    "train_S_I = I_neural[:train_T]\n",
    "test_S_E = E_neural[train_T:train_T+test_T]\n",
    "test_S_I = I_neural[train_T:train_T+test_T]\n",
    "\n",
    "train_S_E = torch.from_numpy(train_S_E)\n",
    "train_S_I = torch.from_numpy(train_S_I)\n",
    "test_S_E = torch.from_numpy(test_S_E).float().cuda()\n",
    "test_S_I = torch.from_numpy(test_S_I).float().cuda()"
   ]
  },
  {
   "cell_type": "code",
   "execution_count": 6,
   "metadata": {
    "ExecuteTime": {
     "end_time": "2020-11-22T01:04:53.999901Z",
     "start_time": "2020-11-22T01:04:53.994071Z"
    },
    "hidden": true
   },
   "outputs": [
    {
     "name": "stdout",
     "output_type": "stream",
     "text": [
      "37000\n",
      "37000\n"
     ]
    }
   ],
   "source": [
    "repeat_no = 2\n",
    "batch_no = (train_V_ref.shape[0] - batch_size) * repeat_no\n",
    "train_idx = np.empty((repeat_no, train_V_ref.shape[0] - batch_size))\n",
    "for i in range(repeat_no):\n",
    "    part_idx = np.arange(train_V_ref.shape[0] - batch_size)\n",
    "    np.random.shuffle(part_idx)\n",
    "    train_idx[i] = part_idx\n",
    "train_idx = train_idx.flatten()\n",
    "train_idx = torch.from_numpy(train_idx)\n",
    "\n",
    "print(batch_no)\n",
    "print(train_idx.shape[0])"
   ]
  },
  {
   "cell_type": "code",
   "execution_count": 7,
   "metadata": {
    "ExecuteTime": {
     "end_time": "2020-11-22T01:04:54.006730Z",
     "start_time": "2020-11-22T01:04:54.002324Z"
    },
    "hidden": true
   },
   "outputs": [
    {
     "name": "stdout",
     "output_type": "stream",
     "text": [
      "157\n"
     ]
    }
   ],
   "source": [
    "#optimizer = optim.Adam(model.parameters(), lr=0.00001)\n",
    "optimizer = optim.Adam(model.parameters(), lr=0.01)\n",
    "print(sum(p.numel() for p in model.parameters() if p.requires_grad))\n",
    "scheduler = optim.lr_scheduler.StepLR(optimizer, step_size=3000, gamma=0.5)\n"
   ]
  },
  {
   "cell_type": "code",
   "execution_count": null,
   "metadata": {
    "ExecuteTime": {
     "start_time": "2020-11-22T01:04:52.014Z"
    },
    "hidden": true,
    "scrolled": true
   },
   "outputs": [
    {
     "name": "stderr",
     "output_type": "stream",
     "text": [
      "<ipython-input-8-175281948118>:8: TqdmDeprecationWarning: Please use `tqdm.notebook.trange` instead of `tqdm.tnrange`\n",
      "  for i in tnrange(batch_no):\n"
     ]
    },
    {
     "data": {
      "application/vnd.jupyter.widget-view+json": {
       "model_id": "66772b746ac3491b8b008b4085fcf051",
       "version_major": 2,
       "version_minor": 0
      },
      "text/plain": [
       "HBox(children=(FloatProgress(value=0.0, max=10000.0), HTML(value='')))"
      ]
     },
     "metadata": {},
     "output_type": "display_data"
    },
    {
     "name": "stdout",
     "output_type": "stream",
     "text": [
      "TEST 0 67.24904372212622 7.493990370521786e-05 5.752859985219683e-05\n",
      "[0.58812505 0.00575    0.         0.         0.        ]\n",
      "TEST 50 65.2745793904314 0.02943322152631389 0.02790160410859388\n",
      "[0.0005     0.22887501 0.         0.37800002 0.40375003]\n",
      "TEST 100 61.23578587344818 0.08948598400621721 0.08428709827369751\n",
      "[3.7500000e-04 2.9762501e-01 0.0000000e+00 3.9525002e-01 2.7825001e-01]\n",
      "TEST 150 58.56418949379839 0.1292099119882678 0.1363999104192971\n",
      "[3.7500000e-04 2.2412501e-01 0.0000000e+00 4.6712503e-01 2.6987502e-01]\n",
      "TEST 200 55.994379134336526 0.1674203850937206 0.14936778895015212\n",
      "[0.0005     0.20400001 0.00075    0.340375   0.23200001]\n",
      "TEST 250 53.7320671778498 0.20105866892139157 0.1807858610744455\n",
      "[3.7500000e-04 2.0937501e-01 1.1250001e-03 4.2537501e-01 2.7450001e-01]\n",
      "TEST 300 52.5626247146079 0.21844709196265566 0.1861754408823153\n",
      "[0.000375   0.17587501 0.0015     0.32337502 0.328     ]\n",
      "TEST 350 49.88952345290847 0.2581933960338888 0.2325830915256354\n",
      "[0.000375 0.209625 0.001375 0.318625 0.349875]\n",
      "TEST 400 48.895782388337345 0.27296931757038023 0.25259508824543975\n",
      "[0.0005     0.295875   0.00125    0.34950003 0.31325   ]\n",
      "TEST 450 46.699848091913886 0.30562063290622754 0.3129112871242121\n",
      "[0.001625   0.23125002 0.001125   0.351      0.326875  ]\n",
      "TEST 500 45.79372876585612 0.3190937080542391 0.32749183517818026\n",
      "[3.7500000e-04 2.3000000e-01 1.2500001e-03 3.8462502e-01 3.2825002e-01]\n",
      "TEST 550 44.17750157684997 0.343125366779785 0.3195156869039997\n",
      "[0.000375   0.25787503 0.001375   0.36112502 0.3375    ]\n",
      "TEST 600 42.97188540040137 0.36105165629082125 0.34492427753971233\n",
      "[0.0005     0.279875   0.0015     0.364125   0.31375003]\n",
      "TEST 650 41.92850667978478 0.3765656394061684 0.3642906092826105\n",
      "[0.0005     0.22087501 0.001625   0.37087503 0.31525   ]\n",
      "TEST 700 40.761326716654054 0.39392042140183403 0.301175140775649\n",
      "[0.0005     0.23137501 0.00125    0.36375    0.33762503]\n",
      "TEST 750 39.80937801706532 0.4080749328750596 0.36898956384307136\n",
      "[0.0005     0.23825002 0.001625   0.3235     0.30175   ]\n",
      "TEST 800 38.49309830861637 0.42764667685514923 0.37515805682389614\n",
      "[0.0005     0.205125   0.0015     0.32500002 0.29775003]\n",
      "TEST 850 37.65897877986884 0.4400491880778341 0.4153665201789255\n",
      "[0.0005     0.21650001 0.0015     0.31125    0.29237503]\n",
      "TEST 900 36.724168569622655 0.4539488676209513 0.4017911372713868\n",
      "[0.0005     0.18725    0.001375   0.30812502 0.286     ]\n",
      "TEST 950 36.04242666714563 0.4640856780698065 0.3860826763652724\n",
      "[0.0005     0.22950001 0.00125    0.33687502 0.28625003]\n",
      "TEST 1000 35.381963572273705 0.47390609436849696 0.4123498510347352\n",
      "[0.0005     0.19637501 0.001375   0.29925    0.28225002]\n",
      "TEST 1050 34.59243452229321 0.4856455903752672 0.4222046377815887\n",
      "[0.0005     0.187875   0.0015     0.29200003 0.275875  ]\n",
      "TEST 1100 34.76042205887593 0.4831477860590757 0.40202460325694955\n",
      "[0.0005     0.21337502 0.001375   0.342375   0.27812502]\n",
      "TEST 1150 34.05784722525266 0.49359436112312727 0.42741028354100374\n",
      "[0.0005     0.19950001 0.001375   0.3235     0.275875  ]\n",
      "TEST 1200 32.53698814683737 0.5162079928448116 0.4865985663468152\n",
      "[0.0005     0.21737501 0.001375   0.2865     0.23500001]\n",
      "TEST 1250 32.776811146145185 0.512642068089922 0.47251938601468346\n",
      "[0.0005     0.18725    0.00125    0.26775002 0.24812502]\n",
      "TEST 1300 32.87988171669143 0.511109513276021 0.5328648422637923\n",
      "[0.000375   0.23012501 0.001375   0.26037502 0.236125  ]\n",
      "TEST 1350 32.086991224347756 0.522898990591997 0.5047817594890344\n",
      "[0.0005     0.20212501 0.001375   0.24000001 0.20500001]\n",
      "TEST 1400 30.767128407743755 0.5425240117682573 0.496668990597275\n",
      "[0.000375   0.190125   0.00125    0.25587502 0.22125001]\n",
      "TEST 1450 32.01568613604716 0.5239592249141414 0.4464893447374656\n",
      "[0.000375   0.230625   0.00125    0.23112501 0.205125  ]\n",
      "TEST 1500 30.368781792394003 0.5484470218988355 0.5479644150023479\n",
      "[0.0005     0.18862501 0.001125   0.22487502 0.19887501]\n",
      "TEST 1550 31.067982285838262 0.5380506197759769 0.46502423922872127\n",
      "[0.0005     0.17825001 0.00125    0.24262501 0.19312501]\n",
      "TEST 1600 30.494595089751698 0.5465763058220121 0.4982748270896905\n",
      "[0.0005     0.17025001 0.001125   0.23837501 0.185     ]\n",
      "TEST 1650 30.71371836199904 0.5433181649650536 0.5225302958014113\n",
      "[0.0005     0.19425    0.000875   0.25825    0.17850001]\n",
      "TEST 1700 29.746551416100417 0.5576989563395672 0.5696926926594605\n",
      "[0.0005     0.188875   0.001      0.24462502 0.16925001]\n",
      "TEST 1750 33.401800415113456 0.5033491117142115 0.5509110455068855\n",
      "[0.0005     0.193      0.001125   0.24637501 0.17087501]\n",
      "TEST 1800 28.60339537177438 0.5746965270669928 0.5215474673658496\n",
      "[0.000375   0.1675     0.001      0.24287501 0.16662501]\n",
      "TEST 1850 28.11362863131693 0.5819788617114383 0.5115970685261123\n",
      "[0.000375   0.18837501 0.001125   0.18837501 0.15037501]\n",
      "TEST 1900 28.85477626539826 0.5709587482199135 0.48271554608482015\n",
      "[0.000375   0.17650001 0.000875   0.2055     0.16375001]\n",
      "TEST 1950 27.790815842296762 0.586778760394006 0.4898857890716064\n",
      "[0.000375 0.158    0.001    0.21125  0.148375]\n",
      "TEST 2000 27.549322246271597 0.590369525238909 0.6002475396355509\n",
      "[0.000375   0.162125   0.001125   0.18275    0.13637501]\n",
      "TEST 2050 27.390504342346663 0.5927309863101073 0.5088861802107114\n",
      "[0.000375   0.15587501 0.000875   0.19100001 0.155     ]\n",
      "TEST 2100 27.96031628885125 0.584258460673383 0.492351237525267\n",
      "[0.000375   0.16000001 0.000875   0.20012501 0.15025   ]\n",
      "TEST 2150 28.449085740567327 0.57699095476869 0.5214023836644868\n",
      "[0.000375   0.18037501 0.001      0.20950001 0.154375  ]\n",
      "TEST 2200 27.009142501058513 0.5984014500023546 0.5030837412178704\n",
      "[0.000375 0.154125 0.001    0.209    0.150625]\n",
      "TEST 2250 26.915804197971443 0.599789295917192 0.470279121469795\n",
      "[0.000375   0.15587501 0.001      0.17662501 0.14275001]\n",
      "TEST 2300 26.711551814707462 0.6028263216416905 0.5315301310179482\n",
      "[0.000375   0.16275    0.000875   0.19987501 0.151625  ]\n",
      "TEST 2350 26.33085862941138 0.608486843114443 0.6266030067374597\n",
      "[0.000375 0.1525   0.001    0.16875  0.158875]\n",
      "TEST 2400 27.900786750438517 0.5851436045321906 0.6163615350735201\n",
      "[0.000375   0.177      0.000875   0.1755     0.16575001]\n",
      "TEST 2450 25.8442414131439 0.6157223474924238 0.6309423444441713\n",
      "[0.000375   0.15450001 0.001      0.174875   0.13637501]\n",
      "TEST 2500 26.053033417060217 0.6126178222128134 0.5610284437670618\n",
      "[0.000375   0.16975    0.001      0.14125    0.13475001]\n",
      "TEST 2550 26.070694292963697 0.6123552228871282 0.6063190778113838\n",
      "[0.000375   0.162125   0.000875   0.17525001 0.13000001]\n",
      "TEST 2600 25.596179195824362 0.6194107810115581 0.5277913085611488\n",
      "[0.000375   0.14187501 0.001      0.18875001 0.126     ]\n",
      "TEST 2650 25.489876547907226 0.6209913935673689 0.5060960911675105\n",
      "[0.00025    0.15362501 0.001      0.17562501 0.13825001]\n",
      "TEST 2700 25.315352604458393 0.6235863875724185 0.5231912277027776\n",
      "[0.00025    0.1585     0.001125   0.14887501 0.136875  ]\n",
      "TEST 2750 25.817739236898287 0.6161164079665937 0.6398323755025219\n",
      "[0.00025    0.16025001 0.001125   0.1665     0.130875  ]\n",
      "TEST 2800 25.062276758362632 0.6273493686694126 0.5321614612407486\n",
      "[0.00025    0.154125   0.001      0.15937501 0.12837501]\n",
      "TEST 2850 25.072336575268352 0.627199789396311 0.5250985176705956\n",
      "[0.00025    0.1665     0.001      0.15675001 0.16000001]\n",
      "TEST 2900 24.705515483985742 0.6326540469014456 0.5853539550057922\n",
      "[0.000375   0.17312501 0.001      0.147125   0.13525   ]\n",
      "TEST 2950 24.636453088481783 0.6336809346650067 0.4929086074375132\n",
      "[0.00025    0.158875   0.001125   0.15750001 0.125375  ]\n",
      "TEST 3000 24.692510002124763 0.6328474252127401 0.5166972598300131\n",
      "[0.00025    0.16025001 0.001      0.14975001 0.11325   ]\n",
      "TEST 3050 24.60870343293459 0.6340935438750515 0.614485047028646\n",
      "[0.00025    0.15525001 0.001      0.14112501 0.11025   ]\n",
      "TEST 3100 24.761325333367747 0.631824211055679 0.566719450178057\n",
      "[0.00025    0.177375   0.001      0.1465     0.11350001]\n",
      "TEST 3150 24.642137452689546 0.6335964139309554 0.5563135115516677\n",
      "[0.00025    0.1675     0.001      0.15100001 0.12725   ]\n",
      "TEST 3200 24.518580920625595 0.6354335742133386 0.5314460656548459\n",
      "[0.00025    0.16512501 0.001      0.14875    0.12675   ]\n",
      "TEST 3250 24.606424146576675 0.6341274345563888 0.49289595851302836\n",
      "[0.00025    0.159125   0.001      0.14275001 0.11775   ]\n",
      "TEST 3300 24.28274028531213 0.6389402852284263 0.5898514794300259\n",
      "[0.00025    0.17475002 0.001      0.138375   0.127875  ]\n"
     ]
    },
    {
     "name": "stdout",
     "output_type": "stream",
     "text": [
      "TEST 3350 24.157361994472648 0.6408045332068804 0.5376861796163231\n",
      "[0.00025    0.17187501 0.001      0.143625   0.11975001]\n",
      "TEST 3400 24.289902503249632 0.6388337902982836 0.6505694809105484\n",
      "[0.00025    0.17312501 0.001125   0.149      0.13700001]\n"
     ]
    },
    {
     "name": "stderr",
     "output_type": "stream",
     "text": [
      "IOPub message rate exceeded.\n",
      "The notebook server will temporarily stop sending output\n",
      "to the client in order to avoid crashing it.\n",
      "To change this limit, set the config variable\n",
      "`--NotebookApp.iopub_msg_rate_limit`.\n",
      "\n",
      "Current values:\n",
      "NotebookApp.iopub_msg_rate_limit=1000.0 (msgs/sec)\n",
      "NotebookApp.rate_limit_window=3.0 (secs)\n",
      "\n"
     ]
    },
    {
     "name": "stdout",
     "output_type": "stream",
     "text": [
      "TEST 4700 23.614803853302032 0.6488718223424852 0.616325396092329\n",
      "[0.00025    0.15262501 0.001125   0.137125   0.140625  ]\n",
      "TEST 4750 23.21082251066895 0.6548786151684174 0.5718859329549099\n",
      "[0.00025    0.146375   0.001125   0.18037501 0.122375  ]\n",
      "TEST 4800 23.602563659598687 0.6490538216090451 0.6467574159058308\n",
      "[0.00025    0.15025    0.001125   0.11350001 0.14187501]\n",
      "TEST 4850 23.753642263641268 0.6468074360737888 0.6117972352888768\n",
      "[0.00025    0.16275    0.001      0.13887501 0.1365    ]\n",
      "TEST 4900 23.54572239436606 0.6498989935709294 0.6506354436034445\n",
      "[0.00025    0.156625   0.001      0.134625   0.13550001]\n",
      "TEST 4950 23.535389261016263 0.6500526367989057 0.6445676375396274\n",
      "[0.00025    0.15925    0.001      0.149875   0.12837501]\n"
     ]
    }
   ],
   "source": [
    "batch_no = 10000\n",
    "loss_array = np.empty((batch_no//100, 2))\n",
    "#bce_loss = nn.BCELoss(reduction=\"mean\")\n",
    "\n",
    "#train_zeros = torch.zeros(batch_size, sub_no).cuda()\n",
    "#test_zeros = \n",
    "\n",
    "for i in tnrange(batch_no):\n",
    "    model.train()\n",
    "    optimizer.zero_grad()\n",
    "    batch_idx = train_idx[i].long()\n",
    "    batch_S_E = train_S_E[batch_idx : batch_idx+batch_size].float().cuda()\n",
    "    batch_S_I = train_S_I[batch_idx : batch_idx+batch_size].float().cuda()\n",
    "    batch_pred, train_raw, train_spikes = model(batch_S_E, batch_S_I)\n",
    "    batch_ref = train_V_ref[batch_idx:batch_idx+batch_size].cuda()\n",
    "        \n",
    "    diff = (batch_ref - batch_pred) ** 1\n",
    "    var_loss = torch.var(diff)\n",
    "    spike_loss = torch.mean(train_spikes **2)\n",
    "    loss = var_loss + 1*spike_loss\n",
    "    #print(i, var_loss.item(), spike_loss.item())\n",
    "        \n",
    "    loss.backward()\n",
    "    optimizer.step()\n",
    "    scheduler.step()\n",
    "    \n",
    "    if i%50 == 0:\n",
    "        model.eval()\n",
    "        test_pred, test_raw, test_spikes = model(test_S_E, test_S_I)\n",
    "        test_diff = (test_V_ref - test_pred) ** 1\n",
    "        test_loss = torch.var(test_diff)\n",
    "        \n",
    "        test_score = metrics.explained_variance_score(y_true=test_V_ref.cpu().detach().numpy(),\n",
    "                                                      y_pred=test_pred.cpu().detach().numpy(),\n",
    "                                                      multioutput='uniform_average')\n",
    "        train_score = metrics.explained_variance_score(y_true=batch_ref.cpu().detach().numpy(),\n",
    "                                                      y_pred=batch_pred.cpu().detach().numpy(),\n",
    "                                                      multioutput='uniform_average')\n",
    "        print(\"TEST\", i, test_loss.item(), test_score.item(), train_score.item())\n",
    "        print(torch.mean(test_spikes, 0).cpu().detach().numpy())\n",
    "        #print(torch.mean(spike_probs, 0).cpu().detach().numpy())\n",
    "        if i%100 == 0:\n",
    "            torch.save(model.state_dict(), \"/media/hdd01/sklee/cont_shglm/burst_L23_stepS_finalspike_bigzeroconstraint_i\"+str(i)+\".pt\")\n",
    "            loss_array[i//100,0] = i\n",
    "            loss_array[i//100,1] = test_score\n",
    "            np.save(\"/media/hdd01/sklee/cont_shglm/burst_L23_stepS_finalspike_bigzeroconstraint_test_scores.npy\", loss_array)\n"
   ]
  },
  {
   "cell_type": "markdown",
   "metadata": {},
   "source": [
    "# Test "
   ]
  },
  {
   "cell_type": "code",
   "execution_count": 14,
   "metadata": {
    "ExecuteTime": {
     "end_time": "2020-11-21T15:48:35.321014Z",
     "start_time": "2020-11-21T15:48:35.270733Z"
    }
   },
   "outputs": [],
   "source": [
    "model = step_shGLM(C_den.cuda(), C_syn_e.cuda(), C_syn_i.cuda(), T_syn, syn_basis_no,\n",
    "                T_hist, hist_basis_no, prop_basis_no)\n",
    "\n",
    "model.load_state_dict(torch.load(\"/media/hdd01/sklee/cont_shglm/burst_L23_stepS_finalspike_bigzeroconstraint_i4900.pt\"))\n",
    "model = model.float().to(\"cuda\")\n",
    "\n",
    "V_ref = np.fromfile(\"/media/hdd01/sklee/cont_shglm/L23_inputs/vdata_NMDA_ApN0.5_13_Adend_r0_o2_i2_g_b5.npy\").flatten()\n",
    "V_ref = V_ref[:48000]\n",
    "\n",
    "test_V_ref = V_ref[train_T:train_T+test_T]\n"
   ]
  },
  {
   "cell_type": "code",
   "execution_count": 26,
   "metadata": {
    "ExecuteTime": {
     "end_time": "2020-11-21T15:51:59.844656Z",
     "start_time": "2020-11-21T15:51:51.704265Z"
    }
   },
   "outputs": [],
   "source": [
    "E_neural = np.load(\"/media/hdd01/sklee/cont_shglm/L23_inputs/Espikes_NMDA_ApN0.5_13_Adend_r0_o2_i2_g_b5_neural.npy\")\n",
    "I_neural = np.load(\"/media/hdd01/sklee/cont_shglm/L23_inputs/Ispikes_NMDA_ApN0.5_13_Adend_r0_o2_i2_g_b5_neural.npy\")\n",
    "\n",
    "\n",
    "test_S_E = E_neural[train_T:train_T+test_T]\n",
    "test_S_I = I_neural[train_T:train_T+test_T]\n",
    "\n",
    "test_S_E = torch.from_numpy(test_S_E).float().cuda()\n",
    "test_S_I = torch.from_numpy(test_S_I).float().cuda()\n",
    "\n",
    "test_V_final, raw, spikes = model(test_S_E, test_S_I)\n",
    "\n",
    "test_V_final = test_V_final.cpu().detach().numpy()\n",
    "raw = raw.cpu().detach().numpy()\n",
    "spikes = spikes.cpu().detach().numpy()\n",
    "#probs = probs.cpu().detach().numpy()"
   ]
  },
  {
   "cell_type": "code",
   "execution_count": 37,
   "metadata": {
    "ExecuteTime": {
     "end_time": "2020-11-21T15:56:01.307243Z",
     "start_time": "2020-11-21T15:56:00.977440Z"
    }
   },
   "outputs": [
    {
     "name": "stdout",
     "output_type": "stream",
     "text": [
      "0.45260687989695214\n"
     ]
    },
    {
     "data": {
      "image/png": "[encoded data removed]",
      "text/plain": [
       "<Figure size 1008x288 with 1 Axes>"
      ]
     },
     "metadata": {
      "needs_background": "light"
     },
     "output_type": "display_data"
    }
   ],
   "source": [
    "plt.figure(figsize = (14,4))\n",
    "delay = 16\n",
    "\n",
    "plt.plot(test_V_ref[delay:2000], label=\"Biophysical\", c=\"blue\")\n",
    "plt.plot(test_V_final[:2000-delay]-40, label=\"cont_shGLM\", c=\"red\")\n",
    "print(np.corrcoef(test_V_ref, test_V_final)[0][1])\n",
    "\n",
    "\n",
    "test_score = metrics.explained_variance_score(y_true=test_V_ref[delay:],\n",
    "                                                      y_pred=test_V_final[:-delay],\n",
    "                                                      multioutput='uniform_average')\n",
    "\n",
    "plt.title(\"Final non-spiking subunit (no constraints) \\n Variance Explained: \" + str(round(test_score, 5)), fontsize = 16)\n",
    "#plt.xticks(np.arange(0,8001,1000),[0,1,2,3,4,5,6,7,8])\n",
    "#plt.xticks(np.arange(0,4001,1000),[0,1,2,3,4])\n",
    "plt.xlabel(\"Time (s)\")\n",
    "plt.ylabel(\"Sub-Threshold Voltage (mV)\")\n",
    "plt.legend()\n",
    "#plt.show()\n",
    "\n",
    "\n",
    "plt.savefig(\"/media/hdd01/sklee/cont_shglm/final_nospike_noconstraint.png\", dpi=150, bbox_inches='tight')#"
   ]
  },
  {
   "cell_type": "code",
   "execution_count": 15,
   "metadata": {
    "ExecuteTime": {
     "end_time": "2020-11-20T15:02:55.900689Z",
     "start_time": "2020-11-20T15:02:55.811058Z"
    }
   },
   "outputs": [
    {
     "data": {
      "text/plain": [
       "[<matplotlib.lines.Line2D at 0x7f4460265a60>]"
      ]
     },
     "execution_count": 15,
     "metadata": {},
     "output_type": "execute_result"
    },
    {
     "data": {
      "image/png": "[encoded data removed]",
      "text/plain": [
       "<Figure size 432x288 with 1 Axes>"
      ]
     },
     "metadata": {
      "needs_background": "light"
     },
     "output_type": "display_data"
    }
   ],
   "source": [
    "plt.plot(spikes[:500,1])\n",
    "#print(spikes)\n"
   ]
  },
  {
   "cell_type": "code",
   "execution_count": null,
   "metadata": {},
   "outputs": [],
   "source": []
  },
  {
   "cell_type": "code",
   "execution_count": 20,
   "metadata": {
    "ExecuteTime": {
     "end_time": "2020-11-16T21:21:06.644415Z",
     "start_time": "2020-11-16T21:21:06.635709Z"
    }
   },
   "outputs": [
    {
     "name": "stdout",
     "output_type": "stream",
     "text": [
      "(2, 8000)\n",
      "(4, 8000)\n",
      "(4, 8000)\n",
      "(4, 8000)\n"
     ]
    }
   ],
   "source": [
    "output_save = np.vstack((test_V_ref.reshape((1,-1)), test_V_final.reshape((1,-1))))\n",
    "print(output_save.shape)\n",
    "dend_save = raw.T\n",
    "spikes_save = spikes.T\n",
    "probs_save = probs.T\n",
    "print(dend_save.shape)\n",
    "print(spikes_save.shape)\n",
    "print(probs_save.shape)\n",
    "\n",
    "np.save(\"/media/hdd01/sklee/cont_shglm/gumbelS_test_V.npy\", output_save)\n",
    "np.save(\"/media/hdd01/sklee/cont_shglm/gumbelS_test_dend.npy\", dend_save)\n",
    "np.save(\"/media/hdd01/sklee/cont_shglm/gumbelS_test_spikes.npy\", spikes_save)\n",
    "np.save(\"/media/hdd01/sklee/cont_shglm/gumbelS_test_probs.npy\", probs_save)"
   ]
  },
  {
   "cell_type": "code",
   "execution_count": 9,
   "metadata": {
    "ExecuteTime": {
     "end_time": "2020-11-18T20:25:46.901531Z",
     "start_time": "2020-11-18T20:25:46.840663Z"
    }
   },
   "outputs": [
    {
     "name": "stdout",
     "output_type": "stream",
     "text": [
      "W_s_syn tensor([[[ 0.3636, -0.0067],\n",
      "         [ 0.8123, -0.1821]],\n",
      "\n",
      "        [[ 0.1648, -0.5033],\n",
      "         [ 0.7889, -1.2196]],\n",
      "\n",
      "        [[ 0.7365, -0.2357],\n",
      "         [ 0.3847, -0.7768]],\n",
      "\n",
      "        [[ 0.3431, -0.3001],\n",
      "         [ 0.7582, -1.3856]],\n",
      "\n",
      "        [[ 0.4279, -0.4513],\n",
      "         [ 0.7921, -1.6215]]], device='cuda:0')\n",
      "W_ns_syn tensor([[[-0.0576, -0.0070],\n",
      "         [-0.0134, -0.4550]],\n",
      "\n",
      "        [[ 0.3826, -0.0642],\n",
      "         [ 0.5320, -0.7127]],\n",
      "\n",
      "        [[ 0.1131,  0.0767],\n",
      "         [ 0.4038, -0.6421]],\n",
      "\n",
      "        [[ 0.1513,  0.1549],\n",
      "         [ 0.3450, -0.5999]],\n",
      "\n",
      "        [[ 0.4452, -0.1257],\n",
      "         [ 0.5046, -0.7934]]], device='cuda:0')\n",
      "Tau_s_syn tensor([[ 0.2074, -0.8053],\n",
      "        [ 1.7283,  1.6129]], device='cuda:0')\n",
      "Tau_ns_syn tensor([[-0.1851,  0.1265],\n",
      "        [ 2.0884,  1.3127]], device='cuda:0')\n",
      "Delta_s_syn tensor([[ 0.0329,  0.0899],\n",
      "        [ 0.3123,  1.2051],\n",
      "        [ 0.5550,  1.0877],\n",
      "        [-0.0674,  0.3695],\n",
      "        [ 0.2636,  0.8822]], device='cuda:0')\n",
      "Delta_ns_syn tensor([[ 0.2497,  0.3752],\n",
      "        [ 0.4660, -0.3126],\n",
      "        [ 0.3613,  0.2111],\n",
      "        [ 0.3963, -0.0856],\n",
      "        [ 0.4696,  0.3593]], device='cuda:0')\n",
      "W_s_sub tensor([9.1568, 1.7366, 2.2452, 2.3915, 1.5969], device='cuda:0')\n",
      "W_ns_sub tensor([8.8003, 2.1789, 2.8994, 3.2836, 2.1269], device='cuda:0')\n",
      "V_o tensor([-20.1604], device='cuda:0')\n",
      "Theta_s tensor([-0.9239, -2.7603, -2.7232, -2.2373, -2.5396], device='cuda:0')\n",
      "Theta_ns tensor([-1.8802, -1.3527, -1.8900, -1.6548, -0.8621], device='cuda:0')\n",
      "W_s_hist tensor([[-2.2167, -1.4677],\n",
      "        [-1.3673, -1.1348],\n",
      "        [-1.8277, -1.4107],\n",
      "        [-1.6135, -1.3359]], device='cuda:0')\n",
      "W_ns_hist tensor([[-1.1019, -1.4108],\n",
      "        [-0.8770, -1.1064],\n",
      "        [-0.6031, -0.9824],\n",
      "        [-1.0743, -1.2946]], device='cuda:0')\n",
      "Tau_s_hist tensor([1.0344, 1.4196], device='cuda:0')\n",
      "Tau_ns_hist tensor([1.0087, 2.2789], device='cuda:0')\n",
      "Delta_s_hist tensor([0.3747, 0.0268, 0.7628, 0.2454, 0.3829], device='cuda:0')\n",
      "Delta_ns_hist tensor([0.0678, 0.1830, 0.3123, 0.2867, 0.6099], device='cuda:0')\n",
      "W_s_prop tensor([[0.4045, 0.4664],\n",
      "        [0.0914, 0.3259],\n",
      "        [0.1788, 0.2462],\n",
      "        [0.4988, 0.1328],\n",
      "        [0.2999, 0.3979]], device='cuda:0')\n",
      "W_ns_prop tensor([[0.4960, 0.5861],\n",
      "        [0.0635, 0.0681],\n",
      "        [0.0194, 0.0652],\n",
      "        [0.0164, 0.0665],\n",
      "        [0.0775, 0.0057]], device='cuda:0')\n",
      "Tau_s_prop tensor([1.2982, 2.6351], device='cuda:0')\n",
      "Tau_ns_prop tensor([1.3024, 2.6517], device='cuda:0')\n",
      "Delta_s_prop tensor([0.3556, 0.9068, 0.8713, 0.9347, 0.6820], device='cuda:0')\n",
      "Delta_ns_prop tensor([0.9837, 0.1088, 0.4597, 0.5450, 0.5709], device='cuda:0')\n"
     ]
    }
   ],
   "source": [
    "for name, param in model.named_parameters():\n",
    "    print(name, param.data)"
   ]
  },
  {
   "cell_type": "code",
   "execution_count": null,
   "metadata": {},
   "outputs": [],
   "source": []
  }
 ],
 "metadata": {
  "kernelspec": {
   "display_name": "Python 3",
   "language": "python",
   "name": "python3"
  },
  "language_info": {
   "codemirror_mode": {
    "name": "ipython",
    "version": 3
   },
   "file_extension": ".py",
   "mimetype": "text/x-python",
   "name": "python",
   "nbconvert_exporter": "python",
   "pygments_lexer": "ipython3",
   "version": "3.8.3"
  }
 },
 "nbformat": 4,
 "nbformat_minor": 4
}
