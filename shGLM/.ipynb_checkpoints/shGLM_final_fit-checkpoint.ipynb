{
 "cells": [
  {
   "cell_type": "code",
   "execution_count": 1,
   "metadata": {
    "ExecuteTime": {
     "end_time": "2020-10-19T17:42:53.643086Z",
     "start_time": "2020-10-19T17:42:53.037834Z"
    }
   },
   "outputs": [],
   "source": [
    "import numpy as np\n",
    "import torch\n",
    "import torch.nn as nn\n",
    "import matplotlib.pyplot as plt\n",
    "from tqdm import tnrange\n",
    "import torch.optim as optim\n",
    "import torch.nn.functional as F\n",
    "from shGLM_class import shGLM\n",
    "from sklearn import metrics"
   ]
  },
  {
   "cell_type": "markdown",
   "metadata": {},
   "source": [
    "# Hyperparams"
   ]
  },
  {
   "cell_type": "code",
   "execution_count": 2,
   "metadata": {
    "ExecuteTime": {
     "end_time": "2020-10-19T17:42:53.649424Z",
     "start_time": "2020-10-19T17:42:53.646419Z"
    }
   },
   "outputs": [],
   "source": [
    "train_T = 20000\n",
    "test_T = 8000\n",
    "syn_T = 351\n",
    "C_den = torch.tensor([0,1,1,1,1])\n",
    "sub_no = C_den.shape[0]\n",
    "\n",
    "batch_size = 1250\n",
    "\n",
    "syn_basis_no = 1\n",
    "hist_basis_no = 3\n",
    "spike_status = True\n",
    "hist_T = 251\n"
   ]
  },
  {
   "cell_type": "code",
   "execution_count": 3,
   "metadata": {
    "ExecuteTime": {
     "end_time": "2020-10-19T17:42:53.678131Z",
     "start_time": "2020-10-19T17:42:53.650280Z"
    }
   },
   "outputs": [
    {
     "name": "stdout",
     "output_type": "stream",
     "text": [
      "tensor(749)\n"
     ]
    }
   ],
   "source": [
    "Ensyn = torch.tensor([0, 106, 213, 211, 99])\n",
    "Insyn = torch.tensor([1, 22, 36, 42, 19])\n",
    "N = torch.sum(Ensyn) + torch.sum(Insyn)\n",
    "print(N)\n",
    "\n",
    "C_syn = torch.zeros(sub_no, N)\n",
    "count = 0\n",
    "for m in range(sub_no):\n",
    "    for e in range(Ensyn[m]):\n",
    "        C_syn[m,count] = 1\n",
    "        count += 1\n",
    "        \n",
    "for m in range(sub_no):\n",
    "    for i in range(Insyn[m]):\n",
    "        C_syn[m,count] = -1\n",
    "        count += 1"
   ]
  },
  {
   "cell_type": "markdown",
   "metadata": {
    "heading_collapsed": true
   },
   "source": [
    "# Train ALL Params"
   ]
  },
  {
   "cell_type": "code",
   "execution_count": 4,
   "metadata": {
    "ExecuteTime": {
     "end_time": "2020-10-18T10:19:43.074140Z",
     "start_time": "2020-10-18T10:19:40.943371Z"
    },
    "hidden": true
   },
   "outputs": [],
   "source": [
    "fit_shGLM = shGLM(C_den, C_syn, syn_T, Ensyn,\n",
    "                 syn_basis_no, hist_basis_no,\n",
    "                 spike_status, hist_T)\n",
    "fit_shGLM.load_state_dict(torch.load(\"/media/hdd01/sklee/shglm/biophysical/final_fit/final5_nospike_s1_h3_shglm_i15500.pt\"))\n",
    "\n",
    "\n",
    "V_ref = np.fromfile(\"/media/hdd01/sklee/hglm/biophysical/inputs/vdata_NMDA_ApN0.5_13_Adend_r0_o2_i2_g_b0.bin\")\n",
    "V_ref = V_ref[1:-2]\n",
    "\n",
    "train_V_ref = V_ref[:train_T]\n",
    "test_V_ref = V_ref[train_T:train_T+test_T]\n",
    "\n",
    "test_V_ref = torch.from_numpy(test_V_ref).cuda()\n",
    "train_V_ref = torch.from_numpy(train_V_ref)"
   ]
  },
  {
   "cell_type": "code",
   "execution_count": 5,
   "metadata": {
    "ExecuteTime": {
     "end_time": "2020-10-18T10:19:43.082104Z",
     "start_time": "2020-10-18T10:19:43.075275Z"
    },
    "hidden": true
   },
   "outputs": [
    {
     "data": {
      "text/plain": [
       "shGLM()"
      ]
     },
     "execution_count": 5,
     "metadata": {},
     "output_type": "execute_result"
    }
   ],
   "source": [
    "#adjust_K_hist = torch.ones(sub_no, hist_basis_tau.shape[0])*(-0.05)\n",
    "#adjust_thresh = torch.ones(sub_no)*13\n",
    "#adjust_spike_size = torch.ones(sub_no)*20\n",
    "#adjust_thresh_scale = torch.ones(sub_no)*10\n",
    "adjust_K_hist = torch.ones(sub_no, hist_basis_no)*(0.05)\n",
    "adjust_thresh = torch.ones(sub_no)*7\n",
    "adjust_spike_size = torch.ones(sub_no)*5\n",
    "adjust_thresh_scale = torch.ones(sub_no)*5\n",
    "\n",
    "with torch.no_grad():\n",
    "    fit_shGLM.K_hist = nn.Parameter(adjust_K_hist.float(), requires_grad=True)\n",
    "    fit_shGLM.thresh = nn.Parameter(adjust_thresh.float(), requires_grad=True)\n",
    "    fit_shGLM.spike_size = nn.Parameter(adjust_spike_size, requires_grad=True)\n",
    "    fit_shGLM.thresh_scale = nn.Parameter(adjust_thresh_scale, requires_grad=True)\n",
    "    \n",
    "fit_shGLM.cuda()"
   ]
  },
  {
   "cell_type": "code",
   "execution_count": 6,
   "metadata": {
    "ExecuteTime": {
     "end_time": "2020-10-18T10:19:43.258682Z",
     "start_time": "2020-10-18T10:19:43.083507Z"
    },
    "hidden": true
   },
   "outputs": [],
   "source": [
    "E_neural = np.load(\"/media/hdd01/sklee/shglm/biophysical/inputs/Espikes_d48000_r1_rep1_Ne629_e5_E20_neural.npy\")\n",
    "I_neural = np.load(\"/media/hdd01/sklee/shglm/biophysical/inputs/Ispikes_d48000_r1_rep1_Ni120_i20_I30_neural.npy\")\n",
    "\n",
    "train_neural = np.hstack((E_neural, I_neural))[:train_T]\n",
    "test_neural = np.hstack((E_neural, I_neural))[train_T:train_T + test_T]\n",
    "train_neural = torch.from_numpy(train_neural)\n",
    "test_neural = torch.from_numpy(test_neural).cuda()\n"
   ]
  },
  {
   "cell_type": "code",
   "execution_count": 7,
   "metadata": {
    "ExecuteTime": {
     "end_time": "2020-10-18T10:19:43.264962Z",
     "start_time": "2020-10-18T10:19:43.259665Z"
    },
    "hidden": true
   },
   "outputs": [
    {
     "name": "stdout",
     "output_type": "stream",
     "text": [
      "37500\n",
      "37500\n"
     ]
    }
   ],
   "source": [
    "repeat_no = 2\n",
    "batch_no = (train_V_ref.shape[0] - batch_size) * repeat_no\n",
    "train_idx = np.empty((repeat_no, train_V_ref.shape[0] - batch_size))\n",
    "for i in range(repeat_no):\n",
    "    part_idx = np.arange(train_V_ref.shape[0] - batch_size)\n",
    "    np.random.shuffle(part_idx)\n",
    "    train_idx[i] = part_idx\n",
    "train_idx = train_idx.flatten()\n",
    "train_idx = torch.from_numpy(train_idx)\n",
    "\n",
    "print(batch_no)\n",
    "print(train_idx.shape[0])"
   ]
  },
  {
   "cell_type": "code",
   "execution_count": 8,
   "metadata": {
    "ExecuteTime": {
     "end_time": "2020-10-18T10:19:43.274100Z",
     "start_time": "2020-10-18T10:19:43.266102Z"
    },
    "hidden": true
   },
   "outputs": [],
   "source": [
    "no_spike_bool = True\n",
    "spike_bool = True\n",
    "\n",
    "fit_shGLM.V_o.requires_grad = no_spike_bool\n",
    "fit_shGLM.K_syn.requires_grad = no_spike_bool\n",
    "fit_shGLM.Delta.requires_grad = no_spike_bool\n",
    "fit_shGLM.C.requires_grad= no_spike_bool\n",
    "fit_shGLM.Theta.requires_grad = no_spike_bool\n",
    "\n",
    "fit_shGLM.thresh.requires_grad = spike_bool\n",
    "fit_shGLM.spike_size.requires_grad = spike_bool\n",
    "fit_shGLM.K_hist.requires_grad = spike_bool\n",
    "fit_shGLM.thresh_scale.requires_grad = spike_bool\n"
   ]
  },
  {
   "cell_type": "code",
   "execution_count": 9,
   "metadata": {
    "ExecuteTime": {
     "end_time": "2020-10-18T10:19:44.178666Z",
     "start_time": "2020-10-18T10:19:44.175740Z"
    },
    "hidden": true
   },
   "outputs": [],
   "source": [
    "#optimizer = optim.Adam(fit_shGLM.parameters(), lr=0.01)\n",
    "optimizer = optim.Adam(fit_shGLM.parameters(), lr=0.005)\n",
    "#optimizer = optim.Adam(fit_shGLM.parameters(), lr=0.0005)"
   ]
  },
  {
   "cell_type": "code",
   "execution_count": 10,
   "metadata": {
    "ExecuteTime": {
     "end_time": "2020-10-18T20:31:36.447640Z",
     "start_time": "2020-10-18T10:19:44.180191Z"
    },
    "hidden": true,
    "scrolled": true
   },
   "outputs": [
    {
     "name": "stderr",
     "output_type": "stream",
     "text": [
      "<ipython-input-10-41dd44a638bb>:3: TqdmDeprecationWarning: Please use `tqdm.notebook.trange` instead of `tqdm.tnrange`\n",
      "  for i in tnrange(batch_no):\n"
     ]
    },
    {
     "data": {
      "application/vnd.jupyter.widget-view+json": {
       "model_id": "2ce4e0d4266f418d834785e37cdbf34e",
       "version_major": 2,
       "version_minor": 0
      },
      "text/plain": [
       "HBox(children=(FloatProgress(value=0.0, max=37500.0), HTML(value='')))"
      ]
     },
     "metadata": {},
     "output_type": "display_data"
    },
    {
     "name": "stdout",
     "output_type": "stream",
     "text": [
      "TEST 0 2.996709650881756 0.7830249630071332 -0.10278866842143652\n",
      "TEST 100 2.2501012572187564 0.8370827137827745 0.3616011558007213\n",
      "TEST 200 2.3279995413319154 0.8314425333538612 0.6985038499220136\n",
      "TEST 300 2.50400898924561 0.8186986707573184 0.7921547702983653\n",
      "TEST 400 2.1141796342177908 0.8469240407667956 0.6896651748610725\n",
      "TEST 500 3.127213056456705 0.7735759391275686 0.6177724216121767\n",
      "TEST 600 2.203904517923978 0.8404275622380128 0.693824854381612\n",
      "TEST 700 1.8812965571137334 0.8637858058368544 0.7192155359709673\n",
      "TEST 800 1.8430425179805108 0.8665555675788991 0.7257415300007889\n",
      "TEST 900 1.8174269273188617 0.8684102496906927 0.8285964674331773\n",
      "TEST 1000 1.820367791237936 0.8681973181338114 0.8510046133506934\n",
      "TEST 1100 1.7546443943290437 0.8729559827781109 0.518057452900756\n",
      "TEST 1200 1.7706725488392567 0.8717954735690467 0.7573696698584345\n",
      "TEST 1300 1.7599160794577062 0.8725742894878018 0.7499916251917215\n",
      "TEST 1400 2.2453286397372523 0.8374282723682036 0.6225929620523758\n",
      "TEST 1500 1.8315370927311432 0.867388611336114 0.7373529948958233\n",
      "TEST 1600 1.665081824425498 0.8794407091522105 0.7065921382360247\n",
      "TEST 1700 1.7482901059835148 0.8734160614824237 0.7300739776344447\n",
      "TEST 1800 1.710790051328037 0.8761312313060392 0.797887672648721\n",
      "TEST 1900 1.6750004679671193 0.8787225554766325 0.788317120907149\n",
      "TEST 2000 1.6078420171532615 0.8835851244805778 0.8525835329634911\n",
      "TEST 2100 1.5841937695650523 0.885297362183657 0.7431197044442263\n",
      "TEST 2200 2.0554615346817675 0.8511754909224278 0.7475397391221801\n",
      "TEST 2300 1.6150069642825429 0.8830663505898707 0.6191860108337702\n",
      "TEST 2400 1.6464319653081938 0.8807910414820463 0.769525755959389\n",
      "TEST 2500 1.6905379143674613 0.8775975756171187 0.7923054878897443\n",
      "TEST 2600 1.5301119229617521 0.8892131271848951 0.6597594753952941\n",
      "TEST 2700 1.737487451556773 0.874198221347573 0.6484592030668641\n",
      "TEST 2800 1.8088777378757221 0.8690292488102296 0.711678065455124\n",
      "TEST 2900 1.9881504240492125 0.8560491130634585 0.6639632118277508\n",
      "TEST 3000 1.5787684403327922 0.8856901800166138 0.7475520451199188\n",
      "TEST 3100 1.731199783225337 0.8746534764211181 0.7476650679363033\n",
      "TEST 3200 1.438731967109399 0.8958294402684547 0.7541102645896819\n",
      "TEST 3300 1.4570769364112826 0.8945011833084495 0.85978916212381\n",
      "TEST 3400 1.4633292874732833 0.8940484854565338 0.801584407134811\n",
      "TEST 3500 1.5490923499606712 0.8878388602316419 0.7423543300152735\n",
      "TEST 3600 1.4820593986034 0.8926923425124594 0.873315247318954\n",
      "TEST 3700 1.343337541811126 0.9027364187086848 0.8478138473579061\n",
      "TEST 3800 1.4727721001131502 0.8933647840537929 0.7322414241786952\n",
      "TEST 3900 1.78479568195317 0.8707728961150671 0.7601602139485086\n",
      "TEST 4000 1.6444287662361496 0.8809360818876539 0.6477923913903272\n",
      "TEST 4100 1.4022790163444645 0.8984687951821979 0.7354751467056626\n",
      "TEST 4200 1.5140628593700716 0.8903751503735192 0.8344729711534216\n",
      "TEST 4300 1.5026527899556548 0.8912012898934671 0.75237824942863\n",
      "TEST 4400 1.4374247464482424 0.8959240887888282 0.8164382225560267\n",
      "TEST 4500 1.382418847652734 0.8999067592438168 0.853124673207867\n",
      "TEST 4600 2.597285308988295 0.8119450521833877 0.6950261739844973\n",
      "TEST 4700 1.4742796867865398 0.8932556280907321 0.7599497178789822\n",
      "TEST 4800 1.3776363574997423 0.9002530326846491 0.5466018497885328\n",
      "TEST 4900 1.429387901331365 0.8965059919569002 0.7544335378780858\n",
      "TEST 5000 1.5854219790115973 0.8852084343117417 0.6783972575584494\n",
      "TEST 5100 1.4871676793780813 0.8923224803745093 0.8177839587092878\n",
      "TEST 5200 1.326279018602758 0.9039715312434428 0.8037655931437607\n",
      "TEST 5300 1.3343669513972272 0.9033859290847548 0.7549609121170258\n",
      "TEST 5400 1.4124348831398257 0.8977334654960116 0.8416847166093027\n",
      "TEST 5500 1.3544500680347964 0.9019318226271474 0.7864767916666962\n",
      "TEST 5600 2.0660773598305253 0.8504068580311878 0.7972816394004043\n",
      "TEST 5700 1.4262774086027048 0.8967312053362099 0.7429759879736382\n",
      "TEST 5800 1.2763646374799904 0.9075855532613163 0.8375871512005203\n",
      "TEST 5900 1.6215874252896185 0.8825898959068752 0.8197326005517538\n",
      "TEST 6000 1.3727218246411512 0.9006088665553621 0.8211644981451809\n",
      "TEST 6100 1.2742320155074456 0.9077399645330134 0.7478601560791783\n",
      "TEST 6200 1.7099015473770518 0.8761955627831384 0.8420425267367067\n",
      "TEST 6300 1.4728635596696058 0.8933581617991826 0.8177261350735415\n",
      "TEST 6400 1.3639685425263248 0.9012426429715977 0.5141331660330437\n",
      "TEST 6500 1.9189435459355493 0.861059997154804 0.7899881209813843\n",
      "TEST 6600 1.5652207788863475 0.8866710905105597 0.8805064498642291\n",
      "\n"
     ]
    },
    {
     "ename": "KeyboardInterrupt",
     "evalue": "",
     "output_type": "error",
     "traceback": [
      "\u001b[0;31m---------------------------------------------------------------------------\u001b[0m",
      "\u001b[0;31mKeyboardInterrupt\u001b[0m                         Traceback (most recent call last)",
      "\u001b[0;32m<ipython-input-10-41dd44a638bb>\u001b[0m in \u001b[0;36m<module>\u001b[0;34m\u001b[0m\n\u001b[1;32m     17\u001b[0m     \u001b[0;31m#print(i, train_score)\u001b[0m\u001b[0;34m\u001b[0m\u001b[0;34m\u001b[0m\u001b[0;34m\u001b[0m\u001b[0m\n\u001b[1;32m     18\u001b[0m \u001b[0;34m\u001b[0m\u001b[0m\n\u001b[0;32m---> 19\u001b[0;31m     \u001b[0mloss\u001b[0m\u001b[0;34m.\u001b[0m\u001b[0mbackward\u001b[0m\u001b[0;34m(\u001b[0m\u001b[0;34m)\u001b[0m\u001b[0;34m\u001b[0m\u001b[0;34m\u001b[0m\u001b[0m\n\u001b[0m\u001b[1;32m     20\u001b[0m     \u001b[0moptimizer\u001b[0m\u001b[0;34m.\u001b[0m\u001b[0mstep\u001b[0m\u001b[0;34m(\u001b[0m\u001b[0;34m)\u001b[0m\u001b[0;34m\u001b[0m\u001b[0;34m\u001b[0m\u001b[0m\n\u001b[1;32m     21\u001b[0m     \u001b[0;31m#scheduler.step()\u001b[0m\u001b[0;34m\u001b[0m\u001b[0;34m\u001b[0m\u001b[0;34m\u001b[0m\u001b[0m\n",
      "\u001b[0;32m~/anaconda3/lib/python3.8/site-packages/torch/tensor.py\u001b[0m in \u001b[0;36mbackward\u001b[0;34m(self, gradient, retain_graph, create_graph)\u001b[0m\n\u001b[1;32m    183\u001b[0m                 \u001b[0mproducts\u001b[0m\u001b[0;34m.\u001b[0m \u001b[0mDefaults\u001b[0m \u001b[0mto\u001b[0m\u001b[0;31m \u001b[0m\u001b[0;31m`\u001b[0m\u001b[0;31m`\u001b[0m\u001b[0;32mFalse\u001b[0m\u001b[0;31m`\u001b[0m\u001b[0;31m`\u001b[0m\u001b[0;34m.\u001b[0m\u001b[0;34m\u001b[0m\u001b[0;34m\u001b[0m\u001b[0m\n\u001b[1;32m    184\u001b[0m         \"\"\"\n\u001b[0;32m--> 185\u001b[0;31m         \u001b[0mtorch\u001b[0m\u001b[0;34m.\u001b[0m\u001b[0mautograd\u001b[0m\u001b[0;34m.\u001b[0m\u001b[0mbackward\u001b[0m\u001b[0;34m(\u001b[0m\u001b[0mself\u001b[0m\u001b[0;34m,\u001b[0m \u001b[0mgradient\u001b[0m\u001b[0;34m,\u001b[0m \u001b[0mretain_graph\u001b[0m\u001b[0;34m,\u001b[0m \u001b[0mcreate_graph\u001b[0m\u001b[0;34m)\u001b[0m\u001b[0;34m\u001b[0m\u001b[0;34m\u001b[0m\u001b[0m\n\u001b[0m\u001b[1;32m    186\u001b[0m \u001b[0;34m\u001b[0m\u001b[0m\n\u001b[1;32m    187\u001b[0m     \u001b[0;32mdef\u001b[0m \u001b[0mregister_hook\u001b[0m\u001b[0;34m(\u001b[0m\u001b[0mself\u001b[0m\u001b[0;34m,\u001b[0m \u001b[0mhook\u001b[0m\u001b[0;34m)\u001b[0m\u001b[0;34m:\u001b[0m\u001b[0;34m\u001b[0m\u001b[0;34m\u001b[0m\u001b[0m\n",
      "\u001b[0;32m~/anaconda3/lib/python3.8/site-packages/torch/autograd/__init__.py\u001b[0m in \u001b[0;36mbackward\u001b[0;34m(tensors, grad_tensors, retain_graph, create_graph, grad_variables)\u001b[0m\n\u001b[1;32m    123\u001b[0m         \u001b[0mretain_graph\u001b[0m \u001b[0;34m=\u001b[0m \u001b[0mcreate_graph\u001b[0m\u001b[0;34m\u001b[0m\u001b[0;34m\u001b[0m\u001b[0m\n\u001b[1;32m    124\u001b[0m \u001b[0;34m\u001b[0m\u001b[0m\n\u001b[0;32m--> 125\u001b[0;31m     Variable._execution_engine.run_backward(\n\u001b[0m\u001b[1;32m    126\u001b[0m         \u001b[0mtensors\u001b[0m\u001b[0;34m,\u001b[0m \u001b[0mgrad_tensors\u001b[0m\u001b[0;34m,\u001b[0m \u001b[0mretain_graph\u001b[0m\u001b[0;34m,\u001b[0m \u001b[0mcreate_graph\u001b[0m\u001b[0;34m,\u001b[0m\u001b[0;34m\u001b[0m\u001b[0;34m\u001b[0m\u001b[0m\n\u001b[1;32m    127\u001b[0m         allow_unreachable=True)  # allow_unreachable flag\n",
      "\u001b[0;31mKeyboardInterrupt\u001b[0m: "
     ]
    }
   ],
   "source": [
    "loss_array = np.empty((batch_no))\n",
    "\n",
    "for i in tnrange(batch_no):\n",
    "    fit_shGLM.train()\n",
    "    optimizer.zero_grad()\n",
    "    batch_idx = train_idx[i].long()\n",
    "    batch_X = train_neural[batch_idx : batch_idx+batch_size].float().cuda()\n",
    "    batch_pred = fit_shGLM(batch_X)\n",
    "    batch_ref = train_V_ref[batch_idx:batch_idx+batch_size].cuda()\n",
    "    \n",
    "    #loss = criterion(batch_ref, batch_pred)\n",
    "    \n",
    "    diff = (batch_ref - batch_pred) ** 1\n",
    "    loss = torch.var(diff)\n",
    "    loss_array[i] = loss.item()\n",
    "    \n",
    "    #print(i, train_score)\n",
    "    \n",
    "    loss.backward()\n",
    "    optimizer.step()\n",
    "    #scheduler.step()\n",
    "    \n",
    "    if i%100 == 0:\n",
    "        fit_shGLM.eval()\n",
    "        test_pred = fit_shGLM(test_neural.float())\n",
    "        #test_loss = criterion(test_V_ref, test_pred)\n",
    "        test_diff = (test_V_ref - test_pred) ** 1\n",
    "        test_loss = torch.var(test_diff)\n",
    "        test_score = metrics.explained_variance_score(y_true=test_V_ref.cpu().detach().numpy(),\n",
    "                                                      y_pred=test_pred.cpu().detach().numpy(),\n",
    "                                                      multioutput='uniform_average')\n",
    "        train_score = metrics.explained_variance_score(y_true=batch_ref.cpu().detach().numpy(),\n",
    "                                                      y_pred=batch_pred.cpu().detach().numpy(),\n",
    "                                                      multioutput='uniform_average')\n",
    "        print(\"TEST\", i, test_loss.item(), test_score, train_score)\n",
    "        if i%100 == 0:\n",
    "            torch.save(fit_shGLM.state_dict(), \"/media/hdd01/sklee/shglm/biophysical/final_fit/final5_spike5_s1_h3_shglm_i\"+str(i)+\".pt\")\n",
    "    \n"
   ]
  },
  {
   "cell_type": "code",
   "execution_count": 14,
   "metadata": {
    "ExecuteTime": {
     "end_time": "2020-10-18T20:32:10.891279Z",
     "start_time": "2020-10-18T20:32:10.787740Z"
    },
    "hidden": true
   },
   "outputs": [
    {
     "data": {
      "text/plain": [
       "[<matplotlib.lines.Line2D at 0x7f637465a6a0>]"
      ]
     },
     "execution_count": 14,
     "metadata": {},
     "output_type": "execute_result"
    },
    {
     "data": {
      "image/png": "[encoded data removed]",
      "text/plain": [
       "<Figure size 1008x288 with 1 Axes>"
      ]
     },
     "metadata": {
      "needs_background": "light"
     },
     "output_type": "display_data"
    }
   ],
   "source": [
    "plt.figure(figsize=(14,4))\n",
    "plt.plot(test_V_ref.cpu().detach().numpy()[:4000])\n",
    "plt.plot(test_pred.cpu().detach().numpy()[:4000]+1.5)"
   ]
  },
  {
   "cell_type": "code",
   "execution_count": 15,
   "metadata": {
    "ExecuteTime": {
     "end_time": "2020-10-18T20:32:17.647207Z",
     "start_time": "2020-10-18T20:32:17.633860Z"
    },
    "hidden": true
   },
   "outputs": [
    {
     "name": "stdout",
     "output_type": "stream",
     "text": [
      "V_o tensor([-78.8566], device='cuda:0')\n",
      "K_syn tensor([[[ 0.0151, -0.0462]],\n",
      "\n",
      "        [[ 0.1800, -0.1464]],\n",
      "\n",
      "        [[ 0.1850, -0.0974]],\n",
      "\n",
      "        [[ 0.1022, -0.0743]],\n",
      "\n",
      "        [[ 0.2293, -0.2179]]], device='cuda:0')\n",
      "syn_basis_tau tensor([1.4305], device='cuda:0')\n",
      "Delta tensor([5.0720], device='cuda:0')\n",
      "C tensor([ 2.7409,  0.1597,  0.1368,  0.7546, -0.0225], device='cuda:0')\n",
      "Theta tensor([2.2604, 0.5598, 0.9563, 0.1371, 0.6975], device='cuda:0')\n",
      "thresh tensor([7.0770, 6.9897, 6.8382, 6.9573, 6.7568], device='cuda:0')\n",
      "thresh_scale tensor([5.0852, 5.2587, 4.9905, 4.9395, 4.9926], device='cuda:0')\n",
      "spike_size tensor([4.9720, 3.4160, 4.3898, 4.4649, 3.2384], device='cuda:0')\n",
      "hist_basis_tau tensor([1.3424, 2.1111, 2.0997], device='cuda:0')\n",
      "K_hist tensor([[-0.2261,  0.4619,  0.7078],\n",
      "        [ 0.5336,  1.0939,  1.0247],\n",
      "        [ 0.4394,  0.9157,  1.1597],\n",
      "        [ 0.4589,  0.9683,  0.9499],\n",
      "        [ 0.4558,  1.0368,  0.9231]], device='cuda:0')\n"
     ]
    }
   ],
   "source": [
    "for name, param in fit_shGLM.named_parameters():\n",
    "    print(name, param.data)"
   ]
  },
  {
   "cell_type": "markdown",
   "metadata": {},
   "source": [
    "# Test Params"
   ]
  },
  {
   "cell_type": "code",
   "execution_count": 4,
   "metadata": {
    "ExecuteTime": {
     "end_time": "2020-10-19T17:42:57.384709Z",
     "start_time": "2020-10-19T17:42:55.257010Z"
    }
   },
   "outputs": [],
   "source": [
    "final_shGLM = shGLM(C_den, C_syn, syn_T, Ensyn,\n",
    "                 syn_basis_no, hist_basis_no,\n",
    "                 spike_status, hist_T)\n",
    "final_shGLM.load_state_dict(torch.load(\"/media/hdd01/sklee/shglm/biophysical/final_fit/final5_spike5_s1_h3_shglm_i5700.pt\"))\n",
    "\n",
    "final_shGLM.eval().cuda()\n",
    "\n",
    "V_ref = np.fromfile(\"/media/hdd01/sklee/hglm/biophysical/inputs/vdata_NMDA_ApN0.5_13_Adend_r0_o2_i2_g_b0.bin\")\n",
    "V_ref = V_ref[1:-2]\n",
    "\n",
    "test_V_ref = V_ref[train_T:train_T+test_T]\n"
   ]
  },
  {
   "cell_type": "code",
   "execution_count": null,
   "metadata": {
    "ExecuteTime": {
     "end_time": "2020-10-19T17:42:36.849339Z",
     "start_time": "2020-10-19T17:42:34.680Z"
    }
   },
   "outputs": [],
   "source": [
    "E_neural = np.load(\"/media/hdd01/sklee/shglm/biophysical/inputs/Espikes_d48000_r1_rep1_Ne629_e5_E20_neural.npy\")\n",
    "I_neural = np.load(\"/media/hdd01/sklee/shglm/biophysical/inputs/Ispikes_d48000_r1_rep1_Ni120_i20_I30_neural.npy\")\n",
    "\n",
    "test_neural = np.hstack((E_neural, I_neural))[train_T:train_T + test_T]\n",
    "test_neural = torch.from_numpy(test_neural).float().cuda()\n",
    "\n",
    "test_V_final = final_shGLM(test_neural).cpu().detach().numpy()\n",
    "\n",
    "test_V_final = test_V_final\n",
    "test_V_ref = test_V_ref"
   ]
  },
  {
   "cell_type": "code",
   "execution_count": null,
   "metadata": {
    "ExecuteTime": {
     "end_time": "2020-10-19T17:42:36.849840Z",
     "start_time": "2020-10-19T17:42:35.073Z"
    }
   },
   "outputs": [],
   "source": [
    "plt.figure(figsize = (14,4))\n",
    "plt.plot(test_V_ref[:4000], label=\"Biophysical\", c=\"blue\")\n",
    "plt.plot(test_V_final[:4000]+0.7, label=\"shGLM\", c=\"red\")\n",
    "print(np.corrcoef(test_V_ref, test_V_final)[0][1])\n",
    "\n",
    "\n",
    "test_score = metrics.explained_variance_score(y_true=test_V_ref,\n",
    "                                                      y_pred=test_V_final,\n",
    "                                                      multioutput='uniform_average')\n",
    "\n",
    "plt.title(\"Spike 5-Subunit shGLM (1 Synpatic Kernel) \\n Variance Explained: \" + str(round(test_score, 5)), fontsize = 16)\n",
    "#plt.xticks(np.arange(0,8001,1000),[0,1,2,3,4,5,6,7,8])\n",
    "plt.xticks(np.arange(0,4001,1000),[0,1,2,3,4])\n",
    "plt.xlabel(\"Time (s)\")\n",
    "plt.ylabel(\"Sub-Threshold Voltage (mV)\")\n",
    "plt.legend()\n",
    "#plt.show()\n",
    "\n",
    "\n",
    "#plt.savefig(\"/media/hdd01/sklee/shglm/biophysical/final5_spike5_s1_h3_shGLM.png\", dpi=150, bbox_inches='tight')#"
   ]
  },
  {
   "cell_type": "code",
   "execution_count": 5,
   "metadata": {
    "ExecuteTime": {
     "end_time": "2020-10-19T17:42:57.794284Z",
     "start_time": "2020-10-19T17:42:57.778998Z"
    }
   },
   "outputs": [
    {
     "name": "stdout",
     "output_type": "stream",
     "text": [
      "V_o tensor([-78.2188], device='cuda:0')\n",
      "K_syn tensor([[[ 0.0151, -0.0081]],\n",
      "\n",
      "        [[ 0.0613, -0.0075]],\n",
      "\n",
      "        [[ 0.0703, -0.0157]],\n",
      "\n",
      "        [[ 0.0534, -0.0365]],\n",
      "\n",
      "        [[ 0.0699, -0.0672]]], device='cuda:0')\n",
      "syn_basis_tau tensor([2.7332], device='cuda:0')\n",
      "Delta tensor([4.8246], device='cuda:0')\n",
      "C tensor([3.3318, 0.8097, 0.8506, 0.9795, 0.8439], device='cuda:0')\n",
      "Theta tensor([2.8962, 0.9965, 1.9921, 1.2494, 1.5740], device='cuda:0')\n",
      "thresh tensor([85., 85., 85., 85., 85.], device='cuda:0')\n",
      "thresh_scale tensor([100., 100., 100., 100., 100.], device='cuda:0')\n",
      "spike_size tensor([4., 4., 4., 4., 4.], device='cuda:0')\n",
      "hist_basis_tau tensor([1.7000, 2.2000, 2.7000], device='cuda:0')\n",
      "K_hist tensor([[0.0250, 0.0250, 0.0250],\n",
      "        [0.0250, 0.0250, 0.0250],\n",
      "        [0.0250, 0.0250, 0.0250],\n",
      "        [0.0250, 0.0250, 0.0250],\n",
      "        [0.0250, 0.0250, 0.0250]], device='cuda:0')\n"
     ]
    }
   ],
   "source": [
    "for name, param in final_shGLM.named_parameters():\n",
    "    print(name, param.data)"
   ]
  },
  {
   "cell_type": "code",
   "execution_count": null,
   "metadata": {},
   "outputs": [],
   "source": []
  }
 ],
 "metadata": {
  "kernelspec": {
   "display_name": "Python 3",
   "language": "python",
   "name": "python3"
  },
  "language_info": {
   "codemirror_mode": {
    "name": "ipython",
    "version": 3
   },
   "file_extension": ".py",
   "mimetype": "text/x-python",
   "name": "python",
   "nbconvert_exporter": "python",
   "pygments_lexer": "ipython3",
   "version": "3.8.3"
  }
 },
 "nbformat": 4,
 "nbformat_minor": 4
}
