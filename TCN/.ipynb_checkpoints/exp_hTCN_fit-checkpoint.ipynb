{
 "cells": [
  {
   "cell_type": "code",
   "execution_count": 1,
   "metadata": {
    "ExecuteTime": {
     "end_time": "2020-11-25T12:22:25.589174Z",
     "start_time": "2020-11-25T12:22:24.968102Z"
    }
   },
   "outputs": [],
   "source": [
    "import numpy as np\n",
    "import torch\n",
    "import torch.nn as nn\n",
    "import matplotlib.pyplot as plt\n",
    "from tqdm import tnrange\n",
    "import torch.optim as optim\n",
    "import torch.nn.functional as F\n",
    "from ff2_hTCN import ff2_hTCN\n",
    "from sklearn import metrics\n",
    "import torch.distributions as dist\n",
    "\n"
   ]
  },
  {
   "cell_type": "markdown",
   "metadata": {},
   "source": [
    "# Hyperparams"
   ]
  },
  {
   "cell_type": "code",
   "execution_count": 2,
   "metadata": {
    "ExecuteTime": {
     "end_time": "2020-11-25T12:22:25.593186Z",
     "start_time": "2020-11-25T12:22:25.590183Z"
    }
   },
   "outputs": [],
   "source": [
    "train_T = 40000\n",
    "test_T = 4000\n",
    "T_no = 100\n",
    "M_no = 2\n",
    "B_no = 2\n",
    "\n",
    "C_den = torch.zeros(5,5)\n",
    "C_den[0,1:] = 1\n",
    "\n",
    "#C_den = torch.tensor([0]).reshape((1,1))\n",
    "#C_den = torch.zeros(2,2)\n",
    "#C_den[0,1:] = 1\n",
    "\n",
    "\n",
    "sub_no = C_den.shape[0]\n",
    "\n",
    "batch_size = 1500"
   ]
  },
  {
   "cell_type": "code",
   "execution_count": 3,
   "metadata": {
    "ExecuteTime": {
     "end_time": "2020-11-25T12:22:25.610834Z",
     "start_time": "2020-11-25T12:22:25.594164Z"
    }
   },
   "outputs": [],
   "source": [
    "Ensyn = torch.tensor([0, 106, 213, 211, 99])\n",
    "Insyn = torch.tensor([1, 22, 36, 42, 19])\n",
    "#Ensyn = torch.tensor([106+213+211+99])\n",
    "#Insyn = torch.tensor([1+22+36+42+19])\n",
    "\n",
    "#Ensyn = torch.tensor([0, 106+ 213+ 211+ 99])\n",
    "#Insyn = torch.tensor([1, 22+ 36+ 42+ 19])\n",
    "\n",
    "E_no = torch.sum(Ensyn)\n",
    "I_no = torch.sum(Insyn)\n",
    "\n",
    "C_syn_e = torch.zeros(sub_no, E_no)\n",
    "C_syn_i = torch.zeros(sub_no, I_no)\n",
    "\n",
    "E_count = 0\n",
    "for s in range(sub_no):\n",
    "    C_syn_e[s,E_count:E_count+Ensyn[s]] = 1\n",
    "    E_count += Ensyn[s]\n",
    "\n",
    "I_count = 0\n",
    "for s in range(sub_no):\n",
    "    C_syn_i[s,I_count:I_count+Insyn[s]] = 1\n",
    "    I_count += Insyn[s]\n",
    "    \n",
    "#######\n",
    "#####\n",
    "#C_syn = torch.hstack((C_syn_e, C_syn_i))"
   ]
  },
  {
   "cell_type": "markdown",
   "metadata": {},
   "source": [
    "# Train"
   ]
  },
  {
   "cell_type": "code",
   "execution_count": 4,
   "metadata": {
    "ExecuteTime": {
     "end_time": "2020-11-25T12:22:27.948995Z",
     "start_time": "2020-11-25T12:22:25.776219Z"
    }
   },
   "outputs": [
    {
     "name": "stdout",
     "output_type": "stream",
     "text": [
      "torch.Size([4000])\n"
     ]
    }
   ],
   "source": [
    "model = ff2_hTCN(C_den.cuda(), C_syn_e.cuda(), C_syn_i.cuda(), T_no, M_no, B_no)\n",
    "\n",
    "model = model.float().cuda()\n",
    "\n",
    "V_ref = np.load(\"/media/hdd01/sklee/tcn/L23_inputs/vdata_NMDA_ApN0.5_13_Adend_r0_o2_i2_g_b5.npy\").flatten()[:]\n",
    "#V_ref = np.fromfile(\"/media/hdd01/sklee/tcn/L23_inputs/vdata_NMDA_ApN0.5_13_Adend_r0_o2_i2_g_b0.bin\")\n",
    "#V_ref = V_ref[1:]\n",
    "\n",
    "train_V_ref = V_ref[:train_T]\n",
    "test_V_ref = V_ref[train_T:train_T+test_T]\n",
    "\n",
    "test_V_ref = torch.from_numpy(test_V_ref).cuda()\n",
    "train_V_ref = torch.from_numpy(train_V_ref)\n",
    "print(test_V_ref.shape)"
   ]
  },
  {
   "cell_type": "code",
   "execution_count": 5,
   "metadata": {
    "ExecuteTime": {
     "end_time": "2020-11-25T12:22:27.952905Z",
     "start_time": "2020-11-25T12:22:27.950058Z"
    }
   },
   "outputs": [],
   "source": [
    "state_dict = model.state_dict()\n",
    "\n",
    "for name, param in state_dict.items():\n",
    "    # Transform the parameter as required.\n",
    "    transformed_param = param * 0.25\n",
    "    # Update the parameter.\n",
    "    state_dict[name].copy_(transformed_param)"
   ]
  },
  {
   "cell_type": "code",
   "execution_count": 6,
   "metadata": {
    "ExecuteTime": {
     "end_time": "2020-11-25T12:22:28.021415Z",
     "start_time": "2020-11-25T12:22:27.954605Z"
    }
   },
   "outputs": [],
   "source": [
    "E_neural = np.load(\"/media/hdd01/sklee/tcn/L23_inputs/Espikes_NMDA_ApN0.5_13_Adend_r0_o2_i2_g_b5_neural.npy\")\n",
    "I_neural = np.load(\"/media/hdd01/sklee/tcn/L23_inputs/Ispikes_NMDA_ApN0.5_13_Adend_r0_o2_i2_g_b5_neural.npy\")\n",
    "\n",
    "train_S_E = E_neural[:train_T]\n",
    "train_S_I = I_neural[:train_T]\n",
    "test_S_E = E_neural[train_T:train_T+test_T]\n",
    "test_S_I = I_neural[train_T:train_T+test_T]\n",
    "\n",
    "train_S_E = torch.from_numpy(train_S_E)\n",
    "train_S_I = torch.from_numpy(train_S_I)\n",
    "test_S_E = torch.from_numpy(test_S_E).float().cuda()\n",
    "test_S_I = torch.from_numpy(test_S_I).float().cuda()\n",
    "\n",
    "#######\n",
    "#######\n",
    "#train_S = torch.hstack((train_S_E, train_S_I)).float()\n",
    "#test_S = torch.hstack((test_S_E, test_S_I)).float().cuda()"
   ]
  },
  {
   "cell_type": "code",
   "execution_count": 7,
   "metadata": {
    "ExecuteTime": {
     "end_time": "2020-11-25T12:22:28.028631Z",
     "start_time": "2020-11-25T12:22:28.022623Z"
    }
   },
   "outputs": [
    {
     "name": "stdout",
     "output_type": "stream",
     "text": [
      "77000\n",
      "77000\n"
     ]
    }
   ],
   "source": [
    "repeat_no = 2\n",
    "batch_no = (train_V_ref.shape[0] - batch_size) * repeat_no\n",
    "train_idx = np.empty((repeat_no, train_V_ref.shape[0] - batch_size))\n",
    "for i in range(repeat_no):\n",
    "    part_idx = np.arange(train_V_ref.shape[0] - batch_size)\n",
    "    np.random.shuffle(part_idx)\n",
    "    train_idx[i] = part_idx\n",
    "train_idx = train_idx.flatten()\n",
    "train_idx = torch.from_numpy(train_idx)\n",
    "\n",
    "print(batch_no)\n",
    "print(train_idx.shape[0])"
   ]
  },
  {
   "cell_type": "code",
   "execution_count": 8,
   "metadata": {
    "ExecuteTime": {
     "end_time": "2020-11-25T12:22:28.035253Z",
     "start_time": "2020-11-25T12:22:28.029933Z"
    }
   },
   "outputs": [
    {
     "name": "stdout",
     "output_type": "stream",
     "text": [
      "526\n"
     ]
    }
   ],
   "source": [
    "optimizer = optim.Adam(model.parameters(), lr=0.001)\n",
    "#optimizer = optim.SGD(model.parameters(), lr=0.00001, momentum=0.9)\n",
    "print(sum(p.numel() for p in model.parameters() if p.requires_grad))\n",
    "#scheduler = optim.lr_scheduler.StepLR(optimizer, step_size=3000, gamma=0.5)\n"
   ]
  },
  {
   "cell_type": "code",
   "execution_count": 9,
   "metadata": {
    "ExecuteTime": {
     "end_time": "2020-11-25T12:25:49.006158Z",
     "start_time": "2020-11-25T12:22:28.036840Z"
    },
    "scrolled": true
   },
   "outputs": [
    {
     "name": "stderr",
     "output_type": "stream",
     "text": [
      "<ipython-input-9-edcead2d1afd>:5: TqdmDeprecationWarning: Please use `tqdm.notebook.trange` instead of `tqdm.tnrange`\n",
      "  for i in tnrange(batch_no):\n"
     ]
    },
    {
     "data": {
      "application/vnd.jupyter.widget-view+json": {
       "model_id": "dc615180ef4145f8a4a8ff3f95038fab",
       "version_major": 2,
       "version_minor": 0
      },
      "text/plain": [
       "HBox(children=(FloatProgress(value=0.0, max=77000.0), HTML(value='')))"
      ]
     },
     "metadata": {},
     "output_type": "display_data"
    },
    {
     "name": "stdout",
     "output_type": "stream",
     "text": [
      "TEST 0 21.38872688856463 0.003964237755107791 -0.009691596031188965\n",
      "TEST 100 21.0778318773968 0.01844207699697631 0.049711525440216064\n",
      "TEST 200 21.00493491757987 0.0218367614579561 0.039852797985076904\n",
      "TEST 300 20.498615114754013 0.04541519288759199 0.0468440055847168\n",
      "TEST 400 17.904809881733275 0.16620418537459825 0.18880844116210938\n",
      "TEST 500 15.042731518298304 0.2994861903237461 0.22818607091903687\n",
      "TEST 600 13.543078561223556 0.3693224166910699 0.5335426330566406\n",
      "TEST 700 12.241477576925229 0.4299357077745396 0.4403284192085266\n",
      "TEST 800 11.323710671541587 0.4726745140738021 0.6216120719909668\n",
      "TEST 900 10.56704006399172 0.5079113464082982 0.4483634829521179\n",
      "TEST 1000 9.828655074071701 0.5422966497116841 0.6877654194831848\n",
      "TEST 1100 10.060719706843848 0.5314898036334796 0.30636370182037354\n",
      "TEST 1200 8.387868230662582 0.6093915837379671 0.25653767585754395\n",
      "TEST 1300 7.799673265827842 0.6367827989314203 0.6910073757171631\n",
      "TEST 1400 7.387151595722066 0.6559932148067442 0.5361025333404541\n",
      "TEST 1500 6.439477145935872 0.7001247634342689 0.6672582626342773\n",
      "TEST 1600 7.317059127020404 0.65925729870312 0.6860784292221069\n",
      "TEST 1700 6.053247246690056 0.7181108174318955 0.45002472400665283\n",
      "TEST 1800 5.284913419229993 0.7538907856096669 0.8189986944198608\n",
      "TEST 1900 4.766275781277403 0.7780428371428361 0.7529295682907104\n",
      "TEST 2000 4.418637604058371 0.7942317416540169 0.8266439437866211\n",
      "TEST 2100 4.266767931724107 0.8013040478084587 0.703307569026947\n",
      "TEST 2200 4.1494635005154334 0.8067667108543136 0.7141016721725464\n",
      "TEST 2300 4.563741099413952 0.7874745248170137 0.7670654654502869\n",
      "TEST 2400 3.483656467710895 0.8377721849296365 0.87378990650177\n",
      "TEST 2500 3.360204794817727 0.8435211143437398 0.7811312675476074\n",
      "TEST 2600 3.234985896115977 0.8493523404075992 0.49643099308013916\n",
      "TEST 2700 3.1898158899893367 0.8514558289013188 0.8595772981643677\n",
      "TEST 2800 2.803669767326754 0.8694379814412019 0.8180570602416992\n",
      "TEST 2900 2.842690236426731 0.8676208662470016 0.8165618181228638\n",
      "TEST 3000 2.593144608327895 0.8792417715065618 0.8251142501831055\n",
      "TEST 3100 2.490159495974241 0.8840376088511278 0.8670483827590942\n",
      "TEST 3200 2.566617636745143 0.8804770864375211 0.6681326627731323\n",
      "TEST 3300 2.3678648530595674 0.8897326573946885 0.48491472005844116\n",
      "TEST 3400 2.4255574731917644 0.8870460125752226 0.8063749670982361\n",
      "TEST 3500 2.116711415795706 0.901428435622899 0.8707236051559448\n",
      "TEST 3600 2.0634251018244028 0.9039098864345101 0.9042270183563232\n",
      "TEST 3700 2.007742765749581 0.9065029158537242 0.9026710391044617\n",
      "TEST 3800 2.131787488676895 0.9007263691334386 0.8392876386642456\n",
      "TEST 3900 1.9969768193226423 0.907004267222806 0.8118736743927002\n",
      "TEST 4000 1.7267315362037374 0.919589119442346 0.8231600522994995\n",
      "TEST 4100 1.7518100969333503 0.9184212545418818 0.8128402233123779\n",
      "TEST 4200 1.600048588079481 0.9254885237225464 0.8569138646125793\n",
      "TEST 4300 1.6102751514072124 0.9250122904751366 0.8223581314086914\n",
      "TEST 4400 1.5435749892158177 0.9281184008883104 0.809532105922699\n",
      "TEST 4500 1.5385036856863743 0.9283545626474654 0.8861324191093445\n",
      "TEST 4600 1.3776451663549814 0.9358454637642358 0.8528667092323303\n",
      "TEST 4700 1.4667865483851865 0.9316943048591781 0.8434000015258789\n",
      "TEST 4800 1.4175187044294209 0.9339886225648754 0.8250917196273804\n",
      "TEST 4900 1.2783843859157036 0.9404678654567812 0.8170346021652222\n",
      "TEST 5000 1.4928070992144942 0.9304825731108718 0.8966948986053467\n",
      "TEST 5100 1.2884078170205773 0.9400010917239332 0.6824159622192383\n",
      "TEST 5200 1.3263044041870247 0.9382363136527917 0.8220350742340088\n",
      "TEST 5300 1.3719585732407933 0.9361102785246599 0.8734849691390991\n",
      "TEST 5400 1.5333663224058836 0.928593800720112 0.8831279873847961\n",
      "TEST 5500 1.3403978339530673 0.9375800071908942 0.9073224663734436\n",
      "TEST 5600 1.5632478772544027 0.9272022687491073 0.8072773218154907\n",
      "TEST 5700 1.2156576156004089 0.9433889419117919 0.8292559385299683\n",
      "TEST 5800 1.2034084528574003 0.9439593641018058 0.8989269733428955\n",
      "TEST 5900 1.2632121843534367 0.941174408463078 0.9183352589607239\n",
      "TEST 6000 1.219056163812979 0.9432306774421749 0.8320056200027466\n",
      "TEST 6100 1.1616797262877674 0.9459025982183682 0.8548563718795776\n",
      "TEST 6200 1.3253333548204105 0.9382815337437542 0.8880898952484131\n",
      "TEST 6300 1.151275409578958 0.9463871091342478 0.7743639945983887\n",
      "TEST 6400 1.2958853918629625 0.9396528740836176 0.8282321691513062\n",
      "TEST 6500 1.204880167113487 0.9438908289153152 0.7928100228309631\n",
      "TEST 6600 1.1741062999103893 0.9453239143365207 0.8943099975585938\n",
      "TEST 6700 1.2241969316721997 0.9429912808275429 0.9217972159385681\n",
      "TEST 6800 1.238211434010283 0.942338649879231 0.8737634420394897\n",
      "TEST 6900 1.452984332101143 0.9323370500375984 0.9041299819946289\n",
      "TEST 7000 1.2744244723224765 0.9406522717384241 0.8706454038619995\n",
      "TEST 7100 1.2201443708431858 0.9431800015302113 0.9147540330886841\n",
      "TEST 7200 1.2252400207171883 0.9429427059902965 0.8843299150466919\n",
      "TEST 7300 1.257808892976168 0.941426030338615 0.8884572982788086\n",
      "TEST 7400 1.3883195898836773 0.9353483744494826 0.9092041254043579\n",
      "TEST 7500 1.4224207012300565 0.9337603451015765 0.8800397515296936\n",
      "TEST 7600 1.2966734845220174 0.9396161739959359 0.8663841485977173\n",
      "TEST 7700 1.41038412005272 0.9343208676970454 0.9309766888618469\n",
      "TEST 7800 1.7387638383803279 0.9190287961005963 0.7764841318130493\n",
      "TEST 7900 1.3711733326932727 0.9361468457751256 0.8853734135627747\n",
      "TEST 8000 1.4520698225428628 0.9323796371542572 0.9253504276275635\n",
      "TEST 8100 1.2114909067218573 0.9435829782864349 0.7280119061470032\n",
      "TEST 8200 1.4068709183332184 0.934484471414387 0.8646830916404724\n",
      "TEST 8300 1.5348378168345982 0.9285252758054136 0.8107030391693115\n",
      "TEST 8400 1.3742291836046858 0.9360045401366025 0.8385161757469177\n",
      "TEST 8500 1.2804047112245762 0.9403737824200421 0.9438492655754089\n",
      "TEST 8600 1.6791341007582796 0.9218056491527956 0.8942872881889343\n",
      "TEST 8700 1.1866122217453192 0.9447415353196142 0.9124272465705872\n",
      "TEST 8800 1.2953027392257304 0.9396800072018046 0.9173479080200195\n",
      "TEST 8900 1.2511108677610958 0.9417379456971532 0.956173837184906\n",
      "TEST 9000 1.3262687025007236 0.9382379762202193 0.8358131647109985\n",
      "TEST 9100 1.3597274471078695 0.9366798607431421 0.9213640093803406\n",
      "TEST 9200 1.684021054040373 0.9215780722264537 0.7741415500640869\n",
      "TEST 9300 1.6213445168474163 0.9244968094501919 0.8717753887176514\n",
      "TEST 9400 1.37029159635441 0.9361879067238263 0.8632516264915466\n",
      "TEST 9500 1.4286184714920622 0.9334717257055183 0.9223829507827759\n",
      "TEST 9600 1.2936395144549007 0.9397574606725148 0.8209872841835022\n",
      "TEST 9700 1.3889418233533037 0.9353193981227609 0.889042854309082\n",
      "TEST 9800 1.2838993677971315 0.9402110423386301 0.9192822575569153\n",
      "TEST 9900 1.7366836617185697 0.9191256662909653 0.7852818965911865\n",
      "TEST 10000 1.3684314380329092 0.9362745310238337 0.9208011031150818\n",
      "TEST 10100 1.3356347890306122 0.9378018138722019 0.8736391067504883\n",
      "TEST 10200 2.3106052121878435 0.8923991392017485 0.8587207794189453\n",
      "TEST 10300 1.3630395284132675 0.9365256228927938 0.933628499507904\n",
      "TEST 10400 1.3173517663275203 0.9386532224104052 0.8614774346351624\n",
      "TEST 10500 1.3597487623340394 0.9366788681311478 0.809834897518158\n",
      "TEST 10600 1.2852838910989612 0.9401465675182292 0.889758288860321\n",
      "TEST 10700 1.3555652475563102 0.9368736871362148 0.7762473821640015\n",
      "TEST 10800 1.4041117204785332 0.9346129624278614 0.776383101940155\n",
      "TEST 10900 1.3544202063071435 0.9369270097148842 0.8656993508338928\n",
      "TEST 11000 1.390865838974464 0.9352298000487682 0.7014116048812866\n",
      "TEST 11100 1.2580173787151334 0.9414163215011945 0.8400667309761047\n",
      "TEST 11200 1.431196003137958 0.9333516945747385 0.8972669243812561\n",
      "TEST 11300 1.3550848990040325 0.9368960561281054 0.9200229644775391\n",
      "TEST 11400 1.318853754537547 0.9385832774167269 0.7697436809539795\n",
      "TEST 11500 1.2017064995282487 0.9440386210830094 0.736893892288208\n",
      "TEST 11600 1.4599930876479705 0.9320106644943358 0.8550100326538086\n",
      "TEST 11700 1.629144943438113 0.9241335571134681 0.7988077998161316\n",
      "TEST 11800 1.3051094940899994 0.9392233236758283 0.937899649143219\n",
      "TEST 11900 1.4932859283243178 0.9304602748672076 0.9005800485610962\n",
      "TEST 12000 1.8173387988961751 0.9153696970529656 0.8759954571723938\n",
      "TEST 12100 1.219316558967971 0.94321855128785 0.891096293926239\n",
      "TEST 12200 1.8462582211400307 0.9140229698897424 0.8767078518867493\n"
     ]
    },
    {
     "name": "stdout",
     "output_type": "stream",
     "text": [
      "TEST 12300 1.4362041616691001 0.9331184733322049 0.8918296694755554\n",
      "TEST 12400 1.2296536372411204 0.9427371715452432 0.9355900287628174\n",
      "TEST 12500 1.8969779944025396 0.9116610384192158 0.8394224047660828\n",
      "TEST 12600 1.384853657726338 0.9355097768603919 0.8840559720993042\n",
      "TEST 12700 2.162305506854792 0.89930519820953 0.7997940182685852\n",
      "TEST 12800 1.573465066271452 0.926726472071024 0.899591863155365\n",
      "TEST 12900 1.4274764121142192 0.9335249094109738 0.8810850977897644\n",
      "TEST 13000 1.341378721166553 0.9375343289529801 0.9400919675827026\n",
      "TEST 13100 1.3531829547004448 0.9369846263506877 0.8516846895217896\n",
      "TEST 13200 1.4345307759293449 0.933196399996545 0.9092614054679871\n",
      "TEST 13300 1.299400650061208 0.9394891746067047 0.9335119724273682\n",
      "TEST 13400 1.3968952410496225 0.9349490212953279 0.9293525815010071\n",
      "TEST 13500 1.3421786761179806 0.9374970764424329 0.783818781375885\n",
      "TEST 13600 1.403755306973383 0.9346295599719071 0.8986226916313171\n",
      "TEST 13700 1.4798854208008294 0.9310843131578525 0.8753405213356018\n",
      "TEST 13800 1.5570766428035512 0.9274896523595249 0.8729581832885742\n",
      "TEST 13900 1.459006181298022 0.932056623010326 0.9033632278442383\n",
      "TEST 14000 1.5042285671022773 0.9299506952540911 0.7399961948394775\n",
      "TEST 14100 1.4039799190984052 0.9346191002002153 0.7372509241104126\n",
      "TEST 14200 1.3233211241412395 0.938375239780534 0.8858518600463867\n",
      "TEST 14300 1.3259773447017753 0.9382515442260193 0.8404141068458557\n",
      "TEST 14400 1.4556594376670513 0.9322124749867365 0.8428427577018738\n",
      "TEST 14500 1.3083576125609298 0.9390720644751908 0.8930668830871582\n",
      "TEST 14600 1.4359248283760608 0.9331314813838905 0.944486677646637\n",
      "TEST 14700 1.2326204894655495 0.9425990103869689 0.875810980796814\n",
      "TEST 14800 1.3793383120114258 0.9357666169065638 0.9229542016983032\n",
      "TEST 14900 1.315443599495021 0.9387420823846054 0.8837270736694336\n",
      "TEST 15000 1.3669713709395397 0.9363425238106522 0.923911452293396\n",
      "TEST 15100 1.3260071870474515 0.9382501545254354 0.8655226826667786\n",
      "TEST 15200 1.418997322885428 0.933919765825419 0.7678759098052979\n",
      "TEST 15300 1.2969742197612268 0.9396021692521058 0.8305980563163757\n",
      "TEST 15400 1.2320438587004565 0.942625863097873 0.7622254490852356\n",
      "TEST 15500 1.799076939037784 0.9162201200041078 0.8775116205215454\n",
      "TEST 15600 1.357824117033885 0.9367684954879317 0.888586163520813\n",
      "TEST 15700 1.4191667730837931 0.9339118748388366 0.7767667174339294\n",
      "TEST 15800 1.230396934648353 0.9427025574701802 0.8968756794929504\n",
      "TEST 15900 1.261958924858406 0.9412327705598358 0.8893465995788574\n",
      "TEST 16000 1.5366028876871738 0.9284430794951631 0.9179185628890991\n",
      "TEST 16100 1.436702902301586 0.9330952478304821 0.7691358327865601\n",
      "TEST 16200 1.4752088834940258 0.9313020913423244 0.8471225500106812\n",
      "TEST 16300 1.3656284389030608 0.9364050618172503 0.9243338108062744\n",
      "TEST 16400 1.4989330265458995 0.9301972993360182 0.8961963653564453\n",
      "TEST 16500 1.58927932740656 0.9259900294086749 0.9402905702590942\n",
      "TEST 16600 1.5709856011686356 0.9268419363586579 0.8254116177558899\n",
      "TEST 16700 1.3463190876088371 0.9373042646910771 0.7501904964447021\n",
      "\n"
     ]
    },
    {
     "ename": "KeyboardInterrupt",
     "evalue": "",
     "output_type": "error",
     "traceback": [
      "\u001b[0;31m---------------------------------------------------------------------------\u001b[0m",
      "\u001b[0;31mKeyboardInterrupt\u001b[0m                         Traceback (most recent call last)",
      "\u001b[0;32m<ipython-input-9-edcead2d1afd>\u001b[0m in \u001b[0;36m<module>\u001b[0;34m\u001b[0m\n\u001b[1;32m     18\u001b[0m     \u001b[0mloss\u001b[0m \u001b[0;34m=\u001b[0m \u001b[0mloss\u001b[0m\u001b[0;34m\u001b[0m\u001b[0;34m\u001b[0m\u001b[0m\n\u001b[1;32m     19\u001b[0m \u001b[0;34m\u001b[0m\u001b[0m\n\u001b[0;32m---> 20\u001b[0;31m     \u001b[0mloss\u001b[0m\u001b[0;34m.\u001b[0m\u001b[0mbackward\u001b[0m\u001b[0;34m(\u001b[0m\u001b[0;34m)\u001b[0m\u001b[0;34m\u001b[0m\u001b[0;34m\u001b[0m\u001b[0m\n\u001b[0m\u001b[1;32m     21\u001b[0m     \u001b[0;31m#for name, p in model.named_parameters():\u001b[0m\u001b[0;34m\u001b[0m\u001b[0;34m\u001b[0m\u001b[0;34m\u001b[0m\u001b[0m\n\u001b[1;32m     22\u001b[0m         \u001b[0;31m#print(name, p.grad)\u001b[0m\u001b[0;34m\u001b[0m\u001b[0;34m\u001b[0m\u001b[0;34m\u001b[0m\u001b[0m\n",
      "\u001b[0;32m~/anaconda3/lib/python3.8/site-packages/torch/tensor.py\u001b[0m in \u001b[0;36mbackward\u001b[0;34m(self, gradient, retain_graph, create_graph)\u001b[0m\n\u001b[1;32m    219\u001b[0m                 \u001b[0mretain_graph\u001b[0m\u001b[0;34m=\u001b[0m\u001b[0mretain_graph\u001b[0m\u001b[0;34m,\u001b[0m\u001b[0;34m\u001b[0m\u001b[0;34m\u001b[0m\u001b[0m\n\u001b[1;32m    220\u001b[0m                 create_graph=create_graph)\n\u001b[0;32m--> 221\u001b[0;31m         \u001b[0mtorch\u001b[0m\u001b[0;34m.\u001b[0m\u001b[0mautograd\u001b[0m\u001b[0;34m.\u001b[0m\u001b[0mbackward\u001b[0m\u001b[0;34m(\u001b[0m\u001b[0mself\u001b[0m\u001b[0;34m,\u001b[0m \u001b[0mgradient\u001b[0m\u001b[0;34m,\u001b[0m \u001b[0mretain_graph\u001b[0m\u001b[0;34m,\u001b[0m \u001b[0mcreate_graph\u001b[0m\u001b[0;34m)\u001b[0m\u001b[0;34m\u001b[0m\u001b[0;34m\u001b[0m\u001b[0m\n\u001b[0m\u001b[1;32m    222\u001b[0m \u001b[0;34m\u001b[0m\u001b[0m\n\u001b[1;32m    223\u001b[0m     \u001b[0;32mdef\u001b[0m \u001b[0mregister_hook\u001b[0m\u001b[0;34m(\u001b[0m\u001b[0mself\u001b[0m\u001b[0;34m,\u001b[0m \u001b[0mhook\u001b[0m\u001b[0;34m)\u001b[0m\u001b[0;34m:\u001b[0m\u001b[0;34m\u001b[0m\u001b[0;34m\u001b[0m\u001b[0m\n",
      "\u001b[0;32m~/anaconda3/lib/python3.8/site-packages/torch/autograd/__init__.py\u001b[0m in \u001b[0;36mbackward\u001b[0;34m(tensors, grad_tensors, retain_graph, create_graph, grad_variables)\u001b[0m\n\u001b[1;32m    128\u001b[0m         \u001b[0mretain_graph\u001b[0m \u001b[0;34m=\u001b[0m \u001b[0mcreate_graph\u001b[0m\u001b[0;34m\u001b[0m\u001b[0;34m\u001b[0m\u001b[0m\n\u001b[1;32m    129\u001b[0m \u001b[0;34m\u001b[0m\u001b[0m\n\u001b[0;32m--> 130\u001b[0;31m     Variable._execution_engine.run_backward(\n\u001b[0m\u001b[1;32m    131\u001b[0m         \u001b[0mtensors\u001b[0m\u001b[0;34m,\u001b[0m \u001b[0mgrad_tensors_\u001b[0m\u001b[0;34m,\u001b[0m \u001b[0mretain_graph\u001b[0m\u001b[0;34m,\u001b[0m \u001b[0mcreate_graph\u001b[0m\u001b[0;34m,\u001b[0m\u001b[0;34m\u001b[0m\u001b[0;34m\u001b[0m\u001b[0m\n\u001b[1;32m    132\u001b[0m         allow_unreachable=True)  # allow_unreachable flag\n",
      "\u001b[0;31mKeyboardInterrupt\u001b[0m: "
     ]
    }
   ],
   "source": [
    "#batch_no = 10000\n",
    "loss_array = np.empty((batch_no//100, 2))\n",
    "#criterion = nn.MSELoss(reduction=\"mean\")\n",
    "\n",
    "for i in tnrange(batch_no):\n",
    "    model.train()\n",
    "    optimizer.zero_grad()\n",
    "    batch_idx = train_idx[i].long()\n",
    "    batch_S_E = train_S_E[batch_idx : batch_idx+batch_size].float().cuda()\n",
    "    batch_S_I = train_S_I[batch_idx : batch_idx+batch_size].float().cuda()\n",
    "    #batch_S = train_S[batch_idx : batch_idx+batch_size].cuda()\n",
    "    batch_pred= model(batch_S_E, batch_S_I)\n",
    "    batch_ref = train_V_ref[batch_idx:batch_idx+batch_size].float().cuda()\n",
    "\n",
    "    loss = torch.var(batch_pred - batch_ref.flatten())\n",
    "    #loss = torch.mean((batch_pred -  batch_ref) ** 2)\n",
    "    \n",
    "    loss = loss \n",
    "    \n",
    "    loss.backward()\n",
    "    #for name, p in model.named_parameters():\n",
    "        #print(name, p.grad)\n",
    "\n",
    "    \n",
    "    optimizer.step()\n",
    "    #scheduler.step()\n",
    "    \n",
    "    if i%100 == 0:\n",
    "        model.eval()\n",
    "        test_pred = model(test_S_E, test_S_I)\n",
    "        test_diff = (test_V_ref - test_pred) ** 1\n",
    "        test_loss = torch.var(test_diff)\n",
    "        #test_loss = torch.mean((test_V_ref - test_pred) ** 2)\n",
    "        \n",
    "        test_score = metrics.explained_variance_score(y_true=test_V_ref.cpu().detach().numpy(),\n",
    "                                                      y_pred=test_pred.cpu().detach().numpy(),\n",
    "                                                      multioutput='uniform_average')\n",
    "        train_score = metrics.explained_variance_score(y_true=batch_ref.cpu().detach().numpy(),\n",
    "                                                      y_pred=batch_pred.cpu().detach().numpy(),\n",
    "                                                      multioutput='uniform_average')\n",
    "        print(\"TEST\", i, test_loss.item(), test_score.item(), train_score.item())\n",
    "        #if i%100 == 0:\n",
    "            #torch.save(model.state_dict(), \"/media/hdd01/sklee/tcn/burst_L23_sub5_m2_i\"+str(i)+\".pt\")\n",
    "            #loss_array[i//100,0] = i\n",
    "            #loss_array[i//100,1] = test_score\n",
    "            #np.save(\"/media/hdd01/sklee/tcn/burst_L23_sub5_m2_test_scores.npy\", loss_array)\n"
   ]
  },
  {
   "cell_type": "code",
   "execution_count": 1,
   "metadata": {
    "ExecuteTime": {
     "end_time": "2020-11-25T12:25:53.806297Z",
     "start_time": "2020-11-25T12:25:53.766163Z"
    }
   },
   "outputs": [
    {
     "ename": "NameError",
     "evalue": "name 'plt' is not defined",
     "output_type": "error",
     "traceback": [
      "\u001b[0;31m---------------------------------------------------------------------------\u001b[0m",
      "\u001b[0;31mNameError\u001b[0m                                 Traceback (most recent call last)",
      "\u001b[0;32m<ipython-input-1-254a77310387>\u001b[0m in \u001b[0;36m<module>\u001b[0;34m\u001b[0m\n\u001b[0;32m----> 1\u001b[0;31m \u001b[0mplt\u001b[0m\u001b[0;34m.\u001b[0m\u001b[0mfigure\u001b[0m\u001b[0;34m(\u001b[0m\u001b[0mfigsize\u001b[0m\u001b[0;34m=\u001b[0m\u001b[0;34m(\u001b[0m\u001b[0;36m14\u001b[0m\u001b[0;34m,\u001b[0m\u001b[0;36m5\u001b[0m\u001b[0;34m)\u001b[0m\u001b[0;34m)\u001b[0m\u001b[0;34m\u001b[0m\u001b[0;34m\u001b[0m\u001b[0m\n\u001b[0m\u001b[1;32m      2\u001b[0m \u001b[0mplt\u001b[0m\u001b[0;34m.\u001b[0m\u001b[0mplot\u001b[0m\u001b[0;34m(\u001b[0m\u001b[0mtest_V_ref\u001b[0m\u001b[0;34m.\u001b[0m\u001b[0mcpu\u001b[0m\u001b[0;34m(\u001b[0m\u001b[0;34m)\u001b[0m\u001b[0;34m.\u001b[0m\u001b[0mdetach\u001b[0m\u001b[0;34m(\u001b[0m\u001b[0;34m)\u001b[0m\u001b[0;34m.\u001b[0m\u001b[0mnumpy\u001b[0m\u001b[0;34m(\u001b[0m\u001b[0;34m)\u001b[0m\u001b[0;34m[\u001b[0m\u001b[0;34m:\u001b[0m\u001b[0;36m2000\u001b[0m\u001b[0;34m]\u001b[0m\u001b[0;34m,\u001b[0m \u001b[0mlinewidth\u001b[0m\u001b[0;34m=\u001b[0m\u001b[0;36m1\u001b[0m\u001b[0;34m)\u001b[0m\u001b[0;34m\u001b[0m\u001b[0;34m\u001b[0m\u001b[0m\n\u001b[1;32m      3\u001b[0m \u001b[0mplt\u001b[0m\u001b[0;34m.\u001b[0m\u001b[0mplot\u001b[0m\u001b[0;34m(\u001b[0m\u001b[0mtest_pred\u001b[0m\u001b[0;34m.\u001b[0m\u001b[0mcpu\u001b[0m\u001b[0;34m(\u001b[0m\u001b[0;34m)\u001b[0m\u001b[0;34m.\u001b[0m\u001b[0mdetach\u001b[0m\u001b[0;34m(\u001b[0m\u001b[0;34m)\u001b[0m\u001b[0;34m.\u001b[0m\u001b[0mnumpy\u001b[0m\u001b[0;34m(\u001b[0m\u001b[0;34m)\u001b[0m\u001b[0;34m[\u001b[0m\u001b[0;34m:\u001b[0m\u001b[0;36m2000\u001b[0m\u001b[0;34m]\u001b[0m \u001b[0;34m-\u001b[0m \u001b[0;36m53\u001b[0m\u001b[0;34m,\u001b[0m \u001b[0mlinewidth\u001b[0m\u001b[0;34m=\u001b[0m\u001b[0;36m1\u001b[0m\u001b[0;34m)\u001b[0m\u001b[0;34m\u001b[0m\u001b[0;34m\u001b[0m\u001b[0m\n\u001b[1;32m      4\u001b[0m \u001b[0;31m#plt.ylim(-100,0)\u001b[0m\u001b[0;34m\u001b[0m\u001b[0;34m\u001b[0m\u001b[0;34m\u001b[0m\u001b[0m\n",
      "\u001b[0;31mNameError\u001b[0m: name 'plt' is not defined"
     ]
    }
   ],
   "source": [
    "plt.figure(figsize=(14,5))\n",
    "plt.plot(test_V_ref.cpu().detach().numpy()[:2000], linewidth=1)\n",
    "plt.plot(test_pred.cpu().detach().numpy()[:2000] - 53, linewidth=1)\n",
    "#plt.ylim(-100,0)"
   ]
  },
  {
   "cell_type": "code",
   "execution_count": 18,
   "metadata": {
    "ExecuteTime": {
     "end_time": "2020-11-25T12:22:00.178668Z",
     "start_time": "2020-11-25T12:22:00.013879Z"
    }
   },
   "outputs": [
    {
     "name": "stdout",
     "output_type": "stream",
     "text": [
      "torch.Size([10, 100])\n"
     ]
    },
    {
     "data": {
      "text/plain": [
       "[<matplotlib.lines.Line2D at 0x7f17784de700>]"
      ]
     },
     "execution_count": 18,
     "metadata": {},
     "output_type": "execute_result"
    },
    {
     "data": {
      "image/png": "[encoded data removed]",
      "text/plain": [
       "<Figure size 1008x360 with 2 Axes>"
      ]
     },
     "metadata": {
      "needs_background": "light"
     },
     "output_type": "display_data"
    }
   ],
   "source": [
    "e_weights = torch.matmul(model.conv1_e_weights, model.conv1_e_bases)\n",
    "i_weights = torch.matmul(model.conv1_i_weights, model.conv1_i_bases)\n",
    "print(e_weights.shape)\n",
    "\n",
    "fig, axs = plt.subplots(ncols=2, figsize = (14,5))\n",
    "axs[0].plot(e_weights[6,:].cpu().detach().numpy())\n",
    "axs[1].plot(i_weights[6,:].cpu().detach().numpy())"
   ]
  },
  {
   "cell_type": "code",
   "execution_count": 24,
   "metadata": {
    "ExecuteTime": {
     "end_time": "2020-11-25T10:20:57.321334Z",
     "start_time": "2020-11-25T10:20:57.161641Z"
    }
   },
   "outputs": [
    {
     "name": "stdout",
     "output_type": "stream",
     "text": [
      "torch.Size([5, 100])\n"
     ]
    },
    {
     "data": {
      "text/plain": [
       "[<matplotlib.lines.Line2D at 0x7f1b5c333280>]"
      ]
     },
     "execution_count": 24,
     "metadata": {},
     "output_type": "execute_result"
    },
    {
     "data": {
      "image/png": "[encoded data removed]",
      "text/plain": [
       "<Figure size 1008x360 with 2 Axes>"
      ]
     },
     "metadata": {
      "needs_background": "light"
     },
     "output_type": "display_data"
    }
   ],
   "source": [
    "conv2_weights = torch.matmul(model.conv2_weights, model.conv2_bases)\n",
    "print(e_weights.shape)\n",
    "\n",
    "fig, axs = plt.subplots(ncols=2, figsize = (14,5))\n",
    "axs[0].plot(conv2_weights[0,:].cpu().detach().numpy())"
   ]
  },
  {
   "cell_type": "code",
   "execution_count": null,
   "metadata": {},
   "outputs": [],
   "source": []
  }
 ],
 "metadata": {
  "kernelspec": {
   "display_name": "Python 3",
   "language": "python",
   "name": "python3"
  },
  "language_info": {
   "codemirror_mode": {
    "name": "ipython",
    "version": 3
   },
   "file_extension": ".py",
   "mimetype": "text/x-python",
   "name": "python",
   "nbconvert_exporter": "python",
   "pygments_lexer": "ipython3",
   "version": "3.8.3"
  }
 },
 "nbformat": 4,
 "nbformat_minor": 4
}
