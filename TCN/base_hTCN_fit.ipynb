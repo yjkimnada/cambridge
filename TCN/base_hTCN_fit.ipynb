{
 "cells": [
  {
   "cell_type": "code",
   "execution_count": 1,
   "metadata": {
    "ExecuteTime": {
     "end_time": "2020-12-02T16:33:50.230535Z",
     "start_time": "2020-12-02T16:33:49.543136Z"
    }
   },
   "outputs": [],
   "source": [
    "import numpy as np\n",
    "import torch\n",
    "import torch.nn as nn\n",
    "import matplotlib.pyplot as plt\n",
    "from tqdm import tnrange\n",
    "import torch.optim as optim\n",
    "import torch.nn.functional as F\n",
    "from base_hTCN import base_hTCN\n",
    "from sklearn import metrics\n",
    "import torch.distributions as dist\n",
    "\n"
   ]
  },
  {
   "cell_type": "markdown",
   "metadata": {},
   "source": [
    "# Hyperparms"
   ]
  },
  {
   "cell_type": "code",
   "execution_count": 2,
   "metadata": {
    "ExecuteTime": {
     "end_time": "2020-12-02T16:33:50.235175Z",
     "start_time": "2020-12-02T16:33:50.231741Z"
    }
   },
   "outputs": [],
   "source": [
    "train_T = 65000\n",
    "test_T = 15000\n",
    "T_no = 100\n",
    "M_no = 1\n",
    "B_no = 3\n",
    "\n",
    "#L23\n",
    "#C_den = torch.zeros(5,5)\n",
    "#C_den[0,1:] = 1\n",
    "\n",
    "#C_den = torch.tensor([0]).reshape((1,1))\n",
    "\n",
    "#CA1\n",
    "C_den = torch.zeros(10,10)\n",
    "C_den[0,1:] = 1\n",
    "\n",
    "sub_no = C_den.shape[0]\n",
    "\n",
    "batch_size = 1500"
   ]
  },
  {
   "cell_type": "code",
   "execution_count": 3,
   "metadata": {
    "ExecuteTime": {
     "end_time": "2020-12-02T16:33:50.245099Z",
     "start_time": "2020-12-02T16:33:50.236403Z"
    }
   },
   "outputs": [
    {
     "data": {
      "text/plain": [
       "'\\nEnsyn = torch.tensor([0, 106, 213, 211, 99])\\nInsyn = torch.tensor([1, 22, 36, 42, 19])\\n\\nE_no = torch.sum(Ensyn)\\nI_no = torch.sum(Insyn)\\n\\nC_syn_e = torch.zeros(sub_no, E_no)\\nC_syn_i = torch.zeros(sub_no, I_no)\\n\\nE_count = 0\\nfor s in range(sub_no):\\n    C_syn_e[s,E_count:E_count+Ensyn[s]] = 1\\n    E_count += Ensyn[s]\\n\\nI_count = 0\\nfor s in range(sub_no):\\n    C_syn_i[s,I_count:I_count+Insyn[s]] = 1\\n    I_count += Insyn[s]\\n'"
      ]
     },
     "execution_count": 3,
     "metadata": {},
     "output_type": "execute_result"
    }
   ],
   "source": [
    "#### L23 #####\n",
    "\"\"\"\n",
    "Ensyn = torch.tensor([0, 106, 213, 211, 99])\n",
    "Insyn = torch.tensor([1, 22, 36, 42, 19])\n",
    "\n",
    "E_no = torch.sum(Ensyn)\n",
    "I_no = torch.sum(Insyn)\n",
    "\n",
    "C_syn_e = torch.zeros(sub_no, E_no)\n",
    "C_syn_i = torch.zeros(sub_no, I_no)\n",
    "\n",
    "E_count = 0\n",
    "for s in range(sub_no):\n",
    "    C_syn_e[s,E_count:E_count+Ensyn[s]] = 1\n",
    "    E_count += Ensyn[s]\n",
    "\n",
    "I_count = 0\n",
    "for s in range(sub_no):\n",
    "    C_syn_i[s,I_count:I_count+Insyn[s]] = 1\n",
    "    I_count += Insyn[s]\n",
    "\"\"\"\n"
   ]
  },
  {
   "cell_type": "code",
   "execution_count": 4,
   "metadata": {
    "ExecuteTime": {
     "end_time": "2020-12-02T16:33:50.695963Z",
     "start_time": "2020-12-02T16:33:50.635188Z"
    }
   },
   "outputs": [
    {
     "name": "stdout",
     "output_type": "stream",
     "text": [
      "tensor([  0., 309., 369., 221., 122., 979.,   0.,   0.,   0.,   0.])\n",
      "tensor([80., 10., 14., 21., 10., 65.,  0.,  0.,  0.,  0.])\n",
      "tensor(2000.)\n",
      "tensor(200.)\n"
     ]
    }
   ],
   "source": [
    "\n",
    "### CA1 #####\n",
    "locs = np.load(\"/media/hdd01/sklee/CA1_inputs/synlocs_T10_Ne2000_gA0.6_tauA1_gN0.8_Ni200_gG0.1_gB0.1_Er0.5_Ir7.4_random_NR_rep16_stimseed1.npy\")\n",
    "e_locs = locs[:2000]\n",
    "i_locs = locs[2000:]\n",
    "\n",
    "C_syn_e = torch.zeros(sub_no, e_locs.shape[0])\n",
    "C_syn_i = torch.zeros(sub_no, i_locs.shape[0])\n",
    "\n",
    "for i in range(e_locs.shape[0]):\n",
    "    if e_locs[i,0] <= 15:\n",
    "        C_syn_e[1,i] += 1\n",
    "    elif (e_locs[i,0] >= 16) & (e_locs[i,0] <= 46):\n",
    "        C_syn_e[2,i] += 1\n",
    "    elif (e_locs[i,0] >= 47) & (e_locs[i,0] <= 61):\n",
    "        C_syn_e[3,i] += 1\n",
    "    elif (e_locs[i,0] >= 62) & (e_locs[i,0] <= 74):\n",
    "        C_syn_e[4,i] += 1\n",
    "    elif e_locs[i,0] >= 75:\n",
    "        C_syn_e[5,i] += 1\n",
    "        \n",
    "for i in range(i_locs.shape[0]):\n",
    "    if i_locs[i,0] < 0:\n",
    "        C_syn_i[0,i] += 1\n",
    "    elif (i_locs[i,0] >= 0) & (i_locs[i,0] <= 15):\n",
    "        C_syn_i[1,i] += 1\n",
    "    elif (i_locs[i,0] >= 16) & (i_locs[i,0] <= 46):\n",
    "        C_syn_i[2,i] += 1\n",
    "    elif (i_locs[i,0] >= 47) & (i_locs[i,0] <= 61):\n",
    "        C_syn_i[3,i] += 1\n",
    "    elif (i_locs[i,0] >= 62) & (i_locs[i,0] <= 74):\n",
    "        C_syn_i[4,i] += 1\n",
    "    elif i_locs[i,0] >= 75:\n",
    "        C_syn_i[5,i] += 1\n",
    "        \n",
    "print(torch.sum(C_syn_e,1))\n",
    "print(torch.sum(C_syn_i,1))\n",
    "print(torch.sum(C_syn_e))\n",
    "print(torch.sum(C_syn_i))"
   ]
  },
  {
   "cell_type": "markdown",
   "metadata": {
    "heading_collapsed": true
   },
   "source": [
    "# Train"
   ]
  },
  {
   "cell_type": "code",
   "execution_count": 5,
   "metadata": {
    "ExecuteTime": {
     "end_time": "2020-11-30T16:27:28.817824Z",
     "start_time": "2020-11-30T16:27:26.530981Z"
    },
    "hidden": true
   },
   "outputs": [],
   "source": [
    "model = base_hTCN(C_den.cuda(), C_syn_e.cuda(), C_syn_i.cuda(), T_no, M_no, B_no)\n",
    "\n",
    "model = model.float().cuda()\n",
    "\n",
    "#V_ref = np.load(\"/media/hdd01/sklee/tcn/L23_inputs/vdata_NMDA_ApN0.5_13_Adend_r0_o2_i2_g_b4.npy\").flatten()[:]\n",
    "\n",
    "V_ref = np.load(\"/media/hdd01/sklee/CA1_inputs/vdata_T10_Ne2000_gA0.6_tauA1_gN0.8_Ni200_gG0.1_gB0.1_Er0.5_Ir7.4_random_NR_rep16_stimseed1.npy\")[:,:10000]\n",
    "V_ref = V_ref.flatten()[:train_T+test_T]\n",
    "\n",
    "train_V_ref = V_ref[:train_T]\n",
    "test_V_ref = V_ref[train_T:train_T+test_T]\n",
    "\n",
    "test_V_ref = torch.from_numpy(test_V_ref).cuda()\n",
    "train_V_ref = torch.from_numpy(train_V_ref)"
   ]
  },
  {
   "cell_type": "code",
   "execution_count": 6,
   "metadata": {
    "ExecuteTime": {
     "end_time": "2020-11-30T16:27:28.821730Z",
     "start_time": "2020-11-30T16:27:28.818825Z"
    },
    "hidden": true
   },
   "outputs": [],
   "source": [
    "state_dict = model.state_dict()\n",
    "\n",
    "for name, param in state_dict.items():\n",
    "    # Transform the parameter as required.\n",
    "    transformed_param = param * 0.05\n",
    "    # Update the parameter.\n",
    "    state_dict[name].copy_(transformed_param)"
   ]
  },
  {
   "cell_type": "code",
   "execution_count": 7,
   "metadata": {
    "ExecuteTime": {
     "end_time": "2020-11-30T16:27:29.506205Z",
     "start_time": "2020-11-30T16:27:28.823152Z"
    },
    "hidden": true
   },
   "outputs": [
    {
     "name": "stdout",
     "output_type": "stream",
     "text": [
      "torch.Size([65000, 2000])\n"
     ]
    }
   ],
   "source": [
    "#E_neural = np.load(\"/media/hdd01/sklee/tcn/L23_inputs/Espikes_NMDA_ApN0.5_13_Adend_r0_o2_i2_g_b4_neural.npy\")\n",
    "#I_neural = np.load(\"/media/hdd01/sklee/tcn/L23_inputs/Ispikes_NMDA_ApN0.5_13_Adend_r0_o2_i2_g_b4_neural.npy\")\n",
    "\n",
    "E_neural = np.load(\"/media/hdd01/sklee/CA1_inputs/Espikes_T10_Ne2000_gA0.6_tauA1_gN0.8_Ni200_gG0.1_gB0.1_Er0.5_Ir7.4_random_NR_neural.npy\")[:train_T+test_T]\n",
    "I_neural = np.load(\"/media/hdd01/sklee/CA1_inputs/Ispikes_T10_Ne2000_gA0.6_tauA1_gN0.8_Ni200_gG0.1_gB0.1_Er0.5_Ir7.4_random_NR_neural.npy\")[:train_T+test_T]\n",
    "\n",
    "train_S_E = E_neural[:train_T]\n",
    "train_S_I = I_neural[:train_T]\n",
    "test_S_E = E_neural[train_T:train_T+test_T]\n",
    "test_S_I = I_neural[train_T:train_T+test_T]\n",
    "\n",
    "train_S_E = torch.from_numpy(train_S_E)\n",
    "train_S_I = torch.from_numpy(train_S_I)\n",
    "test_S_E = torch.from_numpy(test_S_E).float().cuda()\n",
    "test_S_I = torch.from_numpy(test_S_I).float().cuda()\n",
    "\n",
    "print(train_S_E.shape)"
   ]
  },
  {
   "cell_type": "code",
   "execution_count": 8,
   "metadata": {
    "ExecuteTime": {
     "end_time": "2020-11-30T16:27:29.518620Z",
     "start_time": "2020-11-30T16:27:29.507340Z"
    },
    "hidden": true
   },
   "outputs": [
    {
     "name": "stdout",
     "output_type": "stream",
     "text": [
      "127000\n",
      "127000\n"
     ]
    }
   ],
   "source": [
    "repeat_no = 2\n",
    "batch_no = (train_V_ref.shape[0] - batch_size) * repeat_no\n",
    "train_idx = np.empty((repeat_no, train_V_ref.shape[0] - batch_size))\n",
    "for i in range(repeat_no):\n",
    "    part_idx = np.arange(train_V_ref.shape[0] - batch_size)\n",
    "    np.random.shuffle(part_idx)\n",
    "    train_idx[i] = part_idx\n",
    "train_idx = train_idx.flatten()\n",
    "train_idx = torch.from_numpy(train_idx)\n",
    "\n",
    "print(batch_no)\n",
    "print(train_idx.shape[0])"
   ]
  },
  {
   "cell_type": "code",
   "execution_count": 9,
   "metadata": {
    "ExecuteTime": {
     "end_time": "2020-11-30T16:27:29.536115Z",
     "start_time": "2020-11-30T16:27:29.522441Z"
    },
    "hidden": true
   },
   "outputs": [
    {
     "name": "stdout",
     "output_type": "stream",
     "text": [
      "690\n"
     ]
    }
   ],
   "source": [
    "optimizer = optim.Adam(model.parameters(), lr=0.0025)\n",
    "#optimizer = optim.Adam(model.parameters(), lr=0.001)\n",
    "#optimizer = optim.SGD(model.parameters(), lr=0.001, momentum=0.9)\n",
    "print(sum(p.numel() for p in model.parameters() if p.requires_grad))\n",
    "scheduler = optim.lr_scheduler.StepLR(optimizer, step_size=5000, gamma=0.5)\n"
   ]
  },
  {
   "cell_type": "code",
   "execution_count": null,
   "metadata": {
    "ExecuteTime": {
     "start_time": "2020-11-30T16:27:27.643Z"
    },
    "hidden": true,
    "scrolled": true
   },
   "outputs": [
    {
     "name": "stderr",
     "output_type": "stream",
     "text": [
      "<ipython-input-10-e2141f9911ff>:5: TqdmDeprecationWarning: Please use `tqdm.notebook.trange` instead of `tqdm.tnrange`\n",
      "  for i in tnrange(batch_no):\n"
     ]
    },
    {
     "data": {
      "application/vnd.jupyter.widget-view+json": {
       "model_id": "5badd6a9cd9047d9b1b99f0590980436",
       "version_major": 2,
       "version_minor": 0
      },
      "text/plain": [
       "HBox(children=(FloatProgress(value=0.0, max=40000.0), HTML(value='')))"
      ]
     },
     "metadata": {},
     "output_type": "display_data"
    },
    {
     "name": "stdout",
     "output_type": "stream",
     "text": [
      "TEST 0 1.5153286886654105 -0.019397776376198994 -0.057566285133361816\n",
      "TEST 50 1.2856456714037143 0.13511547134537383 0.1843215823173523\n",
      "TEST 100 1.0724019452073126 0.27856961562264915 0.10327458381652832\n",
      "TEST 150 0.8503668063040117 0.4279379530620453 0.6655633449554443\n",
      "TEST 200 0.712790761109606 0.5204886422949039 0.5588235259056091\n",
      "TEST 250 0.6149514460860024 0.58630748471731 0.5762282013893127\n",
      "TEST 300 0.6022139091226094 0.5948763298480989 0.6999015808105469\n",
      "TEST 350 0.6102542847483464 0.5894673772702326 0.8015362024307251\n",
      "TEST 400 0.5864812226414404 0.6054600835592925 0.7210699319839478\n",
      "TEST 450 0.47571480018490697 0.6799752996810974 0.8037586212158203\n",
      "TEST 500 0.5030234368728012 0.6616041279967708 0.7962254285812378\n",
      "TEST 550 0.39722470534411536 0.7327774598622823 0.7176868915557861\n",
      "TEST 600 0.38868646992777295 0.738521334620698 0.7658131122589111\n",
      "TEST 650 0.38148912613483693 0.7433631595741698 0.6420343518257141\n",
      "TEST 700 0.35999820433081764 0.7578206156145726 0.7489416599273682\n",
      "TEST 750 0.4016931315252822 0.7297714429296962 0.7363239526748657\n",
      "TEST 800 0.31445143320328134 0.7884610156446648 0.7481863498687744\n",
      "TEST 850 0.30192462657608254 0.7968880974450709 0.661235511302948\n",
      "TEST 900 0.3143769562355273 0.7885111180790427 0.7702715992927551\n",
      "TEST 950 0.38132283884511525 0.7434750250056733 0.7315350770950317\n",
      "TEST 1000 0.31494458227390953 0.7881292624945533 0.747199535369873\n",
      "TEST 1050 0.2863154524395764 0.8073887614432627 0.746557354927063\n",
      "TEST 1100 0.27162136347663907 0.8172738258022412 0.736514687538147\n",
      "TEST 1150 0.27603064713736114 0.8143075954392398 0.7267436981201172\n",
      "TEST 1200 0.23856992177908287 0.8395083194886319 0.8081362843513489\n",
      "TEST 1250 0.3063200615966302 0.7939311833979891 0.8906657099723816\n",
      "TEST 1300 0.2742852893014801 0.8154817393166116 0.8541447520256042\n",
      "TEST 1350 0.33216931871627586 0.7765417711763847 0.4555969834327698\n",
      "TEST 1400 0.27983709212511465 0.8117469090530228 0.8154637813568115\n",
      "TEST 1450 0.26640605777491294 0.8207822864253084 0.6932685375213623\n",
      "TEST 1500 0.32324029932667997 0.7825485356278116 0.7127779722213745\n",
      "TEST 1550 0.22894817800508002 0.8459810961841101 0.5204498767852783\n",
      "TEST 1600 0.292024023844433 0.803548469210613 0.7704100608825684\n",
      "TEST 1650 0.27234344190648085 0.8167880664062501 0.818666934967041\n",
      "TEST 1700 0.27659248852624363 0.8139296313362671 0.8323265910148621\n",
      "TEST 1750 0.30932634825669486 0.7919087826126695 0.6576792597770691\n",
      "TEST 1800 0.2701837365891748 0.8182409517264848 0.7623427510261536\n",
      "TEST 1850 0.2965256075684704 0.8005201463953673 0.7955669164657593\n",
      "TEST 1900 0.2800095401011263 0.8116308991778134 0.7411121129989624\n",
      "TEST 1950 0.24421855391685235 0.8357083498321397 0.767025351524353\n",
      "TEST 2000 0.2937525598137006 0.80238564180967 0.8113672733306885\n",
      "TEST 2050 0.3063913846909216 0.79388320265649 0.845084011554718\n",
      "TEST 2100 0.21775612067008218 0.8535102602735063 0.8579595685005188\n",
      "TEST 2150 0.2884170832503618 0.805974944239655 0.6164562702178955\n",
      "TEST 2200 0.22926382291484676 0.8457687543117186 0.7803488373756409\n",
      "TEST 2250 0.2767149219080886 0.8138472674781219 0.7027645707130432\n",
      "TEST 2300 0.24127200392011983 0.8376905643407101 0.8052626848220825\n",
      "TEST 2350 0.288848984307956 0.8056843940845497 0.7335501313209534\n",
      "TEST 2400 0.22714035484028977 0.8471972619669754 0.6087816953659058\n",
      "TEST 2450 0.2729093330725519 0.8164073779129501 0.7758695483207703\n",
      "TEST 2500 0.24084766822817566 0.8379760250890811 0.7521292567253113\n",
      "TEST 2550 0.31403005460027206 0.7887444870884897 0.8559609651565552\n",
      "TEST 2600 0.25348956194538647 0.8294715214536788 0.8879298567771912\n",
      "TEST 2650 0.23778895405567355 0.8400336951219166 0.6874600648880005\n",
      "TEST 2700 0.2472668479980512 0.8336576896498368 0.6741046905517578\n",
      "TEST 2750 0.24956616340528198 0.8321108852970566 0.7743821144104004\n",
      "TEST 2800 0.27747001794750514 0.8133392963474189 0.6531760096549988\n",
      "TEST 2850 0.3007796458453711 0.7976583533150852 0.9059507250785828\n",
      "TEST 2900 0.2690353453504687 0.8190135019198537 0.7551348209381104\n",
      "TEST 2950 0.2431308662618727 0.836440063275036 0.793494701385498\n",
      "TEST 3000 0.2395312071250649 0.8388616398955179 0.7999597787857056\n",
      "TEST 3050 0.25505235518384434 0.8284201931500981 0.7269226908683777\n",
      "TEST 3100 0.2819151629518588 0.8103489412099328 0.7392626404762268\n",
      "TEST 3150 0.25526221907241853 0.8282790126978813 0.7839611172676086\n",
      "TEST 3200 0.2465003609248934 0.8341733237978262 0.824234127998352\n",
      "TEST 3250 0.24228315825078678 0.8370103366916253 0.5220650434494019\n",
      "TEST 3300 0.26854442054477473 0.8193437587516581 0.5713899731636047\n",
      "TEST 3350 0.24389908681313985 0.8359232629752696 0.8767206072807312\n",
      "TEST 3400 0.25224972187254197 0.8303055914663905 0.8411344289779663\n",
      "TEST 3450 0.26454691167848265 0.8220329783781417 0.7505649328231812\n",
      "TEST 3500 0.23902077720737863 0.8392050182818149 0.7320228815078735\n",
      "TEST 3550 0.28351823877229326 0.8092705138438561 0.8431797027587891\n",
      "TEST 3600 0.2581550862114094 0.8263329119316549 0.8150684237480164\n",
      "TEST 3650 0.2767757281363316 0.8138063616737388 0.8277071714401245\n",
      "TEST 3700 0.2361443779015357 0.8411400407489458 0.9013619422912598\n",
      "TEST 3750 0.26788659409339 0.819786294307224 0.7865356206893921\n",
      "TEST 3800 0.2334350403197856 0.8429626768091265 0.7276902198791504\n",
      "TEST 3850 0.2373406839975722 0.8403352570883115 0.717038631439209\n",
      "TEST 3900 0.29525160955116375 0.8013771952687958 0.6567846536636353\n",
      "TEST 3950 0.2909112723714293 0.804297043692395 0.793473482131958\n",
      "TEST 4000 0.19865776820187414 0.8663581778059694 0.7307238578796387\n",
      "TEST 4050 0.25054410825588896 0.8314529984532841 0.8867999911308289\n",
      "TEST 4100 0.2115979197006741 0.857653029051453 0.854444682598114\n",
      "TEST 4150 0.2811880231842056 0.8108381054864421 0.6270245313644409\n",
      "TEST 4200 0.3093494232138979 0.7918932595368273 0.6515464782714844\n",
      "TEST 4250 0.24736808686130743 0.8335895838492515 0.8544498682022095\n",
      "TEST 4300 0.2683590358363902 0.8194684714669448 0.6649712324142456\n",
      "TEST 4350 0.23830019340793393 0.8396897722007752 0.6011496782302856\n",
      "TEST 4400 0.32407382545836944 0.7819878027106574 0.8388231992721558\n",
      "TEST 4450 0.25362994747014356 0.8293770807608492 0.6398305892944336\n",
      "TEST 4500 0.27813037940313556 0.8128950554352229 0.8159010410308838\n",
      "TEST 4550 0.26262081103405494 0.823328712250889 0.812270998954773\n",
      "TEST 4600 0.2846753823949351 0.8084920757105252 0.7093479633331299\n",
      "TEST 4650 0.24879349456947894 0.8326306780652737 0.8898258209228516\n",
      "TEST 4700 0.23977066711146505 0.8387005494504601 0.7888717651367188\n",
      "TEST 4750 0.22834713411127064 0.8463854327464777 0.8206965327262878\n",
      "TEST 4800 0.2600230313389053 0.8250763006520099 0.8344442844390869\n",
      "TEST 4850 0.25249796328842267 0.8301385935311356 0.8237028121948242\n",
      "TEST 4900 0.2311058895770401 0.8445295520959044 0.8535252213478088\n",
      "TEST 4950 0.27247244265993303 0.8167012845261581 0.8017644286155701\n",
      "TEST 5000 0.21822297456419174 0.8531961965180404 0.7595968246459961\n",
      "TEST 5050 0.2448805922062753 0.8352629808786816 0.8021368980407715\n",
      "TEST 5100 0.22698973277749981 0.8472985890218037 0.8902145624160767\n",
      "TEST 5150 0.2602863421009452 0.8248991652217352 0.6995651721954346\n",
      "TEST 5200 0.23156660782120397 0.844219615947245 0.7343896627426147\n",
      "TEST 5250 0.24033526572899405 0.8383207304831523 0.8159025311470032\n",
      "TEST 5300 0.2346168877547376 0.842167619822833 0.7408945560455322\n",
      "TEST 5350 0.28285969969189234 0.8097135287985324 0.8383721709251404\n",
      "TEST 5400 0.3179901526172036 0.7860804346353168 0.8354074954986572\n",
      "TEST 5450 0.30039319108445517 0.7979183306560924 0.8224398493766785\n",
      "TEST 5500 0.2516955336100459 0.8306784071352113 0.774855375289917\n",
      "TEST 5550 0.22254342968688248 0.8502897232336106 0.8696856498718262\n",
      "TEST 5600 0.22765757883876006 0.8468493130411285 0.4982842803001404\n",
      "TEST 5650 0.22498020819885056 0.8486504441676995 0.6996507048606873\n",
      "TEST 5700 0.24527650333597656 0.8349966420090023 0.8280954957008362\n",
      "TEST 5750 0.23667574094881733 0.840782580147718 0.8699237704277039\n",
      "TEST 5800 0.2699222046550965 0.8184168904945281 0.8210095167160034\n",
      "TEST 5850 0.24820565046004273 0.8330261348262807 0.8339787721633911\n",
      "TEST 5900 0.24794606681689102 0.8332007629362282 0.7691602110862732\n",
      "TEST 5950 0.2045723855557353 0.8623792735464031 0.6618894934654236\n",
      "TEST 6000 0.2599478263725398 0.8251268928315691 0.7982916235923767\n",
      "TEST 6050 0.2544478992713011 0.8288268250625968 0.8806160688400269\n",
      "TEST 6100 0.24793526192073392 0.8332080316534879 0.5879873633384705\n"
     ]
    },
    {
     "name": "stdout",
     "output_type": "stream",
     "text": [
      "TEST 6150 0.22222965110474976 0.850500809578022 0.8414191007614136\n",
      "TEST 6200 0.23786170000247348 0.8399847571877752 0.8164885640144348\n",
      "TEST 6250 0.22299345505055237 0.8499869804291789 0.685736894607544\n",
      "TEST 6300 0.2317308029730661 0.8441091579422063 0.8191934823989868\n",
      "TEST 6350 0.24658252133466965 0.8341180525286369 0.773346483707428\n",
      "TEST 6400 0.24255912113042177 0.8368246898782119 0.7085750699043274\n",
      "TEST 6450 0.2242465794711279 0.8491439737247637 0.6817673444747925\n",
      "TEST 6500 0.22432486289201373 0.8490913105957881 0.8674246072769165\n",
      "TEST 6550 0.23975043684242123 0.8387141588335036 0.7876357436180115\n",
      "TEST 6600 0.24585784463006652 0.8346055598456077 0.6892938613891602\n",
      "TEST 6650 0.28232452807787334 0.810073551514529 0.7629912495613098\n",
      "TEST 6700 0.2386262267267167 0.8394704418093069 0.799666166305542\n",
      "TEST 6750 0.23550342508454297 0.8415712250044678 0.7074331045150757\n",
      "TEST 6800 0.21679560644357107 0.8541564211173972 0.7761780619621277\n",
      "TEST 6850 0.24726733451754274 0.833657362353142 0.8643364310264587\n",
      "TEST 6900 0.24508663481508283 0.8351243710965565 0.7490040063858032\n",
      "TEST 6950 0.2970581852776973 0.8001618686646043 0.5810588598251343\n",
      "TEST 7000 0.2022433331792987 0.863946082670393 0.789304256439209\n",
      "TEST 7050 0.22961941033019598 0.8455295421680685 0.7912107706069946\n",
      "TEST 7100 0.25725845114457413 0.8269360997391069 0.8520991802215576\n",
      "TEST 7150 0.21915449919906518 0.852569537663374 0.8079829216003418\n",
      "TEST 7200 0.2615236044575906 0.8240668293026941 0.8314261436462402\n",
      "TEST 7250 0.2350361404838805 0.8418855785075239 0.7806195616722107\n",
      "TEST 7300 0.27074040577744796 0.8178664670718976 0.6844545602798462\n",
      "TEST 7350 0.23690314533842483 0.8406295997857085 0.8518950939178467\n",
      "TEST 7400 0.23677817174981336 0.8407136725004419 0.7714333534240723\n",
      "TEST 7450 0.24483371438411586 0.8352945166994752 0.8587256669998169\n",
      "TEST 7500 0.2590857373569802 0.8257068406865588 0.8224893808364868\n",
      "TEST 7550 0.2428017584619798 0.8366614619492485 0.7947132587432861\n",
      "TEST 7600 0.2548546545460478 0.828553191079365 0.857944667339325\n",
      "TEST 7650 0.2257002736543187 0.848166038952165 0.7281860113143921\n",
      "TEST 7700 0.2710544625402731 0.8176551935938756 0.8273323178291321\n",
      "TEST 7750 0.2814661939944147 0.8106509733414213 0.7042486071586609\n",
      "TEST 7800 0.23263155706107416 0.8435031991760529 0.6363531351089478\n",
      "TEST 7850 0.2260394661407593 0.8479378560678846 0.750756025314331\n",
      "TEST 7900 0.2571730340419003 0.8269935618629278 0.544464111328125\n",
      "TEST 7950 0.2828654464176409 0.8097096628409688 0.7623864412307739\n",
      "TEST 8000 0.21070311714042506 0.8582549840844974 0.6539874076843262\n",
      "TEST 8050 0.20346485422477714 0.8631243363052886 0.7450411319732666\n",
      "TEST 8100 0.2397640143611519 0.8387050249086809 0.7595186829566956\n",
      "TEST 8150 0.24408793277704044 0.8357962217959963 0.8876145482063293\n",
      "TEST 8200 0.22573376325653532 0.8481435096979747 0.8446385264396667\n",
      "TEST 8250 0.26754252541797013 0.8200177575195197 0.6879985332489014\n",
      "TEST 8300 0.31438571742894333 0.7885052242185635 0.8652029633522034\n",
      "TEST 8350 0.28556947707131164 0.8078905968828843 0.8419485092163086\n",
      "TEST 8400 0.21559807285362947 0.8549620305487453 0.8662838339805603\n",
      "TEST 8450 0.2354004737520288 0.8416404828251438 0.643458366394043\n",
      "TEST 8500 0.239088796249218 0.8391592602546865 0.7923140525817871\n",
      "TEST 8550 0.2976372106563845 0.7997723444687821 0.8557562232017517\n",
      "TEST 8600 0.3399773805024835 0.7712891016532267 0.8794203400611877\n",
      "TEST 8650 0.27125117337965643 0.8175228615194706 0.7622590661048889\n",
      "TEST 8700 0.2743217725799908 0.8154571961486631 0.7164955735206604\n",
      "TEST 8750 0.2862150439452608 0.8074563086360069 0.7167491912841797\n",
      "TEST 8800 0.27654063620120084 0.8139645136294681 0.7127773761749268\n",
      "TEST 8850 0.21392310542320067 0.856088821111181 0.7988503575325012\n",
      "TEST 8900 0.23918706467107292 0.8390931527378884 0.7243458032608032\n",
      "TEST 8950 0.2456605606162085 0.8347382775093917 0.7094063758850098\n",
      "TEST 9000 0.27814253674654343 0.8128868768970249 0.8511179685592651\n",
      "TEST 9050 0.22616783395485904 0.8478514999762279 0.6584200263023376\n",
      "TEST 9100 0.2530258461999141 0.8297834741063816 0.5427451133728027\n",
      "TEST 9150 0.32796580879249765 0.7793695726295236 0.8453656435012817\n",
      "TEST 9200 0.3164514071692465 0.7871155854254928 0.6773569583892822\n",
      "TEST 9250 0.24331147787692858 0.836318561531656 0.848407506942749\n",
      "TEST 9300 0.21510855177785512 0.8552913430588318 0.7994451522827148\n",
      "TEST 9350 0.23900169472548047 0.8392178555271711 0.9003317952156067\n",
      "TEST 9400 0.25401342261951304 0.8291191078779733 0.7867515087127686\n",
      "TEST 9450 0.21781160116824266 0.853472937217024 0.8005656599998474\n",
      "TEST 9500 0.24779826981641004 0.8333001895098141 0.705041766166687\n",
      "TEST 9550 0.29588984633594534 0.8009478381532691 0.8906099200248718\n",
      "TEST 9600 0.25449322071265296 0.8287963362437051 0.8662741780281067\n",
      "TEST 9650 0.3133867088148775 0.789177281159239 0.8075997233390808\n",
      "TEST 9700 0.27251358970310285 0.8166736039291409 0.8220305442810059\n",
      "TEST 9750 0.23037003213218565 0.8450245809659526 0.5691599249839783\n",
      "TEST 9800 0.25781450871796235 0.8265620265371212 0.7221711874008179\n",
      "TEST 9850 0.24174002655677435 0.8373757143454157 0.8870593309402466\n",
      "TEST 9900 0.22336222757415886 0.84973889835567 0.8382906317710876\n",
      "TEST 9950 0.25891552239916144 0.8258213483575388 0.8106061816215515\n",
      "TEST 10000 0.21589760576528721 0.8547605276117829 0.7186906337738037\n",
      "TEST 10050 0.21824985535049002 0.8531781131683553 0.8215357065200806\n"
     ]
    }
   ],
   "source": [
    "batch_no = 40000\n",
    "loss_array = np.empty((batch_no//100, 2))\n",
    "#criterion = nn.MSELoss(reduction=\"mean\")\n",
    "\n",
    "for i in tnrange(batch_no):\n",
    "    model.train()\n",
    "    optimizer.zero_grad()\n",
    "    batch_idx = train_idx[i].long()\n",
    "    batch_S_E = train_S_E[batch_idx : batch_idx+batch_size].float().cuda()\n",
    "    batch_S_I = train_S_I[batch_idx : batch_idx+batch_size].float().cuda()\n",
    "    #batch_S = train_S[batch_idx : batch_idx+batch_size].cuda()\n",
    "    batch_pred= model(batch_S_E, batch_S_I)\n",
    "    batch_ref = train_V_ref[batch_idx:batch_idx+batch_size].float().cuda()\n",
    "\n",
    "    loss = torch.var(batch_pred - batch_ref)\n",
    "    #loss = torch.mean((batch_pred -  batch_ref) ** 2)\n",
    "    \n",
    "    loss = loss \n",
    "    \n",
    "    loss.backward()\n",
    "    #for name, p in model.named_parameters():\n",
    "        #print(name, p.grad)\n",
    "\n",
    "    \n",
    "    optimizer.step()\n",
    "    #scheduler.step()\n",
    "    \n",
    "    if i%50 == 0:\n",
    "        model.eval()\n",
    "        test_pred = model(test_S_E, test_S_I)\n",
    "        test_diff = (test_V_ref - test_pred) ** 1\n",
    "        test_loss = torch.var(test_diff)\n",
    "        #test_loss = torch.mean((test_V_ref - test_pred) ** 2)\n",
    "        \n",
    "        test_score = metrics.explained_variance_score(y_true=test_V_ref.cpu().detach().numpy(),\n",
    "                                                      y_pred=test_pred.cpu().detach().numpy(),\n",
    "                                                      multioutput='uniform_average')\n",
    "        train_score = metrics.explained_variance_score(y_true=batch_ref.cpu().detach().numpy(),\n",
    "                                                      y_pred=batch_pred.cpu().detach().numpy(),\n",
    "                                                      multioutput='uniform_average')\n",
    "        print(\"TEST\", i, test_loss.item(), test_score.item(), train_score.item())\n",
    "        if i%100 == 0:\n",
    "            torch.save(model.state_dict(), \"/media/hdd01/sklee/tcn/baseTCN_CA1_sub6_i\"+str(i)+\".pt\")\n",
    "            loss_array[i//100,0] = i\n",
    "            loss_array[i//100,1] = test_score\n",
    "            np.save(\"/media/hdd01/sklee/tcn/baseTCN_CA1_sub6_test_scores.npy\", loss_array)\n"
   ]
  },
  {
   "cell_type": "code",
   "execution_count": 12,
   "metadata": {
    "ExecuteTime": {
     "end_time": "2020-11-30T15:58:24.287381Z",
     "start_time": "2020-11-30T15:58:24.187727Z"
    },
    "hidden": true,
    "scrolled": true
   },
   "outputs": [
    {
     "data": {
      "text/plain": [
       "[<matplotlib.lines.Line2D at 0x7f39d4315a30>]"
      ]
     },
     "execution_count": 12,
     "metadata": {},
     "output_type": "execute_result"
    },
    {
     "data": {
      "image/png": "[encoded data removed]",
      "text/plain": [
       "<Figure size 432x288 with 1 Axes>"
      ]
     },
     "metadata": {
      "needs_background": "light"
     },
     "output_type": "display_data"
    }
   ],
   "source": [
    "plt.plot(test_pred.cpu().detach().numpy()[:3000])"
   ]
  },
  {
   "cell_type": "markdown",
   "metadata": {},
   "source": [
    "# Test"
   ]
  },
  {
   "cell_type": "code",
   "execution_count": 5,
   "metadata": {
    "ExecuteTime": {
     "end_time": "2020-12-02T16:34:27.207961Z",
     "start_time": "2020-12-02T16:34:25.553088Z"
    }
   },
   "outputs": [],
   "source": [
    "model = base_hTCN(C_den.cuda(), C_syn_e.cuda(), C_syn_i.cuda(), T_no, M_no, B_no)\n",
    "\n",
    "model.load_state_dict(torch.load(\"/media/hdd01/sklee/tcn/baseTCN_CA1_sub6_i25700.pt\"))\n",
    "model = model.float().to(\"cuda\")\n",
    "\n",
    "#V_ref = np.load(\"/media/hdd01/sklee/tcn/L23_inputs/vdata_NMDA_ApN0.5_13_Adend_r0_o2_i2_g_b4.npy\").flatten()[:]\n",
    "\n",
    "V_ref = np.load(\"/media/hdd01/sklee/CA1_inputs/vdata_T10_Ne2000_gA0.6_tauA1_gN0.8_Ni200_gG0.1_gB0.1_Er0.5_Ir7.4_random_NR_rep16_stimseed1.npy\")[:,:10000]\n",
    "V_ref = V_ref.flatten()[:train_T+test_T]\n",
    "\n",
    "test_V_ref = V_ref[train_T:train_T+test_T]\n"
   ]
  },
  {
   "cell_type": "code",
   "execution_count": 6,
   "metadata": {
    "ExecuteTime": {
     "end_time": "2020-12-02T16:34:29.444641Z",
     "start_time": "2020-12-02T16:34:28.731374Z"
    }
   },
   "outputs": [],
   "source": [
    "#E_neural = np.load(\"/media/hdd01/sklee/tcn/L23_inputs/Espikes_NMDA_ApN0.5_13_Adend_r0_o2_i2_g_b4_neural.npy\")\n",
    "#I_neural = np.load(\"/media/hdd01/sklee/tcn/L23_inputs/Ispikes_NMDA_ApN0.5_13_Adend_r0_o2_i2_g_b4_neural.npy\")\n",
    "\n",
    "E_neural = np.load(\"/media/hdd01/sklee/CA1_inputs/Espikes_T10_Ne2000_gA0.6_tauA1_gN0.8_Ni200_gG0.1_gB0.1_Er0.5_Ir7.4_random_NR_neural.npy\")[:train_T+test_T]\n",
    "I_neural = np.load(\"/media/hdd01/sklee/CA1_inputs/Ispikes_T10_Ne2000_gA0.6_tauA1_gN0.8_Ni200_gG0.1_gB0.1_Er0.5_Ir7.4_random_NR_neural.npy\")[:train_T+test_T]\n",
    "\n",
    "test_S_E = E_neural[train_T:train_T+test_T]\n",
    "test_S_I = I_neural[train_T:train_T+test_T]\n",
    "\n",
    "test_S_E = torch.from_numpy(test_S_E).float().cuda()\n",
    "test_S_I = torch.from_numpy(test_S_I).float().cuda()\n",
    "\n",
    "test_V_final = model(test_S_E, test_S_I)\n",
    "\n",
    "test_V_final = test_V_final.cpu().detach().numpy()\n"
   ]
  },
  {
   "cell_type": "code",
   "execution_count": 7,
   "metadata": {
    "ExecuteTime": {
     "end_time": "2020-12-02T16:34:29.639037Z",
     "start_time": "2020-12-02T16:34:29.446080Z"
    }
   },
   "outputs": [
    {
     "name": "stdout",
     "output_type": "stream",
     "text": [
      "0.9331701779329955\n"
     ]
    },
    {
     "data": {
      "text/plain": [
       "<matplotlib.legend.Legend at 0x7fcd17d1c3d0>"
      ]
     },
     "execution_count": 7,
     "metadata": {},
     "output_type": "execute_result"
    },
    {
     "data": {
      "image/png": "[encoded data removed]",
      "text/plain": [
       "<Figure size 1008x288 with 1 Axes>"
      ]
     },
     "metadata": {
      "needs_background": "light"
     },
     "output_type": "display_data"
    }
   ],
   "source": [
    "plt.figure(figsize = (14,4))\n",
    "plt.plot(test_V_ref[5000:8000], label=\"Biophysical\", c=\"blue\", linewidth=1)\n",
    "plt.plot(test_V_final[5000:8000]-21,label=\"BaseTCN\", c=\"red\", linewidth=1)\n",
    "print(np.corrcoef(test_V_ref, test_V_final)[0][1])\n",
    "\n",
    "\n",
    "test_score = metrics.explained_variance_score(y_true=test_V_ref,\n",
    "                                                      y_pred=test_V_final,\n",
    "                                                      multioutput='uniform_average')\n",
    "\n",
    "plt.title(\"BaseTCN \\n Variance Explained: \" + str(round(test_score, 5)), fontsize = 16)\n",
    "#plt.xticks(np.arange(0,8001,1000),[0,1,2,3,4,5,6,7,8])\n",
    "#plt.xticks(np.arange(0,4001,1000),[0,1,2,3,4])\n",
    "plt.xlabel(\"Time (s)\")\n",
    "plt.ylabel(\"Sub-Threshold Voltage (mV)\")\n",
    "plt.legend()\n",
    "#plt.show()\n",
    "\n",
    "\n",
    "#plt.savefig(\"/media/hdd01/sklee/tcn/BaseTCN_L23_sub5_b4.png\", dpi=150, bbox_inches='tight')#"
   ]
  },
  {
   "cell_type": "code",
   "execution_count": 8,
   "metadata": {
    "ExecuteTime": {
     "end_time": "2020-12-02T16:34:49.770712Z",
     "start_time": "2020-12-02T16:34:49.766502Z"
    }
   },
   "outputs": [],
   "source": [
    "#np.save(\"/media/hdd01/sklee/tcn/basetcn_CA1_sub6_test.npy\", test_V_final)"
   ]
  },
  {
   "cell_type": "code",
   "execution_count": null,
   "metadata": {},
   "outputs": [],
   "source": []
  },
  {
   "cell_type": "code",
   "execution_count": 9,
   "metadata": {
    "ExecuteTime": {
     "end_time": "2020-12-02T16:34:52.175513Z",
     "start_time": "2020-12-02T16:34:52.131490Z"
    }
   },
   "outputs": [],
   "source": [
    "e_weights = model.conv1_e_weights\n",
    "e_bases = model.conv1_e_bases\n",
    "e_prod = torch.matmul(e_weights, e_bases).cpu().detach().numpy()\n",
    "\n",
    "i_weights = model.conv1_i_weights\n",
    "i_bases = model.conv1_i_bases\n",
    "i_prod = torch.matmul(i_weights, i_bases).cpu().detach().numpy()\n",
    "\n",
    "for i in range(e_prod.shape[0]):\n",
    "    e_prod[i] /= np.max(np.abs(e_prod[i]))\n",
    "    i_prod[i] /= np.max(np.abs(i_prod[i]))\n",
    "    e_prod[i] = np.flip(e_prod[i])\n",
    "    i_prod[i] = np.flip(i_prod[i])"
   ]
  },
  {
   "cell_type": "code",
   "execution_count": 10,
   "metadata": {
    "ExecuteTime": {
     "end_time": "2020-12-02T16:35:04.028551Z",
     "start_time": "2020-12-02T16:35:04.024896Z"
    }
   },
   "outputs": [],
   "source": [
    "#np.save(\"/media/hdd01/sklee/tcn/basetcn_CA1_sub6_e_kern.npy\", e_prod)\n",
    "#np.save(\"/media/hdd01/sklee/tcn/basetcn_CA1_sub6_i_kern.npy\", i_prod)"
   ]
  },
  {
   "cell_type": "code",
   "execution_count": null,
   "metadata": {},
   "outputs": [],
   "source": []
  }
 ],
 "metadata": {
  "kernelspec": {
   "display_name": "Python 3",
   "language": "python",
   "name": "python3"
  },
  "language_info": {
   "codemirror_mode": {
    "name": "ipython",
    "version": 3
   },
   "file_extension": ".py",
   "mimetype": "text/x-python",
   "name": "python",
   "nbconvert_exporter": "python",
   "pygments_lexer": "ipython3",
   "version": "3.8.3"
  }
 },
 "nbformat": 4,
 "nbformat_minor": 4
}
