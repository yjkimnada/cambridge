{
 "cells": [
  {
   "cell_type": "code",
   "execution_count": 5,
   "metadata": {
    "ExecuteTime": {
     "end_time": "2020-11-29T09:19:48.209974Z",
     "start_time": "2020-11-29T09:19:48.206935Z"
    }
   },
   "outputs": [],
   "source": [
    "import numpy as np\n",
    "import matplotlib.pyplot as plt\n",
    "from sklearn import metrics\n",
    "from tqdm import tnrange"
   ]
  },
  {
   "cell_type": "markdown",
   "metadata": {},
   "source": [
    "# Test Voltage"
   ]
  },
  {
   "cell_type": "code",
   "execution_count": 6,
   "metadata": {
    "ExecuteTime": {
     "end_time": "2020-11-29T09:19:48.533373Z",
     "start_time": "2020-11-29T09:19:48.525667Z"
    }
   },
   "outputs": [],
   "source": [
    "idx = np.arange(3000,9000)\n",
    "\n",
    "base_glm = np.load(\"/media/hdd01/sklee/cont_shglm/baseglmmono_L23_sub5_b4_test.npy\")[idx]\n",
    "hist_glm = np.load(\"/media/hdd01/sklee/cont_shglm/histglmmono_L23_sub5_b4_test.npy\")[idx]\n",
    "base_tcn = np.load(\"/media/hdd01/sklee/tcn/basetcn_L23_sub5_b4_test.npy\")[idx]\n",
    "hist_tcn = np.load(\"/media/hdd01/sklee/tcn/histtcn_L23_sub5_b4_test.npy\")[idx]\n",
    "ref = np.load(\"/media/hdd01/sklee/tcn/L23_inputs/vdata_NMDA_ApN0.5_13_Adend_r0_o2_i2_g_b4.npy\").flatten()[65000:-1][idx]"
   ]
  },
  {
   "cell_type": "code",
   "execution_count": 7,
   "metadata": {
    "ExecuteTime": {
     "end_time": "2020-11-29T09:19:48.716289Z",
     "start_time": "2020-11-29T09:19:48.709108Z"
    }
   },
   "outputs": [],
   "source": [
    "base_glm_score = metrics.explained_variance_score(y_true=ref,\n",
    "                                                      y_pred=base_glm,\n",
    "                                                      multioutput='uniform_average')\n",
    "hist_glm_score = metrics.explained_variance_score(y_true=ref,\n",
    "                                                      y_pred=hist_glm,\n",
    "                                                      multioutput='uniform_average')\n",
    "base_tcn_score = metrics.explained_variance_score(y_true=ref,\n",
    "                                                      y_pred=base_tcn,\n",
    "                                                      multioutput='uniform_average')\n",
    "hist_tcn_score = metrics.explained_variance_score(y_true=ref,\n",
    "                                                      y_pred=hist_tcn,\n",
    "                                                      multioutput='uniform_average')\n"
   ]
  },
  {
   "cell_type": "code",
   "execution_count": 8,
   "metadata": {
    "ExecuteTime": {
     "end_time": "2020-11-29T09:19:49.702615Z",
     "start_time": "2020-11-29T09:19:49.020759Z"
    }
   },
   "outputs": [],
   "source": [
    "fig, axs = plt.subplots(nrows=4, figsize = (20,10))\n",
    "\n",
    "axs[0].plot(ref, color=\"black\", linewidth=1)\n",
    "axs[0].plot(base_glm- 12, color=\"red\", linewidth=1)\n",
    "axs[0].set_title(\"BaseGLM: \"+str(round(base_glm_score, 5)), fontsize = 16)\n",
    "\n",
    "axs[1].plot(ref, color=\"black\", linewidth=1)\n",
    "axs[1].plot(hist_glm - 16, color=\"red\", linewidth=1)\n",
    "axs[1].set_title(\"HistGLM: \"+str(round(hist_glm_score, 5)), fontsize = 16)\n",
    "\n",
    "axs[2].plot(ref, color=\"black\", linewidth=1)\n",
    "axs[2].plot(base_tcn - 22, color=\"red\", linewidth=1)\n",
    "axs[2].set_title(\"BaseTCN: \"+str(round(base_tcn_score, 5)), fontsize = 16)\n",
    "\n",
    "axs[3].plot(ref, color=\"black\", linewidth=1)\n",
    "axs[3].plot(hist_tcn-55, color=\"red\", linewidth=1)\n",
    "axs[3].set_title(\"HistTCN: \"+str(round(hist_tcn_score, 5)), fontsize = 16)\n",
    "\n",
    "fig.tight_layout()\n",
    "#plt.savefig(\"/media/hdd01/sklee/L23_b4_test_comparison.png\", dpi=150, bbox_inches='tight')\n",
    "plt.close()"
   ]
  },
  {
   "cell_type": "markdown",
   "metadata": {},
   "source": [
    "# Moving error analysis"
   ]
  },
  {
   "cell_type": "code",
   "execution_count": 9,
   "metadata": {
    "ExecuteTime": {
     "end_time": "2020-11-29T09:19:57.903210Z",
     "start_time": "2020-11-29T09:19:57.895102Z"
    }
   },
   "outputs": [],
   "source": [
    "ref1 = np.load(\"/media/hdd01/sklee/tcn/L23_inputs/vdata_NMDA_ApN0.5_13_Adend_r0_o2_i2_g_b4.npy\").flatten()[65000:-1]\n",
    "ref2 = np.load(\"/media/hdd01/sklee/tcn/L23_inputs/vdata_NMDA_ApN0.5_13_noNA_r0_o2_i2_g_b0.npy\").flatten()[65000:-1]\n",
    "ref_diff = ref1-ref2\n",
    "\n",
    "base_glm = np.load(\"/media/hdd01/sklee/cont_shglm/baseglmmono_L23_sub5_b4_test.npy\")\n",
    "hist_glm = np.load(\"/media/hdd01/sklee/cont_shglm/histglmmono_L23_sub5_b4_test.npy\")\n",
    "base_tcn = np.load(\"/media/hdd01/sklee/tcn/basetcn_L23_sub5_b4_test.npy\")\n",
    "hist_tcn = np.load(\"/media/hdd01/sklee/tcn/histtcn_L23_sub5_b4_test.npy\")"
   ]
  },
  {
   "cell_type": "code",
   "execution_count": 10,
   "metadata": {
    "ExecuteTime": {
     "end_time": "2020-11-29T09:20:09.581709Z",
     "start_time": "2020-11-29T09:19:58.322563Z"
    }
   },
   "outputs": [
    {
     "name": "stderr",
     "output_type": "stream",
     "text": [
      "<ipython-input-10-4e8b1e5a3c00>:4: TqdmDeprecationWarning: Please use `tqdm.notebook.trange` instead of `tqdm.tnrange`\n",
      "  for i in tnrange(ref_diff_mean.shape[0]):\n"
     ]
    },
    {
     "data": {
      "application/vnd.jupyter.widget-view+json": {
       "model_id": "3f5e38141a0e4eadb596e0465e653e76",
       "version_major": 2,
       "version_minor": 0
      },
      "text/plain": [
       "HBox(children=(FloatProgress(value=0.0, max=14701.0), HTML(value='')))"
      ]
     },
     "metadata": {},
     "output_type": "display_data"
    },
    {
     "name": "stdout",
     "output_type": "stream",
     "text": [
      "\n"
     ]
    },
    {
     "name": "stderr",
     "output_type": "stream",
     "text": [
      "<ipython-input-10-4e8b1e5a3c00>:8: TqdmDeprecationWarning: Please use `tqdm.notebook.trange` instead of `tqdm.tnrange`\n",
      "  for i in tnrange(mov_avg.shape[1]):\n"
     ]
    },
    {
     "data": {
      "application/vnd.jupyter.widget-view+json": {
       "model_id": "38af57ac28e54820adcdc771796ad9f0",
       "version_major": 2,
       "version_minor": 0
      },
      "text/plain": [
       "HBox(children=(FloatProgress(value=0.0, max=14701.0), HTML(value='')))"
      ]
     },
     "metadata": {},
     "output_type": "display_data"
    },
    {
     "name": "stdout",
     "output_type": "stream",
     "text": [
      "\n"
     ]
    }
   ],
   "source": [
    "window = 300\n",
    "\n",
    "ref_diff_mean = np.empty((ref1.shape[0] - window + 1))\n",
    "for i in tnrange(ref_diff_mean.shape[0]):\n",
    "    ref_diff_mean[i] = np.mean(ref_diff[i:i+window])\n",
    "\n",
    "mov_avg = np.empty((5,ref1.shape[0] - window + 1))\n",
    "for i in tnrange(mov_avg.shape[1]):\n",
    "    ref_wind = ref1[i:i+window]\n",
    "    mov_avg[0,i] = metrics.explained_variance_score(y_true=ref_wind,\n",
    "                                                      y_pred=base_glm[i:i+window],\n",
    "                                                      multioutput='uniform_average')\n",
    "    mov_avg[1,i] = metrics.explained_variance_score(y_true=ref_wind,\n",
    "                                                      y_pred=hist_glm[i:i+window],\n",
    "                                                      multioutput='uniform_average')\n",
    "    mov_avg[2,i] = metrics.explained_variance_score(y_true=ref_wind,\n",
    "                                                      y_pred=base_tcn[i:i+window],\n",
    "                                                      multioutput='uniform_average')\n",
    "    mov_avg[3,i] = metrics.explained_variance_score(y_true=ref_wind,\n",
    "                                                      y_pred=hist_tcn[i:i+window],\n",
    "                                                      multioutput='uniform_average')"
   ]
  },
  {
   "cell_type": "code",
   "execution_count": 11,
   "metadata": {
    "ExecuteTime": {
     "end_time": "2020-11-29T09:20:11.665344Z",
     "start_time": "2020-11-29T09:20:10.835905Z"
    }
   },
   "outputs": [],
   "source": [
    "fig, axs = plt.subplots(nrows=3, figsize = (30,12))\n",
    "idx = np.arange(1000,14000)\n",
    "\n",
    "axs[0].plot(ref_diff_mean[idx], linewidth=2, color=\"black\")\n",
    "axs[0].set_title(\"Differential contribution of Na+ spikes (window = 300ms)\", fontsize = 21)\n",
    "\n",
    "axs[1].plot(mov_avg[0][idx], linewidth=1, label=\"BaseGLM\", color=\"blue\")\n",
    "axs[1].plot(mov_avg[1][idx], linewidth=1, label=\"HistGLM\", color=\"red\")\n",
    "axs[1].plot(mov_avg[2][idx], linewidth=1, label=\"BaseTCN\", color=\"green\")\n",
    "axs[1].plot(mov_avg[3][idx], linewidth=1, label=\"HistTCN\", color=\"purple\")\n",
    "axs[1].legend()\n",
    "axs[1].set_title(\"Variance explained vs. time (window = 300ms)\", fontsize = 21)\n",
    "\n",
    "axs[2].plot(mov_avg[1][idx] - mov_avg[0][idx], linewidth=1, label=\"HistGLM v. BaseGLM\", color=\"red\")\n",
    "axs[2].plot(mov_avg[2][idx] - mov_avg[0][idx], linewidth=1, label=\"BaseTCN v. BaseGLM\", color=\"green\")\n",
    "axs[2].plot(mov_avg[3][idx] - mov_avg[0][idx], linewidth=1, label=\"HistTCN v. BaseGLM\", color=\"purple\")\n",
    "\n",
    "\n",
    "axs[2].legend()\n",
    "axs[2].hlines(y=0, xmin=0, xmax=idx.shape[0], linewidth=1, linestyle=\"--\")\n",
    "axs[2].set_title(\"Variance explained improvement vs. BaseGLM (window = 300ms)\", fontsize = 21)\n",
    "\n",
    "fig.tight_layout()\n",
    "#plt.savefig(\"/media/hdd01/sklee/L23_b4_var_exp_comparison.png\", dpi=150, bbox_inches='tight')\n",
    "plt.close()"
   ]
  },
  {
   "cell_type": "code",
   "execution_count": 12,
   "metadata": {
    "ExecuteTime": {
     "end_time": "2020-11-29T09:20:21.557519Z",
     "start_time": "2020-11-29T09:20:21.547964Z"
    }
   },
   "outputs": [
    {
     "name": "stderr",
     "output_type": "stream",
     "text": [
      "/home/sklee/anaconda3/lib/python3.8/site-packages/numpy/lib/function_base.py:2534: RuntimeWarning: invalid value encountered in true_divide\n",
      "  c /= stddev[:, None]\n",
      "/home/sklee/anaconda3/lib/python3.8/site-packages/numpy/lib/function_base.py:2535: RuntimeWarning: invalid value encountered in true_divide\n",
      "  c /= stddev[None, :]\n"
     ]
    }
   ],
   "source": [
    "comp_array = np.empty((4,4))\n",
    "\n",
    "for ref in range(4):\n",
    "    for comp in range(4):\n",
    "        diff = mov_avg[comp] - mov_avg[ref]\n",
    "        comp_array[ref, comp] = np.corrcoef(diff, mov_avg[ref])[0][1]"
   ]
  },
  {
   "cell_type": "code",
   "execution_count": 13,
   "metadata": {
    "ExecuteTime": {
     "end_time": "2020-11-29T09:20:28.693312Z",
     "start_time": "2020-11-29T09:20:26.877063Z"
    }
   },
   "outputs": [],
   "source": [
    "fig, axs = plt.subplots(ncols=4, nrows=4, figsize = (16,12))\n",
    "for ref in range(4):\n",
    "    for comp in range(4):\n",
    "        if ref != comp:\n",
    "            diff = mov_avg[comp] - mov_avg[ref]\n",
    "            axs[ref, comp].scatter(mov_avg[ref], diff, s=0.1,color=\"gray\")\n",
    "            axs[ref, comp].hlines(y=0, xmin=np.min(mov_avg[ref]), xmax=np.max(mov_avg[ref]),\n",
    "                                 linewidth=1, linestyle=\"--\")\n",
    "            axs[ref, comp].set_title(\"R^2 Corr: \"+ str(round(comp_array[ref,comp],4)))\n",
    "fig.tight_layout()\n",
    "\n",
    "#fig.suptitle(\"Difference in Moving Avg. vs. Reference Moving Avg.\", fontsize = 16)\n",
    "\n",
    "axs[0,0].set_ylabel(\"Reference: BaseGLM\", fontsize=14)\n",
    "axs[1,0].set_ylabel(\"Reference: HistGLM\", fontsize=14)\n",
    "axs[2,0].set_ylabel(\"Reference: BaseTCN\", fontsize=14)\n",
    "axs[3,0].set_ylabel(\"Reference: HistTCN\", fontsize=14)\n",
    "\n",
    "axs[-1,0].set_xlabel(\"Comparison: BaseGLM\", fontsize=14)\n",
    "axs[-1,1].set_xlabel(\"Comparison: HistGLM\", fontsize=14)\n",
    "axs[-1,2].set_xlabel(\"Comparison: BaseTCN\", fontsize=14)\n",
    "axs[-1,3].set_xlabel(\"Comparison: HistTCN\", fontsize=14)\n",
    "\n",
    "#plt.savefig(\"/media/hdd01/sklee/L23_b4_var_exp_diff_comparison.png\", dpi=150, bbox_inches='tight')\n",
    "plt.close()"
   ]
  },
  {
   "cell_type": "markdown",
   "metadata": {},
   "source": [
    "# Filter Analysis"
   ]
  },
  {
   "cell_type": "code",
   "execution_count": 14,
   "metadata": {
    "ExecuteTime": {
     "end_time": "2020-11-29T09:20:32.225409Z",
     "start_time": "2020-11-29T09:20:32.215886Z"
    }
   },
   "outputs": [],
   "source": [
    "base_glm_e = np.load(\"/media/hdd01/sklee/cont_shglm/baseglmmono_L23_sub5_b4_e_kern.npy\")\n",
    "base_glm_i = np.load(\"/media/hdd01/sklee/cont_shglm/baseglmmono_L23_sub5_b4_i_kern.npy\")\n",
    "\n",
    "hist_glm_e = np.load(\"/media/hdd01/sklee/cont_shglm/histglmmono_L23_sub5_b4_e_kern.npy\")\n",
    "hist_glm_i = np.load(\"/media/hdd01/sklee/cont_shglm/histglmmono_L23_sub5_b4_i_kern.npy\")\n",
    "hist_glm_hist = np.load(\"/media/hdd01/sklee/cont_shglm/histglmmono_L23_sub5_b4_hist_kern.npy\")\n",
    "\n",
    "base_tcn_e = np.load(\"/media/hdd01/sklee/tcn/basetcn_L23_sub5_b4_e_kern.npy\")\n",
    "base_tcn_i = np.load(\"/media/hdd01/sklee/tcn/basetcn_L23_sub5_b4_i_kern.npy\")\n",
    "\n",
    "hist_tcn_e = np.load(\"/media/hdd01/sklee/tcn/histtcn_L23_sub5_b4_e_kern.npy\")\n",
    "hist_tcn_i = np.load(\"/media/hdd01/sklee/tcn/histtcn_L23_sub5_b4_i_kern.npy\")\n",
    "hist_tcn_hist = np.load(\"/media/hdd01/sklee/tcn/histtcn_L23_sub5_b4_hist_kern.npy\")"
   ]
  },
  {
   "cell_type": "code",
   "execution_count": 15,
   "metadata": {
    "ExecuteTime": {
     "end_time": "2020-11-29T09:20:38.436343Z",
     "start_time": "2020-11-29T09:20:37.708233Z"
    }
   },
   "outputs": [],
   "source": [
    "fig, axs = plt.subplots(ncols=5, figsize = (24,5))\n",
    "for i in range(5):\n",
    "    if i != 0:\n",
    "        axs[i].plot(base_glm_e[i], label=\"BaseGLM: \"+str(np.argmax(np.abs(base_glm_e[i])))+\"ms\")\n",
    "        axs[i].plot(hist_glm_e[i], label=\"HistGLM: \"+str(np.argmax(np.abs(hist_glm_e[i])))+\"ms\")\n",
    "        axs[i].plot(base_tcn_e[i], label=\"BaseTCN: \"+str(np.argmax(np.abs(base_tcn_e[i])))+\"ms\")\n",
    "        axs[i].plot(hist_tcn_e[i], label=\"HistTCN: \"+str(np.argmax(np.abs(hist_tcn_e[i])))+\"ms\")\n",
    "        axs[i].legend()\n",
    "        axs[i].set_title(\"Subunit \"+str(i)+\" E Kernel\", fontsize = 16)\n",
    "    \n",
    "fig.tight_layout()\n",
    "#plt.savefig(\"/media/hdd01/sklee/L23_b4_e_kern_comparison.png\", dpi=150, bbox_inches='tight')\n",
    "plt.close()"
   ]
  },
  {
   "cell_type": "code",
   "execution_count": 16,
   "metadata": {
    "ExecuteTime": {
     "end_time": "2020-11-29T09:20:43.071087Z",
     "start_time": "2020-11-29T09:20:42.380041Z"
    }
   },
   "outputs": [],
   "source": [
    "fig, axs = plt.subplots(ncols=5, figsize = (24,5))\n",
    "for i in range(5):\n",
    "    axs[i].plot(base_glm_i[i], label=\"BaseGLM: \"+str(np.argmax(np.abs(base_glm_i[i])))+\"ms\")\n",
    "    axs[i].plot(hist_glm_i[i], label=\"HistGLM: \"+str(np.argmax(np.abs(hist_glm_i[i])))+\"ms\")\n",
    "    axs[i].plot(base_tcn_i[i], label=\"BaseTCN: \"+str(np.argmax(np.abs(base_tcn_i[i])))+\"ms\")\n",
    "    axs[i].plot(hist_tcn_i[i], label=\"HistTCN: \"+str(np.argmax(np.abs(hist_tcn_i[i])))+\"ms\")\n",
    "    axs[i].legend()\n",
    "    axs[i].set_title(\"Subunit \"+str(i)+\" I Kernel\", fontsize = 16)\n",
    "    \n",
    "fig.tight_layout()\n",
    "#plt.savefig(\"/media/hdd01/sklee/L23_b4_i_kern_comparison.png\", dpi=150, bbox_inches='tight')\n",
    "plt.close()"
   ]
  },
  {
   "cell_type": "code",
   "execution_count": 17,
   "metadata": {
    "ExecuteTime": {
     "end_time": "2020-11-29T09:20:46.481447Z",
     "start_time": "2020-11-29T09:20:45.804265Z"
    }
   },
   "outputs": [],
   "source": [
    "fig, axs = plt.subplots(ncols=5, figsize = (24,5))\n",
    "for i in range(5):\n",
    "    axs[i].plot(hist_glm_hist[i], label=\"HistGLM: \"+str(np.argmax(np.abs(hist_glm_hist[i])))+\"ms\")\n",
    "    axs[i].plot(hist_tcn_hist[i], label=\"HistTCN: \"+str(np.argmax(np.abs(hist_tcn_hist[i])))+\"ms\")\n",
    "    axs[i].hlines(y=0, xmin=0, xmax=100)\n",
    "    axs[i].legend()\n",
    "    axs[i].set_title(\"Subunit \"+str(i)+\" History Kernel\", fontsize = 16)\n",
    "    \n",
    "fig.tight_layout()\n",
    "#plt.savefig(\"/media/hdd01/sklee/L23_b4_hist_kern_comparison.png\", dpi=150, bbox_inches='tight')\n",
    "plt.close()"
   ]
  },
  {
   "cell_type": "code",
   "execution_count": null,
   "metadata": {},
   "outputs": [],
   "source": []
  },
  {
   "cell_type": "code",
   "execution_count": null,
   "metadata": {},
   "outputs": [],
   "source": []
  }
 ],
 "metadata": {
  "kernelspec": {
   "display_name": "Python 3",
   "language": "python",
   "name": "python3"
  },
  "language_info": {
   "codemirror_mode": {
    "name": "ipython",
    "version": 3
   },
   "file_extension": ".py",
   "mimetype": "text/x-python",
   "name": "python",
   "nbconvert_exporter": "python",
   "pygments_lexer": "ipython3",
   "version": "3.8.3"
  }
 },
 "nbformat": 4,
 "nbformat_minor": 4
}
