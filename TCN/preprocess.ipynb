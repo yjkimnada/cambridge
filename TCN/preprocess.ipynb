{
 "cells": [
  {
   "cell_type": "code",
   "execution_count": 1,
   "metadata": {
    "ExecuteTime": {
     "end_time": "2020-11-30T15:56:26.048438Z",
     "start_time": "2020-11-30T15:56:25.865463Z"
    }
   },
   "outputs": [],
   "source": [
    "import numpy as np\n",
    "import matplotlib.pyplot as plt\n",
    "from tqdm import tnrange\n"
   ]
  },
  {
   "cell_type": "markdown",
   "metadata": {},
   "source": [
    "# Make Neural"
   ]
  },
  {
   "cell_type": "code",
   "execution_count": 2,
   "metadata": {
    "ExecuteTime": {
     "end_time": "2020-11-30T15:56:26.250199Z",
     "start_time": "2020-11-30T15:56:26.208768Z"
    }
   },
   "outputs": [
    {
     "name": "stdout",
     "output_type": "stream",
     "text": [
      "[     0  26161  52594  78865 104711 130845 157142 183531 209354 235636\n",
      " 261372 287535 313690 339767 365814 391961 418138]\n",
      "(418138, 3)\n",
      "(418138, 3)\n",
      "(181496, 3)\n",
      "(236642, 3)\n"
     ]
    }
   ],
   "source": [
    "raw_train = np.load(\"/media/hdd01/sklee/CA1_inputs/stim_T10_Ne2000_gA0.6_tauA1_gN0.8_Ni200_gG0.1_gB0.1_Er0.5_Ir7.4_random_NR_rep16_stimseed1.npy\")\n",
    "raw_train = raw_train[raw_train[:,2] <= 10000]\n",
    "\n",
    "\n",
    "rep = 16\n",
    "if rep > 0:\n",
    "    pick_idx = np.arange(1,(rep-1)*2,2)\n",
    "    start_idx = np.zeros((rep+1))\n",
    "    raw_start_idx = np.where(np.diff(raw_train[:,2]) <= -9000)[0][pick_idx] + 1\n",
    "    start_idx[1:-1] += raw_start_idx\n",
    "    start_idx[-1] = raw_train.shape[0]\n",
    "    start_idx = start_idx.astype(int)\n",
    "    print(start_idx)\n",
    "    for i in range(rep):\n",
    "        raw_train[start_idx[i]:start_idx[i+1],2] += i*10000\n",
    "\n",
    "print(raw_train.shape)\n",
    "raw_train = np.delete(raw_train, np.where(np.isnan(raw_train) == True)[0], 0)\n",
    "print(raw_train.shape)\n",
    "E_train = raw_train[np.where(raw_train[:,0]>0)]\n",
    "I_train = raw_train[np.where(raw_train[:,0]<0)]\n",
    "print(E_train.shape)\n",
    "print(I_train.shape)"
   ]
  },
  {
   "cell_type": "code",
   "execution_count": 3,
   "metadata": {
    "ExecuteTime": {
     "end_time": "2020-11-30T15:56:27.994531Z",
     "start_time": "2020-11-30T15:56:26.426948Z"
    }
   },
   "outputs": [
    {
     "name": "stdout",
     "output_type": "stream",
     "text": [
      "2000\n",
      "200\n",
      "(160002,)\n",
      "[     0      1      2 ... 159999 160000 160001]\n",
      "181496\n",
      "236642\n",
      "(418138, 3)\n"
     ]
    },
    {
     "name": "stderr",
     "output_type": "stream",
     "text": [
      "<ipython-input-3-837a82b28ea2>:22: TqdmDeprecationWarning: Please use `tqdm.notebook.trange` instead of `tqdm.tnrange`\n",
      "  for i in tnrange(E_counts.shape[0]):\n"
     ]
    },
    {
     "data": {
      "application/vnd.jupyter.widget-view+json": {
       "model_id": "6cec42bb8cc74e2cbe364f0e221e8810",
       "version_major": 2,
       "version_minor": 0
      },
      "text/plain": [
       "HBox(children=(FloatProgress(value=0.0, max=160001.0), HTML(value='')))"
      ]
     },
     "metadata": {},
     "output_type": "display_data"
    },
    {
     "name": "stdout",
     "output_type": "stream",
     "text": [
      "\n"
     ]
    },
    {
     "name": "stderr",
     "output_type": "stream",
     "text": [
      "<ipython-input-3-837a82b28ea2>:30: TqdmDeprecationWarning: Please use `tqdm.notebook.trange` instead of `tqdm.tnrange`\n",
      "  for i in tnrange(I_counts.shape[0]):\n"
     ]
    },
    {
     "data": {
      "application/vnd.jupyter.widget-view+json": {
       "model_id": "d7669bd9234c4bd98ce60e45d99718af",
       "version_major": 2,
       "version_minor": 0
      },
      "text/plain": [
       "HBox(children=(FloatProgress(value=0.0, max=160001.0), HTML(value='')))"
      ]
     },
     "metadata": {},
     "output_type": "display_data"
    },
    {
     "name": "stdout",
     "output_type": "stream",
     "text": [
      "\n",
      "(160001, 2000)\n",
      "(160001, 200)\n",
      "181496.0\n",
      "236642.0\n",
      "0.0005671714551784052\n",
      "0.007395016281148243\n",
      "2.0\n",
      "2.0\n"
     ]
    }
   ],
   "source": [
    "bin_size = 1 # in milliseconds\n",
    "E_no = int(np.max(raw_train[:,1][np.where(raw_train[:,0] > 0)])) + 1\n",
    "I_no = int(np.max(raw_train[:,1][np.where(raw_train[:,0] < 0)])) + 1\n",
    "bin_no = int(int(np.max(raw_train[:,2]) + 1) / bin_size)\n",
    "E_neural = np.zeros((bin_no, E_no))\n",
    "I_neural = np.zeros((bin_no, I_no))\n",
    "\n",
    "print(E_no)\n",
    "print(I_no)\n",
    "\n",
    "bin_edges = np.arange(0, bin_no*bin_size + bin_size, bin_size)\n",
    "print(bin_edges.shape)\n",
    "print(bin_edges)\n",
    "\n",
    "E_counts, E_edges = np.histogram(E_train[:,2], bin_edges)\n",
    "I_counts, I_edges = np.histogram(I_train[:,2], bin_edges)\n",
    "print(np.sum(E_counts))\n",
    "print(np.sum(I_counts))\n",
    "print(raw_train.shape)\n",
    "\n",
    "E_count = 0\n",
    "for i in tnrange(E_counts.shape[0]):\n",
    "    bin_count = E_counts[i]\n",
    "    for j in range(bin_count):\n",
    "        syn = int(E_train[E_count,1])\n",
    "        E_neural[i, syn] += 1\n",
    "        E_count += 1\n",
    "\n",
    "I_count = 0\n",
    "for i in tnrange(I_counts.shape[0]):\n",
    "    bin_count = I_counts[i]\n",
    "    for j in range(bin_count):\n",
    "        syn = int(I_train[I_count,1])\n",
    "        I_neural[i, syn] += 1\n",
    "        I_count += 1\n",
    "        \n",
    "print(E_neural.shape)\n",
    "print(I_neural.shape)\n",
    "print(np.sum(E_neural))\n",
    "print(np.sum(I_neural))\n",
    "print(np.sum(E_neural)/E_neural.size)\n",
    "print(np.sum(I_neural)/I_neural.size)\n",
    "print(np.max(E_neural))\n",
    "print(np.max(I_neural))"
   ]
  },
  {
   "cell_type": "code",
   "execution_count": 4,
   "metadata": {
    "ExecuteTime": {
     "end_time": "2020-11-30T15:41:28.188039Z",
     "start_time": "2020-11-30T15:41:13.839914Z"
    }
   },
   "outputs": [],
   "source": [
    "np.save(\"/media/hdd01/sklee/CA1_inputs/Espikes_T10_Ne2000_gA0.6_tauA1_gN0.8_Ni200_gG0.1_gB0.1_Er0.5_Ir7.4_random_NR_neural.npy\", E_neural)\n",
    "np.save(\"/media/hdd01/sklee/CA1_inputs/Ispikes_T10_Ne2000_gA0.6_tauA1_gN0.8_Ni200_gG0.1_gB0.1_Er0.5_Ir7.4_random_NR_neural.npy\", I_neural)"
   ]
  },
  {
   "cell_type": "markdown",
   "metadata": {},
   "source": [
    "# Make CA1 Neural"
   ]
  },
  {
   "cell_type": "code",
   "execution_count": null,
   "metadata": {},
   "outputs": [],
   "source": []
  },
  {
   "cell_type": "code",
   "execution_count": null,
   "metadata": {},
   "outputs": [],
   "source": []
  }
 ],
 "metadata": {
  "kernelspec": {
   "display_name": "Python 3",
   "language": "python",
   "name": "python3"
  },
  "language_info": {
   "codemirror_mode": {
    "name": "ipython",
    "version": 3
   },
   "file_extension": ".py",
   "mimetype": "text/x-python",
   "name": "python",
   "nbconvert_exporter": "python",
   "pygments_lexer": "ipython3",
   "version": "3.8.3"
  }
 },
 "nbformat": 4,
 "nbformat_minor": 4
}
