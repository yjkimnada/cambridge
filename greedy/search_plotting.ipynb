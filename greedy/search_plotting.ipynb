{
 "cells": [
  {
   "cell_type": "code",
   "execution_count": 48,
   "metadata": {
    "ExecuteTime": {
     "end_time": "2020-12-08T22:11:22.358329Z",
     "start_time": "2020-12-08T22:11:22.355260Z"
    }
   },
   "outputs": [],
   "source": [
    "import numpy as np\n",
    "import torch\n",
    "import torch.nn as nn\n",
    "import matplotlib.pyplot as plt\n",
    "from greedy_base_hGLM import Greedy_Base_hGLM"
   ]
  },
  {
   "cell_type": "code",
   "execution_count": 49,
   "metadata": {
    "ExecuteTime": {
     "end_time": "2020-12-08T22:11:22.564223Z",
     "start_time": "2020-12-08T22:11:22.514113Z"
    }
   },
   "outputs": [],
   "source": [
    "def make_C_den(raw):\n",
    "    sub_no = raw.shape[0] + 1\n",
    "    C_den = torch.zeros(sub_no, sub_no)\n",
    "    for i in range(sub_no - 1):\n",
    "        C_den[raw[i], i+1] = 1\n",
    "    return C_den\n",
    "\n",
    "cell_type = \"CA1\"\n",
    "T_no = 100\n",
    "\n",
    "if cell_type == \"CA1\":\n",
    "    C_den_raw = torch.tensor([0,1,0,0,4,0,2,4,7])[:]\n",
    "    E_no = 2000\n",
    "    I_no = 200\n",
    "    C_den = make_C_den(C_den_raw)\n",
    "    model = Greedy_Base_hGLM(C_den.cuda(), E_no, I_no, T_no)\n",
    "    model.load_state_dict(torch.load(\"/media/hdd01/sklee/greedy/greedybaseGLM_CA1_sub10-7.pt\"))\n",
    "    scores = np.asarray([0.7740,0.8197,0.8389,0.8398,0.8513,0.8539,0.8554,0.8719,0.8714])\n",
    "elif cell_type == \"L23\":\n",
    "    C_den_raw =  torch.tensor([0,1,1,0,0,0,0,1,1])[:3]\n",
    "    E_no = 629\n",
    "    I_no = 120\n",
    "    C_den = make_C_den(C_den_raw)\n",
    "    model = Greedy_Base_hGLM(C_den.cuda(), E_no, I_no, T_no)\n",
    "    model.load_state_dict(torch.load(\"/media/hdd01/sklee/greedy/greedybaseGLM_L23_sub4-0.pt\"))\n",
    "    scores = np.asarray([0.8863,0.8896,0.9104,0.9139,0.9146,0.9108,0.9137,0.9156,0.9148])\n"
   ]
  },
  {
   "cell_type": "code",
   "execution_count": 38,
   "metadata": {
    "ExecuteTime": {
     "end_time": "2020-12-08T22:08:39.954701Z",
     "start_time": "2020-12-08T22:08:39.931212Z"
    }
   },
   "outputs": [],
   "source": [
    "e_raw = model.C_syn_e_logit\n",
    "e_clean = torch.zeros_like(e_raw)\n",
    "\n",
    "for i in range(e_raw.shape[1]):\n",
    "    idx = torch.argmax(e_raw[:,i])\n",
    "    e_clean[idx,i] = 1\n",
    "    \n",
    "i_raw = model.C_syn_i_logit\n",
    "i_clean = torch.zeros_like(i_raw)\n",
    "\n",
    "for i in range(i_raw.shape[1]):\n",
    "    idx = torch.argmax(i_raw[:,i])\n",
    "    i_clean[idx,i] = 1\n",
    "    "
   ]
  },
  {
   "cell_type": "code",
   "execution_count": 39,
   "metadata": {
    "ExecuteTime": {
     "end_time": "2020-12-08T22:08:40.339050Z",
     "start_time": "2020-12-08T22:08:40.310083Z"
    }
   },
   "outputs": [],
   "source": [
    "e_plot = torch.zeros(e_clean.shape[1])\n",
    "for i in range(e_clean.shape[1]):\n",
    "    e_plot[i] = torch.where(e_clean[:,i] == 1)[0]\n",
    "    \n",
    "i_plot = torch.zeros(i_clean.shape[1])\n",
    "for i in range(i_clean.shape[1]):\n",
    "    i_plot[i] = torch.where(i_clean[:,i] == 1)[0]"
   ]
  },
  {
   "cell_type": "code",
   "execution_count": 41,
   "metadata": {
    "ExecuteTime": {
     "end_time": "2020-12-08T22:09:01.000151Z",
     "start_time": "2020-12-08T22:09:00.731447Z"
    }
   },
   "outputs": [],
   "source": [
    "fig, axs = plt.subplots(nrows=2, figsize=(15,10))\n",
    "axs[0].scatter(np.arange(E_no), e_plot, s=0.5, color=\"blue\")\n",
    "axs[1].scatter(np.arange(I_no), i_plot, s=0.5, color=\"red\")\n",
    "\n",
    "axs[0].set_ylabel(\"Subunit ID\")\n",
    "axs[0].set_xlabel(\"Synapse ID\")\n",
    "axs[0].set_title(cell_type+\" Excitatory Subunit-Synapse Pairing\", fontsize=13)\n",
    "axs[1].set_ylabel(\"Subunit ID\")\n",
    "axs[1].set_xlabel(\"Synapse ID\")\n",
    "axs[1].set_title(cell_type+\" Inhibitory Subunit-Synapse Pairing\", fontsize=13)\n",
    "\n",
    "#plt.savefig(\"/media/hdd01/sklee/greedy/L23_sub4_clusters.png\", dpi=150, bbox_inches='tight')\n",
    "#plt.close()"
   ]
  },
  {
   "cell_type": "code",
   "execution_count": null,
   "metadata": {},
   "outputs": [],
   "source": []
  },
  {
   "cell_type": "code",
   "execution_count": 52,
   "metadata": {
    "ExecuteTime": {
     "end_time": "2020-12-08T22:11:41.451728Z",
     "start_time": "2020-12-08T22:11:41.303439Z"
    }
   },
   "outputs": [],
   "source": [
    "plt.figure(figsize = (10,8) )\n",
    "plt.plot(np.arange(2,2+scores.shape[0]),scores)\n",
    "plt.title(cell_type+\" Variance Explained Scores\", fontsize=14)\n",
    "plt.ylabel(\"Variance Explained\")\n",
    "plt.xlabel(\"Subunit Number\")\n",
    "\n",
    "#plt.savefig(\"/media/hdd01/sklee/greedy/CA1_search_scores.png\", dpi=150, bbox_inches='tight')\n",
    "#plt.close()"
   ]
  },
  {
   "cell_type": "code",
   "execution_count": null,
   "metadata": {},
   "outputs": [],
   "source": []
  }
 ],
 "metadata": {
  "kernelspec": {
   "display_name": "Python 3",
   "language": "python",
   "name": "python3"
  },
  "language_info": {
   "codemirror_mode": {
    "name": "ipython",
    "version": 3
   },
   "file_extension": ".py",
   "mimetype": "text/x-python",
   "name": "python",
   "nbconvert_exporter": "python",
   "pygments_lexer": "ipython3",
   "version": "3.8.3"
  }
 },
 "nbformat": 4,
 "nbformat_minor": 4
}
