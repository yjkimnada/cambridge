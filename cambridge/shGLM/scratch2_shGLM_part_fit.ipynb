{
 "cells": [
  {
   "cell_type": "code",
   "execution_count": 3,
   "metadata": {
    "ExecuteTime": {
     "end_time": "2020-10-18T08:55:52.458474Z",
     "start_time": "2020-10-18T08:55:52.454539Z"
    }
   },
   "outputs": [],
   "source": [
    "import numpy as np\n",
    "import torch\n",
    "import torch.nn as nn\n",
    "import matplotlib.pyplot as plt\n",
    "from tqdm import tnrange\n",
    "import torch.optim as optim\n",
    "import torch.nn.functional as F\n",
    "from shGLM_class import shGLM\n",
    "from sklearn import metrics"
   ]
  },
  {
   "cell_type": "markdown",
   "metadata": {},
   "source": [
    "# Hyperparams"
   ]
  },
  {
   "cell_type": "code",
   "execution_count": 2,
   "metadata": {
    "ExecuteTime": {
     "end_time": "2020-10-17T21:49:36.642524Z",
     "start_time": "2020-10-17T21:49:36.638611Z"
    }
   },
   "outputs": [],
   "source": [
    "train_T = 20000\n",
    "test_T = 8000\n",
    "W_size = 251\n",
    "C_den = torch.tensor([0,1,1,1,1])\n",
    "sub_no = C_den.shape[0]\n",
    "\n",
    "batch_size = 2094\n",
    "\n",
    "#syn_basis_tau = torch.logspace(0,np.log(25),steps=5,base=np.exp(1))\n",
    "#hist_basis_tau = torch.logspace(0,np.log(45),steps=5,base=np.exp(1))\n",
    "syn_basis_tau = torch.tensor([5])\n",
    "#hist_basis_tau = torch.logspace(1,np.log(10),steps=3,base=np.exp(1))\n",
    "hist_basis_tau = torch.tensor([10])\n",
    "spike_status = False\n",
    "hist_T = 251"
   ]
  },
  {
   "cell_type": "code",
   "execution_count": 3,
   "metadata": {
    "ExecuteTime": {
     "end_time": "2020-10-17T21:49:36.659835Z",
     "start_time": "2020-10-17T21:49:36.643955Z"
    }
   },
   "outputs": [
    {
     "name": "stdout",
     "output_type": "stream",
     "text": [
      "tensor(749)\n"
     ]
    }
   ],
   "source": [
    "Ensyn = torch.tensor([0, 106, 213, 211, 99])\n",
    "Insyn = torch.tensor([1, 22, 36, 42, 19])\n",
    "N = torch.sum(Ensyn) + torch.sum(Insyn)\n",
    "print(N)\n",
    "\n",
    "C_syn = torch.zeros(sub_no, N)\n",
    "count = 0\n",
    "for m in range(sub_no):\n",
    "    for e in range(Ensyn[m]):\n",
    "        C_syn[m,count] = 1\n",
    "        count += 1\n",
    "        \n",
    "for m in range(sub_no):\n",
    "    for i in range(Insyn[m]):\n",
    "        C_syn[m,count] = -1\n",
    "        count += 1"
   ]
  },
  {
   "cell_type": "markdown",
   "metadata": {
    "heading_collapsed": true
   },
   "source": [
    "# Adjust W and C"
   ]
  },
  {
   "cell_type": "code",
   "execution_count": 6,
   "metadata": {
    "ExecuteTime": {
     "end_time": "2020-10-17T21:49:26.499945Z",
     "start_time": "2020-10-17T21:49:26.407664Z"
    },
    "hidden": true
   },
   "outputs": [],
   "source": [
    "E_neural = np.load(\"/media/hdd01/sklee/hglm/biophysical/inputs/Espikes_d48000_r1_rep1_Ne629_e5_E20_neural.npy\")[:train_T]\n",
    "I_neural = np.load(\"/media/hdd01/sklee/hglm/biophysical/inputs/Ispikes_d48000_r1_rep1_Ni120_i20_I30_neural.npy\")[:train_T]\n",
    "neural = np.hstack((E_neural, I_neural))"
   ]
  },
  {
   "cell_type": "code",
   "execution_count": 7,
   "metadata": {
    "ExecuteTime": {
     "end_time": "2020-10-17T21:49:26.832988Z",
     "start_time": "2020-10-17T21:49:26.828347Z"
    },
    "hidden": true
   },
   "outputs": [],
   "source": [
    "Delta_init = np.exp(4.5825)\n",
    "K_syn_init = np.tile(np.asarray([0.1462, -0.0374]).reshape((1,-1,2)),\n",
    "                                 (sub_no, 1, 1))\n",
    "C_init = np.exp(2.7374)\n",
    "#C_init = 30\n",
    "sigma_init = 0.5\n",
    "\n",
    "new_Theta = np.empty((sub_no))\n",
    "new_C = np.ones((sub_no)) * C_init\n",
    "#new_K_syn = np.empty_like(K_syn_init)\n",
    "new_K_syn = K_syn_init\n",
    "new_K_syn[0] *= 1\n",
    "\n",
    "window = np.arange(W_size) - Delta_init\n",
    "window[window < 0] = 0\n",
    "\n",
    "filt_neural = np.empty((neural.shape[0], sub_no))\n",
    "# filt_neural contains just the filtered synpatic inputs to each subunit\n",
    "upstream_out = np.empty((neural.shape[0], sub_no))\n",
    "# upstream_out contains all the inputs summed, nonlin'ed, but NOT C"
   ]
  },
  {
   "cell_type": "code",
   "execution_count": 8,
   "metadata": {
    "ExecuteTime": {
     "end_time": "2020-10-17T21:49:28.537201Z",
     "start_time": "2020-10-17T21:49:27.660098Z"
    },
    "hidden": true
   },
   "outputs": [],
   "source": [
    "for s in range(sub_no):\n",
    "    sub_out = np.zeros((neural.shape[0]))\n",
    "    e_idx = torch.where(C_syn[s] == 1)[0].numpy()\n",
    "    i_idx = torch.where(C_syn[s] == -1)[0].numpy()\n",
    "    \n",
    "    in_e = neural[:,e_idx]\n",
    "    in_i = neural[:,i_idx]\n",
    "    \n",
    "    kern_e = np.zeros((W_size))\n",
    "    kern_i = np.zeros((W_size))\n",
    "    for b in range(K_syn_init.shape[1]):\n",
    "        tau = syn_basis_tau[b].item()\n",
    "        t_tau = window / tau\n",
    "        kern_e += np.multiply(t_tau, np.exp(-t_tau)) * K_syn_init[s,b,0]\n",
    "        kern_i += np.multiply(t_tau, np.exp(-t_tau)) * K_syn_init[s,b,1]\n",
    "    \n",
    "    for i in range(e_idx.shape[0]):\n",
    "        sub_out += np.convolve(in_e[:,i], np.flip(kern_e), mode=\"same\")\n",
    "        \n",
    "    for i in range(i_idx.shape[0]):\n",
    "        sub_out += np.convolve(in_i[:,i], np.flip(kern_i), mode=\"same\")\n",
    "        \n",
    "    filt_neural[:,s] = sub_out"
   ]
  },
  {
   "cell_type": "code",
   "execution_count": 9,
   "metadata": {
    "ExecuteTime": {
     "end_time": "2020-10-17T21:49:28.540946Z",
     "start_time": "2020-10-17T21:49:28.538303Z"
    },
    "hidden": true
   },
   "outputs": [
    {
     "name": "stdout",
     "output_type": "stream",
     "text": [
      "[-1.64294497  0.41124093  0.92995419  0.80394787  0.32198303]\n"
     ]
    }
   ],
   "source": [
    "print(np.mean(filt_neural, 0))"
   ]
  },
  {
   "cell_type": "code",
   "execution_count": 10,
   "metadata": {
    "ExecuteTime": {
     "end_time": "2020-10-17T21:49:28.555004Z",
     "start_time": "2020-10-17T21:49:28.542268Z"
    },
    "hidden": true
   },
   "outputs": [
    {
     "name": "stdout",
     "output_type": "stream",
     "text": [
      "1.8485171304463937\n",
      "1.056849874284975\n",
      "1.141298413233613\n",
      "1.5534116651488798\n",
      "0.12519557487020386\n"
     ]
    }
   ],
   "source": [
    "for s in range(sub_no):\n",
    "    subunit = sub_no - 1 - s\n",
    "    upstream_idx = torch.where(C_den == subunit + 1)[0].numpy()\n",
    "    if upstream_idx.size == 0:\n",
    "        upstream_in = np.zeros((neural.shape[0]))\n",
    "    else:\n",
    "        upstream_in = upstream_out[:,upstream_idx]\n",
    "        \n",
    "    sub_in = filt_neural[:,subunit]\n",
    "    \n",
    "    if upstream_idx.size > 0:\n",
    "        old_sigma = np.std(sub_in + np.sum(upstream_in * new_C[upstream_idx], axis=1))\n",
    "    else:\n",
    "        old_sigma = np.std(sub_in)\n",
    "    sigma_factor = sigma_init / old_sigma\n",
    "    print(sigma_factor)\n",
    "    \n",
    "    if upstream_idx.size > 0:\n",
    "        new_C[upstream_idx] = new_C[upstream_idx] * sigma_factor\n",
    "        new_K_syn[subunit,:,:] = K_syn_init[subunit,:,:] * sigma_factor\n",
    "    else:\n",
    "        new_K_syn[subunit,:,:] = K_syn_init[subunit,:,:] * sigma_factor\n",
    "    \n",
    "    if upstream_idx.size > 0:\n",
    "        comb_in = sub_in*sigma_factor + np.sum(upstream_in * new_C[upstream_idx], axis=1)\n",
    "        #comb_in = sub_in + np.sum(upstream_in * new_C[upstream_idx], axis=1)\n",
    "    else:\n",
    "        comb_in = sub_in * sigma_factor\n",
    "        #comb_in = sub_in\n",
    "    new_Theta[subunit] = np.mean(comb_in)\n",
    "    comb_out = 1 / (1+np.exp(-comb_in + new_Theta[subunit]))\n",
    "    upstream_out[:,subunit] = comb_out"
   ]
  },
  {
   "cell_type": "code",
   "execution_count": 11,
   "metadata": {
    "ExecuteTime": {
     "end_time": "2020-10-17T21:49:28.560863Z",
     "start_time": "2020-10-17T21:49:28.555965Z"
    },
    "hidden": true
   },
   "outputs": [
    {
     "name": "stdout",
     "output_type": "stream",
     "text": [
      "[[[ 0.01830359 -0.00468231]]\n",
      "\n",
      " [[ 0.22710879 -0.0580976 ]]\n",
      "\n",
      " [[ 0.16685783 -0.04268456]]\n",
      "\n",
      " [[ 0.15451145 -0.03952619]]\n",
      "\n",
      " [[ 0.2702532  -0.06913454]]]\n",
      "[15.44677124  1.9338674   1.9338674   1.9338674   1.9338674 ]\n",
      "[3.63878204 0.63882646 1.06135524 0.8496522  0.59519114]\n",
      "[0.4981117  0.49700399 0.49769151 0.49663844 0.49663663]\n",
      "[0.11697021 0.11445016 0.11494173 0.11049164 0.11081203]\n"
     ]
    }
   ],
   "source": [
    "print(new_K_syn)\n",
    "print(new_C)\n",
    "print(new_Theta)\n",
    "print(np.mean(upstream_out, axis=0))\n",
    "print(np.std(upstream_out, axis=0))"
   ]
  },
  {
   "cell_type": "code",
   "execution_count": 12,
   "metadata": {
    "ExecuteTime": {
     "end_time": "2020-10-17T21:49:28.941523Z",
     "start_time": "2020-10-17T21:49:28.936176Z"
    },
    "hidden": true
   },
   "outputs": [],
   "source": [
    "np.save(\"/media/hdd01/sklee/shglm/biophysical/final_fit/adjusted_Delta.npy\", np.log(Delta_init))\n",
    "np.save(\"/media/hdd01/sklee/shglm/biophysical/final_fit/adjusted_Theta.npy\", new_Theta)\n",
    "np.save(\"/media/hdd01/sklee/shglm/biophysical/final_fit/adjusted_C.npy\", np.log(new_C))\n",
    "np.save(\"/media/hdd01/sklee/shglm/biophysical/final_fit/adjusted_K_syn.npy\", new_K_syn)"
   ]
  },
  {
   "cell_type": "markdown",
   "metadata": {},
   "source": [
    "# Train ALL Params"
   ]
  },
  {
   "cell_type": "code",
   "execution_count": 4,
   "metadata": {
    "ExecuteTime": {
     "end_time": "2020-10-17T21:49:42.179075Z",
     "start_time": "2020-10-17T21:49:40.696896Z"
    }
   },
   "outputs": [],
   "source": [
    "fit_shGLM = shGLM(C_den, C_syn, W_size, Ensyn,\n",
    "                 syn_basis_tau, hist_basis_tau,\n",
    "                 spike_status, hist_T)\n",
    "\n",
    "\n",
    "V_ref = np.fromfile(\"/media/hdd01/sklee/hglm/biophysical/inputs/vdata_NMDA_ApN0.5_13_Adend_r0_o2_i2_g_b0.bin\")\n",
    "V_ref = V_ref[1:-2]\n",
    "\n",
    "train_V_ref = V_ref[:train_T]\n",
    "test_V_ref = V_ref[train_T:train_T+test_T]\n",
    "\n",
    "test_V_ref = torch.from_numpy(test_V_ref).cuda()\n",
    "train_V_ref = torch.from_numpy(train_V_ref)"
   ]
  },
  {
   "cell_type": "code",
   "execution_count": 5,
   "metadata": {
    "ExecuteTime": {
     "end_time": "2020-10-17T21:49:42.187650Z",
     "start_time": "2020-10-17T21:49:42.180182Z"
    }
   },
   "outputs": [
    {
     "data": {
      "text/plain": [
       "shGLM()"
      ]
     },
     "execution_count": 5,
     "metadata": {},
     "output_type": "execute_result"
    }
   ],
   "source": [
    "adjust_K_syn = torch.from_numpy(np.load(\"/media/hdd01/sklee/shglm/biophysical/final_fit/adjusted_K_syn.npy\"))\n",
    "adjust_Delta = torch.from_numpy(np.load(\"/media/hdd01/sklee/shglm/biophysical/final_fit/adjusted_Delta.npy\"))\n",
    "adjust_C = torch.from_numpy(np.load(\"/media/hdd01/sklee/shglm/biophysical/final_fit/adjusted_C.npy\"))\n",
    "adjust_Theta = torch.from_numpy(np.load(\"/media/hdd01/sklee/shglm/biophysical/final_fit/adjusted_Theta.npy\"))\n",
    "\n",
    "with torch.no_grad():\n",
    "    fit_shGLM.K_syn = nn.Parameter(adjust_K_syn.float())\n",
    "    fit_shGLM.Delta = nn.Parameter(adjust_Delta.float().reshape(1))\n",
    "    fit_shGLM.C = nn.Parameter(adjust_C.float())\n",
    "    fit_shGLM.Theta = nn.Parameter(adjust_Theta.float())\n",
    "    \n",
    "fit_shGLM.train().cuda()"
   ]
  },
  {
   "cell_type": "code",
   "execution_count": 6,
   "metadata": {
    "ExecuteTime": {
     "end_time": "2020-10-17T21:49:42.384569Z",
     "start_time": "2020-10-17T21:49:42.220268Z"
    }
   },
   "outputs": [],
   "source": [
    "E_neural = np.load(\"/media/hdd01/sklee/shglm/biophysical/inputs/Espikes_d48000_r1_rep1_Ne629_e5_E20_neural.npy\")\n",
    "I_neural = np.load(\"/media/hdd01/sklee/shglm/biophysical/inputs/Ispikes_d48000_r1_rep1_Ni120_i20_I30_neural.npy\")\n",
    "\n",
    "train_neural = np.hstack((E_neural, I_neural))[:train_T]\n",
    "test_neural = np.hstack((E_neural, I_neural))[train_T:train_T + test_T]\n",
    "train_neural = torch.from_numpy(train_neural)\n",
    "test_neural = torch.from_numpy(test_neural).cuda()\n"
   ]
  },
  {
   "cell_type": "code",
   "execution_count": 7,
   "metadata": {
    "ExecuteTime": {
     "end_time": "2020-10-17T21:49:42.827737Z",
     "start_time": "2020-10-17T21:49:42.820206Z"
    }
   },
   "outputs": [
    {
     "name": "stdout",
     "output_type": "stream",
     "text": [
      "35812\n",
      "35812\n"
     ]
    }
   ],
   "source": [
    "repeat_no = 2\n",
    "batch_no = (train_V_ref.shape[0] - batch_size) * repeat_no\n",
    "train_idx = np.empty((repeat_no, train_V_ref.shape[0] - batch_size))\n",
    "for i in range(repeat_no):\n",
    "    part_idx = np.arange(train_V_ref.shape[0] - batch_size)\n",
    "    np.random.shuffle(part_idx)\n",
    "    train_idx[i] = part_idx\n",
    "train_idx = train_idx.flatten()\n",
    "train_idx = torch.from_numpy(train_idx)\n",
    "\n",
    "print(batch_no)\n",
    "print(train_idx.shape[0])"
   ]
  },
  {
   "cell_type": "code",
   "execution_count": 8,
   "metadata": {
    "ExecuteTime": {
     "end_time": "2020-10-17T21:49:43.356708Z",
     "start_time": "2020-10-17T21:49:43.352051Z"
    }
   },
   "outputs": [],
   "source": [
    "no_spike_bool = True\n",
    "spike_bool = False\n",
    "\n",
    "fit_shGLM.V_o.requires_grad = no_spike_bool\n",
    "fit_shGLM.K_syn.requires_grad = True\n",
    "fit_shGLM.Delta.requires_grad = no_spike_bool\n",
    "fit_shGLM.C.requires_grad= no_spike_bool\n",
    "fit_shGLM.Theta.requires_grad = True\n",
    "\n",
    "fit_shGLM.thresh.requires_grad = spike_bool\n",
    "fit_shGLM.spike_size.requires_grad = spike_bool\n",
    "fit_shGLM.K_hist.requires_grad = spike_bool\n"
   ]
  },
  {
   "cell_type": "code",
   "execution_count": 9,
   "metadata": {
    "ExecuteTime": {
     "end_time": "2020-10-17T21:49:43.875341Z",
     "start_time": "2020-10-17T21:49:43.872607Z"
    }
   },
   "outputs": [],
   "source": [
    "#optimizer = optim.Adam(fit_shGLM.parameters(), lr=0.01)\n",
    "#optimizer = optim.Adam(fit_shGLM.parameters(), lr=0.0025)\n",
    "optimizer = optim.Adam(fit_shGLM.parameters(), lr=0.001)"
   ]
  },
  {
   "cell_type": "code",
   "execution_count": null,
   "metadata": {
    "ExecuteTime": {
     "start_time": "2020-10-17T21:49:47.019Z"
    },
    "scrolled": false
   },
   "outputs": [
    {
     "name": "stderr",
     "output_type": "stream",
     "text": [
      "<ipython-input-10-f3be7d3ab77a>:3: TqdmDeprecationWarning: Please use `tqdm.notebook.trange` instead of `tqdm.tnrange`\n",
      "  for i in tnrange(batch_no):\n"
     ]
    },
    {
     "data": {
      "application/vnd.jupyter.widget-view+json": {
       "model_id": "9f4b522561664a7788b86c3c00e09046",
       "version_major": 2,
       "version_minor": 0
      },
      "text/plain": [
       "HBox(children=(FloatProgress(value=0.0, max=35812.0), HTML(value='')))"
      ]
     },
     "metadata": {},
     "output_type": "display_data"
    },
    {
     "name": "stdout",
     "output_type": "stream",
     "text": [
      "TEST 0 5.255364768431727 0.6194883389097455 0.458400880782628\n",
      "TEST 100 4.415945501296708 0.6802660078222961 0.6305894956547689\n",
      "TEST 200 4.0513300410764295 0.7066657803735584 0.6270771417874617\n",
      "TEST 300 3.925113128922357 0.7158044432492823 0.725193630424746\n",
      "TEST 400 3.905616281985487 0.7172161012188156 0.661537788886488\n",
      "TEST 500 3.647185847128584 0.7359276081272106 0.6786782607097992\n",
      "TEST 600 3.5626616074043014 0.7420475370616189 0.5897355941061982\n",
      "TEST 700 3.4419457825958104 0.7507878968861543 0.5753497851409072\n",
      "TEST 800 3.453553753297058 0.749947428442524 0.6513573620338433\n",
      "TEST 900 3.483862130965096 0.7477529678035557 0.6495519979161402\n",
      "TEST 1000 3.354593243323845 0.7571126072178801 0.5524775987757224\n",
      "TEST 1100 3.367016742752511 0.7562130908756268 0.7020424496709938\n",
      "TEST 1200 3.3776568533623865 0.7554426997963466 0.6718699358482567\n",
      "TEST 1300 3.4320461075077646 0.7515046771403288 0.5853510046746659\n",
      "TEST 1400 3.485791810118155 0.7476132504764321 0.7042819451012433\n",
      "TEST 1500 3.2715798464674375 0.7631231444288714 0.7206563308510152\n",
      "TEST 1600 3.3260401728080446 0.7591799758344973 0.7213289479781807\n",
      "TEST 1700 3.2623902524004 0.7637885116930556 0.5034869040527574\n",
      "TEST 1800 3.2595858639010578 0.7639915618213817 0.5310889536624461\n",
      "TEST 1900 3.2115470656551333 0.7674697833603538 0.6612853442512316\n",
      "TEST 2000 3.3485302165115094 0.7575515971572427 0.640823008186756\n",
      "TEST 2100 3.2643047745313547 0.7636498918183309 0.6576694204726247\n",
      "TEST 2200 3.4041249678731758 0.7535262911828857 0.5254942806130249\n",
      "TEST 2300 3.2592215448901647 0.7640179401265833 0.7128229475644683\n",
      "TEST 2400 3.24883072200435 0.7647702816739219 0.6537428849373623\n",
      "TEST 2500 3.340021610719155 0.758167657861046 0.7123656790426711\n",
      "TEST 2600 3.1537169911422103 0.7716569366135042 0.6605740690091018\n",
      "TEST 2700 3.2800443983903924 0.7625102734020204 0.6224391181921001\n",
      "TEST 2800 3.5227669989348867 0.7449360832126195 0.5440403349174088\n",
      "TEST 2900 3.2494231194105434 0.7647273894889077 0.6560133927786215\n",
      "TEST 3000 3.1828314710729444 0.7695489194573448 0.6639108294841072\n",
      "TEST 3100 3.1576647904101947 0.7713710984780868 0.587100290537464\n",
      "TEST 3200 3.1914396288557874 0.7689256507394309 0.5682234344533039\n",
      "TEST 3300 3.1765253458323666 0.7700055108233093 0.6740506878527684\n",
      "TEST 3400 3.1908197568418415 0.7689705322195567 0.6471119558415125\n",
      "TEST 3500 3.1160126130091825 0.7743869004179373 0.6708406435890908\n",
      "TEST 3600 3.2409562581123867 0.7653404277047751 0.6052520113904187\n",
      "TEST 3700 3.1195161555929203 0.774133228429618 0.6435597763123397\n",
      "TEST 3800 3.1786053546014488 0.7698549089892248 0.7363254395662324\n",
      "TEST 3900 3.171280367110699 0.7703852704805543 0.5348291326553131\n",
      "TEST 4000 3.1951485652598355 0.7686571073267687 0.7274633602842844\n",
      "TEST 4100 3.1763923818601376 0.7700151379996469 0.6108396881517578\n",
      "TEST 4200 3.117099900393013 0.7743081759882896 0.6864978412585752\n",
      "TEST 4300 3.2251110453100584 0.766487691204086 0.5831512890906085\n",
      "TEST 4400 3.166468784472496 0.7707336503552848 0.6330372536667929\n",
      "TEST 4500 3.1664994978165883 0.7707314265696031 0.688731142116531\n",
      "TEST 4600 3.2268786824977074 0.7663597064483028 0.6986764084876322\n",
      "TEST 4700 3.213539342600773 0.7673255336763166 0.7385694492779562\n",
      "TEST 4800 3.16686052662147 0.770705286485141 0.5792138645077851\n",
      "TEST 4900 3.25417666677862 0.7643832116143322 0.6944511720496028\n",
      "TEST 5000 3.178052146764364 0.7698949636635872 0.6469679396391428\n",
      "TEST 5100 3.1414623880564303 0.7725442240944855 0.5310553672189104\n",
      "TEST 5200 3.1336311555158276 0.7731112399818606 0.7344303705410875\n",
      "TEST 5300 3.1169734213514984 0.7743173336277986 0.6357227289880144\n",
      "TEST 5400 3.23262262066859 0.7659438199226616 0.6774928059490446\n",
      "TEST 5500 3.2229650124685856 0.7666430734797536 0.7140228289101306\n",
      "TEST 5600 3.241950641421726 0.7652684299460266 0.6959911313770765\n",
      "TEST 5700 3.1031822931442985 0.7753158723342317 0.7163576209619472\n",
      "TEST 5800 3.1988202366626797 0.7683912620878413 0.5970856405059418\n",
      "TEST 5900 3.112515464139945 0.7746401094609012 0.5827750751150407\n",
      "TEST 6000 3.220589091674332 0.7668151006650303 0.5477501535532953\n",
      "TEST 6100 3.115312593937108 0.7744375849046892 0.6565566432211849\n"
     ]
    }
   ],
   "source": [
    "loss_array = np.empty((batch_no))\n",
    "\n",
    "for i in tnrange(batch_no):\n",
    "    optimizer.zero_grad()\n",
    "    batch_idx = train_idx[i].long()\n",
    "    batch_X = train_neural[batch_idx : batch_idx+batch_size].float().cuda()\n",
    "    batch_pred = fit_shGLM(batch_X)\n",
    "    batch_ref = train_V_ref[batch_idx:batch_idx+batch_size].cuda()\n",
    "    \n",
    "    #loss = criterion(batch_ref, batch_pred)\n",
    "    \n",
    "    diff = (batch_ref - batch_pred) ** 1\n",
    "    loss = torch.var(diff)\n",
    "    loss_array[i] = loss.item()\n",
    "    \n",
    "    #print(i, train_score)\n",
    "    \n",
    "    loss.backward()\n",
    "    optimizer.step()\n",
    "    #scheduler.step()\n",
    "    \n",
    "    if i%100 == 0:\n",
    "        test_pred = fit_shGLM(test_neural.float())\n",
    "        #test_loss = criterion(test_V_ref, test_pred)\n",
    "        test_diff = (test_V_ref - test_pred) ** 1\n",
    "        test_loss = torch.var(test_diff)\n",
    "        test_score = metrics.explained_variance_score(y_true=test_V_ref.cpu().detach().numpy(),\n",
    "                                                      y_pred=test_pred.cpu().detach().numpy(),\n",
    "                                                      multioutput='uniform_average')\n",
    "        train_score = metrics.explained_variance_score(y_true=batch_ref.cpu().detach().numpy(),\n",
    "                                                      y_pred=batch_pred.cpu().detach().numpy(),\n",
    "                                                      multioutput='uniform_average')\n",
    "        print(\"TEST\", i, test_loss.item(), test_score, train_score)\n",
    "        if i%500 == 0:\n",
    "            torch.save(fit_shGLM.state_dict(), \"/media/hdd01/sklee/shglm/biophysical/final_fit/final5_nospike_h1_shglm_i\"+str(i)+\".pt\")\n",
    "    \n"
   ]
  },
  {
   "cell_type": "markdown",
   "metadata": {},
   "source": [
    "# Test Part Fit"
   ]
  },
  {
   "cell_type": "code",
   "execution_count": 4,
   "metadata": {
    "ExecuteTime": {
     "end_time": "2020-10-17T01:35:01.503570Z",
     "start_time": "2020-10-17T01:34:59.390984Z"
    }
   },
   "outputs": [],
   "source": [
    "final_shGLM = shGLM(C_den, C_syn, W_size, Ensyn,\n",
    "                 syn_basis_tau, hist_basis_tau,\n",
    "                 spike_status, hist_T)\n",
    "final_shGLM.load_state_dict(torch.load(\"/media/hdd01/sklee/shglm/biophysical/final_fit/final5_nospike_shglm_i11000.pt\"))\n",
    "\n",
    "final_shGLM.eval().cuda()\n",
    "\n",
    "V_ref = np.fromfile(\"/media/hdd01/sklee/hglm/biophysical/inputs/vdata_NMDA_ApN0.5_13_Adend_r0_o2_i2_g_b0.bin\")\n",
    "V_ref = V_ref[1:-2]\n",
    "\n",
    "test_V_ref = V_ref[train_T:train_T+test_T]\n"
   ]
  },
  {
   "cell_type": "code",
   "execution_count": 5,
   "metadata": {
    "ExecuteTime": {
     "end_time": "2020-10-17T01:35:01.802267Z",
     "start_time": "2020-10-17T01:35:01.504703Z"
    }
   },
   "outputs": [],
   "source": [
    "E_neural = np.load(\"/media/hdd01/sklee/shglm/biophysical/inputs/Espikes_d48000_r1_rep1_Ne629_e5_E20_neural.npy\")\n",
    "I_neural = np.load(\"/media/hdd01/sklee/shglm/biophysical/inputs/Ispikes_d48000_r1_rep1_Ni120_i20_I30_neural.npy\")\n",
    "\n",
    "test_neural = np.hstack((E_neural, I_neural))[train_T:train_T + test_T]\n",
    "test_neural = torch.from_numpy(test_neural).float().cuda()\n",
    "\n",
    "test_V_final = final_shGLM(test_neural).cpu().detach().numpy()\n",
    "\n",
    "test_V_final = test_V_final\n",
    "test_V_ref = test_V_ref"
   ]
  },
  {
   "cell_type": "code",
   "execution_count": 6,
   "metadata": {
    "ExecuteTime": {
     "end_time": "2020-10-17T01:35:02.045161Z",
     "start_time": "2020-10-17T01:35:01.803305Z"
    }
   },
   "outputs": [
    {
     "name": "stdout",
     "output_type": "stream",
     "text": [
      "0.8831894052596222\n"
     ]
    },
    {
     "data": {
      "image/png": "[encoded data removed]",
      "text/plain": [
       "<Figure size 1008x288 with 1 Axes>"
      ]
     },
     "metadata": {
      "needs_background": "light"
     },
     "output_type": "display_data"
    }
   ],
   "source": [
    "plt.figure(figsize = (14,4))\n",
    "plt.plot(test_V_ref[:4000], label=\"Biophysical\", c=\"blue\")\n",
    "plt.plot(test_V_final[:4000]-1.3, label=\"shGLM\", c=\"red\")\n",
    "print(np.corrcoef(test_V_ref, test_V_final)[0][1])\n",
    "\n",
    "\n",
    "test_score = metrics.explained_variance_score(y_true=test_V_ref,\n",
    "                                                      y_pred=test_V_final,\n",
    "                                                      multioutput='uniform_average')\n",
    "\n",
    "plt.title(\"No Spike shGLM (5 Subunit: 5 Excitatory, 5 Inhibitory Kernels) \\n Variance Explained: \" + str(round(test_score, 5)), fontsize = 16)\n",
    "#plt.xticks(np.arange(0,8001,1000),[0,1,2,3,4,5,6,7,8])\n",
    "plt.xticks(np.arange(0,4001,1000),[0,1,2,3,4])\n",
    "plt.xlabel(\"Time (s)\")\n",
    "plt.ylabel(\"Sub-Threshold Voltage (mV)\")\n",
    "plt.legend()\n",
    "#plt.show()\n",
    "\n",
    "\n",
    "plt.savefig(\"/media/hdd01/sklee/shglm/biophysical/final5_nospike.png\", dpi=150, bbox_inches='tight')"
   ]
  },
  {
   "cell_type": "code",
   "execution_count": 7,
   "metadata": {
    "ExecuteTime": {
     "end_time": "2020-10-17T01:35:02.053964Z",
     "start_time": "2020-10-17T01:35:02.046019Z"
    }
   },
   "outputs": [
    {
     "name": "stdout",
     "output_type": "stream",
     "text": [
      "V_o tensor([-76.0649], device='cuda:0')\n",
      "K_syn tensor([[[ 0.0186, -0.0238]],\n",
      "\n",
      "        [[ 0.1814, -0.0141]],\n",
      "\n",
      "        [[ 0.2150, -0.0691]],\n",
      "\n",
      "        [[ 0.1416, -0.0721]],\n",
      "\n",
      "        [[ 0.1848, -0.1480]]], device='cuda:0')\n",
      "Delta tensor([4.6005], device='cuda:0')\n",
      "C tensor([3.0235, 0.8632, 0.8776, 1.2156, 0.8883], device='cuda:0')\n",
      "Theta tensor([3.3843, 0.9971, 1.8942, 1.4188, 1.3132], device='cuda:0')\n",
      "thresh tensor([85., 85., 85., 85., 85.], device='cuda:0')\n",
      "spike_size tensor([4., 4., 4., 4., 4.], device='cuda:0')\n",
      "K_hist tensor([[-0.0250, -0.0250, -0.0250],\n",
      "        [-0.0250, -0.0250, -0.0250],\n",
      "        [-0.0250, -0.0250, -0.0250],\n",
      "        [-0.0250, -0.0250, -0.0250],\n",
      "        [-0.0250, -0.0250, -0.0250]], device='cuda:0')\n"
     ]
    }
   ],
   "source": [
    "for name, param in final_shGLM.named_parameters():\n",
    "    if param.requires_grad:\n",
    "        print(name, param.data)"
   ]
  },
  {
   "cell_type": "code",
   "execution_count": null,
   "metadata": {},
   "outputs": [],
   "source": []
  },
  {
   "cell_type": "code",
   "execution_count": null,
   "metadata": {},
   "outputs": [],
   "source": []
  }
 ],
 "metadata": {
  "kernelspec": {
   "display_name": "Python 3",
   "language": "python",
   "name": "python3"
  },
  "language_info": {
   "codemirror_mode": {
    "name": "ipython",
    "version": 3
   },
   "file_extension": ".py",
   "mimetype": "text/x-python",
   "name": "python",
   "nbconvert_exporter": "python",
   "pygments_lexer": "ipython3",
   "version": "3.8.3"
  }
 },
 "nbformat": 4,
 "nbformat_minor": 4
}
