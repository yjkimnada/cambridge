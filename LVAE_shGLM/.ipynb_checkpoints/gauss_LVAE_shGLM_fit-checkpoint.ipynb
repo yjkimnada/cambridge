{
 "cells": [
  {
   "cell_type": "code",
   "execution_count": 1,
   "metadata": {
    "ExecuteTime": {
     "end_time": "2020-11-10T06:43:33.033622Z",
     "start_time": "2020-11-10T06:43:32.390519Z"
    }
   },
   "outputs": [],
   "source": [
    "import numpy as np\n",
    "import torch\n",
    "import torch.nn as nn\n",
    "import matplotlib.pyplot as plt\n",
    "from tqdm import tnrange\n",
    "import torch.optim as optim\n",
    "import torch.nn.functional as F\n",
    "from LVAE_shGLM import LVAE_shGLM\n",
    "from sklearn import metrics"
   ]
  },
  {
   "cell_type": "markdown",
   "metadata": {},
   "source": [
    "# Hyperparams"
   ]
  },
  {
   "cell_type": "code",
   "execution_count": 2,
   "metadata": {
    "ExecuteTime": {
     "end_time": "2020-11-10T06:43:33.039024Z",
     "start_time": "2020-11-10T06:43:33.034930Z"
    }
   },
   "outputs": [],
   "source": [
    "train_T = 20000\n",
    "test_T = 8000\n",
    "T_syn = 201\n",
    "C_den = torch.zeros(5,5)\n",
    "C_den[0,1:] = 1\n",
    "sub_no = C_den.shape[0]\n",
    "\n",
    "batch_size = 1500\n",
    "\n",
    "syn_basis_no = 2\n",
    "hist_basis_no = 2\n",
    "spike_status = True\n",
    "T_hist = 201\n",
    "\n",
    "T_V = 201 \n",
    "hid_dim = 128\n",
    "fix_var = 10000\n",
    "\n",
    "theta_spike_init = -250\n",
    "W_spike_init = 100"
   ]
  },
  {
   "cell_type": "code",
   "execution_count": 3,
   "metadata": {
    "ExecuteTime": {
     "end_time": "2020-11-10T06:43:33.051908Z",
     "start_time": "2020-11-10T06:43:33.040583Z"
    }
   },
   "outputs": [],
   "source": [
    "Ensyn = torch.tensor([0, 106, 213, 211, 99])\n",
    "Insyn = torch.tensor([1, 22, 36, 42, 19])\n",
    "E_no = torch.sum(Ensyn)\n",
    "I_no = torch.sum(Insyn)\n",
    "\n",
    "C_syn_e = torch.zeros(sub_no, E_no)\n",
    "C_syn_i = torch.zeros(sub_no, I_no)\n",
    "\n",
    "E_count = 0\n",
    "for s in range(sub_no):\n",
    "    C_syn_e[s,E_count:E_count+Ensyn[s]] = 1\n",
    "    E_count += Ensyn[s]\n",
    "\n",
    "I_count = 0\n",
    "for s in range(sub_no):\n",
    "    C_syn_i[s,I_count:I_count+Insyn[s]] = 1\n",
    "    I_count += Insyn[s]"
   ]
  },
  {
   "cell_type": "markdown",
   "metadata": {},
   "source": [
    "# Train"
   ]
  },
  {
   "cell_type": "code",
   "execution_count": 4,
   "metadata": {
    "ExecuteTime": {
     "end_time": "2020-11-10T06:43:35.363087Z",
     "start_time": "2020-11-10T06:43:33.053610Z"
    }
   },
   "outputs": [],
   "source": [
    "model = LVAE_shGLM(C_den.cuda(), C_syn_e.cuda(), C_syn_i.cuda(), T_syn, syn_basis_no,\n",
    "                T_hist, hist_basis_no, hid_dim, fix_var, T_V, theta_spike_init, W_spike_init)\n",
    "\n",
    "model = model.float().cuda()\n",
    "\n",
    "V_ref = np.fromfile(\"/media/hdd01/sklee/cont_shglm/inputs/vdata_NMDA_ApN0.5_13_Adend_r0_o2_i2_g_b0.bin\")\n",
    "V_ref = V_ref[1:-2]\n",
    "\n",
    "train_V_ref = V_ref[:train_T]\n",
    "test_V_ref = V_ref[train_T:train_T+test_T]\n",
    "\n",
    "test_V_ref = torch.from_numpy(test_V_ref).float().cuda()\n",
    "train_V_ref = torch.from_numpy(train_V_ref)"
   ]
  },
  {
   "cell_type": "code",
   "execution_count": 5,
   "metadata": {
    "ExecuteTime": {
     "end_time": "2020-11-10T06:43:35.440918Z",
     "start_time": "2020-11-10T06:43:35.364149Z"
    }
   },
   "outputs": [],
   "source": [
    "E_neural = np.load(\"/media/hdd01/sklee/cont_shglm/inputs/Espikes_d48000_r1_rep1_Ne629_e5_E20_neural.npy\")\n",
    "I_neural = np.load(\"/media/hdd01/sklee/cont_shglm/inputs/Ispikes_d48000_r1_rep1_Ni120_i20_I30_neural.npy\")\n",
    "\n",
    "train_S_E = E_neural[:train_T]\n",
    "train_S_I = I_neural[:train_T]\n",
    "test_S_E = E_neural[train_T:train_T+test_T]\n",
    "test_S_I = I_neural[train_T:train_T+test_T]\n",
    "\n",
    "train_S_E = torch.from_numpy(train_S_E)\n",
    "train_S_I = torch.from_numpy(train_S_I)\n",
    "test_S_E = torch.from_numpy(test_S_E).float().cuda()\n",
    "test_S_I = torch.from_numpy(test_S_I).float().cuda()"
   ]
  },
  {
   "cell_type": "code",
   "execution_count": 6,
   "metadata": {
    "ExecuteTime": {
     "end_time": "2020-11-10T06:43:35.447553Z",
     "start_time": "2020-11-10T06:43:35.442152Z"
    }
   },
   "outputs": [
    {
     "name": "stdout",
     "output_type": "stream",
     "text": [
      "37000\n",
      "37000\n"
     ]
    }
   ],
   "source": [
    "repeat_no = 2\n",
    "batch_no = (train_V_ref.shape[0] - batch_size) * repeat_no\n",
    "train_idx = np.empty((repeat_no, train_V_ref.shape[0] - batch_size))\n",
    "for i in range(repeat_no):\n",
    "    part_idx = np.arange(train_V_ref.shape[0] - batch_size)\n",
    "    np.random.shuffle(part_idx)\n",
    "    train_idx[i] = part_idx\n",
    "train_idx = train_idx.flatten()\n",
    "train_idx = torch.from_numpy(train_idx)\n",
    "\n",
    "print(batch_no)\n",
    "print(train_idx.shape[0])"
   ]
  },
  {
   "cell_type": "code",
   "execution_count": 7,
   "metadata": {
    "ExecuteTime": {
     "end_time": "2020-11-10T06:43:35.453201Z",
     "start_time": "2020-11-10T06:43:35.448557Z"
    }
   },
   "outputs": [],
   "source": [
    "optimizer = optim.Adam(model.parameters(), lr=0.005)"
   ]
  },
  {
   "cell_type": "code",
   "execution_count": null,
   "metadata": {
    "ExecuteTime": {
     "start_time": "2020-11-10T06:43:32.266Z"
    },
    "scrolled": false
   },
   "outputs": [
    {
     "name": "stderr",
     "output_type": "stream",
     "text": [
      "<ipython-input-8-b8cf5524f92d>:7: TqdmDeprecationWarning: Please use `tqdm.notebook.trange` instead of `tqdm.tnrange`\n",
      "  for i in tnrange(batch_no):\n"
     ]
    },
    {
     "data": {
      "application/vnd.jupyter.widget-view+json": {
       "model_id": "0096ff23924f486982f49f3e65d556f0",
       "version_major": 2,
       "version_minor": 0
      },
      "text/plain": [
       "HBox(children=(FloatProgress(value=0.0, max=37000.0), HTML(value='')))"
      ]
     },
     "metadata": {},
     "output_type": "display_data"
    },
    {
     "name": "stdout",
     "output_type": "stream",
     "text": [
      "0 77.09245300292969 [0.14665814 0.1569892 ] [0.02900044 0.02969376] [-101.78544 -103.59173] [-199.12779 -198.06252]\n",
      "TEST 0 13.809616088867188 -0.0006620883941650391 0.002375304698944092\n",
      "[0.02476789 0.0325149  0.03111712 0.02428926]\n",
      "[-195.8027  -189.13513 -190.02148 -194.98978]\n",
      "1 18.648040771484375 [0.07922976 0.0456385 ] [0.02451217 0.02129729] [-151.70944 -171.24829] [-198.79863 -190.4432 ]\n",
      "2 53.430423736572266 [0.00319807 0.00197227] [0.02527126 0.03329073] [-274.31833 -266.38602] [-194.11452 -187.19046]\n",
      "3 18.171680450439453 [0.02568953 0.04114217] [0.02903485 0.03166571] [-199.36353 -172.68228] [-191.1606  -181.71597]\n",
      "4 12.10753059387207 [0.0612693  0.08620682] [0.02609771 0.0301838 ] [-155.22522 -136.55612] [-194.46088 -187.25142]\n",
      "5 17.97801971435547 [0.06774576 0.07197417] [0.02934957 0.03435155] [-149.7874  -142.36037] [-196.19292 -188.0453 ]\n",
      "6 13.526897430419922 [0.05224308 0.05240481] [0.03054169 0.03367425] [-162.12265 -162.58784] [-190.98717 -185.48587]\n",
      "7 10.976739883422852 [0.03169927 0.03110559] [0.03257359 0.03297125] [-184.22855 -191.2435 ] [-191.80807 -186.89207]\n"
     ]
    }
   ],
   "source": [
    "loss_array = np.empty((batch_no))\n",
    "beta = 0\n",
    "\n",
    "#import os\n",
    "#os.environ['CUDA_LAUNCH_BLOCKING'] = '1'\n",
    "\n",
    "for i in tnrange(batch_no):\n",
    "    if i%100 == 0:\n",
    "        beta += 0.1\n",
    "    \n",
    "    \n",
    "    model.train()\n",
    "    optimizer.zero_grad()\n",
    "    batch_idx = train_idx[i].long().cuda()\n",
    "    batch_S_E = train_S_E[batch_idx : batch_idx+batch_size].float().cuda()\n",
    "    batch_S_I = train_S_I[batch_idx : batch_idx+batch_size].float().cuda()\n",
    "    batch_ref = train_V_ref[batch_idx:batch_idx+batch_size].float().cuda()\n",
    "    rec_loss, kl_loss, batch_pred, post_prob, down_prob, post_mu, down_mu = model.loss(batch_ref, batch_S_E, batch_S_I, beta)\n",
    "    \n",
    "    var_loss = torch.var((batch_pred - batch_ref))\n",
    "    loss = var_loss + beta*kl_loss\n",
    "    \n",
    "    loss_array[i] = loss.item()\n",
    "    print(i, np.round(loss.item(), 4),\n",
    "          np.round(post_prob.cpu().detach().numpy()[:2], 4),\n",
    "          np.round(down_prob.cpu().detach().numpy()[:2], 4),\n",
    "         np.round(post_mu.cpu().detach().numpy()[:2], 4),\n",
    "          np.round(down_mu.cpu().detach().numpy()[:2], 4))\n",
    "    \n",
    "    loss.backward()\n",
    "    optimizer.step()\n",
    "    \n",
    "    if i%50 == 0:\n",
    "        model.eval()\n",
    "        test_pred, post_mu, down_mu = model.Decoder(test_S_E, test_S_I)\n",
    "        test_diff = (test_V_ref - test_pred) ** 1\n",
    "        test_loss = torch.var(test_diff)\n",
    "        test_score = metrics.explained_variance_score(y_true=test_V_ref.cpu().detach().numpy(),\n",
    "                                                      y_pred=test_pred.cpu().detach().numpy(),\n",
    "                                                      multioutput='uniform_average')\n",
    "        train_score = metrics.explained_variance_score(y_true=batch_ref.cpu().detach().numpy(),\n",
    "                                                      y_pred=batch_pred.cpu().detach().numpy(),\n",
    "                                                      multioutput='uniform_average')\n",
    "        print(\"TEST\", i, round(test_loss.item(), 4),\n",
    "              round(test_score, 4), round(train_score, 4))\n",
    "\n",
    "        test_spikes = torch.sigmoid(down_mu + torch.randn(down_mu.shape[0], down_mu.shape[1]).cuda()*fix_var**(0.5))\n",
    "        print(np.round(torch.mean(test_spikes, 0).cpu().detach().numpy(), 4))\n",
    "        print(np.round(torch.mean(down_mu, 0).cpu().detach().numpy(), 4))\n",
    "        \n",
    "        if i%100 == 0:\n",
    "            torch.save(model.state_dict(), \"/media/hdd01/sklee/lvae_shglm/VAR_sub5_s2_h2_w100_t-250_shglm_i\"+str(i)+\".pt\")\n",
    "    \n"
   ]
  },
  {
   "cell_type": "code",
   "execution_count": null,
   "metadata": {
    "ExecuteTime": {
     "start_time": "2020-11-10T06:43:32.267Z"
    }
   },
   "outputs": [],
   "source": [
    "plt.plot(batch_pred.cpu().detach().numpy())"
   ]
  },
  {
   "cell_type": "code",
   "execution_count": null,
   "metadata": {
    "ExecuteTime": {
     "start_time": "2020-11-10T06:43:32.268Z"
    }
   },
   "outputs": [],
   "source": [
    "plt.plot(test_pred.cpu().detach().numpy())"
   ]
  },
  {
   "cell_type": "code",
   "execution_count": null,
   "metadata": {},
   "outputs": [],
   "source": []
  }
 ],
 "metadata": {
  "kernelspec": {
   "display_name": "Python 3",
   "language": "python",
   "name": "python3"
  },
  "language_info": {
   "codemirror_mode": {
    "name": "ipython",
    "version": 3
   },
   "file_extension": ".py",
   "mimetype": "text/x-python",
   "name": "python",
   "nbconvert_exporter": "python",
   "pygments_lexer": "ipython3",
   "version": "3.8.3"
  }
 },
 "nbformat": 4,
 "nbformat_minor": 4
}
