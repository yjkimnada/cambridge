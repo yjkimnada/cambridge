{
 "cells": [
  {
   "cell_type": "code",
   "execution_count": 1,
   "metadata": {
    "ExecuteTime": {
     "end_time": "2020-11-12T13:41:22.938590Z",
     "start_time": "2020-11-12T13:41:22.250164Z"
    }
   },
   "outputs": [],
   "source": [
    "import numpy as np\n",
    "import torch\n",
    "import torch.nn as nn\n",
    "import matplotlib.pyplot as plt\n",
    "from tqdm import tnrange\n",
    "import torch.optim as optim\n",
    "import torch.nn.functional as F\n",
    "from PROB_LVAE_shGLM import PROB_LVAE_shGLM\n",
    "from sklearn import metrics\n",
    "import torch.distributions as dist"
   ]
  },
  {
   "cell_type": "markdown",
   "metadata": {},
   "source": [
    "# Hyperparams"
   ]
  },
  {
   "cell_type": "code",
   "execution_count": 2,
   "metadata": {
    "ExecuteTime": {
     "end_time": "2020-11-12T13:41:22.943075Z",
     "start_time": "2020-11-12T13:41:22.939790Z"
    }
   },
   "outputs": [],
   "source": [
    "train_T = 20000\n",
    "test_T = 8000\n",
    "\n",
    "C_den = torch.zeros(5,5)\n",
    "C_den[0,1:] = 1\n",
    "sub_no = C_den.shape[0]\n",
    "\n",
    "batch_size = 1500\n",
    "\n",
    "syn_basis_no = 2\n",
    "hist_basis_no = 2\n",
    "T_hist = 201\n",
    "T_syn = 201\n",
    "T_enc = 201\n",
    "hid_dim = 256\n",
    "temp = 0.5"
   ]
  },
  {
   "cell_type": "code",
   "execution_count": 3,
   "metadata": {
    "ExecuteTime": {
     "end_time": "2020-11-12T13:41:22.953589Z",
     "start_time": "2020-11-12T13:41:22.944345Z"
    }
   },
   "outputs": [],
   "source": [
    "Ensyn = torch.tensor([0, 106, 213, 211, 99])\n",
    "Insyn = torch.tensor([1, 22, 36, 42, 19])\n",
    "E_no = torch.sum(Ensyn)\n",
    "I_no = torch.sum(Insyn)\n",
    "\n",
    "C_syn_e = torch.zeros(sub_no, E_no)\n",
    "C_syn_i = torch.zeros(sub_no, I_no)\n",
    "\n",
    "E_count = 0\n",
    "for s in range(sub_no):\n",
    "    C_syn_e[s,E_count:E_count+Ensyn[s]] = 1\n",
    "    E_count += Ensyn[s]\n",
    "\n",
    "I_count = 0\n",
    "for s in range(sub_no):\n",
    "    C_syn_i[s,I_count:I_count+Insyn[s]] = 1\n",
    "    I_count += Insyn[s]"
   ]
  },
  {
   "cell_type": "markdown",
   "metadata": {},
   "source": [
    "# Train Params"
   ]
  },
  {
   "cell_type": "code",
   "execution_count": 4,
   "metadata": {
    "ExecuteTime": {
     "end_time": "2020-11-12T13:41:24.866561Z",
     "start_time": "2020-11-12T13:41:22.955074Z"
    }
   },
   "outputs": [],
   "source": [
    "model = PROB_LVAE_shGLM(C_den.cuda(), C_syn_e.cuda(), C_syn_i.cuda(), E_no, T_syn, syn_basis_no,\n",
    "                T_hist, hist_basis_no, T_enc, hid_dim, temp)\n",
    "model = model.float().cuda()\n",
    "\n",
    "V_ref = np.fromfile(\"/media/hdd01/sklee/cont_shglm/inputs/vdata_NMDA_ApN0.5_13_Adend_r0_o2_i2_g_b0.bin\")\n",
    "V_ref = V_ref[1:-2]\n",
    "\n",
    "train_V_ref = V_ref[:train_T]\n",
    "test_V_ref = V_ref[train_T:train_T+test_T]\n",
    "\n",
    "test_V_ref = torch.from_numpy(test_V_ref).cuda()\n",
    "train_V_ref = torch.from_numpy(train_V_ref)"
   ]
  },
  {
   "cell_type": "code",
   "execution_count": 5,
   "metadata": {
    "ExecuteTime": {
     "end_time": "2020-11-12T13:41:24.935529Z",
     "start_time": "2020-11-12T13:41:24.867610Z"
    }
   },
   "outputs": [],
   "source": [
    "E_neural = np.load(\"/media/hdd01/sklee/cont_shglm/inputs/Espikes_d48000_r1_rep1_Ne629_e5_E20_neural.npy\")\n",
    "I_neural = np.load(\"/media/hdd01/sklee/cont_shglm/inputs/Ispikes_d48000_r1_rep1_Ni120_i20_I30_neural.npy\")\n",
    "\n",
    "train_S_E = E_neural[:train_T]\n",
    "train_S_I = I_neural[:train_T]\n",
    "test_S_E = E_neural[train_T:train_T+test_T]\n",
    "test_S_I = I_neural[train_T:train_T+test_T]\n",
    "\n",
    "train_S_E = torch.from_numpy(train_S_E)\n",
    "train_S_I = torch.from_numpy(train_S_I)\n",
    "test_S_E = torch.from_numpy(test_S_E).float().cuda()\n",
    "test_S_I = torch.from_numpy(test_S_I).float().cuda()"
   ]
  },
  {
   "cell_type": "code",
   "execution_count": 6,
   "metadata": {
    "ExecuteTime": {
     "end_time": "2020-11-12T13:41:24.941900Z",
     "start_time": "2020-11-12T13:41:24.936592Z"
    }
   },
   "outputs": [
    {
     "name": "stdout",
     "output_type": "stream",
     "text": [
      "37000\n",
      "37000\n"
     ]
    }
   ],
   "source": [
    "repeat_no = 2\n",
    "batch_no = (train_V_ref.shape[0] - batch_size) * repeat_no\n",
    "train_idx = np.empty((repeat_no, train_V_ref.shape[0] - batch_size))\n",
    "for i in range(repeat_no):\n",
    "    part_idx = np.arange(train_V_ref.shape[0] - batch_size)\n",
    "    np.random.shuffle(part_idx)\n",
    "    train_idx[i] = part_idx\n",
    "train_idx = train_idx.flatten()\n",
    "train_idx = torch.from_numpy(train_idx)\n",
    "\n",
    "print(batch_no)\n",
    "print(train_idx.shape[0])"
   ]
  },
  {
   "cell_type": "code",
   "execution_count": 7,
   "metadata": {
    "ExecuteTime": {
     "end_time": "2020-11-12T13:41:24.947844Z",
     "start_time": "2020-11-12T13:41:24.942914Z"
    }
   },
   "outputs": [],
   "source": [
    "optimizer = optim.Adam(model.parameters(), lr=0.005)"
   ]
  },
  {
   "cell_type": "code",
   "execution_count": null,
   "metadata": {
    "ExecuteTime": {
     "start_time": "2020-11-12T13:41:22.118Z"
    },
    "scrolled": false
   },
   "outputs": [
    {
     "name": "stderr",
     "output_type": "stream",
     "text": [
      "<ipython-input-8-9c2adff36d86>:4: TqdmDeprecationWarning: Please use `tqdm.notebook.trange` instead of `tqdm.tnrange`\n",
      "  for i in tnrange(batch_no):\n"
     ]
    },
    {
     "data": {
      "application/vnd.jupyter.widget-view+json": {
       "model_id": "2343a78fa450451599d568f045f10624",
       "version_major": 2,
       "version_minor": 0
      },
      "text/plain": [
       "HBox(children=(FloatProgress(value=0.0, max=37000.0), HTML(value='')))"
      ]
     },
     "metadata": {},
     "output_type": "display_data"
    },
    {
     "name": "stdout",
     "output_type": "stream",
     "text": [
      "0 8.89063549041748 0.29410314559936523\n",
      "TEST 0 13.708303880269703 0.007458147389477143 0.002064049243927002\n",
      "[0.4518405  0.44158587 0.43940827 0.45904127]\n",
      "1 1.543697714805603 1.3843036890029907\n",
      "2 15.291653633117676 1.2989705801010132\n",
      "3 4.668423175811768 1.3297960758209229\n",
      "4 4.382157802581787 1.33790123462677\n",
      "5 1.4376205205917358 1.0226415395736694\n",
      "6 4.4591546058654785 1.024122953414917\n",
      "7 1.8049124479293823 1.0309675931930542\n",
      "8 1.7596426010131836 1.0032808780670166\n",
      "9 4.574493885040283 1.0250728130340576\n",
      "10 22.49386215209961 0.9254553914070129\n",
      "11 6.789870262145996 0.386362224817276\n"
     ]
    }
   ],
   "source": [
    "loss_array = np.empty((batch_no))\n",
    "beta = 0\n",
    "\n",
    "for i in tnrange(batch_no):\n",
    "    \n",
    "    if i%250 == 249 and i <= 2500:\n",
    "        beta += 0.1\n",
    "    \n",
    "    model.train()\n",
    "    optimizer.zero_grad()\n",
    "    batch_idx = train_idx[i].long()\n",
    "    batch_S_E = train_S_E[batch_idx : batch_idx+batch_size].float().cuda()\n",
    "    batch_S_I = train_S_I[batch_idx : batch_idx+batch_size].float().cuda()\n",
    "    batch_ref = train_V_ref[batch_idx:batch_idx+batch_size].float().cuda()\n",
    "    \n",
    "    batch_pred, rec_loss, KL_loss, Z_P_prior, Z_P_post = model(batch_ref,\n",
    "                                                              batch_S_E,\n",
    "                                                              batch_S_I,\n",
    "                                                              beta)\n",
    "        \n",
    "    loss = rec_loss + beta* KL_loss\n",
    "    loss_array[i] = loss.item()\n",
    "    \n",
    "    print(i, rec_loss.item(), KL_loss.item())\n",
    "    \n",
    "    loss.backward()\n",
    "    optimizer.step()\n",
    "    \n",
    "    if i%50 == 0:\n",
    "        model.eval()\n",
    "        test_pred, test_Y, test_spikes, test_probs = model.decode(test_S_E, test_S_I)\n",
    "        test_diff = (test_V_ref - test_pred) ** 1\n",
    "        test_loss = torch.var(test_diff)\n",
    "        test_score = metrics.explained_variance_score(y_true=test_V_ref.cpu().detach().numpy(),\n",
    "                                                      y_pred=test_pred.cpu().detach().numpy(),\n",
    "                                                      multioutput='uniform_average')\n",
    "        train_score = metrics.explained_variance_score(y_true=batch_ref.cpu().detach().numpy(),\n",
    "                                                      y_pred=batch_pred.cpu().detach().numpy(),\n",
    "                                                      multioutput='uniform_average')\n",
    "        print(\"TEST\", i, test_loss.item(), test_score.item(), train_score.item())\n",
    "        print(torch.mean(test_spikes, 0).cpu().detach().numpy())\n",
    "        #print(torch.mean(spike_probs, 0).cpu().detach().numpy())\n",
    "        if i%100 == 0:\n",
    "            torch.save(model.state_dict(), \"/media/hdd01/sklee/lvae_shglm/PROB_LVAE_sub5_s2_h2_shglm_i\"+str(i)+\".pt\")\n",
    "    \n"
   ]
  },
  {
   "cell_type": "code",
   "execution_count": null,
   "metadata": {
    "ExecuteTime": {
     "start_time": "2020-11-12T13:41:22.119Z"
    }
   },
   "outputs": [],
   "source": [
    "plt.plot(test_pred.cpu().detach().numpy())"
   ]
  },
  {
   "cell_type": "code",
   "execution_count": null,
   "metadata": {
    "ExecuteTime": {
     "start_time": "2020-11-12T13:41:22.120Z"
    }
   },
   "outputs": [],
   "source": [
    "plt.plot(test_pred.cpu().detach().numpy())"
   ]
  }
 ],
 "metadata": {
  "kernelspec": {
   "display_name": "Python 3",
   "language": "python",
   "name": "python3"
  },
  "language_info": {
   "codemirror_mode": {
    "name": "ipython",
    "version": 3
   },
   "file_extension": ".py",
   "mimetype": "text/x-python",
   "name": "python",
   "nbconvert_exporter": "python",
   "pygments_lexer": "ipython3",
   "version": "3.8.3"
  }
 },
 "nbformat": 4,
 "nbformat_minor": 4
}
